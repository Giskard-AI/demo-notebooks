{
 "cells": [
  {
   "metadata": {
    "nbpresent": {
     "id": "72fb470f-33d0-4927-bf59-2d6248d5e8ed"
    }
   },
   "cell_type": "markdown",
   "source": [
    "## Import libraries"
   ]
  },
  {
   "metadata": {
    "_uuid": "d629ff2d2480ee46fbb7e2d37f6b5fab8052498a",
    "_cell_guid": "79c7e3d0-c299-4dcb-8224-4455121ee9b0",
    "trusted": true,
    "nbpresent": {
     "id": "543fa1c3-ebfd-47c4-bdc7-558a9aa7d38f"
    },
    "ExecuteTime": {
     "end_time": "2023-05-16T16:44:11.084735Z",
     "start_time": "2023-05-16T16:44:11.071711Z"
    }
   },
   "cell_type": "code",
   "source": [
    "import os\n",
    "import string\n",
    "from typing import Tuple\n",
    "\n",
    "import numpy as np\n",
    "import pandas as pd\n",
    "from nltk.corpus import stopwords\n",
    "from keras.optimizers import Adam\n",
    "from keras.models import Sequential\n",
    "from keras.utils import pad_sequences\n",
    "from keras.preprocessing import text\n",
    "from sklearn.model_selection import train_test_split\n",
    "from keras.layers import Dense, Embedding, LSTM, Bidirectional\n",
    "\n",
    "import giskard\n",
    "from giskard import Dataset, Model"
   ],
   "execution_count": 55,
   "outputs": []
  },
  {
   "cell_type": "markdown",
   "source": [
    "## Define constants"
   ],
   "metadata": {
    "collapsed": false
   }
  },
  {
   "cell_type": "code",
   "execution_count": 56,
   "outputs": [],
   "source": [
    "# Constants.\n",
    "TEXT_COLUMN_NAME = \"headline\"\n",
    "TARGET_COLUMN_NAME = \"is_sarcastic\"\n",
    "\n",
    "STOPWORDS = stopwords.words('english')\n",
    "\n",
    "MAX_TOKENS = 25000\n",
    "EMBEDDING_DIM = 200\n",
    "MAX_SEQUENCE_LENGTH = 200\n",
    "\n",
    "# Paths.\n",
    "DATA_DIR = os.path.join(\".\", \"datasets\", \"sarcasm_classification_dataset\")\n",
    "EMBEDDING_FILE = os.path.join(DATA_DIR, \"glove_200d.txt\")"
   ],
   "metadata": {
    "collapsed": false,
    "ExecuteTime": {
     "end_time": "2023-05-16T16:44:11.521781Z",
     "start_time": "2023-05-16T16:44:11.513122Z"
    }
   }
  },
  {
   "metadata": {
    "nbpresent": {
     "id": "f903a8cf-34b8-44eb-89b7-00333d8c400d"
    }
   },
   "cell_type": "markdown",
   "source": [
    "## Load data"
   ]
  },
  {
   "metadata": {
    "trusted": true,
    "nbpresent": {
     "id": "65e910a4-7e2a-480a-8974-12e823efa5a9"
    },
    "ExecuteTime": {
     "end_time": "2023-05-16T16:44:11.997085Z",
     "start_time": "2023-05-16T16:44:11.960244Z"
    }
   },
   "cell_type": "code",
   "source": [
    "def load_data(**kwargs) -> pd.DataFrame:\n",
    "    \"\"\"Load data.\"\"\"\n",
    "    print(f\"Loading data...\")\n",
    "\n",
    "    df = pd.read_json(os.path.join(DATA_DIR, \"Sarcasm_Headlines_Dataset_v2.json\"), lines=True, **kwargs)\n",
    "    df = df.drop(columns=\"article_link\")\n",
    "\n",
    "    print(f\"Finished loading data! \\nShape: {df.shape} \\nColumns: {df.columns.tolist()}\")\n",
    "\n",
    "    return df\n",
    "\n",
    "sarcasm_df = load_data(nrows=2000)"
   ],
   "execution_count": 57,
   "outputs": [
    {
     "name": "stdout",
     "output_type": "stream",
     "text": [
      "Loading data...\n",
      "Finished loading data! \n",
      "Shape: (2000, 2) \n",
      "Columns: ['is_sarcastic', 'headline']\n"
     ]
    }
   ]
  },
  {
   "metadata": {
    "nbpresent": {
     "id": "dd2f5d03-0e72-44da-85ef-8de7a534608e"
    }
   },
   "cell_type": "markdown",
   "source": [
    "## Define text preprocessing logic"
   ]
  },
  {
   "metadata": {
    "trusted": true,
    "nbpresent": {
     "id": "d9cafddf-c417-461f-872b-af66ce94d3fc"
    },
    "ExecuteTime": {
     "end_time": "2023-05-16T16:44:12.861506Z",
     "start_time": "2023-05-16T16:44:12.844532Z"
    }
   },
   "cell_type": "code",
   "source": [
    "def clean_text(df: pd.DataFrame) -> np.ndarray:\n",
    "    \"\"\"Perform text-data cleaning: punctuation and stop words removal.\"\"\"\n",
    "\n",
    "    # Remove punctuation.\n",
    "    df[TEXT_COLUMN_NAME] = df[TEXT_COLUMN_NAME].apply(\n",
    "        lambda sentence: sentence.translate(str.maketrans('', '', string.punctuation)))\n",
    "\n",
    "    # Remove stop words.\n",
    "    df[TEXT_COLUMN_NAME] = df[TEXT_COLUMN_NAME].apply(\n",
    "        lambda sentence: ' '.join([_word for _word in sentence.split() if _word.lower() not in STOPWORDS]))\n",
    "\n",
    "    return df[TEXT_COLUMN_NAME]"
   ],
   "execution_count": 58,
   "outputs": []
  },
  {
   "cell_type": "markdown",
   "source": [
    "## Train-test split"
   ],
   "metadata": {
    "collapsed": false
   }
  },
  {
   "cell_type": "code",
   "execution_count": 70,
   "outputs": [],
   "source": [
    "X_train, X_test, Y_train, Y_test = train_test_split(sarcasm_df[[TEXT_COLUMN_NAME]], sarcasm_df[TARGET_COLUMN_NAME], random_state=0)"
   ],
   "metadata": {
    "collapsed": false,
    "ExecuteTime": {
     "end_time": "2023-05-16T16:53:25.178075Z",
     "start_time": "2023-05-16T16:53:25.129283Z"
    }
   }
  },
  {
   "cell_type": "markdown",
   "source": [
    "## Wrap data with giskard"
   ],
   "metadata": {
    "collapsed": false
   }
  },
  {
   "cell_type": "code",
   "execution_count": 71,
   "outputs": [
    {
     "name": "stdout",
     "output_type": "stream",
     "text": [
      "Hint: \"Your target variable values are numeric. It is recommended to have Human readable string as your target values to make results more understandable in Giskard.\"\n"
     ]
    }
   ],
   "source": [
    "raw_data = pd.concat([X_test.copy(), Y_test.copy()], axis=1)\n",
    "wrapped_data = Dataset(raw_data, name=\"sarcasm\", target=TARGET_COLUMN_NAME, column_types={TEXT_COLUMN_NAME: \"text\"})"
   ],
   "metadata": {
    "collapsed": false,
    "ExecuteTime": {
     "end_time": "2023-05-16T16:53:25.975426Z",
     "start_time": "2023-05-16T16:53:25.944714Z"
    }
   }
  },
  {
   "cell_type": "markdown",
   "source": [
    "## Preprocess text"
   ],
   "metadata": {
    "collapsed": false
   }
  },
  {
   "metadata": {
    "trusted": true,
    "nbpresent": {
     "id": "0b3c8f6d-1f96-4630-b907-558949668c89"
    },
    "ExecuteTime": {
     "end_time": "2023-05-16T16:53:26.639485Z",
     "start_time": "2023-05-16T16:53:26.583785Z"
    }
   },
   "cell_type": "code",
   "source": [
    "print(f\"Cleaning train data...\")\n",
    "X_train = clean_text(X_train)\n",
    "\n",
    "print(f\"Cleaning test data...\")\n",
    "X_test = clean_text(X_test)\n",
    "\n",
    "print(f\"Finished cleaning!\")"
   ],
   "execution_count": 72,
   "outputs": [
    {
     "name": "stdout",
     "output_type": "stream",
     "text": [
      "Cleaning train data...\n",
      "Cleaning test data...\n",
      "Finished cleaning!\n"
     ]
    }
   ]
  },
  {
   "metadata": {
    "trusted": true,
    "nbpresent": {
     "id": "ea4e8cb5-06b7-4dc1-8ce6-e1f5ca1b686f"
    },
    "ExecuteTime": {
     "end_time": "2023-05-16T16:53:27.023734Z",
     "start_time": "2023-05-16T16:53:26.988659Z"
    }
   },
   "cell_type": "code",
   "source": [
    "# Fit tokenizer.\n",
    "tokenizer = text.Tokenizer(num_words=MAX_TOKENS)\n",
    "tokenizer.fit_on_texts(X_train)\n",
    "\n",
    "# Tokenize train text.\n",
    "tokenized_train = tokenizer.texts_to_sequences(X_train)\n",
    "X_train = pad_sequences(tokenized_train, maxlen=MAX_SEQUENCE_LENGTH)\n",
    "\n",
    "# Tokenize test text.\n",
    "tokenized_test = tokenizer.texts_to_sequences(X_test)\n",
    "X_test = pad_sequences(tokenized_test, maxlen=MAX_SEQUENCE_LENGTH)"
   ],
   "execution_count": 73,
   "outputs": []
  },
  {
   "cell_type": "code",
   "execution_count": 81,
   "outputs": [],
   "source": [
    "num_embeddings = min(MAX_TOKENS, len(tokenizer.word_index)) + 1"
   ],
   "metadata": {
    "collapsed": false,
    "ExecuteTime": {
     "end_time": "2023-05-16T16:56:56.046751Z",
     "start_time": "2023-05-16T16:56:56.032417Z"
    }
   }
  },
  {
   "cell_type": "markdown",
   "source": [
    "## Define preprocessing function"
   ],
   "metadata": {
    "collapsed": false
   }
  },
  {
   "cell_type": "code",
   "execution_count": 74,
   "outputs": [],
   "source": [
    "def preprocessing_function(df: pd.DataFrame) -> np.ndarray:\n",
    "    \"\"\"Preprocessing function used by giskard.\"\"\"\n",
    "    # Clean text.\n",
    "    cleaned_text = clean_text(df)\n",
    "\n",
    "    # Tokenize text.\n",
    "    tokens = tokenizer.texts_to_sequences(cleaned_text)\n",
    "    tokens_with_padding = pad_sequences(tokens, maxlen=MAX_SEQUENCE_LENGTH)\n",
    "\n",
    "    return tokens_with_padding"
   ],
   "metadata": {
    "collapsed": false,
    "ExecuteTime": {
     "end_time": "2023-05-16T16:53:27.627156Z",
     "start_time": "2023-05-16T16:53:27.617676Z"
    }
   }
  },
  {
   "cell_type": "markdown",
   "source": [
    "## Create embeddings matrix"
   ],
   "metadata": {
    "collapsed": false
   }
  },
  {
   "metadata": {
    "trusted": true,
    "nbpresent": {
     "id": "88b74dd6-f700-4f29-9ccf-3debd1769c10"
    },
    "ExecuteTime": {
     "end_time": "2023-05-16T16:55:51.833323Z",
     "start_time": "2023-05-16T16:54:55.395635Z"
    }
   },
   "cell_type": "code",
   "source": [
    "def parse_line(word: str, *arr: list) -> Tuple[str, np.ndarray]:\n",
    "    \"\"\"Parse line from the file with embeddings.\n",
    "    The first value of the line is the word and the rest values are related glove embedding: (<word>, 0.66, 0.23, ...).\"\"\"\n",
    "    return word, np.asarray(arr, dtype='float32')\n",
    "\n",
    "def init_embeddings_matrix(embeddings_dict: dict) -> np.ndarray:\n",
    "    \"\"\"Initialization of the matrix, where each row is a specific embedding vector.\"\"\"\n",
    "    stacked_embeddings = np.stack(list(embeddings_dict.values()))\n",
    "    embeddings_mean, embeddings_std, embeddings_dimension = stacked_embeddings.mean(), stacked_embeddings.std(), stacked_embeddings.shape[1]\n",
    "\n",
    "    embeddings_matrix = np.random.normal(embeddings_mean, embeddings_std, (num_embeddings, embeddings_dimension))\n",
    "\n",
    "    return embeddings_matrix\n",
    "\n",
    "def get_embeddings_matrix() -> np.ndarray:\n",
    "    \"\"\"Create matrix, where each row is an embedding of a specific word.\"\"\"\n",
    "    print(f\"Building embeddings matrix...\")\n",
    "\n",
    "    # Load glove embeddings.\n",
    "    embeddings_dict = dict(parse_line(*line.rstrip().rsplit(' ')) for line in open(EMBEDDING_FILE))\n",
    "\n",
    "    # Initialization of embeddings matrix.\n",
    "    embeddings_matrix = init_embeddings_matrix(embeddings_dict)\n",
    "\n",
    "    # Fill-in embeddings matrix with glove word vectors.\n",
    "    for word, idx in tokenizer.word_index.items():\n",
    "        if idx >= MAX_TOKENS:\n",
    "            continue\n",
    "\n",
    "        embedding_vector = embeddings_dict.get(word, None)\n",
    "\n",
    "        if embedding_vector is not None:\n",
    "            embeddings_matrix[idx] = embedding_vector\n",
    "\n",
    "    print(f\"Finished building embedding matrix!\")\n",
    "\n",
    "    return embeddings_matrix\n",
    "\n",
    "embed_matrix = get_embeddings_matrix()"
   ],
   "execution_count": 76,
   "outputs": [
    {
     "name": "stdout",
     "output_type": "stream",
     "text": [
      "Building embeddings matrix...\n",
      "Finished building embedding matrix!\n"
     ]
    }
   ]
  },
  {
   "cell_type": "code",
   "execution_count": 86,
   "outputs": [],
   "source": [
    "def init_model(weights) -> Sequential:\n",
    "    # Define model container.\n",
    "    _model = Sequential()\n",
    "\n",
    "    # Embedding layer.\n",
    "    _model.add(Embedding(num_embeddings, output_dim=EMBEDDING_DIM, weights=[weights], input_length=EMBEDDING_DIM, trainable=True))\n",
    "\n",
    "    # LSTM stage.\n",
    "    _model.add(Bidirectional(LSTM(units=128 , recurrent_dropout=0.5, dropout=0.5)))\n",
    "\n",
    "    # Dense stage.\n",
    "    _model.add(Dense(1, activation='sigmoid'))\n",
    "\n",
    "    # Build model.\n",
    "    _model.compile(optimizer=Adam(learning_rate=0.01), loss='binary_crossentropy', metrics=['acc'])\n",
    "    return _model"
   ],
   "metadata": {
    "collapsed": false,
    "ExecuteTime": {
     "end_time": "2023-05-16T16:58:37.622979Z",
     "start_time": "2023-05-16T16:58:37.609442Z"
    }
   }
  },
  {
   "metadata": {
    "trusted": true,
    "nbpresent": {
     "id": "f373f09a-ed45-4070-b065-38312d9c9c5a"
    },
    "ExecuteTime": {
     "end_time": "2023-05-16T16:58:38.720551Z",
     "start_time": "2023-05-16T16:58:38.138079Z"
    }
   },
   "cell_type": "code",
   "source": [
    "model = init_model(embed_matrix)\n",
    "model.summary()"
   ],
   "execution_count": 87,
   "outputs": [
    {
     "name": "stdout",
     "output_type": "stream",
     "text": [
      "Model: \"sequential_3\"\n",
      "_________________________________________________________________\n",
      " Layer (type)                Output Shape              Param #   \n",
      "=================================================================\n",
      " embedding_3 (Embedding)     (None, 200, 200)          1106400   \n",
      "                                                                 \n",
      " bidirectional_2 (Bidirectio  (None, 256)              336896    \n",
      " nal)                                                            \n",
      "                                                                 \n",
      " dense_2 (Dense)             (None, 1)                 257       \n",
      "                                                                 \n",
      "=================================================================\n",
      "Total params: 1,443,553\n",
      "Trainable params: 1,443,553\n",
      "Non-trainable params: 0\n",
      "_________________________________________________________________\n"
     ]
    }
   ]
  },
  {
   "metadata": {
    "trusted": true,
    "nbpresent": {
     "id": "54cae72a-4d47-4dfc-92f3-47f9c5fd0504"
    },
    "ExecuteTime": {
     "end_time": "2023-05-16T17:00:43.080875Z",
     "start_time": "2023-05-16T16:58:38.825464Z"
    }
   },
   "cell_type": "code",
   "source": [
    "# Define hyperparameters.\n",
    "epochs = 5\n",
    "batch_size = 128\n",
    "\n",
    "# Fit model.\n",
    "_ = model.fit(X_train, Y_train, batch_size=batch_size , validation_data=(X_test, Y_test), epochs=epochs)"
   ],
   "execution_count": 88,
   "outputs": [
    {
     "name": "stdout",
     "output_type": "stream",
     "text": [
      "Epoch 1/5\n",
      "12/12 [==============================] - 31s 2s/step - loss: 0.8942 - acc: 0.5367 - val_loss: 0.6813 - val_acc: 0.5600\n",
      "Epoch 2/5\n",
      "12/12 [==============================] - 23s 2s/step - loss: 0.5716 - acc: 0.7467 - val_loss: 0.6534 - val_acc: 0.6440\n",
      "Epoch 3/5\n",
      "12/12 [==============================] - 24s 2s/step - loss: 0.2791 - acc: 0.8853 - val_loss: 0.7597 - val_acc: 0.6780\n",
      "Epoch 4/5\n",
      "12/12 [==============================] - 23s 2s/step - loss: 0.0768 - acc: 0.9767 - val_loss: 0.9629 - val_acc: 0.7000\n",
      "Epoch 5/5\n",
      "12/12 [==============================] - 23s 2s/step - loss: 0.0186 - acc: 0.9947 - val_loss: 1.1488 - val_acc: 0.6980\n"
     ]
    }
   ]
  },
  {
   "metadata": {
    "trusted": true,
    "nbpresent": {
     "id": "da893fca-2589-443a-8f65-99c9866407c3"
    },
    "ExecuteTime": {
     "end_time": "2023-05-16T17:01:10.065534Z",
     "start_time": "2023-05-16T17:01:08.401775Z"
    }
   },
   "cell_type": "code",
   "source": [
    "test_metric = model.evaluate(X_test, Y_test)[1]\n",
    "print(f\"Test accuracy: {test_metric}\")"
   ],
   "execution_count": 89,
   "outputs": [
    {
     "name": "stdout",
     "output_type": "stream",
     "text": [
      "16/16 [==============================] - 2s 98ms/step - loss: 1.1488 - acc: 0.6980\n",
      "Test accuracy: 0.6980000138282776\n"
     ]
    }
   ]
  },
  {
   "cell_type": "markdown",
   "source": [
    "## Wrap data and model"
   ],
   "metadata": {
    "collapsed": false
   }
  },
  {
   "cell_type": "code",
   "execution_count": 90,
   "outputs": [],
   "source": [
    "wrapped_model = Model(model,\n",
    "                      model_type=\"classification\",\n",
    "                      data_preprocessing_function=preprocessing_function,\n",
    "                      name=\"sarcasm_classification\",\n",
    "                      feature_names=[TEXT_COLUMN_NAME],\n",
    "                      classification_threshold=0.5,\n",
    "                      classification_labels=[1, 0])"
   ],
   "metadata": {
    "collapsed": false,
    "ExecuteTime": {
     "end_time": "2023-05-16T17:01:17.608516Z",
     "start_time": "2023-05-16T17:01:17.596831Z"
    }
   }
  },
  {
   "cell_type": "markdown",
   "source": [
    "## Scan model"
   ],
   "metadata": {
    "collapsed": false
   }
  },
  {
   "cell_type": "code",
   "execution_count": 95,
   "outputs": [
    {
     "name": "stdout",
     "output_type": "stream",
     "text": [
      "16/16 [==============================] - 2s 105ms/step\n",
      "2023-05-16 19:01:38,716 pid:10647 MainThread giskard.models.base WARNING  \n",
      "Your binary classification model prediction is of the shape (500, 1). \n",
      "In Giskard we expect the shape (500, 2) for binary classification models. \n",
      "We automatically inferred the second class prediction but please make sure that \n",
      "the probability output of your model corresponds to the first label of the \n",
      "classification_labels ([1, 0]) you provided us with.\n",
      "NoneType: None\n"
     ]
    },
    {
     "data": {
      "text/plain": "ModelPredictionResults(raw=array([[6.67162687e-02, 9.33283746e-01],\n       [3.59704299e-03, 9.96402979e-01],\n       [8.12155426e-01, 1.87844574e-01],\n       [5.31209679e-03, 9.94687915e-01],\n       [7.03685954e-02, 9.29631412e-01],\n       [1.60563260e-03, 9.98394370e-01],\n       [4.92867175e-03, 9.95071352e-01],\n       [9.99187648e-01, 8.12351704e-04],\n       [1.76677329e-03, 9.98233199e-01],\n       [1.99560076e-02, 9.80044007e-01],\n       [1.26275659e-01, 8.73724341e-01],\n       [4.45018262e-02, 9.55498159e-01],\n       [5.09051792e-02, 9.49094832e-01],\n       [5.42985741e-03, 9.94570136e-01],\n       [9.88711836e-04, 9.99011278e-01],\n       [8.21457896e-03, 9.91785407e-01],\n       [3.33183892e-02, 9.66681600e-01],\n       [9.97920930e-01, 2.07906961e-03],\n       [9.96558070e-01, 3.44192982e-03],\n       [1.88112468e-03, 9.98118877e-01],\n       [5.53899584e-03, 9.94461000e-01],\n       [1.01795723e-03, 9.98982072e-01],\n       [1.10409048e-03, 9.98895884e-01],\n       [9.41927910e-01, 5.80720901e-02],\n       [9.99481976e-01, 5.18023968e-04],\n       [8.40280533e-01, 1.59719467e-01],\n       [9.81707036e-01, 1.82929635e-02],\n       [5.13691036e-03, 9.94863093e-01],\n       [9.95322108e-01, 4.67789173e-03],\n       [1.02137472e-03, 9.98978615e-01],\n       [9.82226372e-01, 1.77736282e-02],\n       [2.04260014e-02, 9.79574025e-01],\n       [9.04820859e-04, 9.99095201e-01],\n       [8.28337215e-04, 9.99171674e-01],\n       [2.28853133e-02, 9.77114677e-01],\n       [1.69020429e-01, 8.30979586e-01],\n       [5.89901060e-02, 9.41009879e-01],\n       [9.92704034e-01, 7.29596615e-03],\n       [9.99072433e-01, 9.27567482e-04],\n       [1.65570201e-03, 9.98344302e-01],\n       [3.11952028e-02, 9.68804777e-01],\n       [4.75901319e-03, 9.95240986e-01],\n       [1.90637796e-03, 9.98093605e-01],\n       [9.99562263e-01, 4.37736511e-04],\n       [8.14496502e-02, 9.18550372e-01],\n       [9.90258763e-04, 9.99009728e-01],\n       [8.13912484e-04, 9.99186099e-01],\n       [9.14259348e-03, 9.90857422e-01],\n       [4.07979405e-03, 9.95920181e-01],\n       [4.62010677e-04, 9.99538004e-01],\n       [6.01129280e-03, 9.93988693e-01],\n       [9.16235030e-01, 8.37649703e-02],\n       [5.59028387e-02, 9.44097161e-01],\n       [9.87617075e-01, 1.23829246e-02],\n       [6.91306312e-04, 9.99308705e-01],\n       [1.60089005e-02, 9.83991086e-01],\n       [1.49475902e-01, 8.50524068e-01],\n       [8.84182632e-01, 1.15817368e-01],\n       [1.73151237e-03, 9.98268485e-01],\n       [2.69507151e-03, 9.97304916e-01],\n       [7.22981116e-04, 9.99276996e-01],\n       [2.08055577e-03, 9.97919440e-01],\n       [8.33064783e-04, 9.99166906e-01],\n       [8.05303978e-04, 9.99194682e-01],\n       [1.52030285e-03, 9.98479724e-01],\n       [9.73465383e-01, 2.65346169e-02],\n       [9.98850167e-01, 1.14983320e-03],\n       [2.13506375e-03, 9.97864962e-01],\n       [4.68937401e-03, 9.95310605e-01],\n       [1.95503142e-03, 9.98044968e-01],\n       [1.55296247e-03, 9.98447061e-01],\n       [7.97919512e-01, 2.02080488e-01],\n       [1.49913086e-03, 9.98500884e-01],\n       [3.23594362e-01, 6.76405668e-01],\n       [9.88569677e-01, 1.14303231e-02],\n       [5.22262871e-01, 4.77737129e-01],\n       [9.99537289e-01, 4.62710857e-04],\n       [6.02572739e-01, 3.97427261e-01],\n       [2.03924313e-01, 7.96075702e-01],\n       [9.52160597e-01, 4.78394032e-02],\n       [6.30253972e-03, 9.93697464e-01],\n       [9.95249569e-01, 4.75043058e-03],\n       [9.81030583e-01, 1.89694166e-02],\n       [8.92382395e-03, 9.91076171e-01],\n       [5.76471314e-02, 9.42352891e-01],\n       [9.99830902e-01, 1.69098377e-04],\n       [9.85065699e-01, 1.49343014e-02],\n       [5.26936306e-03, 9.94730651e-01],\n       [4.23503667e-03, 9.95764971e-01],\n       [9.99035656e-01, 9.64343548e-04],\n       [4.02775854e-01, 5.97224116e-01],\n       [9.99700427e-01, 2.99572945e-04],\n       [7.62633630e-04, 9.99237359e-01],\n       [7.38314748e-01, 2.61685252e-01],\n       [9.68425810e-01, 3.15741897e-02],\n       [7.82578588e-01, 2.17421412e-01],\n       [6.01134062e-01, 3.98865938e-01],\n       [3.31163481e-02, 9.66883659e-01],\n       [1.31999922e-03, 9.98679996e-01],\n       [6.16984256e-03, 9.93830144e-01],\n       [5.68193734e-01, 4.31806266e-01],\n       [6.04172656e-03, 9.93958294e-01],\n       [1.38746051e-03, 9.98612523e-01],\n       [6.69470578e-02, 9.33052957e-01],\n       [9.56219737e-04, 9.99043763e-01],\n       [9.82940316e-01, 1.70596838e-02],\n       [2.65967683e-03, 9.97340322e-01],\n       [9.99303579e-01, 6.96420670e-04],\n       [9.89056230e-02, 9.01094377e-01],\n       [9.98192608e-01, 1.80739164e-03],\n       [9.92109776e-01, 7.89022446e-03],\n       [3.70814234e-01, 6.29185796e-01],\n       [1.07187079e-02, 9.89281297e-01],\n       [1.49218310e-02, 9.85078156e-01],\n       [8.15665483e-01, 1.84334517e-01],\n       [4.47543245e-03, 9.95524585e-01],\n       [9.97034252e-01, 2.96574831e-03],\n       [1.60579327e-02, 9.83942091e-01],\n       [9.97216165e-01, 2.78383493e-03],\n       [9.51577872e-02, 9.04842198e-01],\n       [2.48497762e-02, 9.75150228e-01],\n       [6.24819717e-04, 9.99375165e-01],\n       [5.96463867e-03, 9.94035363e-01],\n       [2.25755502e-03, 9.97742474e-01],\n       [2.07935080e-01, 7.92064905e-01],\n       [7.77764320e-02, 9.22223568e-01],\n       [1.27573669e-01, 8.72426331e-01],\n       [4.90917742e-01, 5.09082258e-01],\n       [8.23967278e-01, 1.76032722e-01],\n       [9.97439623e-01, 2.56037712e-03],\n       [1.76839461e-03, 9.98231590e-01],\n       [6.42404472e-03, 9.93575931e-01],\n       [6.17742002e-01, 3.82257998e-01],\n       [5.50884530e-02, 9.44911540e-01],\n       [2.66583055e-01, 7.33416915e-01],\n       [1.78664201e-03, 9.98213351e-01],\n       [1.57417562e-02, 9.84258235e-01],\n       [9.99671698e-01, 3.28302383e-04],\n       [2.36668903e-03, 9.97633338e-01],\n       [6.36577513e-03, 9.93634224e-01],\n       [9.65623617e-01, 3.43763828e-02],\n       [2.50488427e-03, 9.97495115e-01],\n       [5.92800614e-04, 9.99407172e-01],\n       [2.40541366e-03, 9.97594595e-01],\n       [1.22379325e-03, 9.98776197e-01],\n       [4.57931638e-01, 5.42068362e-01],\n       [8.11603665e-03, 9.91883993e-01],\n       [9.49349403e-01, 5.06505966e-02],\n       [9.05763149e-01, 9.42368507e-02],\n       [4.77629201e-03, 9.95223701e-01],\n       [1.60300825e-03, 9.98396993e-01],\n       [9.94251907e-01, 5.74809313e-03],\n       [2.60548621e-01, 7.39451408e-01],\n       [1.10588893e-01, 8.89411092e-01],\n       [9.70984623e-03, 9.90290165e-01],\n       [5.12170680e-02, 9.48782921e-01],\n       [2.61638284e-01, 7.38361716e-01],\n       [3.78512847e-03, 9.96214867e-01],\n       [9.29082220e-04, 9.99070942e-01],\n       [1.74348161e-01, 8.25651824e-01],\n       [9.93681192e-01, 6.31880760e-03],\n       [6.51377486e-04, 9.99348640e-01],\n       [1.22770912e-03, 9.98772264e-01],\n       [3.03366431e-03, 9.96966362e-01],\n       [9.98382986e-01, 1.61701441e-03],\n       [9.96498942e-01, 3.50105762e-03],\n       [2.78013557e-01, 7.21986413e-01],\n       [9.99066174e-01, 9.33825970e-04],\n       [9.24073234e-02, 9.07592654e-01],\n       [2.57273652e-02, 9.74272609e-01],\n       [3.53736654e-02, 9.64626312e-01],\n       [9.99785542e-01, 2.14457512e-04],\n       [3.70218209e-03, 9.96297836e-01],\n       [2.39897728e-01, 7.60102272e-01],\n       [3.94037319e-03, 9.96059656e-01],\n       [9.39229846e-01, 6.07701540e-02],\n       [9.96322632e-01, 3.67736816e-03],\n       [2.43599876e-03, 9.97564018e-01],\n       [1.11405982e-03, 9.98885930e-01],\n       [1.41068548e-02, 9.85893130e-01],\n       [9.70308125e-01, 2.96918750e-02],\n       [6.40273318e-02, 9.35972691e-01],\n       [1.31256310e-02, 9.86874342e-01],\n       [7.43170917e-01, 2.56829083e-01],\n       [9.99863684e-01, 1.36315823e-04],\n       [2.97288541e-02, 9.70271170e-01],\n       [2.39251158e-03, 9.97607470e-01],\n       [3.05880666e-01, 6.94119334e-01],\n       [4.34780270e-01, 5.65219760e-01],\n       [3.64555307e-02, 9.63544488e-01],\n       [1.65146157e-01, 8.34853828e-01],\n       [6.66060892e-04, 9.99333918e-01],\n       [3.85821797e-03, 9.96141791e-01],\n       [7.32273579e-01, 2.67726421e-01],\n       [7.67946243e-01, 2.32053757e-01],\n       [3.08333035e-03, 9.96916652e-01],\n       [3.80136482e-02, 9.61986363e-01],\n       [8.51215096e-04, 9.99148786e-01],\n       [8.65061476e-04, 9.99134958e-01],\n       [9.98096585e-01, 1.90341473e-03],\n       [9.99665737e-01, 3.34262848e-04],\n       [9.99466479e-01, 5.33521175e-04],\n       [8.33539234e-04, 9.99166489e-01],\n       [1.24119199e-03, 9.98758793e-01],\n       [1.83011182e-02, 9.81698871e-01],\n       [1.73155945e-02, 9.82684433e-01],\n       [1.33878877e-03, 9.98661220e-01],\n       [9.78476107e-01, 2.15238929e-02],\n       [1.16994977e-02, 9.88300502e-01],\n       [9.73111749e-01, 2.68882513e-02],\n       [6.91663504e-01, 3.08336496e-01],\n       [9.40503459e-03, 9.90594983e-01],\n       [9.66647685e-01, 3.33523154e-02],\n       [4.04317025e-03, 9.95956838e-01],\n       [5.22412546e-02, 9.47758734e-01],\n       [9.98643994e-01, 1.35600567e-03],\n       [5.10319183e-03, 9.94896829e-01],\n       [2.88696326e-02, 9.71130371e-01],\n       [9.96743202e-01, 3.25679779e-03],\n       [5.01813054e-01, 4.98186946e-01],\n       [9.80089724e-01, 1.99102759e-02],\n       [3.71347032e-02, 9.62865293e-01],\n       [5.96364588e-03, 9.94036376e-01],\n       [7.19261181e-04, 9.99280751e-01],\n       [7.47665942e-01, 2.52334058e-01],\n       [9.86110151e-01, 1.38898492e-02],\n       [2.06787124e-01, 7.93212891e-01],\n       [2.69526429e-02, 9.73047376e-01],\n       [9.86929119e-01, 1.30708814e-02],\n       [3.89100760e-01, 6.10899210e-01],\n       [9.86215770e-01, 1.37842298e-02],\n       [9.84898448e-01, 1.51015520e-02],\n       [8.39227065e-03, 9.91607726e-01],\n       [5.39334975e-02, 9.46066499e-01],\n       [7.76374014e-04, 9.99223650e-01],\n       [2.18594298e-02, 9.78140593e-01],\n       [9.66884136e-01, 3.31158638e-02],\n       [3.53824254e-03, 9.96461749e-01],\n       [2.79635303e-02, 9.72036481e-01],\n       [4.87489291e-02, 9.51251090e-01],\n       [1.87128350e-01, 8.12871635e-01],\n       [1.17974938e-03, 9.98820245e-01],\n       [2.24709079e-01, 7.75290906e-01],\n       [9.99136925e-01, 8.63075256e-04],\n       [1.21375965e-03, 9.98786211e-01],\n       [5.16647637e-01, 4.83352363e-01],\n       [8.80765670e-04, 9.99119222e-01],\n       [2.76483619e-03, 9.97235179e-01],\n       [4.84382272e-01, 5.15617728e-01],\n       [4.83601689e-01, 5.16398311e-01],\n       [9.99865055e-01, 1.34944916e-04],\n       [9.94345903e-01, 5.65409660e-03],\n       [9.85719846e-04, 9.99014258e-01],\n       [2.97569156e-01, 7.02430844e-01],\n       [3.29544512e-03, 9.96704578e-01],\n       [1.29978983e-02, 9.87002075e-01],\n       [2.50503304e-03, 9.97494996e-01],\n       [1.60896487e-03, 9.98391032e-01],\n       [7.78348327e-01, 2.21651673e-01],\n       [8.94562244e-01, 1.05437756e-01],\n       [5.86998701e-01, 4.13001299e-01],\n       [7.01134622e-01, 2.98865378e-01],\n       [1.46723479e-01, 8.53276491e-01],\n       [8.38260050e-04, 9.99161720e-01],\n       [1.15018280e-03, 9.98849809e-01],\n       [9.08631742e-01, 9.13682580e-02],\n       [9.16339397e-01, 8.36606026e-02],\n       [9.94433522e-01, 5.56647778e-03],\n       [1.40701905e-01, 8.59298110e-01],\n       [9.96176839e-01, 3.82316113e-03],\n       [3.06208562e-02, 9.69379127e-01],\n       [7.20032215e-01, 2.79967785e-01],\n       [2.48977472e-03, 9.97510254e-01],\n       [6.24300097e-04, 9.99375701e-01],\n       [2.21306528e-03, 9.97786939e-01],\n       [2.03243077e-01, 7.96756923e-01],\n       [7.82335061e-04, 9.99217689e-01],\n       [2.18564272e-01, 7.81435728e-01],\n       [9.62160295e-04, 9.99037862e-01],\n       [9.30198073e-01, 6.98019266e-02],\n       [1.30587351e-02, 9.86941278e-01],\n       [1.26826346e-01, 8.73173654e-01],\n       [3.80519568e-03, 9.96194780e-01],\n       [4.77054380e-02, 9.52294588e-01],\n       [9.98800695e-01, 1.19930506e-03],\n       [9.15364861e-01, 8.46351385e-02],\n       [9.97040451e-01, 2.95954943e-03],\n       [7.89615978e-03, 9.92103815e-01],\n       [3.18801124e-03, 9.96811986e-01],\n       [1.11110240e-01, 8.88889790e-01],\n       [1.53789505e-01, 8.46210480e-01],\n       [6.53221488e-01, 3.46778512e-01],\n       [9.99266386e-01, 7.33613968e-04],\n       [7.83306314e-04, 9.99216676e-01],\n       [8.28143035e-04, 9.99171853e-01],\n       [2.75261760e-01, 7.24738240e-01],\n       [3.79645173e-03, 9.96203542e-01],\n       [3.95239517e-03, 9.96047616e-01],\n       [1.16674637e-03, 9.98833239e-01],\n       [9.39964473e-01, 6.00355268e-02],\n       [6.22324820e-04, 9.99377668e-01],\n       [4.57518175e-02, 9.54248190e-01],\n       [8.23750568e-04, 9.99176264e-01],\n       [8.63342837e-04, 9.99136686e-01],\n       [8.70927811e-01, 1.29072189e-01],\n       [6.16814755e-03, 9.93831873e-01],\n       [5.12170680e-02, 9.48782921e-01],\n       [3.31711248e-02, 9.66828883e-01],\n       [5.39117027e-03, 9.94608819e-01],\n       [4.17605229e-03, 9.95823920e-01],\n       [7.54058268e-03, 9.92459416e-01],\n       [2.01357007e-02, 9.79864299e-01],\n       [1.89925089e-01, 8.10074925e-01],\n       [1.77433696e-02, 9.82256651e-01],\n       [1.05677196e-03, 9.98943210e-01],\n       [1.05060069e-02, 9.89493966e-01],\n       [1.01047172e-03, 9.98989522e-01],\n       [3.54564860e-02, 9.64543521e-01],\n       [2.30586473e-02, 9.76941347e-01],\n       [8.52192985e-04, 9.99147832e-01],\n       [1.83293000e-02, 9.81670678e-01],\n       [5.28753459e-01, 4.71246541e-01],\n       [9.40153599e-02, 9.05984640e-01],\n       [2.78859735e-01, 7.21140265e-01],\n       [5.28583974e-02, 9.47141588e-01],\n       [9.99573529e-01, 4.26471233e-04],\n       [9.99719799e-01, 2.80201435e-04],\n       [7.93118179e-02, 9.20688152e-01],\n       [9.99786735e-01, 2.13265419e-04],\n       [9.99628544e-01, 3.71456146e-04],\n       [3.18238395e-03, 9.96817589e-01],\n       [1.99855398e-02, 9.80014443e-01],\n       [1.74515508e-02, 9.82548475e-01],\n       [8.62047732e-01, 1.37952268e-01],\n       [3.54119502e-02, 9.64588046e-01],\n       [1.36679977e-01, 8.63319993e-01],\n       [3.75542700e-01, 6.24457300e-01],\n       [6.84858649e-04, 9.99315143e-01],\n       [6.94466941e-03, 9.93055344e-01],\n       [4.56898328e-04, 9.99543130e-01],\n       [2.34993058e-03, 9.97650087e-01],\n       [1.63271045e-03, 9.98367310e-01],\n       [2.17714310e-01, 7.82285690e-01],\n       [3.32279503e-02, 9.66772079e-01],\n       [3.42724472e-03, 9.96572733e-01],\n       [1.14485819e-03, 9.98855114e-01],\n       [6.70973735e-04, 9.99329031e-01],\n       [4.65711839e-02, 9.53428805e-01],\n       [9.96699572e-01, 3.30042839e-03],\n       [9.99576867e-01, 4.23133373e-04],\n       [9.18587029e-01, 8.14129710e-02],\n       [9.99280334e-01, 7.19666481e-04],\n       [9.86445546e-01, 1.35544538e-02],\n       [7.13139772e-01, 2.86860228e-01],\n       [1.50877535e-01, 8.49122465e-01],\n       [1.99835718e-01, 8.00164282e-01],\n       [9.97498751e-01, 2.50124931e-03],\n       [1.11507207e-01, 8.88492823e-01],\n       [2.04028487e-01, 7.95971513e-01],\n       [9.92749352e-04, 9.99007225e-01],\n       [1.69177889e-03, 9.98308241e-01],\n       [7.48258131e-03, 9.92517412e-01],\n       [1.51246965e-01, 8.48753035e-01],\n       [9.99849737e-01, 1.50263309e-04],\n       [2.94611650e-03, 9.97053862e-01],\n       [7.49456346e-01, 2.50543654e-01],\n       [2.03652587e-03, 9.97963488e-01],\n       [8.56145401e-04, 9.99143839e-01],\n       [9.53933835e-01, 4.60661650e-02],\n       [9.99754369e-01, 2.45630741e-04],\n       [9.99335885e-01, 6.64114952e-04],\n       [1.17796518e-01, 8.82203460e-01],\n       [1.65831894e-02, 9.83416796e-01],\n       [2.02722568e-02, 9.79727745e-01],\n       [7.73251951e-01, 2.26748049e-01],\n       [8.77583683e-01, 1.22416317e-01],\n       [1.97272166e-03, 9.98027265e-01],\n       [1.64497399e-03, 9.98355031e-01],\n       [3.61650973e-03, 9.96383488e-01],\n       [7.15220871e-04, 9.99284804e-01],\n       [6.28098130e-01, 3.71901870e-01],\n       [1.96318273e-02, 9.80368197e-01],\n       [1.84960254e-02, 9.81503963e-01],\n       [6.30026937e-01, 3.69973063e-01],\n       [3.15666548e-03, 9.96843338e-01],\n       [7.27627426e-03, 9.92723703e-01],\n       [7.63633521e-04, 9.99236345e-01],\n       [9.99506772e-01, 4.93228436e-04],\n       [1.56378932e-02, 9.84362125e-01],\n       [4.59356327e-03, 9.95406449e-01],\n       [9.98594105e-01, 1.40589476e-03],\n       [5.83088815e-01, 4.16911185e-01],\n       [7.12884247e-01, 2.87115753e-01],\n       [6.42586112e-01, 3.57413888e-01],\n       [5.89457341e-04, 9.99410570e-01],\n       [1.62229352e-02, 9.83777046e-01],\n       [9.98155653e-01, 1.84434652e-03],\n       [1.96270272e-02, 9.80372965e-01],\n       [1.02547428e-03, 9.98974502e-01],\n       [1.36909075e-02, 9.86309111e-01],\n       [9.86830950e-01, 1.31690502e-02],\n       [9.78453219e-01, 2.15467811e-02],\n       [9.49646473e-01, 5.03535271e-02],\n       [5.72183961e-03, 9.94278133e-01],\n       [9.04188633e-01, 9.58113670e-02],\n       [3.33671668e-03, 9.96663272e-01],\n       [2.25069048e-03, 9.97749329e-01],\n       [7.55362451e-01, 2.44637549e-01],\n       [9.76708174e-01, 2.32918262e-02],\n       [1.20057836e-02, 9.87994194e-01],\n       [2.70657032e-03, 9.97293413e-01],\n       [2.13468284e-03, 9.97865319e-01],\n       [2.52759624e-02, 9.74724054e-01],\n       [8.01991764e-03, 9.91980076e-01],\n       [5.11853099e-02, 9.48814690e-01],\n       [1.89837646e-02, 9.81016219e-01],\n       [2.11764709e-03, 9.97882366e-01],\n       [8.09071062e-04, 9.99190927e-01],\n       [8.92366050e-04, 9.99107659e-01],\n       [1.13078277e-03, 9.98869240e-01],\n       [7.58974464e-04, 9.99241054e-01],\n       [3.34315794e-03, 9.96656835e-01],\n       [2.40676217e-02, 9.75932360e-01],\n       [7.54191637e-01, 2.45808363e-01],\n       [5.62102592e-04, 9.99437869e-01],\n       [3.43933851e-02, 9.65606630e-01],\n       [6.21501207e-01, 3.78498793e-01],\n       [1.66040077e-03, 9.98339593e-01],\n       [9.99281883e-01, 7.18116760e-04],\n       [1.11246919e-02, 9.88875329e-01],\n       [1.29775584e-01, 8.70224416e-01],\n       [6.15127444e-01, 3.84872556e-01],\n       [1.78117841e-01, 8.21882129e-01],\n       [9.90912199e-01, 9.08780098e-03],\n       [4.35551116e-03, 9.95644510e-01],\n       [8.19100738e-01, 1.80899262e-01],\n       [1.72656996e-03, 9.98273432e-01],\n       [4.98887062e-01, 5.01112938e-01],\n       [9.99790132e-01, 2.09867954e-04],\n       [6.41671658e-01, 3.58328342e-01],\n       [9.99254704e-01, 7.45296478e-04],\n       [6.94799051e-02, 9.30520117e-01],\n       [5.88225186e-01, 4.11774814e-01],\n       [8.88050318e-01, 1.11949682e-01],\n       [9.55416083e-01, 4.45839167e-02],\n       [1.80590560e-03, 9.98194098e-01],\n       [4.83988374e-01, 5.16011596e-01],\n       [9.78842437e-01, 2.11575627e-02],\n       [1.34050555e-03, 9.98659492e-01],\n       [2.20183000e-01, 7.79816985e-01],\n       [8.35804343e-01, 1.64195657e-01],\n       [5.12170680e-02, 9.48782921e-01],\n       [9.99418795e-01, 5.81204891e-04],\n       [6.26851395e-02, 9.37314868e-01],\n       [7.36483606e-03, 9.92635190e-01],\n       [5.13783609e-03, 9.94862139e-01],\n       [3.49311493e-02, 9.65068877e-01],\n       [9.97193396e-01, 2.80660391e-03],\n       [9.98553813e-01, 1.44618750e-03],\n       [2.99835112e-02, 9.70016479e-01],\n       [4.81076597e-04, 9.99518931e-01],\n       [2.38567129e-01, 7.61432886e-01],\n       [9.99813676e-01, 1.86324120e-04],\n       [9.96546805e-01, 3.45319510e-03],\n       [9.70151424e-01, 2.98485756e-02],\n       [6.79359019e-01, 3.20640981e-01],\n       [5.75911626e-03, 9.94240880e-01],\n       [2.55043455e-03, 9.97449577e-01],\n       [2.32450361e-03, 9.97675478e-01],\n       [8.48559260e-01, 1.51440740e-01],\n       [9.62777317e-01, 3.72226834e-02],\n       [9.98925686e-01, 1.07431412e-03],\n       [9.98724878e-01, 1.27512217e-03],\n       [2.55955942e-03, 9.97440457e-01],\n       [5.86970802e-03, 9.94130313e-01],\n       [8.48114908e-01, 1.51885092e-01],\n       [9.09698904e-01, 9.03010964e-02],\n       [9.84388649e-01, 1.56113505e-02],\n       [3.07400781e-03, 9.96926010e-01],\n       [1.21213519e-03, 9.98787880e-01],\n       [9.99727488e-01, 2.72512436e-04],\n       [9.99561727e-01, 4.38272953e-04],\n       [6.68870576e-04, 9.99331117e-01],\n       [1.11274247e-03, 9.98887241e-01],\n       [1.14164492e-02, 9.88583565e-01],\n       [2.58851005e-03, 9.97411489e-01],\n       [2.62623966e-01, 7.37376034e-01],\n       [1.05926313e-03, 9.98940766e-01],\n       [1.27743476e-03, 9.98722553e-01],\n       [7.45826354e-03, 9.92541730e-01],\n       [7.44291842e-01, 2.55708158e-01],\n       [9.46909368e-01, 5.30906320e-02],\n       [2.95831040e-02, 9.70416903e-01],\n       [7.46317506e-02, 9.25368249e-01],\n       [1.63519511e-03, 9.98364806e-01],\n       [9.68817592e-01, 3.11824083e-02],\n       [9.97172952e-01, 2.82704830e-03],\n       [9.32135344e-01, 6.78646564e-02],\n       [3.11648995e-02, 9.68835115e-01],\n       [1.20610543e-01, 8.79389465e-01]], dtype=float32), prediction=array([0, 0, 1, 0, 0, 0, 0, 1, 0, 0, 0, 0, 0, 0, 0, 0, 0, 1, 1, 0, 0, 0,\n       0, 1, 1, 1, 1, 0, 1, 0, 1, 0, 0, 0, 0, 0, 0, 1, 1, 0, 0, 0, 0, 1,\n       0, 0, 0, 0, 0, 0, 0, 1, 0, 1, 0, 0, 0, 1, 0, 0, 0, 0, 0, 0, 0, 1,\n       1, 0, 0, 0, 0, 1, 0, 0, 1, 1, 1, 1, 0, 1, 0, 1, 1, 0, 0, 1, 1, 0,\n       0, 1, 0, 1, 0, 1, 1, 1, 1, 0, 0, 0, 1, 0, 0, 0, 0, 1, 0, 1, 0, 1,\n       1, 0, 0, 0, 1, 0, 1, 0, 1, 0, 0, 0, 0, 0, 0, 0, 0, 0, 1, 1, 0, 0,\n       1, 0, 0, 0, 0, 1, 0, 0, 1, 0, 0, 0, 0, 0, 0, 1, 1, 0, 0, 1, 0, 0,\n       0, 0, 0, 0, 0, 0, 1, 0, 0, 0, 1, 1, 0, 1, 0, 0, 0, 1, 0, 0, 0, 1,\n       1, 0, 0, 0, 1, 0, 0, 1, 1, 0, 0, 0, 0, 0, 0, 0, 0, 1, 1, 0, 0, 0,\n       0, 1, 1, 1, 0, 0, 0, 0, 0, 1, 0, 1, 1, 0, 1, 0, 0, 1, 0, 0, 1, 1,\n       1, 0, 0, 0, 1, 1, 0, 0, 1, 0, 1, 1, 0, 0, 0, 0, 1, 0, 0, 0, 0, 0,\n       0, 1, 0, 1, 0, 0, 0, 0, 1, 1, 0, 0, 0, 0, 0, 0, 1, 1, 1, 1, 0, 0,\n       0, 1, 1, 1, 0, 1, 0, 1, 0, 0, 0, 0, 0, 0, 0, 1, 0, 0, 0, 0, 1, 1,\n       1, 0, 0, 0, 0, 1, 1, 0, 0, 0, 0, 0, 0, 1, 0, 0, 0, 0, 1, 0, 0, 0,\n       0, 0, 0, 0, 0, 0, 0, 0, 0, 0, 0, 0, 0, 1, 0, 0, 0, 1, 1, 0, 1, 1,\n       0, 0, 0, 1, 0, 0, 0, 0, 0, 0, 0, 0, 0, 0, 0, 0, 0, 0, 1, 1, 1, 1,\n       1, 1, 0, 0, 1, 0, 0, 0, 0, 0, 0, 1, 0, 1, 0, 0, 1, 1, 1, 0, 0, 0,\n       1, 1, 0, 0, 0, 0, 1, 0, 0, 1, 0, 0, 0, 1, 0, 0, 1, 1, 1, 1, 0, 0,\n       1, 0, 0, 0, 1, 1, 1, 0, 1, 0, 0, 1, 1, 0, 0, 0, 0, 0, 0, 0, 0, 0,\n       0, 0, 0, 0, 0, 1, 0, 0, 1, 0, 1, 0, 0, 1, 0, 1, 0, 1, 0, 0, 1, 1,\n       1, 0, 1, 1, 1, 0, 0, 1, 0, 0, 1, 0, 1, 0, 0, 0, 0, 1, 1, 0, 0, 0,\n       1, 1, 1, 1, 0, 0, 0, 1, 1, 1, 1, 0, 0, 1, 1, 1, 0, 0, 1, 1, 0, 0,\n       0, 0, 0, 0, 0, 0, 1, 1, 0, 0, 0, 1, 1, 1, 0, 0]), raw_prediction=array([1, 1, 0, 1, 1, 1, 1, 0, 1, 1, 1, 1, 1, 1, 1, 1, 1, 0, 0, 1, 1, 1,\n       1, 0, 0, 0, 0, 1, 0, 1, 0, 1, 1, 1, 1, 1, 1, 0, 0, 1, 1, 1, 1, 0,\n       1, 1, 1, 1, 1, 1, 1, 0, 1, 0, 1, 1, 1, 0, 1, 1, 1, 1, 1, 1, 1, 0,\n       0, 1, 1, 1, 1, 0, 1, 1, 0, 0, 0, 0, 1, 0, 1, 0, 0, 1, 1, 0, 0, 1,\n       1, 0, 1, 0, 1, 0, 0, 0, 0, 1, 1, 1, 0, 1, 1, 1, 1, 0, 1, 0, 1, 0,\n       0, 1, 1, 1, 0, 1, 0, 1, 0, 1, 1, 1, 1, 1, 1, 1, 1, 1, 0, 0, 1, 1,\n       0, 1, 1, 1, 1, 0, 1, 1, 0, 1, 1, 1, 1, 1, 1, 0, 0, 1, 1, 0, 1, 1,\n       1, 1, 1, 1, 1, 1, 0, 1, 1, 1, 0, 0, 1, 0, 1, 1, 1, 0, 1, 1, 1, 0,\n       0, 1, 1, 1, 0, 1, 1, 0, 0, 1, 1, 1, 1, 1, 1, 1, 1, 0, 0, 1, 1, 1,\n       1, 0, 0, 0, 1, 1, 1, 1, 1, 0, 1, 0, 0, 1, 0, 1, 1, 0, 1, 1, 0, 0,\n       0, 1, 1, 1, 0, 0, 1, 1, 0, 1, 0, 0, 1, 1, 1, 1, 0, 1, 1, 1, 1, 1,\n       1, 0, 1, 0, 1, 1, 1, 1, 0, 0, 1, 1, 1, 1, 1, 1, 0, 0, 0, 0, 1, 1,\n       1, 0, 0, 0, 1, 0, 1, 0, 1, 1, 1, 1, 1, 1, 1, 0, 1, 1, 1, 1, 0, 0,\n       0, 1, 1, 1, 1, 0, 0, 1, 1, 1, 1, 1, 1, 0, 1, 1, 1, 1, 0, 1, 1, 1,\n       1, 1, 1, 1, 1, 1, 1, 1, 1, 1, 1, 1, 1, 0, 1, 1, 1, 0, 0, 1, 0, 0,\n       1, 1, 1, 0, 1, 1, 1, 1, 1, 1, 1, 1, 1, 1, 1, 1, 1, 1, 0, 0, 0, 0,\n       0, 0, 1, 1, 0, 1, 1, 1, 1, 1, 1, 0, 1, 0, 1, 1, 0, 0, 0, 1, 1, 1,\n       0, 0, 1, 1, 1, 1, 0, 1, 1, 0, 1, 1, 1, 0, 1, 1, 0, 0, 0, 0, 1, 1,\n       0, 1, 1, 1, 0, 0, 0, 1, 0, 1, 1, 0, 0, 1, 1, 1, 1, 1, 1, 1, 1, 1,\n       1, 1, 1, 1, 1, 0, 1, 1, 0, 1, 0, 1, 1, 0, 1, 0, 1, 0, 1, 1, 0, 0,\n       0, 1, 0, 0, 0, 1, 1, 0, 1, 1, 0, 1, 0, 1, 1, 1, 1, 0, 0, 1, 1, 1,\n       0, 0, 0, 0, 1, 1, 1, 0, 0, 0, 0, 1, 1, 0, 0, 0, 1, 1, 0, 0, 1, 1,\n       1, 1, 1, 1, 1, 1, 0, 0, 1, 1, 1, 0, 0, 0, 1, 1]), probabilities=array([0.93328375, 0.996403  , 0.8121554 , 0.9946879 , 0.9296314 ,\n       0.99839437, 0.99507135, 0.99918765, 0.9982332 , 0.980044  ,\n       0.87372434, 0.95549816, 0.94909483, 0.99457014, 0.9990113 ,\n       0.9917854 , 0.9666816 , 0.99792093, 0.99655807, 0.9981189 ,\n       0.994461  , 0.9989821 , 0.9988959 , 0.9419279 , 0.999482  ,\n       0.84028053, 0.98170704, 0.9948631 , 0.9953221 , 0.9989786 ,\n       0.9822264 , 0.979574  , 0.9990952 , 0.9991717 , 0.9771147 ,\n       0.8309796 , 0.9410099 , 0.99270403, 0.99907243, 0.9983443 ,\n       0.9688048 , 0.995241  , 0.9980936 , 0.99956226, 0.9185504 ,\n       0.9990097 , 0.9991861 , 0.9908574 , 0.9959202 , 0.999538  ,\n       0.9939887 , 0.916235  , 0.94409716, 0.9876171 , 0.9993087 ,\n       0.9839911 , 0.85052407, 0.88418263, 0.9982685 , 0.9973049 ,\n       0.999277  , 0.99791944, 0.9991669 , 0.9991947 , 0.9984797 ,\n       0.9734654 , 0.99885017, 0.99786496, 0.9953106 , 0.99804497,\n       0.99844706, 0.7979195 , 0.9985009 , 0.67640567, 0.9885697 ,\n       0.5222629 , 0.9995373 , 0.60257274, 0.7960757 , 0.9521606 ,\n       0.99369746, 0.99524957, 0.9810306 , 0.9910762 , 0.9423529 ,\n       0.9998309 , 0.9850657 , 0.99473065, 0.995765  , 0.99903566,\n       0.5972241 , 0.9997004 , 0.99923736, 0.73831475, 0.9684258 ,\n       0.7825786 , 0.60113406, 0.96688366, 0.99868   , 0.99383014,\n       0.56819373, 0.9939583 , 0.9986125 , 0.93305296, 0.99904376,\n       0.9829403 , 0.9973403 , 0.9993036 , 0.9010944 , 0.9981926 ,\n       0.9921098 , 0.6291858 , 0.9892813 , 0.98507816, 0.8156655 ,\n       0.9955246 , 0.99703425, 0.9839421 , 0.99721617, 0.9048422 ,\n       0.9751502 , 0.99937516, 0.99403536, 0.9977425 , 0.7920649 ,\n       0.92222357, 0.87242633, 0.50908226, 0.8239673 , 0.9974396 ,\n       0.9982316 , 0.99357593, 0.617742  , 0.94491154, 0.7334169 ,\n       0.99821335, 0.98425823, 0.9996717 , 0.99763334, 0.9936342 ,\n       0.9656236 , 0.9974951 , 0.9994072 , 0.9975946 , 0.9987762 ,\n       0.54206836, 0.991884  , 0.9493494 , 0.90576315, 0.9952237 ,\n       0.998397  , 0.9942519 , 0.7394514 , 0.8894111 , 0.99029016,\n       0.9487829 , 0.7383617 , 0.99621487, 0.99907094, 0.8256518 ,\n       0.9936812 , 0.99934864, 0.99877226, 0.99696636, 0.998383  ,\n       0.99649894, 0.7219864 , 0.9990662 , 0.90759265, 0.9742726 ,\n       0.9646263 , 0.99978554, 0.99629784, 0.7601023 , 0.99605966,\n       0.93922985, 0.99632263, 0.997564  , 0.9988859 , 0.98589313,\n       0.9703081 , 0.9359727 , 0.98687434, 0.7431709 , 0.9998637 ,\n       0.97027117, 0.99760747, 0.69411933, 0.56521976, 0.9635445 ,\n       0.8348538 , 0.9993339 , 0.9961418 , 0.7322736 , 0.76794624,\n       0.99691665, 0.96198636, 0.9991488 , 0.99913496, 0.9980966 ,\n       0.99966574, 0.9994665 , 0.9991665 , 0.9987588 , 0.9816989 ,\n       0.98268443, 0.9986612 , 0.9784761 , 0.9883005 , 0.97311175,\n       0.6916635 , 0.990595  , 0.9666477 , 0.99595684, 0.94775873,\n       0.998644  , 0.9948968 , 0.9711304 , 0.9967432 , 0.50181305,\n       0.9800897 , 0.9628653 , 0.9940364 , 0.99928075, 0.74766594,\n       0.98611015, 0.7932129 , 0.9730474 , 0.9869291 , 0.6108992 ,\n       0.9862158 , 0.98489845, 0.9916077 , 0.9460665 , 0.99922365,\n       0.9781406 , 0.96688414, 0.99646175, 0.9720365 , 0.9512511 ,\n       0.81287163, 0.99882025, 0.7752909 , 0.9991369 , 0.9987862 ,\n       0.51664764, 0.9991192 , 0.9972352 , 0.5156177 , 0.5163983 ,\n       0.99986506, 0.9943459 , 0.99901426, 0.70243084, 0.9967046 ,\n       0.9870021 , 0.997495  , 0.99839103, 0.7783483 , 0.89456224,\n       0.5869987 , 0.7011346 , 0.8532765 , 0.9991617 , 0.9988498 ,\n       0.90863174, 0.9163394 , 0.9944335 , 0.8592981 , 0.99617684,\n       0.9693791 , 0.7200322 , 0.99751025, 0.9993757 , 0.99778694,\n       0.7967569 , 0.9992177 , 0.7814357 , 0.99903786, 0.9301981 ,\n       0.9869413 , 0.87317365, 0.9961948 , 0.9522946 , 0.9988007 ,\n       0.91536486, 0.99704045, 0.9921038 , 0.996812  , 0.8888898 ,\n       0.8462105 , 0.6532215 , 0.9992664 , 0.9992167 , 0.99917185,\n       0.72473824, 0.99620354, 0.9960476 , 0.99883324, 0.9399645 ,\n       0.99937767, 0.9542482 , 0.99917626, 0.9991367 , 0.8709278 ,\n       0.9938319 , 0.9487829 , 0.9668289 , 0.9946088 , 0.9958239 ,\n       0.9924594 , 0.9798643 , 0.8100749 , 0.98225665, 0.9989432 ,\n       0.98949397, 0.9989895 , 0.9645435 , 0.97694135, 0.99914783,\n       0.9816707 , 0.52875346, 0.90598464, 0.72114027, 0.9471416 ,\n       0.9995735 , 0.9997198 , 0.92068815, 0.99978673, 0.99962854,\n       0.9968176 , 0.98001444, 0.9825485 , 0.86204773, 0.96458805,\n       0.86332   , 0.6244573 , 0.99931514, 0.99305534, 0.99954313,\n       0.9976501 , 0.9983673 , 0.7822857 , 0.9667721 , 0.99657273,\n       0.9988551 , 0.99932903, 0.9534288 , 0.9966996 , 0.99957687,\n       0.918587  , 0.99928033, 0.98644555, 0.7131398 , 0.84912246,\n       0.8001643 , 0.99749875, 0.8884928 , 0.7959715 , 0.9990072 ,\n       0.99830824, 0.9925174 , 0.84875304, 0.99984974, 0.99705386,\n       0.74945635, 0.9979635 , 0.99914384, 0.95393384, 0.99975437,\n       0.9993359 , 0.88220346, 0.9834168 , 0.97972775, 0.77325195,\n       0.8775837 , 0.99802727, 0.99835503, 0.9963835 , 0.9992848 ,\n       0.62809813, 0.9803682 , 0.98150396, 0.63002694, 0.99684334,\n       0.9927237 , 0.99923635, 0.9995068 , 0.9843621 , 0.99540645,\n       0.9985941 , 0.5830888 , 0.71288425, 0.6425861 , 0.99941057,\n       0.98377705, 0.99815565, 0.98037297, 0.9989745 , 0.9863091 ,\n       0.98683095, 0.9784532 , 0.9496465 , 0.99427813, 0.90418863,\n       0.9966633 , 0.9977493 , 0.75536245, 0.9767082 , 0.9879942 ,\n       0.9972934 , 0.9978653 , 0.97472405, 0.9919801 , 0.9488147 ,\n       0.9810162 , 0.99788237, 0.9991909 , 0.99910766, 0.99886924,\n       0.99924105, 0.99665684, 0.97593236, 0.75419164, 0.99943787,\n       0.96560663, 0.6215012 , 0.9983396 , 0.9992819 , 0.9888753 ,\n       0.8702244 , 0.61512744, 0.8218821 , 0.9909122 , 0.9956445 ,\n       0.81910074, 0.99827343, 0.50111294, 0.99979013, 0.64167166,\n       0.9992547 , 0.9305201 , 0.5882252 , 0.8880503 , 0.9554161 ,\n       0.9981941 , 0.5160116 , 0.97884244, 0.9986595 , 0.779817  ,\n       0.83580434, 0.9487829 , 0.9994188 , 0.93731487, 0.9926352 ,\n       0.99486214, 0.9650689 , 0.9971934 , 0.9985538 , 0.9700165 ,\n       0.99951893, 0.7614329 , 0.9998137 , 0.9965468 , 0.9701514 ,\n       0.679359  , 0.9942409 , 0.9974496 , 0.9976755 , 0.84855926,\n       0.9627773 , 0.9989257 , 0.9987249 , 0.99744046, 0.9941303 ,\n       0.8481149 , 0.9096989 , 0.98438865, 0.996926  , 0.9987879 ,\n       0.9997275 , 0.9995617 , 0.9993311 , 0.99888724, 0.98858356,\n       0.9974115 , 0.73737603, 0.99894077, 0.99872255, 0.99254173,\n       0.74429184, 0.94690937, 0.9704169 , 0.92536825, 0.9983648 ,\n       0.9688176 , 0.99717295, 0.93213534, 0.9688351 , 0.87938946],\n      dtype=float32), all_predictions=            1         0\n0    0.066716  0.933284\n1    0.003597  0.996403\n2    0.812155  0.187845\n3    0.005312  0.994688\n4    0.070369  0.929631\n..        ...       ...\n495  0.968818  0.031182\n496  0.997173  0.002827\n497  0.932135  0.067865\n498  0.031165  0.968835\n499  0.120611  0.879389\n\n[500 rows x 2 columns])"
     },
     "execution_count": 95,
     "metadata": {},
     "output_type": "execute_result"
    }
   ],
   "source": [
    "wrapped_model.predict(wrapped_data)"
   ],
   "metadata": {
    "collapsed": false,
    "ExecuteTime": {
     "end_time": "2023-05-16T17:01:38.775177Z",
     "start_time": "2023-05-16T17:01:36.974980Z"
    }
   }
  },
  {
   "cell_type": "code",
   "execution_count": 96,
   "outputs": [
    {
     "name": "stderr",
     "output_type": "stream",
     "text": [
      "2023/05/16 19:01:46 WARNING mlflow.tensorflow: You are saving a TensorFlow Core model or Keras model without a signature. Inference with mlflow.pyfunc.spark_udf() will not work unless the model's pyfunc representation accepts pandas DataFrames as inference inputs.\n",
      "2023-05-16 19:01:48.222054: I tensorflow/core/common_runtime/executor.cc:1197] [/device:CPU:0] (DEBUG INFO) Executor start aborting (this does not indicate an error and you can ignore this message): INVALID_ARGUMENT: You must feed a value for placeholder tensor 'while/Placeholder_2' with dtype float and shape [?,128]\n",
      "\t [[{{node while/Placeholder_2}}]]\n",
      "2023-05-16 19:01:48.377449: I tensorflow/core/common_runtime/executor.cc:1197] [/device:CPU:0] (DEBUG INFO) Executor start aborting (this does not indicate an error and you can ignore this message): INVALID_ARGUMENT: You must feed a value for placeholder tensor 'while/Placeholder_2' with dtype float and shape [?,128]\n",
      "\t [[{{node while/Placeholder_2}}]]\n",
      "2023-05-16 19:01:48.431992: I tensorflow/core/common_runtime/executor.cc:1197] [/device:CPU:0] (DEBUG INFO) Executor start aborting (this does not indicate an error and you can ignore this message): INVALID_ARGUMENT: You must feed a value for placeholder tensor 'inputs' with dtype float and shape [?,?,200]\n",
      "\t [[{{node inputs}}]]\n",
      "2023-05-16 19:01:48.451963: I tensorflow/core/common_runtime/executor.cc:1197] [/device:CPU:0] (DEBUG INFO) Executor start aborting (this does not indicate an error and you can ignore this message): INVALID_ARGUMENT: You must feed a value for placeholder tensor 'inputs' with dtype float and shape [?,?,200]\n",
      "\t [[{{node inputs}}]]\n",
      "2023-05-16 19:01:48.468057: I tensorflow/core/common_runtime/executor.cc:1197] [/device:CPU:0] (DEBUG INFO) Executor start aborting (this does not indicate an error and you can ignore this message): INVALID_ARGUMENT: You must feed a value for placeholder tensor 'inputs' with dtype float and shape [?,200]\n",
      "\t [[{{node inputs}}]]\n",
      "2023-05-16 19:01:48.468220: I tensorflow/core/common_runtime/executor.cc:1197] [/device:CPU:0] (DEBUG INFO) Executor start aborting (this does not indicate an error and you can ignore this message): INVALID_ARGUMENT: You must feed a value for placeholder tensor 'states' with dtype float and shape [?,128]\n",
      "\t [[{{node states}}]]\n",
      "2023-05-16 19:01:48.484907: I tensorflow/core/common_runtime/executor.cc:1197] [/device:CPU:0] (DEBUG INFO) Executor start aborting (this does not indicate an error and you can ignore this message): INVALID_ARGUMENT: You must feed a value for placeholder tensor 'inputs' with dtype float and shape [?,200]\n",
      "\t [[{{node inputs}}]]\n",
      "2023-05-16 19:01:48.484986: I tensorflow/core/common_runtime/executor.cc:1197] [/device:CPU:0] (DEBUG INFO) Executor start aborting (this does not indicate an error and you can ignore this message): INVALID_ARGUMENT: You must feed a value for placeholder tensor 'states' with dtype float and shape [?,128]\n",
      "\t [[{{node states}}]]\n",
      "2023-05-16 19:01:48.722908: I tensorflow/core/common_runtime/executor.cc:1197] [/device:CPU:0] (DEBUG INFO) Executor start aborting (this does not indicate an error and you can ignore this message): INVALID_ARGUMENT: You must feed a value for placeholder tensor 'while/Placeholder_2' with dtype float and shape [?,128]\n",
      "\t [[{{node while/Placeholder_2}}]]\n",
      "2023-05-16 19:01:48.880377: I tensorflow/core/common_runtime/executor.cc:1197] [/device:CPU:0] (DEBUG INFO) Executor start aborting (this does not indicate an error and you can ignore this message): INVALID_ARGUMENT: You must feed a value for placeholder tensor 'while/Placeholder_2' with dtype float and shape [?,128]\n",
      "\t [[{{node while/Placeholder_2}}]]\n",
      "2023-05-16 19:01:48.935517: I tensorflow/core/common_runtime/executor.cc:1197] [/device:CPU:0] (DEBUG INFO) Executor start aborting (this does not indicate an error and you can ignore this message): INVALID_ARGUMENT: You must feed a value for placeholder tensor 'inputs' with dtype float and shape [?,?,200]\n",
      "\t [[{{node inputs}}]]\n",
      "2023-05-16 19:01:48.955264: I tensorflow/core/common_runtime/executor.cc:1197] [/device:CPU:0] (DEBUG INFO) Executor start aborting (this does not indicate an error and you can ignore this message): INVALID_ARGUMENT: You must feed a value for placeholder tensor 'inputs' with dtype float and shape [?,?,200]\n",
      "\t [[{{node inputs}}]]\n",
      "2023-05-16 19:01:48.969542: I tensorflow/core/common_runtime/executor.cc:1197] [/device:CPU:0] (DEBUG INFO) Executor start aborting (this does not indicate an error and you can ignore this message): INVALID_ARGUMENT: You must feed a value for placeholder tensor 'inputs' with dtype float and shape [?,200]\n",
      "\t [[{{node inputs}}]]\n",
      "2023-05-16 19:01:48.969811: I tensorflow/core/common_runtime/executor.cc:1197] [/device:CPU:0] (DEBUG INFO) Executor start aborting (this does not indicate an error and you can ignore this message): INVALID_ARGUMENT: You must feed a value for placeholder tensor 'states' with dtype float and shape [?,128]\n",
      "\t [[{{node states}}]]\n",
      "2023-05-16 19:01:48.986665: I tensorflow/core/common_runtime/executor.cc:1197] [/device:CPU:0] (DEBUG INFO) Executor start aborting (this does not indicate an error and you can ignore this message): INVALID_ARGUMENT: You must feed a value for placeholder tensor 'inputs' with dtype float and shape [?,200]\n",
      "\t [[{{node inputs}}]]\n",
      "2023-05-16 19:01:48.986744: I tensorflow/core/common_runtime/executor.cc:1197] [/device:CPU:0] (DEBUG INFO) Executor start aborting (this does not indicate an error and you can ignore this message): INVALID_ARGUMENT: You must feed a value for placeholder tensor 'states' with dtype float and shape [?,128]\n",
      "\t [[{{node states}}]]\n",
      "2023-05-16 19:01:49.348471: I tensorflow/core/common_runtime/executor.cc:1197] [/device:CPU:0] (DEBUG INFO) Executor start aborting (this does not indicate an error and you can ignore this message): INVALID_ARGUMENT: You must feed a value for placeholder tensor 'inputs' with dtype float and shape [?,?,?]\n",
      "\t [[{{node inputs}}]]\n",
      "2023-05-16 19:01:49.712579: I tensorflow/core/common_runtime/executor.cc:1197] [/device:CPU:0] (DEBUG INFO) Executor start aborting (this does not indicate an error and you can ignore this message): INVALID_ARGUMENT: You must feed a value for placeholder tensor 'inputs' with dtype float and shape [?,?,?]\n",
      "\t [[{{node inputs}}]]\n",
      "2023-05-16 19:01:50.693614: I tensorflow/core/common_runtime/executor.cc:1197] [/device:CPU:0] (DEBUG INFO) Executor start aborting (this does not indicate an error and you can ignore this message): INVALID_ARGUMENT: You must feed a value for placeholder tensor 'inputs' with dtype float and shape [?,?,?]\n",
      "\t [[{{node inputs}}]]\n",
      "2023-05-16 19:01:50.884867: I tensorflow/core/common_runtime/executor.cc:1197] [/device:CPU:0] (DEBUG INFO) Executor start aborting (this does not indicate an error and you can ignore this message): INVALID_ARGUMENT: You must feed a value for placeholder tensor 'inputs' with dtype float and shape [?,?,?]\n",
      "\t [[{{node inputs}}]]\n",
      "2023-05-16 19:01:50.908275: I tensorflow/core/common_runtime/executor.cc:1197] [/device:CPU:0] (DEBUG INFO) Executor start aborting (this does not indicate an error and you can ignore this message): INVALID_ARGUMENT: You must feed a value for placeholder tensor 'inputs' with dtype float and shape [?,?,?]\n",
      "\t [[{{node inputs}}]]\n",
      "2023-05-16 19:01:50.925938: I tensorflow/core/common_runtime/executor.cc:1197] [/device:CPU:0] (DEBUG INFO) Executor start aborting (this does not indicate an error and you can ignore this message): INVALID_ARGUMENT: You must feed a value for placeholder tensor 'inputs' with dtype float and shape [?,?,?]\n",
      "\t [[{{node inputs}}]]\n",
      "2023-05-16 19:01:50.943860: I tensorflow/core/common_runtime/executor.cc:1197] [/device:CPU:0] (DEBUG INFO) Executor start aborting (this does not indicate an error and you can ignore this message): INVALID_ARGUMENT: You must feed a value for placeholder tensor 'inputs' with dtype float and shape [?,?,?]\n",
      "\t [[{{node inputs}}]]\n",
      "2023-05-16 19:01:50.957704: I tensorflow/core/common_runtime/executor.cc:1197] [/device:CPU:0] (DEBUG INFO) Executor start aborting (this does not indicate an error and you can ignore this message): INVALID_ARGUMENT: You must feed a value for placeholder tensor 'inputs' with dtype float and shape [?,?,?]\n",
      "\t [[{{node inputs}}]]\n",
      "2023-05-16 19:01:50.976161: I tensorflow/core/common_runtime/executor.cc:1197] [/device:CPU:0] (DEBUG INFO) Executor start aborting (this does not indicate an error and you can ignore this message): INVALID_ARGUMENT: You must feed a value for placeholder tensor 'inputs' with dtype float and shape [?,?,?]\n",
      "\t [[{{node inputs}}]]\n",
      "2023-05-16 19:01:50.989598: I tensorflow/core/common_runtime/executor.cc:1197] [/device:CPU:0] (DEBUG INFO) Executor start aborting (this does not indicate an error and you can ignore this message): INVALID_ARGUMENT: You must feed a value for placeholder tensor 'inputs' with dtype float and shape [?,?,?]\n",
      "\t [[{{node inputs}}]]\n",
      "2023-05-16 19:01:52.155143: I tensorflow/core/common_runtime/executor.cc:1197] [/device:CPU:0] (DEBUG INFO) Executor start aborting (this does not indicate an error and you can ignore this message): INVALID_ARGUMENT: You must feed a value for placeholder tensor 'inputs' with dtype float and shape [?,200,200]\n",
      "\t [[{{node inputs}}]]\n",
      "2023-05-16 19:01:52.174856: I tensorflow/core/common_runtime/executor.cc:1197] [/device:CPU:0] (DEBUG INFO) Executor start aborting (this does not indicate an error and you can ignore this message): INVALID_ARGUMENT: You must feed a value for placeholder tensor 'inputs' with dtype float and shape [?,200,200]\n",
      "\t [[{{node inputs}}]]\n",
      "2023-05-16 19:01:53.329459: I tensorflow/core/common_runtime/executor.cc:1197] [/device:CPU:0] (DEBUG INFO) Executor start aborting (this does not indicate an error and you can ignore this message): INVALID_ARGUMENT: You must feed a value for placeholder tensor 'inputs_0' with dtype float and shape [?,?,?]\n",
      "\t [[{{node inputs_0}}]]\n",
      "2023-05-16 19:01:53.345212: I tensorflow/core/common_runtime/executor.cc:1197] [/device:CPU:0] (DEBUG INFO) Executor start aborting (this does not indicate an error and you can ignore this message): INVALID_ARGUMENT: You must feed a value for placeholder tensor 'inputs_0' with dtype float and shape [?,?,?]\n",
      "\t [[{{node inputs_0}}]]\n",
      "2023-05-16 19:01:53.362709: I tensorflow/core/common_runtime/executor.cc:1197] [/device:CPU:0] (DEBUG INFO) Executor start aborting (this does not indicate an error and you can ignore this message): INVALID_ARGUMENT: You must feed a value for placeholder tensor 'inputs' with dtype float and shape [?,200,200]\n",
      "\t [[{{node inputs}}]]\n",
      "2023-05-16 19:01:53.377320: I tensorflow/core/common_runtime/executor.cc:1197] [/device:CPU:0] (DEBUG INFO) Executor start aborting (this does not indicate an error and you can ignore this message): INVALID_ARGUMENT: You must feed a value for placeholder tensor 'inputs' with dtype float and shape [?,200,200]\n",
      "\t [[{{node inputs}}]]\n",
      "2023-05-16 19:01:55.203586: I tensorflow/core/common_runtime/executor.cc:1197] [/device:CPU:0] (DEBUG INFO) Executor start aborting (this does not indicate an error and you can ignore this message): INVALID_ARGUMENT: You must feed a value for placeholder tensor 'inputs_0' with dtype float and shape [?,?,200]\n",
      "\t [[{{node inputs_0}}]]\n",
      "2023-05-16 19:01:55.214517: I tensorflow/core/common_runtime/executor.cc:1197] [/device:CPU:0] (DEBUG INFO) Executor start aborting (this does not indicate an error and you can ignore this message): INVALID_ARGUMENT: You must feed a value for placeholder tensor 'inputs_0' with dtype float and shape [?,?,200]\n",
      "\t [[{{node inputs_0}}]]\n",
      "2023-05-16 19:01:55.226564: I tensorflow/core/common_runtime/executor.cc:1197] [/device:CPU:0] (DEBUG INFO) Executor start aborting (this does not indicate an error and you can ignore this message): INVALID_ARGUMENT: You must feed a value for placeholder tensor 'inputs' with dtype float and shape [?,?,?]\n",
      "\t [[{{node inputs}}]]\n",
      "2023-05-16 19:01:55.237655: I tensorflow/core/common_runtime/executor.cc:1197] [/device:CPU:0] (DEBUG INFO) Executor start aborting (this does not indicate an error and you can ignore this message): INVALID_ARGUMENT: You must feed a value for placeholder tensor 'inputs' with dtype float and shape [?,?,?]\n",
      "\t [[{{node inputs}}]]\n",
      "2023-05-16 19:01:56.377471: I tensorflow/core/common_runtime/executor.cc:1197] [/device:CPU:0] (DEBUG INFO) Executor start aborting (this does not indicate an error and you can ignore this message): INVALID_ARGUMENT: You must feed a value for placeholder tensor 'inputs_0' with dtype float and shape [?,?,200]\n",
      "\t [[{{node inputs_0}}]]\n",
      "2023-05-16 19:01:56.390005: I tensorflow/core/common_runtime/executor.cc:1197] [/device:CPU:0] (DEBUG INFO) Executor start aborting (this does not indicate an error and you can ignore this message): INVALID_ARGUMENT: You must feed a value for placeholder tensor 'inputs_0' with dtype float and shape [?,?,200]\n",
      "\t [[{{node inputs_0}}]]\n",
      "2023-05-16 19:01:56.402984: I tensorflow/core/common_runtime/executor.cc:1197] [/device:CPU:0] (DEBUG INFO) Executor start aborting (this does not indicate an error and you can ignore this message): INVALID_ARGUMENT: You must feed a value for placeholder tensor 'inputs' with dtype float and shape [?,?,?]\n",
      "\t [[{{node inputs}}]]\n",
      "2023-05-16 19:01:56.413687: I tensorflow/core/common_runtime/executor.cc:1197] [/device:CPU:0] (DEBUG INFO) Executor start aborting (this does not indicate an error and you can ignore this message): INVALID_ARGUMENT: You must feed a value for placeholder tensor 'inputs' with dtype float and shape [?,?,?]\n",
      "\t [[{{node inputs}}]]\n",
      "2023-05-16 19:01:57.414911: I tensorflow/core/common_runtime/executor.cc:1197] [/device:CPU:0] (DEBUG INFO) Executor start aborting (this does not indicate an error and you can ignore this message): INVALID_ARGUMENT: You must feed a value for placeholder tensor 'inputs' with dtype float and shape [?,200]\n",
      "\t [[{{node inputs}}]]\n",
      "2023-05-16 19:01:57.414984: I tensorflow/core/common_runtime/executor.cc:1197] [/device:CPU:0] (DEBUG INFO) Executor start aborting (this does not indicate an error and you can ignore this message): INVALID_ARGUMENT: You must feed a value for placeholder tensor 'states_0' with dtype float and shape [?,128]\n",
      "\t [[{{node states_0}}]]\n",
      "2023-05-16 19:01:57.428022: I tensorflow/core/common_runtime/executor.cc:1197] [/device:CPU:0] (DEBUG INFO) Executor start aborting (this does not indicate an error and you can ignore this message): INVALID_ARGUMENT: You must feed a value for placeholder tensor 'inputs' with dtype float and shape [?,200]\n",
      "\t [[{{node inputs}}]]\n",
      "2023-05-16 19:01:57.428095: I tensorflow/core/common_runtime/executor.cc:1197] [/device:CPU:0] (DEBUG INFO) Executor start aborting (this does not indicate an error and you can ignore this message): INVALID_ARGUMENT: You must feed a value for placeholder tensor 'states_0' with dtype float and shape [?,128]\n",
      "\t [[{{node states_0}}]]\n",
      "2023-05-16 19:01:57.615214: I tensorflow/core/common_runtime/executor.cc:1197] [/device:CPU:0] (DEBUG INFO) Executor start aborting (this does not indicate an error and you can ignore this message): INVALID_ARGUMENT: You must feed a value for placeholder tensor 'inputs' with dtype float and shape [?,200]\n",
      "\t [[{{node inputs}}]]\n",
      "2023-05-16 19:01:57.615308: I tensorflow/core/common_runtime/executor.cc:1197] [/device:CPU:0] (DEBUG INFO) Executor start aborting (this does not indicate an error and you can ignore this message): INVALID_ARGUMENT: You must feed a value for placeholder tensor 'states_0' with dtype float and shape [?,128]\n",
      "\t [[{{node states_0}}]]\n",
      "2023-05-16 19:01:57.631220: I tensorflow/core/common_runtime/executor.cc:1197] [/device:CPU:0] (DEBUG INFO) Executor start aborting (this does not indicate an error and you can ignore this message): INVALID_ARGUMENT: You must feed a value for placeholder tensor 'inputs' with dtype float and shape [?,200]\n",
      "\t [[{{node inputs}}]]\n",
      "2023-05-16 19:01:57.631298: I tensorflow/core/common_runtime/executor.cc:1197] [/device:CPU:0] (DEBUG INFO) Executor start aborting (this does not indicate an error and you can ignore this message): INVALID_ARGUMENT: You must feed a value for placeholder tensor 'states_0' with dtype float and shape [?,128]\n",
      "\t [[{{node states_0}}]]\n"
     ]
    },
    {
     "name": "stdout",
     "output_type": "stream",
     "text": [
      "INFO:tensorflow:Assets written to: /var/folders/4q/3_bfyqnn7yv5jcjq98x2jf680000gn/T/giskard-model-fr_6he4o/data/model/assets\n",
      "2023-05-16 19:02:03,485 pid:10647 MainThread tensorflow   INFO     Assets written to: /var/folders/4q/3_bfyqnn7yv5jcjq98x2jf680000gn/T/giskard-model-fr_6he4o/data/model/assets\n"
     ]
    },
    {
     "name": "stderr",
     "output_type": "stream",
     "text": [
      "/Users/mykytaalekseiev/IdeaProjects/GiskardExamples/venv/lib/python3.10/site-packages/_distutils_hack/__init__.py:33: UserWarning: Setuptools is replacing distutils.\n",
      "  warnings.warn(\"Setuptools is replacing distutils.\")\n"
     ]
    },
    {
     "name": "stdout",
     "output_type": "stream",
     "text": [
      "1/1 [==============================] - 1s 567ms/step\n",
      "2023-05-16 19:02:47,104 pid:10647 MainThread giskard.models.base WARNING  \n",
      "Your binary classification model prediction is of the shape (10, 1). \n",
      "In Giskard we expect the shape (10, 2) for binary classification models. \n",
      "We automatically inferred the second class prediction but please make sure that \n",
      "the probability output of your model corresponds to the first label of the \n",
      "classification_labels ([1, 0]) you provided us with.\n",
      "NoneType: None\n",
      "1/1 [==============================] - 0s 110ms/step\n",
      "2023-05-16 19:02:47,270 pid:10647 MainThread giskard.models.base WARNING  \n",
      "Your binary classification model prediction is of the shape (10, 1). \n",
      "In Giskard we expect the shape (10, 2) for binary classification models. \n",
      "We automatically inferred the second class prediction but please make sure that \n",
      "the probability output of your model corresponds to the first label of the \n",
      "classification_labels ([1, 0]) you provided us with.\n",
      "NoneType: None\n",
      "Your model is successfully validated.\n",
      "Running scan…\n",
      "16/16 [==============================] - 2s 114ms/step\n",
      "2023-05-16 19:02:49,215 pid:10647 MainThread giskard.models.base WARNING  \n",
      "Your binary classification model prediction is of the shape (500, 1). \n",
      "In Giskard we expect the shape (500, 2) for binary classification models. \n",
      "We automatically inferred the second class prediction but please make sure that \n",
      "the probability output of your model corresponds to the first label of the \n",
      "classification_labels ([1, 0]) you provided us with.\n",
      "NoneType: None\n",
      "16/16 [==============================] - 2s 96ms/step\n",
      "2023-05-16 19:02:58,201 pid:10647 MainThread giskard.models.base WARNING  \n",
      "Your binary classification model prediction is of the shape (500, 1). \n",
      "In Giskard we expect the shape (500, 2) for binary classification models. \n",
      "We automatically inferred the second class prediction but please make sure that \n",
      "the probability output of your model corresponds to the first label of the \n",
      "classification_labels ([1, 0]) you provided us with.\n",
      "NoneType: None\n",
      " 5 issues detected.\n",
      "Running detector TextPerturbationDetector…Hint: \"Your target variable values are numeric. It is recommended to have Human readable string as your target values to make results more understandable in Giskard.\"\n",
      "Hint: \"Your target variable values are numeric. It is recommended to have Human readable string as your target values to make results more understandable in Giskard.\"\n",
      "16/16 [==============================] - 2s 113ms/step\n",
      "2023-05-16 19:03:00,310 pid:10647 MainThread giskard.models.base WARNING  \n",
      "Your binary classification model prediction is of the shape (500, 1). \n",
      "In Giskard we expect the shape (500, 2) for binary classification models. \n",
      "We automatically inferred the second class prediction but please make sure that \n",
      "the probability output of your model corresponds to the first label of the \n",
      "classification_labels ([1, 0]) you provided us with.\n",
      "NoneType: None\n",
      "16/16 [==============================] - 2s 117ms/step\n",
      "2023-05-16 19:03:02,284 pid:10647 MainThread giskard.models.base WARNING  \n",
      "Your binary classification model prediction is of the shape (500, 1). \n",
      "In Giskard we expect the shape (500, 2) for binary classification models. \n",
      "We automatically inferred the second class prediction but please make sure that \n",
      "the probability output of your model corresponds to the first label of the \n",
      "classification_labels ([1, 0]) you provided us with.\n",
      "NoneType: None\n",
      "Hint: \"Your target variable values are numeric. It is recommended to have Human readable string as your target values to make results more understandable in Giskard.\"\n",
      "Hint: \"Your target variable values are numeric. It is recommended to have Human readable string as your target values to make results more understandable in Giskard.\"\n",
      "16/16 [==============================] - 2s 115ms/step\n",
      "2023-05-16 19:03:04,235 pid:10647 MainThread giskard.models.base WARNING  \n",
      "Your binary classification model prediction is of the shape (500, 1). \n",
      "In Giskard we expect the shape (500, 2) for binary classification models. \n",
      "We automatically inferred the second class prediction but please make sure that \n",
      "the probability output of your model corresponds to the first label of the \n",
      "classification_labels ([1, 0]) you provided us with.\n",
      "NoneType: None\n",
      "16/16 [==============================] - 2s 98ms/step\n",
      "2023-05-16 19:03:05,881 pid:10647 MainThread giskard.models.base WARNING  \n",
      "Your binary classification model prediction is of the shape (500, 1). \n",
      "In Giskard we expect the shape (500, 2) for binary classification models. \n",
      "We automatically inferred the second class prediction but please make sure that \n",
      "the probability output of your model corresponds to the first label of the \n",
      "classification_labels ([1, 0]) you provided us with.\n",
      "NoneType: None\n",
      "Hint: \"Your target variable values are numeric. It is recommended to have Human readable string as your target values to make results more understandable in Giskard.\"\n",
      "Hint: \"Your target variable values are numeric. It is recommended to have Human readable string as your target values to make results more understandable in Giskard.\"\n",
      "14/14 [==============================] - 1s 92ms/step\n",
      "2023-05-16 19:03:07,264 pid:10647 MainThread giskard.models.base WARNING  \n",
      "Your binary classification model prediction is of the shape (433, 1). \n",
      "In Giskard we expect the shape (433, 2) for binary classification models. \n",
      "We automatically inferred the second class prediction but please make sure that \n",
      "the probability output of your model corresponds to the first label of the \n",
      "classification_labels ([1, 0]) you provided us with.\n",
      "NoneType: None\n",
      "14/14 [==============================] - 1s 92ms/step\n",
      "2023-05-16 19:03:08,637 pid:10647 MainThread giskard.models.base WARNING  \n",
      "Your binary classification model prediction is of the shape (433, 1). \n",
      "In Giskard we expect the shape (433, 2) for binary classification models. \n",
      "We automatically inferred the second class prediction but please make sure that \n",
      "the probability output of your model corresponds to the first label of the \n",
      "classification_labels ([1, 0]) you provided us with.\n",
      "NoneType: None\n",
      "Hint: \"Your target variable values are numeric. It is recommended to have Human readable string as your target values to make results more understandable in Giskard.\"\n",
      "Hint: \"Your target variable values are numeric. It is recommended to have Human readable string as your target values to make results more understandable in Giskard.\"\n",
      "10/10 [==============================] - 1s 93ms/step\n",
      "2023-05-16 19:03:09,872 pid:10647 MainThread giskard.models.base WARNING  \n",
      "Your binary classification model prediction is of the shape (297, 1). \n",
      "In Giskard we expect the shape (297, 2) for binary classification models. \n",
      "We automatically inferred the second class prediction but please make sure that \n",
      "the probability output of your model corresponds to the first label of the \n",
      "classification_labels ([1, 0]) you provided us with.\n",
      "NoneType: None\n",
      "10/10 [==============================] - 1s 91ms/step\n",
      "2023-05-16 19:03:10,846 pid:10647 MainThread giskard.models.base WARNING  \n",
      "Your binary classification model prediction is of the shape (297, 1). \n",
      "In Giskard we expect the shape (297, 2) for binary classification models. \n",
      "We automatically inferred the second class prediction but please make sure that \n",
      "the probability output of your model corresponds to the first label of the \n",
      "classification_labels ([1, 0]) you provided us with.\n",
      "NoneType: None\n",
      "Hint: \"Your target variable values are numeric. It is recommended to have Human readable string as your target values to make results more understandable in Giskard.\"\n",
      "Hint: \"Your target variable values are numeric. It is recommended to have Human readable string as your target values to make results more understandable in Giskard.\"\n",
      "4/4 [==============================] - 0s 80ms/step\n",
      "2023-05-16 19:03:11,252 pid:10647 MainThread giskard.models.base WARNING  \n",
      "Your binary classification model prediction is of the shape (101, 1). \n",
      "In Giskard we expect the shape (101, 2) for binary classification models. \n",
      "We automatically inferred the second class prediction but please make sure that \n",
      "the probability output of your model corresponds to the first label of the \n",
      "classification_labels ([1, 0]) you provided us with.\n",
      "NoneType: None\n",
      "4/4 [==============================] - 0s 80ms/step\n",
      "2023-05-16 19:03:11,642 pid:10647 MainThread giskard.models.base WARNING  \n",
      "Your binary classification model prediction is of the shape (101, 1). \n",
      "In Giskard we expect the shape (101, 2) for binary classification models. \n",
      "We automatically inferred the second class prediction but please make sure that \n",
      "the probability output of your model corresponds to the first label of the \n",
      "classification_labels ([1, 0]) you provided us with.\n",
      "NoneType: None\n",
      " 2 issues detected.\n",
      "Scan completed: 7 issues found.\n"
     ]
    }
   ],
   "source": [
    "scanning_result = giskard.scan(wrapped_model, wrapped_data)"
   ],
   "metadata": {
    "collapsed": false,
    "ExecuteTime": {
     "end_time": "2023-05-16T17:03:11.658192Z",
     "start_time": "2023-05-16T17:01:46.770501Z"
    }
   }
  },
  {
   "cell_type": "code",
   "execution_count": 97,
   "outputs": [
    {
     "data": {
      "text/html": "<iframe srcdoc=\"\n&lt;script src=&quot;https://cdn.tailwindcss.com&quot;&gt;&lt;/script&gt;\n&lt;script&gt;\n    tailwind.config = {\n        darkMode: &#x27;class&#x27;\n    }\n&lt;/script&gt;\n&lt;style&gt;\n    table.dataframe {\n        width: 100%;\n        max-width: 100%;\n        overflow: auto;\n    }\n\n    .dataframe tr {\n        border-bottom: 1px solid #555;\n    }\n\n    .dataframe td,\n    .dataframe th {\n        padding: 0.5rem;\n    }\n&lt;/style&gt;\n\n\n\n&lt;div class=&quot;dark&quot;&gt;\n    &lt;div id=&quot;gsk-scan&quot; class=&quot;dark:text-white dark:bg-zinc-900&quot;&gt;\n        &lt;!-- TAB HEADER --&gt;\n&lt;div class=&quot;flex items-center items-stretch h-11&quot;&gt;\n    &lt;div class=&quot;flex items-center px-4 dark:fill-white border-b border-gray-500 h-11&quot;&gt;\n        &lt;svg xmlns=&quot;http://www.w3.org/2000/svg&quot; xml:space=&quot;preserve&quot; viewBox=&quot;0 0 410 213&quot; height=&quot;15&quot;&gt;\n            &lt;path\n                d=&quot;M318.78 21.94a59.439 59.439 0 0 1 36.45-12.56v.03c7.09-.1 14.13 1.2 20.71 3.84 6.58 2.64 12.57 6.56 17.62 11.54s9.06 10.91 11.8 17.45a53.44 53.44 0 0 1 0 41.3 53.588 53.588 0 0 1-11.8 17.45c-5.05 4.98-11.04 8.9-17.62 11.54s-13.62 3.95-20.71 3.84l-67.92.16-35.87 49.11-135.24 46.84 40.81-47.24a139.229 139.229 0 0 1-66.06-23.8H45.11L0 101.46h55.73C60.38 44.84 115.97 0 183.59 0c31.71 0 63.58 9.86 87.47 27.04a105.149 105.149 0 0 1 26.65 27.18 59.4 59.4 0 0 1 21.07-32.28zM99.85 46.03l55.4 55.45h21.31l-64.81-64.87c-4.18 2.86-8.15 6.01-11.9 9.42zm57.78-28.45 83.9 83.9h21.29l-86.21-86.22c-6.37.32-12.71 1.1-18.98 2.32zm-92.84 98.94H39.72l11.1 9.82h22.44c-3-3.12-5.83-6.4-8.47-9.82zm134.27 0H84.8l-.03.01c20.8 20.91 51.79 33.67 84.66 34.3l29.63-34.31zm-34.81 63.35 77.79-26.94 26.6-36.39h-49.68l-54.71 63.33zm146.77-78.65h46.2l.05.01c9.98-.55 19.36-4.97 26.14-12.32a38.409 38.409 0 0 0 10.16-27.05 38.44 38.44 0 0 0-11.56-26.48 38.405 38.405 0 0 0-26.74-10.94A44.287 44.287 0 0 0 324 37.41a44.268 44.268 0 0 0-12.97 31.28v32.53zm51.82-52.83c5.27.52 9.12 5.22 8.6 10.49-.52 5.27-5.22 9.12-10.49 8.6s-9.12-5.22-8.6-10.49c.53-5.27 5.22-9.12 10.49-8.6z&quot;\n                style=&quot;fill-rule:evenodd;clip-rule:evenodd&quot; /&gt;\n        &lt;/svg&gt;\n        &lt;div class=&quot;ml-4 py-2&quot;&gt;\n            &lt;span class=&quot;uppercase text-sm&quot;&gt;7 issues detected&lt;/span&gt;\n        &lt;/div&gt;\n    &lt;/div&gt;\n\n    \n    &lt;div data-tab-target=&quot;Model_bias&quot; class=&quot;h-12 cursor-pointer group active&quot;&gt;\n        &lt;div\n            class=&quot;group-[.active]:bg-zinc-800 group-[.active]:border-b-zinc-800 group-[.active]:border-gray-500 border-l px-3 py-2 border-r border-t border-b border-gray-600 border-b-gray-500 h-11&quot;&gt;\n            Model bias\n            \n            \n            &lt;span class=&quot;ml-1 rounded-full text-xs min-w-4 min-h-4 px-1 py-0.5 inline-block text-center bg-red-400&quot;&gt;\n                \n                    5\n                &lt;/span&gt;\n                \n        &lt;/div&gt;\n    &lt;/div&gt;\n    \n    &lt;div data-tab-target=&quot;Robustness&quot; class=&quot;h-12 cursor-pointer group&quot;&gt;\n        &lt;div\n            class=&quot;group-[.active]:bg-zinc-800 group-[.active]:border-b-zinc-800 group-[.active]:border-gray-500 border-l px-3 py-2 border-r border-t border-b border-gray-600 border-b-gray-500 h-11&quot;&gt;\n            Robustness\n            \n            \n            &lt;span class=&quot;ml-1 rounded-full text-xs min-w-4 min-h-4 px-1 py-0.5 inline-block text-center bg-red-400&quot;&gt;\n                \n                    2\n                &lt;/span&gt;\n                \n        &lt;/div&gt;\n    &lt;/div&gt;\n    \n\n    &lt;div class=&quot;flex-grow border-b border-gray-500 h-11&quot;&gt;&lt;/div&gt;\n&lt;/div&gt;\n&lt;!-- TAB HEADER END --&gt;\n        \n&lt;div id=&quot;Model_bias&quot; role=&quot;tabpanel&quot;\n    class=&quot;dark:text-white dark:bg-zinc-800 p-4 pt-4 mb-4&quot;&gt;\n    \n    &lt;div class=&quot;p-3 mt-2 bg-amber-100/40 rounded-sm w-full flex align-middle&quot;&gt;\n        &lt;div class=&quot;text-amber-100&quot;&gt;\n            &lt;svg xmlns=&quot;http://www.w3.org/2000/svg&quot; fill=&quot;none&quot; viewBox=&quot;0 0 24 24&quot; stroke-width=&quot;1.5&quot;\n                stroke=&quot;currentColor&quot; class=&quot;mt-0.5 w-6 h-6&quot;&gt;\n                &lt;path stroke-linecap=&quot;round&quot; stroke-linejoin=&quot;round&quot;\n                    d=&quot;M12 9v3.75m-9.303 3.376c-.866 1.5.217 3.374 1.948 3.374h14.71c1.73 0 2.813-1.874 1.948-3.374L13.949 3.378c-.866-1.5-3.032-1.5-3.898 0L2.697 16.126zM12 15.75h.007v.008H12v-.008z&quot; /&gt;\n            &lt;/svg&gt;\n        &lt;/div&gt;\n        &lt;p class=&quot;ml-2 my-1 text-amber-100 text-sm&quot;&gt;\n            We detected some spots in your data where the model has a tendency to make incorrect\n            predictions.\n        &lt;/p&gt;\n    &lt;/div&gt;\n    \n\n    \n    &lt;div class=&quot;flex items-center space-x-1&quot;&gt;\n        &lt;h2 class=&quot;uppercase my-4 mr-2 font-medium&quot;&gt;Issues&lt;/h2&gt;\n        \n        &lt;span class=&quot;text-xs border rounded px-1 uppercase text-red-400 border-red-400&quot;&gt;4\n            major&lt;/span&gt;\n        \n        \n        &lt;span class=&quot;text-xs border rounded px-1 uppercase text-amber-200 border-amber-200&quot;&gt;1\n            medium&lt;/span&gt;\n        \n    &lt;/div&gt;\n\n    &lt;!-- ISSUES TABLE --&gt;\n&lt;div class=&quot;mb-4&quot;&gt;\n    &lt;table class=&quot;table-auto w-full text-white&quot;&gt;\n        \n        &lt;tbody class=&quot;first:border-t border-b border-zinc-400&quot;&gt;\n            &lt;tr class=&quot;gsk-issue text-sm group peer text-left cursor-pointer hover:bg-zinc-700&quot;&gt;\n                &lt;td class=&quot;p-3&quot;&gt;\n                    &lt;svg xmlns=&quot;http://www.w3.org/2000/svg&quot; fill=&quot;none&quot; viewBox=&quot;0 0 24 24&quot; stroke-width=&quot;1.5&quot;\n                        stroke=&quot;currentColor&quot; class=&quot;w-4 h-4 group-[.open]:rotate-90&quot;&gt;\n                        &lt;path stroke-linecap=&quot;round&quot; stroke-linejoin=&quot;round&quot; d=&quot;M8.25 4.5l7.5 7.5-7.5 7.5&quot; /&gt;\n                    &lt;/svg&gt;\n                &lt;/td&gt;\n                &lt;td class=&quot;p-3&quot;&gt;\n                    &lt;code class=&quot;mono text-blue-300&quot;&gt;\n                    headline contains &amp;#39;new&amp;#39;\n                &lt;/code&gt;\n                &lt;/td&gt;\n                &lt;td class=&quot;p-3&quot;&gt;\n                    Precision = 0.33\n                &lt;/td&gt;\n                &lt;td class=&quot;p-3&quot;&gt;\n                    &lt;span class=&quot;text-red-400&quot;&gt;\n                        -49.85% than global\n                    &lt;/span&gt;\n                &lt;/td&gt;\n                &lt;td class=&quot;p-3&quot;&gt;\n                    &lt;span class=&quot;text-gray-400&quot;&gt;\n                        36 samples (7.20%)\n                    &lt;/span&gt;\n                &lt;/td&gt;\n                &lt;td class=&quot;p-3 text-xs text-right space-x-1&quot;&gt;\n                    &lt;a href=&quot;&quot;\n                        class=&quot;gsk-debug inline-block border border-emerald-100/50 text-emerald-100/90 hover:bg-emerald-500 hover:border-emerald-500 hover:text-white px-2 py-0.5 rounded-sm&quot;&gt;Debug&lt;/a&gt;\n                &lt;/td&gt;\n            &lt;/tr&gt;\n            &lt;tr class=&quot;gsk-issue-detail text-left collapse peer-[.open]:visible border-b border-zinc-400 bg-zinc-700&quot;&gt;\n                &lt;td colspan=&quot;6&quot; class=&quot;p-3&quot;&gt;\n                    &lt;h4 class=&quot;uppercase&quot;&gt;Examples&lt;/h4&gt;\n                    &lt;div class=&quot;text-white max-w-xl text-sm overflow-scroll&quot; style=&quot;max-width: 920px&quot;&gt;\n                        &lt;table border=&quot;1&quot; class=&quot;dataframe&quot;&gt;\n  &lt;thead&gt;\n    &lt;tr style=&quot;text-align: right;&quot;&gt;\n      &lt;th&gt;&lt;/th&gt;\n      &lt;th&gt;headline&lt;/th&gt;\n      &lt;th&gt;is_sarcastic&lt;/th&gt;\n      &lt;th&gt;predicted_label&lt;/th&gt;\n    &lt;/tr&gt;\n  &lt;/thead&gt;\n  &lt;tbody&gt;\n    &lt;tr&gt;\n      &lt;th&gt;1621&lt;/th&gt;\n      &lt;td&gt;new hampshire looking increasingly out of reach for donald trump&lt;/td&gt;\n      &lt;td&gt;0&lt;/td&gt;\n      &lt;td&gt;1&lt;/td&gt;\n    &lt;/tr&gt;\n    &lt;tr&gt;\n      &lt;th&gt;1654&lt;/th&gt;\n      &lt;td&gt;home depot releases new bluetooth cordless hose&lt;/td&gt;\n      &lt;td&gt;1&lt;/td&gt;\n      &lt;td&gt;0&lt;/td&gt;\n    &lt;/tr&gt;\n    &lt;tr&gt;\n      &lt;th&gt;793&lt;/th&gt;\n      &lt;td&gt;new report finds fastest-rising cause of death in u.s. is losing chess match to grim reaper&lt;/td&gt;\n      &lt;td&gt;1&lt;/td&gt;\n      &lt;td&gt;0&lt;/td&gt;\n    &lt;/tr&gt;\n  &lt;/tbody&gt;\n&lt;/table&gt;\n                    &lt;/div&gt;\n                &lt;/td&gt;\n            &lt;/tr&gt;\n        &lt;/tbody&gt;\n        \n        &lt;tbody class=&quot;first:border-t border-b border-zinc-400&quot;&gt;\n            &lt;tr class=&quot;gsk-issue text-sm group peer text-left cursor-pointer hover:bg-zinc-700&quot;&gt;\n                &lt;td class=&quot;p-3&quot;&gt;\n                    &lt;svg xmlns=&quot;http://www.w3.org/2000/svg&quot; fill=&quot;none&quot; viewBox=&quot;0 0 24 24&quot; stroke-width=&quot;1.5&quot;\n                        stroke=&quot;currentColor&quot; class=&quot;w-4 h-4 group-[.open]:rotate-90&quot;&gt;\n                        &lt;path stroke-linecap=&quot;round&quot; stroke-linejoin=&quot;round&quot; d=&quot;M8.25 4.5l7.5 7.5-7.5 7.5&quot; /&gt;\n                    &lt;/svg&gt;\n                &lt;/td&gt;\n                &lt;td class=&quot;p-3&quot;&gt;\n                    &lt;code class=&quot;mono text-blue-300&quot;&gt;\n                    headline contains &amp;#39;man&amp;#39;\n                &lt;/code&gt;\n                &lt;/td&gt;\n                &lt;td class=&quot;p-3&quot;&gt;\n                    Precision = 0.41\n                &lt;/td&gt;\n                &lt;td class=&quot;p-3&quot;&gt;\n                    &lt;span class=&quot;text-red-400&quot;&gt;\n                        -38.70% than global\n                    &lt;/span&gt;\n                &lt;/td&gt;\n                &lt;td class=&quot;p-3&quot;&gt;\n                    &lt;span class=&quot;text-gray-400&quot;&gt;\n                        59 samples (11.80%)\n                    &lt;/span&gt;\n                &lt;/td&gt;\n                &lt;td class=&quot;p-3 text-xs text-right space-x-1&quot;&gt;\n                    &lt;a href=&quot;&quot;\n                        class=&quot;gsk-debug inline-block border border-emerald-100/50 text-emerald-100/90 hover:bg-emerald-500 hover:border-emerald-500 hover:text-white px-2 py-0.5 rounded-sm&quot;&gt;Debug&lt;/a&gt;\n                &lt;/td&gt;\n            &lt;/tr&gt;\n            &lt;tr class=&quot;gsk-issue-detail text-left collapse peer-[.open]:visible border-b border-zinc-400 bg-zinc-700&quot;&gt;\n                &lt;td colspan=&quot;6&quot; class=&quot;p-3&quot;&gt;\n                    &lt;h4 class=&quot;uppercase&quot;&gt;Examples&lt;/h4&gt;\n                    &lt;div class=&quot;text-white max-w-xl text-sm overflow-scroll&quot; style=&quot;max-width: 920px&quot;&gt;\n                        &lt;table border=&quot;1&quot; class=&quot;dataframe&quot;&gt;\n  &lt;thead&gt;\n    &lt;tr style=&quot;text-align: right;&quot;&gt;\n      &lt;th&gt;&lt;/th&gt;\n      &lt;th&gt;headline&lt;/th&gt;\n      &lt;th&gt;is_sarcastic&lt;/th&gt;\n      &lt;th&gt;predicted_label&lt;/th&gt;\n    &lt;/tr&gt;\n  &lt;/thead&gt;\n  &lt;tbody&gt;\n    &lt;tr&gt;\n      &lt;th&gt;565&lt;/th&gt;\n      &lt;td&gt;vicious, man-eating carnivores on decline in arctic&lt;/td&gt;\n      &lt;td&gt;1&lt;/td&gt;\n      &lt;td&gt;0&lt;/td&gt;\n    &lt;/tr&gt;\n    &lt;tr&gt;\n      &lt;th&gt;769&lt;/th&gt;\n      &lt;td&gt;report: many jobs lack benefits to cut&lt;/td&gt;\n      &lt;td&gt;1&lt;/td&gt;\n      &lt;td&gt;0&lt;/td&gt;\n    &lt;/tr&gt;\n    &lt;tr&gt;\n      &lt;th&gt;298&lt;/th&gt;\n      &lt;td&gt;vladimir putin, florida man, arrested for trespassing at supermarket&lt;/td&gt;\n      &lt;td&gt;0&lt;/td&gt;\n      &lt;td&gt;1&lt;/td&gt;\n    &lt;/tr&gt;\n  &lt;/tbody&gt;\n&lt;/table&gt;\n                    &lt;/div&gt;\n                &lt;/td&gt;\n            &lt;/tr&gt;\n        &lt;/tbody&gt;\n        \n        &lt;tbody class=&quot;first:border-t border-b border-zinc-400&quot;&gt;\n            &lt;tr class=&quot;gsk-issue text-sm group peer text-left cursor-pointer hover:bg-zinc-700&quot;&gt;\n                &lt;td class=&quot;p-3&quot;&gt;\n                    &lt;svg xmlns=&quot;http://www.w3.org/2000/svg&quot; fill=&quot;none&quot; viewBox=&quot;0 0 24 24&quot; stroke-width=&quot;1.5&quot;\n                        stroke=&quot;currentColor&quot; class=&quot;w-4 h-4 group-[.open]:rotate-90&quot;&gt;\n                        &lt;path stroke-linecap=&quot;round&quot; stroke-linejoin=&quot;round&quot; d=&quot;M8.25 4.5l7.5 7.5-7.5 7.5&quot; /&gt;\n                    &lt;/svg&gt;\n                &lt;/td&gt;\n                &lt;td class=&quot;p-3&quot;&gt;\n                    &lt;code class=&quot;mono text-blue-300&quot;&gt;\n                    headline contains &amp;#39;ain&amp;#39;\n                &lt;/code&gt;\n                &lt;/td&gt;\n                &lt;td class=&quot;p-3&quot;&gt;\n                    Accuracy = 0.52\n                &lt;/td&gt;\n                &lt;td class=&quot;p-3&quot;&gt;\n                    &lt;span class=&quot;text-red-400&quot;&gt;\n                        -25.71% than global\n                    &lt;/span&gt;\n                &lt;/td&gt;\n                &lt;td class=&quot;p-3&quot;&gt;\n                    &lt;span class=&quot;text-gray-400&quot;&gt;\n                        27 samples (5.40%)\n                    &lt;/span&gt;\n                &lt;/td&gt;\n                &lt;td class=&quot;p-3 text-xs text-right space-x-1&quot;&gt;\n                    &lt;a href=&quot;&quot;\n                        class=&quot;gsk-debug inline-block border border-emerald-100/50 text-emerald-100/90 hover:bg-emerald-500 hover:border-emerald-500 hover:text-white px-2 py-0.5 rounded-sm&quot;&gt;Debug&lt;/a&gt;\n                &lt;/td&gt;\n            &lt;/tr&gt;\n            &lt;tr class=&quot;gsk-issue-detail text-left collapse peer-[.open]:visible border-b border-zinc-400 bg-zinc-700&quot;&gt;\n                &lt;td colspan=&quot;6&quot; class=&quot;p-3&quot;&gt;\n                    &lt;h4 class=&quot;uppercase&quot;&gt;Examples&lt;/h4&gt;\n                    &lt;div class=&quot;text-white max-w-xl text-sm overflow-scroll&quot; style=&quot;max-width: 920px&quot;&gt;\n                        &lt;table border=&quot;1&quot; class=&quot;dataframe&quot;&gt;\n  &lt;thead&gt;\n    &lt;tr style=&quot;text-align: right;&quot;&gt;\n      &lt;th&gt;&lt;/th&gt;\n      &lt;th&gt;headline&lt;/th&gt;\n      &lt;th&gt;is_sarcastic&lt;/th&gt;\n      &lt;th&gt;predicted_label&lt;/th&gt;\n    &lt;/tr&gt;\n  &lt;/thead&gt;\n  &lt;tbody&gt;\n    &lt;tr&gt;\n      &lt;th&gt;385&lt;/th&gt;\n      &lt;td&gt;clinton assures tim kaine she&#x27;ll continue serving as president in event of her death&lt;/td&gt;\n      &lt;td&gt;1&lt;/td&gt;\n      &lt;td&gt;0&lt;/td&gt;\n    &lt;/tr&gt;\n    &lt;tr&gt;\n      &lt;th&gt;1528&lt;/th&gt;\n      &lt;td&gt;dick cheney would torture again&lt;/td&gt;\n      &lt;td&gt;0&lt;/td&gt;\n      &lt;td&gt;1&lt;/td&gt;\n    &lt;/tr&gt;\n    &lt;tr&gt;\n      &lt;th&gt;716&lt;/th&gt;\n      &lt;td&gt;putin condemns ukrainian people&#x27;s unprovoked 1,000-year occupation of south russia&lt;/td&gt;\n      &lt;td&gt;1&lt;/td&gt;\n      &lt;td&gt;0&lt;/td&gt;\n    &lt;/tr&gt;\n  &lt;/tbody&gt;\n&lt;/table&gt;\n                    &lt;/div&gt;\n                &lt;/td&gt;\n            &lt;/tr&gt;\n        &lt;/tbody&gt;\n        \n        &lt;tbody class=&quot;first:border-t border-b border-zinc-400&quot;&gt;\n            &lt;tr class=&quot;gsk-issue text-sm group peer text-left cursor-pointer hover:bg-zinc-700&quot;&gt;\n                &lt;td class=&quot;p-3&quot;&gt;\n                    &lt;svg xmlns=&quot;http://www.w3.org/2000/svg&quot; fill=&quot;none&quot; viewBox=&quot;0 0 24 24&quot; stroke-width=&quot;1.5&quot;\n                        stroke=&quot;currentColor&quot; class=&quot;w-4 h-4 group-[.open]:rotate-90&quot;&gt;\n                        &lt;path stroke-linecap=&quot;round&quot; stroke-linejoin=&quot;round&quot; d=&quot;M8.25 4.5l7.5 7.5-7.5 7.5&quot; /&gt;\n                    &lt;/svg&gt;\n                &lt;/td&gt;\n                &lt;td class=&quot;p-3&quot;&gt;\n                    &lt;code class=&quot;mono text-blue-300&quot;&gt;\n                    headline contains &amp;#39;em&amp;#39;\n                &lt;/code&gt;\n                &lt;/td&gt;\n                &lt;td class=&quot;p-3&quot;&gt;\n                    Accuracy = 0.63\n                &lt;/td&gt;\n                &lt;td class=&quot;p-3&quot;&gt;\n                    &lt;span class=&quot;text-red-400&quot;&gt;\n                        -10.15% than global\n                    &lt;/span&gt;\n                &lt;/td&gt;\n                &lt;td class=&quot;p-3&quot;&gt;\n                    &lt;span class=&quot;text-gray-400&quot;&gt;\n                        59 samples (11.80%)\n                    &lt;/span&gt;\n                &lt;/td&gt;\n                &lt;td class=&quot;p-3 text-xs text-right space-x-1&quot;&gt;\n                    &lt;a href=&quot;&quot;\n                        class=&quot;gsk-debug inline-block border border-emerald-100/50 text-emerald-100/90 hover:bg-emerald-500 hover:border-emerald-500 hover:text-white px-2 py-0.5 rounded-sm&quot;&gt;Debug&lt;/a&gt;\n                &lt;/td&gt;\n            &lt;/tr&gt;\n            &lt;tr class=&quot;gsk-issue-detail text-left collapse peer-[.open]:visible border-b border-zinc-400 bg-zinc-700&quot;&gt;\n                &lt;td colspan=&quot;6&quot; class=&quot;p-3&quot;&gt;\n                    &lt;h4 class=&quot;uppercase&quot;&gt;Examples&lt;/h4&gt;\n                    &lt;div class=&quot;text-white max-w-xl text-sm overflow-scroll&quot; style=&quot;max-width: 920px&quot;&gt;\n                        &lt;table border=&quot;1&quot; class=&quot;dataframe&quot;&gt;\n  &lt;thead&gt;\n    &lt;tr style=&quot;text-align: right;&quot;&gt;\n      &lt;th&gt;&lt;/th&gt;\n      &lt;th&gt;headline&lt;/th&gt;\n      &lt;th&gt;is_sarcastic&lt;/th&gt;\n      &lt;th&gt;predicted_label&lt;/th&gt;\n    &lt;/tr&gt;\n  &lt;/thead&gt;\n  &lt;tbody&gt;\n    &lt;tr&gt;\n      &lt;th&gt;1743&lt;/th&gt;\n      &lt;td&gt;&#x27;syrians&#x27; lives are worthless,&#x27; obama tells daughters before kissing them goodnight&lt;/td&gt;\n      &lt;td&gt;1&lt;/td&gt;\n      &lt;td&gt;0&lt;/td&gt;\n    &lt;/tr&gt;\n    &lt;tr&gt;\n      &lt;th&gt;1235&lt;/th&gt;\n      &lt;td&gt;woman probably just made up rape story in order to get threatening emails&lt;/td&gt;\n      &lt;td&gt;1&lt;/td&gt;\n      &lt;td&gt;0&lt;/td&gt;\n    &lt;/tr&gt;\n    &lt;tr&gt;\n      &lt;th&gt;1905&lt;/th&gt;\n      &lt;td&gt;obama urges young voters to ignore how many lousy candidates democratic party runs&lt;/td&gt;\n      &lt;td&gt;1&lt;/td&gt;\n      &lt;td&gt;0&lt;/td&gt;\n    &lt;/tr&gt;\n  &lt;/tbody&gt;\n&lt;/table&gt;\n                    &lt;/div&gt;\n                &lt;/td&gt;\n            &lt;/tr&gt;\n        &lt;/tbody&gt;\n        \n        &lt;tbody class=&quot;first:border-t border-b border-zinc-400&quot;&gt;\n            &lt;tr class=&quot;gsk-issue text-sm group peer text-left cursor-pointer hover:bg-zinc-700&quot;&gt;\n                &lt;td class=&quot;p-3&quot;&gt;\n                    &lt;svg xmlns=&quot;http://www.w3.org/2000/svg&quot; fill=&quot;none&quot; viewBox=&quot;0 0 24 24&quot; stroke-width=&quot;1.5&quot;\n                        stroke=&quot;currentColor&quot; class=&quot;w-4 h-4 group-[.open]:rotate-90&quot;&gt;\n                        &lt;path stroke-linecap=&quot;round&quot; stroke-linejoin=&quot;round&quot; d=&quot;M8.25 4.5l7.5 7.5-7.5 7.5&quot; /&gt;\n                    &lt;/svg&gt;\n                &lt;/td&gt;\n                &lt;td class=&quot;p-3&quot;&gt;\n                    &lt;code class=&quot;mono text-blue-300&quot;&gt;\n                    headline contains &amp;#39;art&amp;#39;\n                &lt;/code&gt;\n                &lt;/td&gt;\n                &lt;td class=&quot;p-3&quot;&gt;\n                    Precision = 0.60\n                &lt;/td&gt;\n                &lt;td class=&quot;p-3&quot;&gt;\n                    &lt;span class=&quot;text-amber-200&quot;&gt;\n                        -9.73% than global\n                    &lt;/span&gt;\n                &lt;/td&gt;\n                &lt;td class=&quot;p-3&quot;&gt;\n                    &lt;span class=&quot;text-gray-400&quot;&gt;\n                        28 samples (5.60%)\n                    &lt;/span&gt;\n                &lt;/td&gt;\n                &lt;td class=&quot;p-3 text-xs text-right space-x-1&quot;&gt;\n                    &lt;a href=&quot;&quot;\n                        class=&quot;gsk-debug inline-block border border-emerald-100/50 text-emerald-100/90 hover:bg-emerald-500 hover:border-emerald-500 hover:text-white px-2 py-0.5 rounded-sm&quot;&gt;Debug&lt;/a&gt;\n                &lt;/td&gt;\n            &lt;/tr&gt;\n            &lt;tr class=&quot;gsk-issue-detail text-left collapse peer-[.open]:visible border-b border-zinc-400 bg-zinc-700&quot;&gt;\n                &lt;td colspan=&quot;6&quot; class=&quot;p-3&quot;&gt;\n                    &lt;h4 class=&quot;uppercase&quot;&gt;Examples&lt;/h4&gt;\n                    &lt;div class=&quot;text-white max-w-xl text-sm overflow-scroll&quot; style=&quot;max-width: 920px&quot;&gt;\n                        &lt;table border=&quot;1&quot; class=&quot;dataframe&quot;&gt;\n  &lt;thead&gt;\n    &lt;tr style=&quot;text-align: right;&quot;&gt;\n      &lt;th&gt;&lt;/th&gt;\n      &lt;th&gt;headline&lt;/th&gt;\n      &lt;th&gt;is_sarcastic&lt;/th&gt;\n      &lt;th&gt;predicted_label&lt;/th&gt;\n    &lt;/tr&gt;\n  &lt;/thead&gt;\n  &lt;tbody&gt;\n    &lt;tr&gt;\n      &lt;th&gt;1274&lt;/th&gt;\n      &lt;td&gt;magical gallery transforms dull objects into art&lt;/td&gt;\n      &lt;td&gt;1&lt;/td&gt;\n      &lt;td&gt;0&lt;/td&gt;\n    &lt;/tr&gt;\n    &lt;tr&gt;\n      &lt;th&gt;1484&lt;/th&gt;\n      &lt;td&gt;relationship experts say mailing body part to ex on valentine&#x27;s day only way to win them back&lt;/td&gt;\n      &lt;td&gt;1&lt;/td&gt;\n      &lt;td&gt;0&lt;/td&gt;\n    &lt;/tr&gt;\n    &lt;tr&gt;\n      &lt;th&gt;452&lt;/th&gt;\n      &lt;td&gt;wedding album off to bizarre start with photo of 2 acorns floating in glass of water&lt;/td&gt;\n      &lt;td&gt;1&lt;/td&gt;\n      &lt;td&gt;0&lt;/td&gt;\n    &lt;/tr&gt;\n  &lt;/tbody&gt;\n&lt;/table&gt;\n                    &lt;/div&gt;\n                &lt;/td&gt;\n            &lt;/tr&gt;\n        &lt;/tbody&gt;\n        \n    &lt;/table&gt;\n&lt;/div&gt;\n&lt;!-- ISSUES TABLE END --&gt;\n\n\n    \n    &lt;h2 class=&quot;uppercase mb-2 mt-8 mr-2 font-mediums flex&quot;&gt;\n        &lt;svg xmlns=&quot;http://www.w3.org/2000/svg&quot; fill=&quot;none&quot; viewBox=&quot;0 0 24 24&quot; stroke-width=&quot;1.5&quot; stroke=&quot;currentColor&quot;\n            class=&quot;w-5 h-5 mr-1&quot;&gt;\n            &lt;path stroke-linecap=&quot;round&quot; stroke-linejoin=&quot;round&quot;\n                d=&quot;M9.879 7.519c1.171-1.025 3.071-1.025 4.242 0 1.172 1.025 1.172 2.687 0 3.712-.203.179-.43.326-.67.442-.745.361-1.45.999-1.45 1.827v.75M21 12a9 9 0 11-18 0 9 9 0 0118 0zm-9 5.25h.008v.008H12v-.008z&quot; /&gt;\n        &lt;/svg&gt;\n        Why does this happen?\n    &lt;/h2&gt;\n    &lt;p class=&quot;my-1&quot;&gt;\n        Performance bias can happen for a different reasons:\n    &lt;/p&gt;\n    &lt;ul class=&quot;list-disc ml-6&quot;&gt;\n        &lt;li&gt;Not enough training samples in the low-performing data slices&lt;/li&gt;\n        &lt;li&gt;Wrong labels in the training set in the low-performing data slices&lt;/li&gt;\n        &lt;li&gt;Drift between your training set and the test set&lt;/li&gt;\n    &lt;/ul&gt;\n\n    &lt;h2 class=&quot;uppercase mb-2 mt-8 mr-2 font-mediums flex&quot;&gt;\n        &lt;svg xmlns=&quot;http://www.w3.org/2000/svg&quot; fill=&quot;none&quot; viewBox=&quot;0 0 24 24&quot; stroke-width=&quot;1.5&quot; stroke=&quot;currentColor&quot;\n            class=&quot;w-5 h-5 mr-1&quot;&gt;\n            &lt;path stroke-linecap=&quot;round&quot; stroke-linejoin=&quot;round&quot;\n                d=&quot;M11.42 15.17L17.25 21A2.652 2.652 0 0021 17.25l-5.877-5.877M11.42 15.17l2.496-3.03c.317-.384.74-.626 1.208-.766M11.42 15.17l-4.655 5.653a2.548 2.548 0 11-3.586-3.586l6.837-5.63m5.108-.233c.55-.164 1.163-.188 1.743-.14a4.5 4.5 0 004.486-6.336l-3.276 3.277a3.004 3.004 0 01-2.25-2.25l3.276-3.276a4.5 4.5 0 00-6.336 4.486c.091 1.076-.071 2.264-.904 2.95l-.102.085m-1.745 1.437L5.909 7.5H4.5L2.25 3.75l1.5-1.5L7.5 4.5v1.409l4.26 4.26m-1.745 1.437l1.745-1.437m6.615 8.206L15.75 15.75M4.867 19.125h.008v.008h-.008v-.008z&quot; /&gt;\n        &lt;/svg&gt;\n        How to correct this?\n    &lt;/h2&gt;\n    &lt;p class=&quot;my-1 max-w-xl&quot;&gt;\n        We strongly recommend that you inspect the incorrect samples in the detected low-performing data\n        slices. This will allow you to find the right feature engineering or data augmentation strategies to\n        avoid such biases.\n    &lt;/p&gt;\n    \n\n    \n\n\n    &lt;div class=&quot;my-5 space-x-2&quot;&gt;\n        &lt;a href=&quot;#&quot; class=&quot;bg-orange-700 hover:bg-orange-600 inline-block py-2 px-3 rounded-sm&quot;&gt;Customize\n            Test\n            Suite&lt;/a&gt;\n        &lt;a href=&quot;#&quot; class=&quot;bg-zinc-500 hover:bg-emerald-500 inline-block py-2 px-3 rounded-sm&quot;&gt;Debug Test\n            Suite&lt;/a&gt;\n    &lt;/div&gt;\n\n    \n\n&lt;/div&gt;\n\n&lt;div id=&quot;Robustness&quot; role=&quot;tabpanel&quot;\n    class=&quot;dark:text-white dark:bg-zinc-800 p-4 pt-4 mb-4 hidden&quot;&gt;\n    \n    &lt;div class=&quot;p-3 mt-2 bg-amber-100/40 rounded-sm w-full flex align-middle&quot;&gt;\n        &lt;div class=&quot;text-amber-100&quot;&gt;\n            &lt;svg xmlns=&quot;http://www.w3.org/2000/svg&quot; fill=&quot;none&quot; viewBox=&quot;0 0 24 24&quot; stroke-width=&quot;1.5&quot;\n                stroke=&quot;currentColor&quot; class=&quot;mt-0.5 w-6 h-6&quot;&gt;\n                &lt;path stroke-linecap=&quot;round&quot; stroke-linejoin=&quot;round&quot;\n                    d=&quot;M12 9v3.75m-9.303 3.376c-.866 1.5.217 3.374 1.948 3.374h14.71c1.73 0 2.813-1.874 1.948-3.374L13.949 3.378c-.866-1.5-3.032-1.5-3.898 0L2.697 16.126zM12 15.75h.007v.008H12v-.008z&quot; /&gt;\n            &lt;/svg&gt;\n        &lt;/div&gt;\n        &lt;p class=&quot;ml-2 my-1 text-amber-100 text-sm&quot;&gt;\n            We detected some spots in your data where the model has a tendency to make incorrect\n            predictions.\n        &lt;/p&gt;\n    &lt;/div&gt;\n    \n\n    \n    &lt;div class=&quot;flex items-center space-x-1&quot;&gt;\n        &lt;h2 class=&quot;uppercase my-4 mr-2 font-medium&quot;&gt;Issues&lt;/h2&gt;\n        \n        &lt;span class=&quot;text-xs border rounded px-1 uppercase text-red-400 border-red-400&quot;&gt;1\n            major&lt;/span&gt;\n        \n        \n        &lt;span class=&quot;text-xs border rounded px-1 uppercase text-amber-200 border-amber-200&quot;&gt;1\n            medium&lt;/span&gt;\n        \n    &lt;/div&gt;\n\n    &lt;!-- ISSUES TABLE --&gt;\n&lt;div class=&quot;mb-4&quot;&gt;\n    &lt;table class=&quot;table-auto w-full text-white&quot;&gt;\n        \n        &lt;tbody class=&quot;first:border-t border-b border-zinc-400&quot;&gt;\n            &lt;tr class=&quot;gsk-issue text-sm group peer text-left cursor-pointer hover:bg-zinc-700&quot;&gt;\n                &lt;td class=&quot;p-3&quot;&gt;\n                    &lt;svg xmlns=&quot;http://www.w3.org/2000/svg&quot; fill=&quot;none&quot; viewBox=&quot;0 0 24 24&quot; stroke-width=&quot;1.5&quot;\n                        stroke=&quot;currentColor&quot; class=&quot;w-4 h-4 group-[.open]:rotate-90&quot;&gt;\n                        &lt;path stroke-linecap=&quot;round&quot; stroke-linejoin=&quot;round&quot; d=&quot;M8.25 4.5l7.5 7.5-7.5 7.5&quot; /&gt;\n                    &lt;/svg&gt;\n                &lt;/td&gt;\n                &lt;td class=&quot;p-3&quot;&gt;\n                    &lt;code class=&quot;mono text-blue-300&quot;&gt;\n                    Feature `headline`\n                &lt;/code&gt;\n                &lt;/td&gt;\n                &lt;td class=&quot;p-3&quot;&gt;\n                    Add typos\n                &lt;/td&gt;\n                &lt;td class=&quot;p-3&quot;&gt;\n                    &lt;span class=&quot;text-red-400&quot;&gt;\n                        10.62% of samples changed prediction after perturbation\n                    &lt;/span&gt;\n                &lt;/td&gt;\n                &lt;td class=&quot;p-3&quot;&gt;\n                    &lt;span class=&quot;text-gray-400&quot;&gt;\n                        \n                    &lt;/span&gt;\n                &lt;/td&gt;\n                &lt;td class=&quot;p-3 text-xs text-right space-x-1&quot;&gt;\n                    &lt;a href=&quot;&quot;\n                        class=&quot;gsk-debug inline-block border border-emerald-100/50 text-emerald-100/90 hover:bg-emerald-500 hover:border-emerald-500 hover:text-white px-2 py-0.5 rounded-sm&quot;&gt;Debug&lt;/a&gt;\n                &lt;/td&gt;\n            &lt;/tr&gt;\n            &lt;tr class=&quot;gsk-issue-detail text-left collapse peer-[.open]:visible border-b border-zinc-400 bg-zinc-700&quot;&gt;\n                &lt;td colspan=&quot;6&quot; class=&quot;p-3&quot;&gt;\n                    &lt;h4 class=&quot;uppercase&quot;&gt;Examples&lt;/h4&gt;\n                    &lt;div class=&quot;text-white max-w-xl text-sm overflow-scroll&quot; style=&quot;max-width: 920px&quot;&gt;\n                        &lt;table border=&quot;1&quot; class=&quot;dataframe&quot;&gt;\n  &lt;thead&gt;\n    &lt;tr style=&quot;text-align: right;&quot;&gt;\n      &lt;th&gt;&lt;/th&gt;\n      &lt;th&gt;headline&lt;/th&gt;\n      &lt;th&gt;is_sarcastic&lt;/th&gt;\n    &lt;/tr&gt;\n  &lt;/thead&gt;\n  &lt;tbody&gt;\n    &lt;tr&gt;\n      &lt;th&gt;220&lt;/th&gt;\n      &lt;td&gt;michele bachmann thankful no americans died in sikh shooting&lt;/td&gt;\n      &lt;td&gt;1&lt;/td&gt;\n    &lt;/tr&gt;\n    &lt;tr&gt;\n      &lt;th&gt;1327&lt;/th&gt;\n      &lt;td&gt;man nostalgic for simpler era of 20 hours ago&lt;/td&gt;\n      &lt;td&gt;1&lt;/td&gt;\n    &lt;/tr&gt;\n    &lt;tr&gt;\n      &lt;th&gt;618&lt;/th&gt;\n      &lt;td&gt;rolos unveils new cryptocurrency exclusively for rolos customers&lt;/td&gt;\n      &lt;td&gt;1&lt;/td&gt;\n    &lt;/tr&gt;\n  &lt;/tbody&gt;\n&lt;/table&gt;\n                    &lt;/div&gt;\n                &lt;/td&gt;\n            &lt;/tr&gt;\n        &lt;/tbody&gt;\n        \n        &lt;tbody class=&quot;first:border-t border-b border-zinc-400&quot;&gt;\n            &lt;tr class=&quot;gsk-issue text-sm group peer text-left cursor-pointer hover:bg-zinc-700&quot;&gt;\n                &lt;td class=&quot;p-3&quot;&gt;\n                    &lt;svg xmlns=&quot;http://www.w3.org/2000/svg&quot; fill=&quot;none&quot; viewBox=&quot;0 0 24 24&quot; stroke-width=&quot;1.5&quot;\n                        stroke=&quot;currentColor&quot; class=&quot;w-4 h-4 group-[.open]:rotate-90&quot;&gt;\n                        &lt;path stroke-linecap=&quot;round&quot; stroke-linejoin=&quot;round&quot; d=&quot;M8.25 4.5l7.5 7.5-7.5 7.5&quot; /&gt;\n                    &lt;/svg&gt;\n                &lt;/td&gt;\n                &lt;td class=&quot;p-3&quot;&gt;\n                    &lt;code class=&quot;mono text-blue-300&quot;&gt;\n                    Feature `headline`\n                &lt;/code&gt;\n                &lt;/td&gt;\n                &lt;td class=&quot;p-3&quot;&gt;\n                    Switch gender\n                &lt;/td&gt;\n                &lt;td class=&quot;p-3&quot;&gt;\n                    &lt;span class=&quot;text-amber-200&quot;&gt;\n                        7.92% of samples changed prediction after perturbation\n                    &lt;/span&gt;\n                &lt;/td&gt;\n                &lt;td class=&quot;p-3&quot;&gt;\n                    &lt;span class=&quot;text-gray-400&quot;&gt;\n                        \n                    &lt;/span&gt;\n                &lt;/td&gt;\n                &lt;td class=&quot;p-3 text-xs text-right space-x-1&quot;&gt;\n                    &lt;a href=&quot;&quot;\n                        class=&quot;gsk-debug inline-block border border-emerald-100/50 text-emerald-100/90 hover:bg-emerald-500 hover:border-emerald-500 hover:text-white px-2 py-0.5 rounded-sm&quot;&gt;Debug&lt;/a&gt;\n                &lt;/td&gt;\n            &lt;/tr&gt;\n            &lt;tr class=&quot;gsk-issue-detail text-left collapse peer-[.open]:visible border-b border-zinc-400 bg-zinc-700&quot;&gt;\n                &lt;td colspan=&quot;6&quot; class=&quot;p-3&quot;&gt;\n                    &lt;h4 class=&quot;uppercase&quot;&gt;Examples&lt;/h4&gt;\n                    &lt;div class=&quot;text-white max-w-xl text-sm overflow-scroll&quot; style=&quot;max-width: 920px&quot;&gt;\n                        &lt;table border=&quot;1&quot; class=&quot;dataframe&quot;&gt;\n  &lt;thead&gt;\n    &lt;tr style=&quot;text-align: right;&quot;&gt;\n      &lt;th&gt;&lt;/th&gt;\n      &lt;th&gt;headline&lt;/th&gt;\n      &lt;th&gt;is_sarcastic&lt;/th&gt;\n    &lt;/tr&gt;\n  &lt;/thead&gt;\n  &lt;tbody&gt;\n    &lt;tr&gt;\n      &lt;th&gt;1132&lt;/th&gt;\n      &lt;td&gt;man passes away surrounded by knife-wielding loved ones&lt;/td&gt;\n      &lt;td&gt;1&lt;/td&gt;\n    &lt;/tr&gt;\n    &lt;tr&gt;\n      &lt;th&gt;1327&lt;/th&gt;\n      &lt;td&gt;man nostalgic for simpler era of 20 hours ago&lt;/td&gt;\n      &lt;td&gt;1&lt;/td&gt;\n    &lt;/tr&gt;\n    &lt;tr&gt;\n      &lt;th&gt;1132&lt;/th&gt;\n      &lt;td&gt;man passes away surrounded by knife-wielding loved ones&lt;/td&gt;\n      &lt;td&gt;1&lt;/td&gt;\n    &lt;/tr&gt;\n  &lt;/tbody&gt;\n&lt;/table&gt;\n                    &lt;/div&gt;\n                &lt;/td&gt;\n            &lt;/tr&gt;\n        &lt;/tbody&gt;\n        \n    &lt;/table&gt;\n&lt;/div&gt;\n&lt;!-- ISSUES TABLE END --&gt;\n\n\n    \n\n    \n    &lt;h2 class=&quot;uppercase mb-2 mt-8 mr-2 font-mediums flex&quot;&gt;\n        &lt;svg xmlns=&quot;http://www.w3.org/2000/svg&quot; fill=&quot;none&quot; viewBox=&quot;0 0 24 24&quot; stroke-width=&quot;1.5&quot; stroke=&quot;currentColor&quot;\n            class=&quot;w-5 h-5 mr-1&quot;&gt;\n            &lt;path stroke-linecap=&quot;round&quot; stroke-linejoin=&quot;round&quot;\n                d=&quot;M9.879 7.519c1.171-1.025 3.071-1.025 4.242 0 1.172 1.025 1.172 2.687 0 3.712-.203.179-.43.326-.67.442-.745.361-1.45.999-1.45 1.827v.75M21 12a9 9 0 11-18 0 9 9 0 0118 0zm-9 5.25h.008v.008H12v-.008z&quot; /&gt;\n        &lt;/svg&gt;\n        Why does this happen?\n    &lt;/h2&gt;\n    &lt;p class=&quot;my-1&quot;&gt;\n        Volatile results may be caused by overfitting. When your model learns noise (out of distribution), its results\n        may vary against small changes.\n    &lt;/p&gt;\n\n    &lt;h2 class=&quot;uppercase mb-2 mt-8 mr-2 font-mediums flex&quot;&gt;\n        &lt;svg xmlns=&quot;http://www.w3.org/2000/svg&quot; fill=&quot;none&quot; viewBox=&quot;0 0 24 24&quot; stroke-width=&quot;1.5&quot; stroke=&quot;currentColor&quot;\n            class=&quot;w-5 h-5 mr-1&quot;&gt;\n            &lt;path stroke-linecap=&quot;round&quot; stroke-linejoin=&quot;round&quot;\n                d=&quot;M11.42 15.17L17.25 21A2.652 2.652 0 0021 17.25l-5.877-5.877M11.42 15.17l2.496-3.03c.317-.384.74-.626 1.208-.766M11.42 15.17l-4.655 5.653a2.548 2.548 0 11-3.586-3.586l6.837-5.63m5.108-.233c.55-.164 1.163-.188 1.743-.14a4.5 4.5 0 004.486-6.336l-3.276 3.277a3.004 3.004 0 01-2.25-2.25l3.276-3.276a4.5 4.5 0 00-6.336 4.486c.091 1.076-.071 2.264-.904 2.95l-.102.085m-1.745 1.437L5.909 7.5H4.5L2.25 3.75l1.5-1.5L7.5 4.5v1.409l4.26 4.26m-1.745 1.437l1.745-1.437m6.615 8.206L15.75 15.75M4.867 19.125h.008v.008h-.008v-.008z&quot; /&gt;\n        &lt;/svg&gt;\n        How to correct this?\n    &lt;/h2&gt;\n    &lt;p class=&quot;my-1 max-w-xl&quot;&gt;\n        We strongly recommend you inspect** the volatile examples. This will enable you to find\n    &lt;/p&gt;\n    &lt;ul&gt;\n        &lt;li&gt;The right data augmentation strategy to make your model invariant to small changes&lt;/li&gt;\n        &lt;li&gt;The right feature engineering techniques to reduce the complexity of your model&lt;/li&gt;\n        &lt;li&gt;The regularization techniques to avoid overfitting&lt;/li&gt;\n    &lt;/ul&gt;\n    \n\n\n    &lt;div class=&quot;my-5 space-x-2&quot;&gt;\n        &lt;a href=&quot;#&quot; class=&quot;bg-orange-700 hover:bg-orange-600 inline-block py-2 px-3 rounded-sm&quot;&gt;Customize\n            Test\n            Suite&lt;/a&gt;\n        &lt;a href=&quot;#&quot; class=&quot;bg-zinc-500 hover:bg-emerald-500 inline-block py-2 px-3 rounded-sm&quot;&gt;Debug Test\n            Suite&lt;/a&gt;\n    &lt;/div&gt;\n\n    \n\n&lt;/div&gt;\n\n    &lt;/div&gt;\n&lt;/div&gt;\n&lt;script type=&quot;text/javascript&quot;&gt;\n        (function () {\n            console.log(&quot;Loading Giskard Scan&quot;);\n            let rows = document.querySelectorAll(&quot;#gsk-scan .gsk-issue&quot;)\n            rows.forEach(rowEl =&gt; {\n                {\n                    rowEl.addEventListener(&quot;click&quot;, (event) =&gt; {\n                        {\n                            event.preventDefault()\n                            if (event.target.classList.contains(&quot;gsk-debug&quot;)) {\n                                {\n                                    alert(&quot;Not implemented yet&quot;)\n                                    return;\n                                }\n                            }\n\n                            rowEl.classList.toggle(&quot;open&quot;)\n                            rowEl.classList.toggle(&quot;bg-zinc-700&quot;)\n                        }\n                    })\n                }\n            });\n\n            const tabs = document.querySelectorAll(&quot;#gsk-scan [role=&#x27;tabpanel&#x27;]&quot;)\n            const tabHeaders = document.querySelectorAll(&quot;#gsk-scan [data-tab-target]&quot;)\n            tabHeaders.forEach(tabHeader =&gt; {\n                tabHeader.addEventListener(&quot;click&quot;, (event) =&gt; {\n                    event.preventDefault()\n                    const tabId = tabHeader.getAttribute(&quot;data-tab-target&quot;)\n\n                    tabs.forEach(tab =&gt; {\n                        tab.classList.add(&quot;hidden&quot;)\n                    })\n                    tabHeaders.forEach(tabh =&gt; {\n                        tabh.classList.remove(&quot;active&quot;)\n                    })\n\n                    tabHeader.classList.add(&quot;active&quot;)\n                    console.log(tabId)\n                    document.getElementById(tabId).classList.remove(&quot;hidden&quot;)\n\n                })\n            })\n\n        })()\n&lt;/script&gt;\n\" style=\"width: 100%; border: none;\" class=\"gsk-scan\"></iframe>\n<script>\n(function() {\n    // @TODO: fix this\n    let elements = document.querySelectorAll(\".gsk-scan\");\n    elements.forEach(el => {\n        el.style.height = el.contentWindow.document.body.scrollHeight + \"px\";\n        setTimeout(() => {\n            el.style.height = el.contentWindow.document.body.scrollHeight + \"px\";\n        }, 1000)\n\n    })\n})()\n</script>\n"
     },
     "metadata": {},
     "output_type": "display_data"
    }
   ],
   "source": [
    "display(scanning_result)"
   ],
   "metadata": {
    "collapsed": false,
    "ExecuteTime": {
     "end_time": "2023-05-16T17:03:20.727003Z",
     "start_time": "2023-05-16T17:03:20.619967Z"
    }
   }
  }
 ],
 "metadata": {
  "kernelspec": {
   "name": "python3",
   "display_name": "Python 3",
   "language": "python"
  },
  "language_info": {
   "name": "python",
   "version": "3.7.6",
   "mimetype": "text/x-python",
   "codemirror_mode": {
    "name": "ipython",
    "version": 3
   },
   "pygments_lexer": "ipython3",
   "nbconvert_exporter": "python",
   "file_extension": ".py"
  }
 },
 "nbformat": 4,
 "nbformat_minor": 4
}
