{
 "cells": [
  {
   "cell_type": "markdown",
   "source": [
    "# SMS spam classification [sklearn]\n",
    "Binary classification of sms being spam or not.\n",
    "Reference: <https://www.kaggle.com/code/faressayah/natural-language-processing-nlp-for-beginners>"
   ],
   "metadata": {
    "collapsed": false
   }
  },
  {
   "cell_type": "markdown",
   "source": [
    "## Install necessary packages"
   ],
   "metadata": {
    "collapsed": false
   }
  },
  {
   "cell_type": "code",
   "execution_count": 1,
   "outputs": [
    {
     "name": "stdout",
     "output_type": "stream",
     "text": [
      "Requirement already satisfied: nltk in ./venv/lib/python3.10/site-packages (3.8.1)\r\n",
      "Requirement already satisfied: giskard in ./venv/lib/python3.10/site-packages (2.0.0)\r\n",
      "Requirement already satisfied: click in ./venv/lib/python3.10/site-packages (from nltk) (8.1.3)\r\n",
      "Requirement already satisfied: joblib in ./venv/lib/python3.10/site-packages (from nltk) (1.2.0)\r\n",
      "Requirement already satisfied: regex>=2021.8.3 in ./venv/lib/python3.10/site-packages (from nltk) (2023.3.23)\r\n",
      "Requirement already satisfied: tqdm in ./venv/lib/python3.10/site-packages (from nltk) (4.65.0)\r\n",
      "Requirement already satisfied: cloudpickle>=1.1.1 in ./venv/lib/python3.10/site-packages (from giskard) (2.2.1)\r\n",
      "Requirement already satisfied: zstandard>=0.10.0 in ./venv/lib/python3.10/site-packages (from giskard) (0.21.0)\r\n",
      "Requirement already satisfied: mlflow-skinny>=2 in ./venv/lib/python3.10/site-packages (from giskard) (2.3.0)\r\n",
      "Requirement already satisfied: numpy>=1.22.0 in ./venv/lib/python3.10/site-packages (from giskard) (1.23.5)\r\n",
      "Requirement already satisfied: scikit-learn>=1.0 in ./venv/lib/python3.10/site-packages (from giskard) (1.2.2)\r\n",
      "Requirement already satisfied: scipy<1.9,>=1.7.3 in ./venv/lib/python3.10/site-packages (from giskard) (1.8.1)\r\n",
      "Requirement already satisfied: shap>=0.41.0 in ./venv/lib/python3.10/site-packages (from giskard) (0.41.0)\r\n",
      "Requirement already satisfied: eli5>=0.12.0 in ./venv/lib/python3.10/site-packages (from giskard) (0.13.0)\r\n",
      "Requirement already satisfied: ipython in ./venv/lib/python3.10/site-packages (from giskard) (8.12.0)\r\n",
      "Requirement already satisfied: requests-toolbelt>=0.9.1 in ./venv/lib/python3.10/site-packages (from giskard) (0.10.1)\r\n",
      "Requirement already satisfied: mixpanel>=4.4.0 in ./venv/lib/python3.10/site-packages (from giskard) (4.10.0)\r\n",
      "Requirement already satisfied: grpcio<=1.51.1,>=1.39.0 in ./venv/lib/python3.10/site-packages (from giskard) (1.51.1)\r\n",
      "Requirement already satisfied: grpcio-status<=1.51.1,>=1.16.0 in ./venv/lib/python3.10/site-packages (from giskard) (1.48.2)\r\n",
      "Requirement already satisfied: requests>=2.19 in ./venv/lib/python3.10/site-packages (from giskard) (2.29.0)\r\n",
      "Requirement already satisfied: protobuf<=3.20.3 in ./venv/lib/python3.10/site-packages (from giskard) (3.20.3)\r\n",
      "Requirement already satisfied: pydantic>=1.7 in ./venv/lib/python3.10/site-packages (from giskard) (1.10.7)\r\n",
      "Requirement already satisfied: tenacity>=4.11.0 in ./venv/lib/python3.10/site-packages (from giskard) (8.2.2)\r\n",
      "Requirement already satisfied: python-daemon<3,>=2.2.2 in ./venv/lib/python3.10/site-packages (from giskard) (2.3.2)\r\n",
      "Requirement already satisfied: lockfile>=0.12.2 in ./venv/lib/python3.10/site-packages (from giskard) (0.12.2)\r\n",
      "Requirement already satisfied: psutil>=5.4.6 in ./venv/lib/python3.10/site-packages (from giskard) (5.9.5)\r\n",
      "Requirement already satisfied: setuptools<68.0.0,>=39.1.0 in ./venv/lib/python3.10/site-packages (from giskard) (67.7.2)\r\n",
      "Requirement already satisfied: pycryptodome>=3.6.1 in ./venv/lib/python3.10/site-packages (from giskard) (3.17)\r\n",
      "Requirement already satisfied: pandas<2,>=1.3.4 in ./venv/lib/python3.10/site-packages (from giskard) (1.5.3)\r\n",
      "Requirement already satisfied: docker>=6.0.0 in ./venv/lib/python3.10/site-packages (from giskard) (6.0.1)\r\n",
      "Requirement already satisfied: packaging>=14.0 in ./venv/lib/python3.10/site-packages (from docker>=6.0.0->giskard) (23.1)\r\n",
      "Requirement already satisfied: urllib3>=1.26.0 in ./venv/lib/python3.10/site-packages (from docker>=6.0.0->giskard) (1.26.15)\r\n",
      "Requirement already satisfied: websocket-client>=0.32.0 in ./venv/lib/python3.10/site-packages (from docker>=6.0.0->giskard) (1.5.1)\r\n",
      "Requirement already satisfied: attrs>17.1.0 in ./venv/lib/python3.10/site-packages (from eli5>=0.12.0->giskard) (23.1.0)\r\n",
      "Requirement already satisfied: jinja2>=3.0.0 in ./venv/lib/python3.10/site-packages (from eli5>=0.12.0->giskard) (3.1.2)\r\n",
      "Requirement already satisfied: six in ./venv/lib/python3.10/site-packages (from eli5>=0.12.0->giskard) (1.16.0)\r\n",
      "Requirement already satisfied: graphviz in ./venv/lib/python3.10/site-packages (from eli5>=0.12.0->giskard) (0.20.1)\r\n",
      "Requirement already satisfied: tabulate>=0.7.7 in ./venv/lib/python3.10/site-packages (from eli5>=0.12.0->giskard) (0.9.0)\r\n",
      "Requirement already satisfied: googleapis-common-protos>=1.5.5 in ./venv/lib/python3.10/site-packages (from grpcio-status<=1.51.1,>=1.16.0->giskard) (1.59.0)\r\n",
      "Requirement already satisfied: databricks-cli<1,>=0.8.7 in ./venv/lib/python3.10/site-packages (from mlflow-skinny>=2->giskard) (0.17.6)\r\n",
      "Requirement already satisfied: entrypoints<1 in ./venv/lib/python3.10/site-packages (from mlflow-skinny>=2->giskard) (0.4)\r\n",
      "Requirement already satisfied: gitpython<4,>=2.1.0 in ./venv/lib/python3.10/site-packages (from mlflow-skinny>=2->giskard) (3.1.31)\r\n",
      "Requirement already satisfied: pyyaml<7,>=5.1 in ./venv/lib/python3.10/site-packages (from mlflow-skinny>=2->giskard) (6.0)\r\n",
      "Requirement already satisfied: pytz<2024 in ./venv/lib/python3.10/site-packages (from mlflow-skinny>=2->giskard) (2023.3)\r\n",
      "Requirement already satisfied: importlib-metadata!=4.7.0,<7,>=3.7.0 in ./venv/lib/python3.10/site-packages (from mlflow-skinny>=2->giskard) (6.6.0)\r\n",
      "Requirement already satisfied: sqlparse<1,>=0.4.0 in ./venv/lib/python3.10/site-packages (from mlflow-skinny>=2->giskard) (0.4.4)\r\n",
      "Requirement already satisfied: python-dateutil>=2.8.1 in ./venv/lib/python3.10/site-packages (from pandas<2,>=1.3.4->giskard) (2.8.2)\r\n",
      "Requirement already satisfied: typing-extensions>=4.2.0 in ./venv/lib/python3.10/site-packages (from pydantic>=1.7->giskard) (4.5.0)\r\n",
      "Requirement already satisfied: docutils in ./venv/lib/python3.10/site-packages (from python-daemon<3,>=2.2.2->giskard) (0.19)\r\n",
      "Requirement already satisfied: charset-normalizer<4,>=2 in ./venv/lib/python3.10/site-packages (from requests>=2.19->giskard) (3.1.0)\r\n",
      "Requirement already satisfied: idna<4,>=2.5 in ./venv/lib/python3.10/site-packages (from requests>=2.19->giskard) (3.4)\r\n",
      "Requirement already satisfied: certifi>=2017.4.17 in ./venv/lib/python3.10/site-packages (from requests>=2.19->giskard) (2022.12.7)\r\n",
      "Requirement already satisfied: threadpoolctl>=2.0.0 in ./venv/lib/python3.10/site-packages (from scikit-learn>=1.0->giskard) (3.1.0)\r\n",
      "Requirement already satisfied: slicer==0.0.7 in ./venv/lib/python3.10/site-packages (from shap>=0.41.0->giskard) (0.0.7)\r\n",
      "Requirement already satisfied: numba in ./venv/lib/python3.10/site-packages (from shap>=0.41.0->giskard) (0.56.4)\r\n",
      "Requirement already satisfied: backcall in ./venv/lib/python3.10/site-packages (from ipython->giskard) (0.2.0)\r\n",
      "Requirement already satisfied: decorator in ./venv/lib/python3.10/site-packages (from ipython->giskard) (5.1.1)\r\n",
      "Requirement already satisfied: jedi>=0.16 in ./venv/lib/python3.10/site-packages (from ipython->giskard) (0.18.2)\r\n",
      "Requirement already satisfied: matplotlib-inline in ./venv/lib/python3.10/site-packages (from ipython->giskard) (0.1.6)\r\n",
      "Requirement already satisfied: pickleshare in ./venv/lib/python3.10/site-packages (from ipython->giskard) (0.7.5)\r\n",
      "Requirement already satisfied: prompt-toolkit!=3.0.37,<3.1.0,>=3.0.30 in ./venv/lib/python3.10/site-packages (from ipython->giskard) (3.0.38)\r\n",
      "Requirement already satisfied: pygments>=2.4.0 in ./venv/lib/python3.10/site-packages (from ipython->giskard) (2.15.1)\r\n",
      "Requirement already satisfied: stack-data in ./venv/lib/python3.10/site-packages (from ipython->giskard) (0.6.2)\r\n",
      "Requirement already satisfied: traitlets>=5 in ./venv/lib/python3.10/site-packages (from ipython->giskard) (5.9.0)\r\n",
      "Requirement already satisfied: pexpect>4.3 in ./venv/lib/python3.10/site-packages (from ipython->giskard) (4.8.0)\r\n",
      "Requirement already satisfied: appnope in ./venv/lib/python3.10/site-packages (from ipython->giskard) (0.1.3)\r\n",
      "Requirement already satisfied: pyjwt>=1.7.0 in ./venv/lib/python3.10/site-packages (from databricks-cli<1,>=0.8.7->mlflow-skinny>=2->giskard) (2.6.0)\r\n",
      "Requirement already satisfied: oauthlib>=3.1.0 in ./venv/lib/python3.10/site-packages (from databricks-cli<1,>=0.8.7->mlflow-skinny>=2->giskard) (3.2.2)\r\n",
      "Requirement already satisfied: gitdb<5,>=4.0.1 in ./venv/lib/python3.10/site-packages (from gitpython<4,>=2.1.0->mlflow-skinny>=2->giskard) (4.0.10)\r\n",
      "Requirement already satisfied: zipp>=0.5 in ./venv/lib/python3.10/site-packages (from importlib-metadata!=4.7.0,<7,>=3.7.0->mlflow-skinny>=2->giskard) (3.15.0)\r\n",
      "Requirement already satisfied: parso<0.9.0,>=0.8.0 in ./venv/lib/python3.10/site-packages (from jedi>=0.16->ipython->giskard) (0.8.3)\r\n",
      "Requirement already satisfied: MarkupSafe>=2.0 in ./venv/lib/python3.10/site-packages (from jinja2>=3.0.0->eli5>=0.12.0->giskard) (2.1.2)\r\n",
      "Requirement already satisfied: ptyprocess>=0.5 in ./venv/lib/python3.10/site-packages (from pexpect>4.3->ipython->giskard) (0.7.0)\r\n",
      "Requirement already satisfied: wcwidth in ./venv/lib/python3.10/site-packages (from prompt-toolkit!=3.0.37,<3.1.0,>=3.0.30->ipython->giskard) (0.2.6)\r\n",
      "Requirement already satisfied: llvmlite<0.40,>=0.39.0dev0 in ./venv/lib/python3.10/site-packages (from numba->shap>=0.41.0->giskard) (0.39.1)\r\n",
      "Requirement already satisfied: executing>=1.2.0 in ./venv/lib/python3.10/site-packages (from stack-data->ipython->giskard) (1.2.0)\r\n",
      "Requirement already satisfied: asttokens>=2.1.0 in ./venv/lib/python3.10/site-packages (from stack-data->ipython->giskard) (2.2.1)\r\n",
      "Requirement already satisfied: pure-eval in ./venv/lib/python3.10/site-packages (from stack-data->ipython->giskard) (0.2.2)\r\n",
      "Requirement already satisfied: smmap<6,>=3.0.1 in ./venv/lib/python3.10/site-packages (from gitdb<5,>=4.0.1->gitpython<4,>=2.1.0->mlflow-skinny>=2->giskard) (5.0.0)\r\n"
     ]
    }
   ],
   "source": [
    "!pip install nltk giskard"
   ],
   "metadata": {
    "collapsed": false,
    "ExecuteTime": {
     "end_time": "2023-05-10T16:01:39.896865Z",
     "start_time": "2023-05-10T16:01:36.999359Z"
    }
   }
  },
  {
   "cell_type": "markdown",
   "source": [
    "## Import libraries"
   ],
   "metadata": {
    "collapsed": false
   }
  },
  {
   "cell_type": "code",
   "execution_count": 2,
   "outputs": [],
   "source": [
    "import os\n",
    "from typing import Iterable\n",
    "\n",
    "import nltk\n",
    "import string\n",
    "import sklearn\n",
    "import pandas as pd\n",
    "from sklearn import metrics\n",
    "from nltk.corpus import stopwords\n",
    "from sklearn.pipeline import Pipeline\n",
    "from sklearn.naive_bayes import MultinomialNB\n",
    "from sklearn.linear_model import LogisticRegression\n",
    "from sklearn.model_selection import train_test_split\n",
    "from sklearn.preprocessing import FunctionTransformer, LabelEncoder\n",
    "from sklearn.feature_extraction.text import TfidfTransformer, CountVectorizer\n",
    "\n",
    "import giskard\n",
    "from giskard import wrap_dataset, wrap_model"
   ],
   "metadata": {
    "collapsed": false,
    "ExecuteTime": {
     "end_time": "2023-05-10T16:01:43.263895Z",
     "start_time": "2023-05-10T16:01:39.902972Z"
    }
   }
  },
  {
   "cell_type": "markdown",
   "source": [
    "## Download NLTK corpus"
   ],
   "metadata": {
    "collapsed": false
   }
  },
  {
   "cell_type": "code",
   "execution_count": 3,
   "outputs": [
    {
     "name": "stderr",
     "output_type": "stream",
     "text": [
      "[nltk_data] Downloading package stopwords to\n",
      "[nltk_data]     /Users/mykytaalekseiev/nltk_data...\n",
      "[nltk_data]   Package stopwords is already up-to-date!\n"
     ]
    },
    {
     "data": {
      "text/plain": "True"
     },
     "execution_count": 3,
     "metadata": {},
     "output_type": "execute_result"
    }
   ],
   "source": [
    "nltk.download(\"stopwords\")"
   ],
   "metadata": {
    "collapsed": false,
    "ExecuteTime": {
     "end_time": "2023-05-10T16:01:43.343488Z",
     "start_time": "2023-05-10T16:01:43.269047Z"
    }
   }
  },
  {
   "cell_type": "markdown",
   "source": [
    "## Notebook-level settings"
   ],
   "metadata": {
    "collapsed": false
   }
  },
  {
   "cell_type": "code",
   "execution_count": 4,
   "outputs": [],
   "source": [
    "# Necessary for custom preprocessing function transformers.\n",
    "sklearn.set_config(transform_output=\"pandas\")"
   ],
   "metadata": {
    "collapsed": false,
    "ExecuteTime": {
     "end_time": "2023-05-10T16:01:43.350918Z",
     "start_time": "2023-05-10T16:01:43.346505Z"
    }
   }
  },
  {
   "cell_type": "markdown",
   "source": [
    "## Define constants"
   ],
   "metadata": {
    "collapsed": false
   }
  },
  {
   "cell_type": "code",
   "execution_count": 5,
   "outputs": [],
   "source": [
    "# Constants.\n",
    "TARGET_NAME = \"label\"\n",
    "TEXT_COLUMN_NAME = \"message\"\n",
    "\n",
    "# Paths.\n",
    "DATA_DIRECTORY = os.path.join(\".\", \"datasets\", \"sms_spam_classification_dataset\", \"spam.csv\")"
   ],
   "metadata": {
    "collapsed": false,
    "ExecuteTime": {
     "end_time": "2023-05-10T16:01:43.357623Z",
     "start_time": "2023-05-10T16:01:43.353866Z"
    }
   }
  },
  {
   "cell_type": "markdown",
   "source": [
    "## Load and initially preprocess data"
   ],
   "metadata": {
    "collapsed": false
   }
  },
  {
   "cell_type": "code",
   "execution_count": 6,
   "id": "f29b534c",
   "metadata": {
    "execution": {
     "iopub.execute_input": "2023-02-16T22:12:56.201446Z",
     "iopub.status.busy": "2023-02-16T22:12:56.200671Z",
     "iopub.status.idle": "2023-02-16T22:12:56.283323Z",
     "shell.execute_reply": "2023-02-16T22:12:56.281887Z"
    },
    "papermill": {
     "duration": 0.101748,
     "end_time": "2023-02-16T22:12:56.285847",
     "exception": false,
     "start_time": "2023-02-16T22:12:56.184099",
     "status": "completed"
    },
    "tags": [],
    "ExecuteTime": {
     "end_time": "2023-05-10T16:01:43.422546Z",
     "start_time": "2023-05-10T16:01:43.361216Z"
    }
   },
   "outputs": [
    {
     "data": {
      "text/plain": "  label                                            message\n0   ham  Go until jurong point, crazy.. Available only ...\n1   ham                      Ok lar... Joking wif u oni...\n2  spam  Free entry in 2 a wkly comp to win FA Cup fina...\n3   ham  U dun say so early hor... U c already then say...\n4   ham  Nah I don't think he goes to usf, he lives aro...",
      "text/html": "<div>\n<style scoped>\n    .dataframe tbody tr th:only-of-type {\n        vertical-align: middle;\n    }\n\n    .dataframe tbody tr th {\n        vertical-align: top;\n    }\n\n    .dataframe thead th {\n        text-align: right;\n    }\n</style>\n<table border=\"1\" class=\"dataframe\">\n  <thead>\n    <tr style=\"text-align: right;\">\n      <th></th>\n      <th>label</th>\n      <th>message</th>\n    </tr>\n  </thead>\n  <tbody>\n    <tr>\n      <th>0</th>\n      <td>ham</td>\n      <td>Go until jurong point, crazy.. Available only ...</td>\n    </tr>\n    <tr>\n      <th>1</th>\n      <td>ham</td>\n      <td>Ok lar... Joking wif u oni...</td>\n    </tr>\n    <tr>\n      <th>2</th>\n      <td>spam</td>\n      <td>Free entry in 2 a wkly comp to win FA Cup fina...</td>\n    </tr>\n    <tr>\n      <th>3</th>\n      <td>ham</td>\n      <td>U dun say so early hor... U c already then say...</td>\n    </tr>\n    <tr>\n      <th>4</th>\n      <td>ham</td>\n      <td>Nah I don't think he goes to usf, he lives aro...</td>\n    </tr>\n  </tbody>\n</table>\n</div>"
     },
     "execution_count": 6,
     "metadata": {},
     "output_type": "execute_result"
    }
   ],
   "source": [
    "def load_data() -> pd.DataFrame:\n",
    "    \"\"\"Load data.\"\"\"\n",
    "    df = pd.read_csv(DATA_DIRECTORY, encoding='latin-1')\n",
    "    df.dropna(how=\"any\", inplace=True, axis=1)\n",
    "    df.columns = [TARGET_NAME, TEXT_COLUMN_NAME]\n",
    "    return df\n",
    "\n",
    "messages_df = load_data()\n",
    "messages_df.head()"
   ]
  },
  {
   "cell_type": "code",
   "execution_count": 7,
   "outputs": [
    {
     "data": {
      "text/plain": "   label                                            message\n0      0  Go until jurong point, crazy.. Available only ...\n1      0                      Ok lar... Joking wif u oni...\n2      1  Free entry in 2 a wkly comp to win FA Cup fina...\n3      0  U dun say so early hor... U c already then say...\n4      0  Nah I don't think he goes to usf, he lives aro...",
      "text/html": "<div>\n<style scoped>\n    .dataframe tbody tr th:only-of-type {\n        vertical-align: middle;\n    }\n\n    .dataframe tbody tr th {\n        vertical-align: top;\n    }\n\n    .dataframe thead th {\n        text-align: right;\n    }\n</style>\n<table border=\"1\" class=\"dataframe\">\n  <thead>\n    <tr style=\"text-align: right;\">\n      <th></th>\n      <th>label</th>\n      <th>message</th>\n    </tr>\n  </thead>\n  <tbody>\n    <tr>\n      <th>0</th>\n      <td>0</td>\n      <td>Go until jurong point, crazy.. Available only ...</td>\n    </tr>\n    <tr>\n      <th>1</th>\n      <td>0</td>\n      <td>Ok lar... Joking wif u oni...</td>\n    </tr>\n    <tr>\n      <th>2</th>\n      <td>1</td>\n      <td>Free entry in 2 a wkly comp to win FA Cup fina...</td>\n    </tr>\n    <tr>\n      <th>3</th>\n      <td>0</td>\n      <td>U dun say so early hor... U c already then say...</td>\n    </tr>\n    <tr>\n      <th>4</th>\n      <td>0</td>\n      <td>Nah I don't think he goes to usf, he lives aro...</td>\n    </tr>\n  </tbody>\n</table>\n</div>"
     },
     "execution_count": 7,
     "metadata": {},
     "output_type": "execute_result"
    }
   ],
   "source": [
    "def preprocess_label(df: pd.DataFrame) -> pd.DataFrame:\n",
    "    \"\"\"Change string labels to the integer encoding.\"\"\"\n",
    "    df.label = LabelEncoder().fit_transform(df.label)\n",
    "    return df\n",
    "\n",
    "messages_df = preprocess_label(messages_df)\n",
    "messages_df.head()"
   ],
   "metadata": {
    "collapsed": false,
    "ExecuteTime": {
     "end_time": "2023-05-10T16:01:43.423828Z",
     "start_time": "2023-05-10T16:01:43.405313Z"
    }
   }
  },
  {
   "cell_type": "markdown",
   "source": [
    "## Train-test split"
   ],
   "metadata": {
    "collapsed": false
   }
  },
  {
   "cell_type": "code",
   "execution_count": 8,
   "id": "63b33667",
   "metadata": {
    "execution": {
     "iopub.execute_input": "2023-02-16T22:12:59.658981Z",
     "iopub.status.busy": "2023-02-16T22:12:59.658525Z",
     "iopub.status.idle": "2023-02-16T22:12:59.670509Z",
     "shell.execute_reply": "2023-02-16T22:12:59.669471Z"
    },
    "papermill": {
     "duration": 0.03499,
     "end_time": "2023-02-16T22:12:59.673230",
     "exception": false,
     "start_time": "2023-02-16T22:12:59.638240",
     "status": "completed"
    },
    "tags": [],
    "ExecuteTime": {
     "end_time": "2023-05-10T16:01:43.424663Z",
     "start_time": "2023-05-10T16:01:43.409951Z"
    }
   },
   "outputs": [],
   "source": [
    "X_train, X_test, y_train, y_test = train_test_split(messages_df[[TEXT_COLUMN_NAME]], messages_df[TARGET_NAME], random_state=1)"
   ]
  },
  {
   "cell_type": "markdown",
   "source": [
    "## Define preprocessing pipeline"
   ],
   "metadata": {
    "collapsed": false
   }
  },
  {
   "cell_type": "code",
   "execution_count": 9,
   "outputs": [],
   "source": [
    "def remove_punctuation(df: pd.DataFrame) -> pd.DataFrame:\n",
    "    \"\"\"Remove punctuation from text.\"\"\"\n",
    "    df[TEXT_COLUMN_NAME] = df[TEXT_COLUMN_NAME].apply(lambda text: text.translate(str.maketrans('', '', string.punctuation)))\n",
    "    return df\n",
    "\n",
    "remove_punctuation_transformer = FunctionTransformer(remove_punctuation)"
   ],
   "metadata": {
    "collapsed": false,
    "ExecuteTime": {
     "end_time": "2023-05-10T16:01:43.477846Z",
     "start_time": "2023-05-10T16:01:43.421639Z"
    }
   }
  },
  {
   "cell_type": "code",
   "execution_count": 10,
   "outputs": [],
   "source": [
    "def remove_stop_words(df: pd.DataFrame) -> pd.DataFrame:\n",
    "    \"\"\"Remove stopwords from text.\"\"\"\n",
    "    _STOPWORDS = stopwords.words('english') + ['u', 'ü', 'ur', '4', '2', 'im', 'dont', 'doin', 'ure']\n",
    "\n",
    "    df[TEXT_COLUMN_NAME] = df[TEXT_COLUMN_NAME].apply(lambda text: ' '.join([word for word in text.split() if word.lower() not in _STOPWORDS]))\n",
    "    return df\n",
    "\n",
    "remove_stop_words_transformer = FunctionTransformer(remove_stop_words)"
   ],
   "metadata": {
    "collapsed": false,
    "ExecuteTime": {
     "end_time": "2023-05-10T16:01:43.478778Z",
     "start_time": "2023-05-10T16:01:43.434318Z"
    }
   }
  },
  {
   "cell_type": "code",
   "execution_count": 11,
   "outputs": [],
   "source": [
    "def adapt_vectorizer_input(df: pd.DataFrame) -> Iterable:\n",
    "    \"\"\"Adapt input for the vectorizers.\n",
    "\n",
    "    The problem is that vectorizers accept iterable, not DataFrame, but Series. Thus, we need to ravel dataframe with text have input single dimension.\n",
    "    Issue reference: https://stackoverflow.com/questions/50665240/valueerror-found-input-variables-with-inconsistent-numbers-of-samples-1-3185\"\"\"\n",
    "\n",
    "    df = df.iloc[:, 0]\n",
    "    return df\n",
    "\n",
    "adapt_vectorizer_input_transformer = FunctionTransformer(adapt_vectorizer_input)"
   ],
   "metadata": {
    "collapsed": false,
    "ExecuteTime": {
     "end_time": "2023-05-10T16:01:43.542691Z",
     "start_time": "2023-05-10T16:01:43.443081Z"
    }
   }
  },
  {
   "cell_type": "markdown",
   "source": [
    "## Define Naive Bayes model pipeline"
   ],
   "metadata": {
    "collapsed": false
   }
  },
  {
   "cell_type": "code",
   "execution_count": 12,
   "id": "76bac208",
   "metadata": {
    "execution": {
     "iopub.execute_input": "2023-02-16T22:13:00.512698Z",
     "iopub.status.busy": "2023-02-16T22:13:00.512267Z",
     "iopub.status.idle": "2023-02-16T22:13:00.612825Z",
     "shell.execute_reply": "2023-02-16T22:13:00.611460Z"
    },
    "papermill": {
     "duration": 0.125448,
     "end_time": "2023-02-16T22:13:00.615922",
     "exception": false,
     "start_time": "2023-02-16T22:13:00.490474",
     "status": "completed"
    },
    "tags": [],
    "ExecuteTime": {
     "end_time": "2023-05-10T16:01:43.784346Z",
     "start_time": "2023-05-10T16:01:43.493657Z"
    }
   },
   "outputs": [
    {
     "name": "stdout",
     "output_type": "stream",
     "text": [
      "Test ROC-AUC score: 0.9800494641384995\n"
     ]
    }
   ],
   "source": [
    "# Define data preprocessor pipeline.\n",
    "preprocessor = Pipeline(steps=[\n",
    "    (\"punctuation_remover\", remove_punctuation_transformer),\n",
    "    (\"stop_words_remover\", remove_stop_words_transformer),\n",
    "    (\"text_vectorizer_adapter\", adapt_vectorizer_input_transformer),\n",
    "    ('bow', CountVectorizer()),\n",
    "    ('tfid', TfidfTransformer()),\n",
    "])\n",
    "\n",
    "# Define general pipeline with data preprocessing and model.\n",
    "pipeline_naive_bayes = Pipeline(steps=[\n",
    "    ('preprocessing', preprocessor),\n",
    "    ('model', MultinomialNB())\n",
    "])\n",
    "\n",
    "# Fit model.\n",
    "pipeline_naive_bayes.fit(X_train, y_train)\n",
    "y_pred_prob = pipeline_naive_bayes.predict_proba(X_test)[:, 1]\n",
    "\n",
    "# Get test metric.\n",
    "metric = metrics.roc_auc_score(y_test, y_pred_prob)\n",
    "print(f\"Test ROC-AUC score: {metric}\")"
   ]
  },
  {
   "cell_type": "markdown",
   "id": "9e816488",
   "metadata": {
    "papermill": {
     "duration": 0.019578,
     "end_time": "2023-02-16T22:13:00.655711",
     "exception": false,
     "start_time": "2023-02-16T22:13:00.636133",
     "status": "completed"
    },
    "tags": []
   },
   "source": [
    "## Define Logistic Regression model pipeline"
   ]
  },
  {
   "cell_type": "code",
   "execution_count": 13,
   "outputs": [
    {
     "name": "stdout",
     "output_type": "stream",
     "text": [
      "ROC-AUC score: 0.9842951360263809\n"
     ]
    }
   ],
   "source": [
    "# Define general pipeline with data preprocessing and model.\n",
    "pipeline_logistic_regression = Pipeline(steps=[\n",
    "    ('preprocessing', preprocessor),\n",
    "    (\"logistic_regression\", LogisticRegression())\n",
    "])\n",
    "\n",
    "# Fit model.\n",
    "pipeline_logistic_regression.fit(X_train, y_train)\n",
    "y_pred_prob = pipeline_logistic_regression.predict_proba(X_test)[:, 1]\n",
    "\n",
    "# Get test metric.\n",
    "metric = metrics.roc_auc_score(y_test, y_pred_prob)\n",
    "print(f\"Test ROC-AUC score: {metric}\")"
   ],
   "metadata": {
    "collapsed": false,
    "ExecuteTime": {
     "end_time": "2023-05-10T16:01:44.157887Z",
     "start_time": "2023-05-10T16:01:43.831982Z"
    }
   }
  },
  {
   "cell_type": "markdown",
   "source": [
    "## Wrap data and models"
   ],
   "metadata": {
    "collapsed": false
   }
  },
  {
   "cell_type": "code",
   "execution_count": 14,
   "outputs": [
    {
     "name": "stdout",
     "output_type": "stream",
     "text": [
      "Your 'pandas.DataFrame' dataset is successfully wrapped by Giskard's 'Dataset' wrapper class.\n"
     ]
    }
   ],
   "source": [
    "# Wrap test dataset.\n",
    "raw_dataset = pd.concat([X_test, y_test], axis=1)\n",
    "wrapped_dataset = wrap_dataset(raw_dataset,\n",
    "                               name=\"sms_spam\",\n",
    "                               target=\"label\",\n",
    "                               column_types={\"message\": \"text\"})"
   ],
   "metadata": {
    "collapsed": false,
    "ExecuteTime": {
     "end_time": "2023-05-10T16:01:44.166133Z",
     "start_time": "2023-05-10T16:01:44.154725Z"
    }
   }
  },
  {
   "cell_type": "code",
   "execution_count": 15,
   "outputs": [
    {
     "name": "stdout",
     "output_type": "stream",
     "text": [
      "Your model is successfully wrapped by Giskard's '<class 'abc.ABCMeta'>' wrapper class.\n"
     ]
    },
    {
     "data": {
      "text/plain": "ModelPredictionResults(raw=array([[0.9340599 , 0.0659401 ],\n       [0.97673187, 0.02326813],\n       [0.96348997, 0.03651003],\n       ...,\n       [0.9362312 , 0.0637688 ],\n       [0.99193208, 0.00806792],\n       [0.9862079 , 0.0137921 ]]), prediction=array([0, 0, 0, ..., 0, 0, 0]), raw_prediction=array([0, 0, 0, ..., 0, 0, 0]), probabilities=array([0.9340599 , 0.97673187, 0.96348997, ..., 0.9362312 , 0.99193208,\n       0.9862079 ]), all_predictions=             0         1\n0     0.934060  0.065940\n1     0.976732  0.023268\n2     0.963490  0.036510\n3     0.957491  0.042509\n4     0.928919  0.071081\n...        ...       ...\n1388  0.996038  0.003962\n1389  0.998073  0.001927\n1390  0.936231  0.063769\n1391  0.991932  0.008068\n1392  0.986208  0.013792\n\n[1393 rows x 2 columns])"
     },
     "execution_count": 15,
     "metadata": {},
     "output_type": "execute_result"
    }
   ],
   "source": [
    "# Wrap Naive-Bayes model.\n",
    "wrapped_model_naive_bayes = wrap_model(pipeline_naive_bayes,\n",
    "                                       model_type=\"classification\",\n",
    "                                       name=\"spam_classifier_naive_bayes\",\n",
    "                                       feature_names=X_test.columns,\n",
    "                                       classification_threshold=0.5)\n",
    "wrapped_model_naive_bayes.predict(wrapped_dataset)"
   ],
   "metadata": {
    "collapsed": false,
    "ExecuteTime": {
     "end_time": "2023-05-10T16:01:44.242093Z",
     "start_time": "2023-05-10T16:01:44.166692Z"
    }
   }
  },
  {
   "cell_type": "code",
   "execution_count": 16,
   "outputs": [
    {
     "name": "stdout",
     "output_type": "stream",
     "text": [
      "Your model is successfully wrapped by Giskard's '<class 'abc.ABCMeta'>' wrapper class.\n"
     ]
    },
    {
     "data": {
      "text/plain": "ModelPredictionResults(raw=array([[0.926392  , 0.073608  ],\n       [0.94690471, 0.05309529],\n       [0.84887983, 0.15112017],\n       ...,\n       [0.91830997, 0.08169003],\n       [0.95666017, 0.04333983],\n       [0.94902435, 0.05097565]]), prediction=array([0, 0, 0, ..., 0, 0, 0]), raw_prediction=array([0, 0, 0, ..., 0, 0, 0]), probabilities=array([0.926392  , 0.94690471, 0.84887983, ..., 0.91830997, 0.95666017,\n       0.94902435]), all_predictions=             0         1\n0     0.926392  0.073608\n1     0.946905  0.053095\n2     0.848880  0.151120\n3     0.947935  0.052065\n4     0.637550  0.362450\n...        ...       ...\n1388  0.960758  0.039242\n1389  0.988461  0.011539\n1390  0.918310  0.081690\n1391  0.956660  0.043340\n1392  0.949024  0.050976\n\n[1393 rows x 2 columns])"
     },
     "execution_count": 16,
     "metadata": {},
     "output_type": "execute_result"
    }
   ],
   "source": [
    "# Wrap Logistic Regression model.\n",
    "wrapped_model_logistic_regression = wrap_model(pipeline_logistic_regression,\n",
    "                                               model_type=\"classification\",\n",
    "                                               name=\"spam_classifier_logistic_regression\",\n",
    "                                               feature_names=X_test.columns,\n",
    "                                               classification_threshold=0.5)\n",
    "wrapped_model_logistic_regression.predict(wrapped_dataset)"
   ],
   "metadata": {
    "collapsed": false,
    "ExecuteTime": {
     "end_time": "2023-05-10T16:01:44.316557Z",
     "start_time": "2023-05-10T16:01:44.244941Z"
    }
   }
  },
  {
   "cell_type": "markdown",
   "source": [
    "## Scan models"
   ],
   "metadata": {
    "collapsed": false
   }
  },
  {
   "cell_type": "code",
   "execution_count": 17,
   "outputs": [
    {
     "name": "stderr",
     "output_type": "stream",
     "text": [
      "/Users/mykytaalekseiev/IdeaProjects/GiskardExamples/venv/lib/python3.10/site-packages/_distutils_hack/__init__.py:33: UserWarning: Setuptools is replacing distutils.\n",
      "  warnings.warn(\"Setuptools is replacing distutils.\")\n"
     ]
    },
    {
     "name": "stdout",
     "output_type": "stream",
     "text": [
      "Hint: \"Your target variable values are numeric. It is recommended to have Human readable string as your target values to make results more understandable in Giskard.\"\n",
      "Your model is successfully validated.\n"
     ]
    }
   ],
   "source": [
    "# Scan Naive Bayes model.\n",
    "naive_bayes_scan = giskard.scan(wrapped_model_naive_bayes, wrapped_dataset)"
   ],
   "metadata": {
    "collapsed": false,
    "ExecuteTime": {
     "end_time": "2023-05-10T16:01:52.404993Z",
     "start_time": "2023-05-10T16:01:44.322323Z"
    }
   }
  },
  {
   "cell_type": "code",
   "execution_count": 18,
   "outputs": [
    {
     "data": {
      "text/html": "<iframe srcdoc=\"\n&lt;script src=&quot;https://cdn.tailwindcss.com&quot;&gt;&lt;/script&gt;\n&lt;script&gt;\n    tailwind.config = {\n        darkMode: &#x27;class&#x27;\n    }\n&lt;/script&gt;\n&lt;style&gt;\n    table.dataframe {\n        width: 100%;\n        max-width: 100%;\n        overflow: auto;\n    }\n\n    .dataframe tr {\n        border-bottom: 1px solid #555;\n    }\n\n    .dataframe td,\n    .dataframe th {\n        padding: 0.5rem;\n    }\n&lt;/style&gt;\n\n\n\n&lt;div class=&quot;dark&quot;&gt;\n    &lt;div id=&quot;gsk-scan&quot; class=&quot;dark:text-white dark:bg-zinc-900&quot;&gt;\n        &lt;!-- TAB HEADER --&gt;\n&lt;div class=&quot;flex items-center items-stretch h-11&quot;&gt;\n    &lt;div class=&quot;flex items-center px-4 dark:fill-white border-b border-gray-500 h-11&quot;&gt;\n        &lt;svg xmlns=&quot;http://www.w3.org/2000/svg&quot; xml:space=&quot;preserve&quot; viewBox=&quot;0 0 410 213&quot; height=&quot;15&quot;&gt;\n            &lt;path\n                d=&quot;M318.78 21.94a59.439 59.439 0 0 1 36.45-12.56v.03c7.09-.1 14.13 1.2 20.71 3.84 6.58 2.64 12.57 6.56 17.62 11.54s9.06 10.91 11.8 17.45a53.44 53.44 0 0 1 0 41.3 53.588 53.588 0 0 1-11.8 17.45c-5.05 4.98-11.04 8.9-17.62 11.54s-13.62 3.95-20.71 3.84l-67.92.16-35.87 49.11-135.24 46.84 40.81-47.24a139.229 139.229 0 0 1-66.06-23.8H45.11L0 101.46h55.73C60.38 44.84 115.97 0 183.59 0c31.71 0 63.58 9.86 87.47 27.04a105.149 105.149 0 0 1 26.65 27.18 59.4 59.4 0 0 1 21.07-32.28zM99.85 46.03l55.4 55.45h21.31l-64.81-64.87c-4.18 2.86-8.15 6.01-11.9 9.42zm57.78-28.45 83.9 83.9h21.29l-86.21-86.22c-6.37.32-12.71 1.1-18.98 2.32zm-92.84 98.94H39.72l11.1 9.82h22.44c-3-3.12-5.83-6.4-8.47-9.82zm134.27 0H84.8l-.03.01c20.8 20.91 51.79 33.67 84.66 34.3l29.63-34.31zm-34.81 63.35 77.79-26.94 26.6-36.39h-49.68l-54.71 63.33zm146.77-78.65h46.2l.05.01c9.98-.55 19.36-4.97 26.14-12.32a38.409 38.409 0 0 0 10.16-27.05 38.44 38.44 0 0 0-11.56-26.48 38.405 38.405 0 0 0-26.74-10.94A44.287 44.287 0 0 0 324 37.41a44.268 44.268 0 0 0-12.97 31.28v32.53zm51.82-52.83c5.27.52 9.12 5.22 8.6 10.49-.52 5.27-5.22 9.12-10.49 8.6s-9.12-5.22-8.6-10.49c.53-5.27 5.22-9.12 10.49-8.6z&quot;\n                style=&quot;fill-rule:evenodd;clip-rule:evenodd&quot; /&gt;\n        &lt;/svg&gt;\n        &lt;div class=&quot;ml-4 py-2&quot;&gt;\n            &lt;span class=&quot;uppercase text-sm&quot;&gt;8 issues detected&lt;/span&gt;\n        &lt;/div&gt;\n    &lt;/div&gt;\n\n    \n    &lt;div data-tab-target=&quot;Model_bias&quot; class=&quot;h-12 group active&quot;&gt;\n        &lt;div\n            class=&quot;group-[.active]:bg-zinc-800 group-[.active]:border-b-zinc-800 group-[.active]:border-gray-500 border-l px-3 py-2 border-r border-t border-b border-gray-600 border-b-gray-500 h-11&quot;&gt;\n            Model bias\n            \n            \n            &lt;span class=&quot;ml-1 rounded-full text-xs min-w-4 min-h-4 px-1 py-0.5 inline-block text-center bg-red-400&quot;&gt;\n                \n                    8\n                &lt;/span&gt;\n                \n        &lt;/div&gt;\n    &lt;/div&gt;\n    \n\n    &lt;div class=&quot;flex-grow border-b border-gray-500 h-11&quot;&gt;&lt;/div&gt;\n&lt;/div&gt;\n&lt;!-- TAB HEADER END --&gt;\n        \n    &lt;div id=&quot;Model_bias&quot; role=&quot;tabpanel&quot; class=&quot;dark:text-white dark:bg-zinc-800 p-4 pt-4 mb-4&quot;&gt;\n        \n        &lt;div class=&quot;p-3 mt-2 bg-amber-100/40 rounded-sm w-full flex align-middle&quot;&gt;\n            &lt;div class=&quot;text-amber-100&quot;&gt;\n                &lt;svg xmlns=&quot;http://www.w3.org/2000/svg&quot; fill=&quot;none&quot; viewBox=&quot;0 0 24 24&quot; stroke-width=&quot;1.5&quot;\n                    stroke=&quot;currentColor&quot; class=&quot;mt-0.5 w-6 h-6&quot;&gt;\n                    &lt;path stroke-linecap=&quot;round&quot; stroke-linejoin=&quot;round&quot;\n                        d=&quot;M12 9v3.75m-9.303 3.376c-.866 1.5.217 3.374 1.948 3.374h14.71c1.73 0 2.813-1.874 1.948-3.374L13.949 3.378c-.866-1.5-3.032-1.5-3.898 0L2.697 16.126zM12 15.75h.007v.008H12v-.008z&quot; /&gt;\n                &lt;/svg&gt;\n            &lt;/div&gt;\n            &lt;p class=&quot;ml-2 my-1 text-amber-100 text-sm&quot;&gt;\n                We detected some spots in your data where the model has a tendency to make incorrect\n                predictions.\n            &lt;/p&gt;\n        &lt;/div&gt;\n        \n\n        \n        &lt;div class=&quot;flex items-center space-x-1&quot;&gt;\n            &lt;h2 class=&quot;uppercase my-4 mr-2 font-medium&quot;&gt;Issues&lt;/h2&gt;\n            \n            &lt;span class=&quot;text-xs border rounded px-1 uppercase text-red-400 border-red-400&quot;&gt;7 major&lt;/span&gt;\n            \n            \n            &lt;span class=&quot;text-xs border rounded px-1 uppercase text-amber-200 border-amber-200&quot;&gt;1 medium&lt;/span&gt;\n            \n        &lt;/div&gt;\n\n        &lt;!-- ISSUES TABLE --&gt;\n&lt;div class=&quot;mb-4&quot;&gt;\n    &lt;table class=&quot;table-auto w-full text-white&quot;&gt;\n        \n        &lt;tbody class=&quot;first:border-t border-b border-zinc-400&quot;&gt;\n            &lt;tr class=&quot;gsk-issue text-sm group peer text-left cursor-pointer hover:bg-zinc-700&quot;&gt;\n                &lt;td class=&quot;p-3&quot;&gt;\n                    &lt;svg xmlns=&quot;http://www.w3.org/2000/svg&quot; fill=&quot;none&quot; viewBox=&quot;0 0 24 24&quot; stroke-width=&quot;1.5&quot;\n                        stroke=&quot;currentColor&quot; class=&quot;w-4 h-4 group-[.open]:rotate-90&quot;&gt;\n                        &lt;path stroke-linecap=&quot;round&quot; stroke-linejoin=&quot;round&quot; d=&quot;M8.25 4.5l7.5 7.5-7.5 7.5&quot; /&gt;\n                    &lt;/svg&gt;\n                &lt;/td&gt;\n                &lt;td class=&quot;p-3&quot;&gt;\n                    &lt;code class=&quot;mono text-blue-300&quot;&gt;\n                    `text_length(message)` &amp;lt; 66.5 &amp;lt;br&amp;gt; `text_length(message)` &amp;gt;= 54.5\n                &lt;/code&gt;\n                &lt;/td&gt;\n                &lt;td class=&quot;p-3&quot;&gt;\n                    F1 Score\n                &lt;/td&gt;\n                &lt;td class=&quot;p-3&quot;&gt;\n                    &lt;span class=&quot;text-red-400&quot;&gt;\n                        -100.00% than global\n                    &lt;/span&gt;\n                &lt;/td&gt;\n                &lt;td class=&quot;p-3&quot;&gt;\n                    &lt;span class=&quot;text-gray-400&quot;&gt;\n                        95 samples (6.82%)\n                    &lt;/span&gt;\n                &lt;/td&gt;\n                &lt;td class=&quot;p-3 text-xs text-right space-x-1&quot;&gt;\n                    &lt;a href=&quot;&quot;\n                        class=&quot;gsk-debug inline-block border border-emerald-100/50 text-emerald-100/90 hover:bg-emerald-500 hover:border-emerald-500 hover:text-white px-2 py-0.5 rounded-sm&quot;&gt;Debug&lt;/a&gt;\n                &lt;/td&gt;\n            &lt;/tr&gt;\n            &lt;tr class=&quot;gsk-issue-detail text-left collapse peer-[.open]:visible border-b border-zinc-400 bg-zinc-700&quot;&gt;\n                &lt;td colspan=&quot;6&quot; class=&quot;p-3&quot;&gt;\n                    &lt;h4 class=&quot;uppercase&quot;&gt;Examples&lt;/h4&gt;\n                    &lt;div class=&quot;text-white max-w-xl text-sm overflow-scroll&quot; style=&quot;max-width: 920px&quot;&gt;\n                        &lt;table border=&quot;1&quot; class=&quot;dataframe&quot;&gt;\n  &lt;thead&gt;\n    &lt;tr style=&quot;text-align: right;&quot;&gt;\n      &lt;th&gt;&lt;/th&gt;\n      &lt;th&gt;message&lt;/th&gt;\n      &lt;th&gt;label&lt;/th&gt;\n      &lt;th&gt;predicted_label&lt;/th&gt;\n    &lt;/tr&gt;\n  &lt;/thead&gt;\n  &lt;tbody&gt;\n  &lt;/tbody&gt;\n&lt;/table&gt;\n                    &lt;/div&gt;\n                &lt;/td&gt;\n            &lt;/tr&gt;\n        &lt;/tbody&gt;\n        \n        &lt;tbody class=&quot;first:border-t border-b border-zinc-400&quot;&gt;\n            &lt;tr class=&quot;gsk-issue text-sm group peer text-left cursor-pointer hover:bg-zinc-700&quot;&gt;\n                &lt;td class=&quot;p-3&quot;&gt;\n                    &lt;svg xmlns=&quot;http://www.w3.org/2000/svg&quot; fill=&quot;none&quot; viewBox=&quot;0 0 24 24&quot; stroke-width=&quot;1.5&quot;\n                        stroke=&quot;currentColor&quot; class=&quot;w-4 h-4 group-[.open]:rotate-90&quot;&gt;\n                        &lt;path stroke-linecap=&quot;round&quot; stroke-linejoin=&quot;round&quot; d=&quot;M8.25 4.5l7.5 7.5-7.5 7.5&quot; /&gt;\n                    &lt;/svg&gt;\n                &lt;/td&gt;\n                &lt;td class=&quot;p-3&quot;&gt;\n                    &lt;code class=&quot;mono text-blue-300&quot;&gt;\n                    `text_length(message)` &amp;lt; 36.5 &amp;lt;br&amp;gt; `text_length(message)` &amp;gt;= 28.5\n                &lt;/code&gt;\n                &lt;/td&gt;\n                &lt;td class=&quot;p-3&quot;&gt;\n                    F1 Score\n                &lt;/td&gt;\n                &lt;td class=&quot;p-3&quot;&gt;\n                    &lt;span class=&quot;text-red-400&quot;&gt;\n                        -100.00% than global\n                    &lt;/span&gt;\n                &lt;/td&gt;\n                &lt;td class=&quot;p-3&quot;&gt;\n                    &lt;span class=&quot;text-gray-400&quot;&gt;\n                        148 samples (10.62%)\n                    &lt;/span&gt;\n                &lt;/td&gt;\n                &lt;td class=&quot;p-3 text-xs text-right space-x-1&quot;&gt;\n                    &lt;a href=&quot;&quot;\n                        class=&quot;gsk-debug inline-block border border-emerald-100/50 text-emerald-100/90 hover:bg-emerald-500 hover:border-emerald-500 hover:text-white px-2 py-0.5 rounded-sm&quot;&gt;Debug&lt;/a&gt;\n                &lt;/td&gt;\n            &lt;/tr&gt;\n            &lt;tr class=&quot;gsk-issue-detail text-left collapse peer-[.open]:visible border-b border-zinc-400 bg-zinc-700&quot;&gt;\n                &lt;td colspan=&quot;6&quot; class=&quot;p-3&quot;&gt;\n                    &lt;h4 class=&quot;uppercase&quot;&gt;Examples&lt;/h4&gt;\n                    &lt;div class=&quot;text-white max-w-xl text-sm overflow-scroll&quot; style=&quot;max-width: 920px&quot;&gt;\n                        &lt;table border=&quot;1&quot; class=&quot;dataframe&quot;&gt;\n  &lt;thead&gt;\n    &lt;tr style=&quot;text-align: right;&quot;&gt;\n      &lt;th&gt;&lt;/th&gt;\n      &lt;th&gt;message&lt;/th&gt;\n      &lt;th&gt;label&lt;/th&gt;\n      &lt;th&gt;predicted_label&lt;/th&gt;\n    &lt;/tr&gt;\n  &lt;/thead&gt;\n  &lt;tbody&gt;\n  &lt;/tbody&gt;\n&lt;/table&gt;\n                    &lt;/div&gt;\n                &lt;/td&gt;\n            &lt;/tr&gt;\n        &lt;/tbody&gt;\n        \n        &lt;tbody class=&quot;first:border-t border-b border-zinc-400&quot;&gt;\n            &lt;tr class=&quot;gsk-issue text-sm group peer text-left cursor-pointer hover:bg-zinc-700&quot;&gt;\n                &lt;td class=&quot;p-3&quot;&gt;\n                    &lt;svg xmlns=&quot;http://www.w3.org/2000/svg&quot; fill=&quot;none&quot; viewBox=&quot;0 0 24 24&quot; stroke-width=&quot;1.5&quot;\n                        stroke=&quot;currentColor&quot; class=&quot;w-4 h-4 group-[.open]:rotate-90&quot;&gt;\n                        &lt;path stroke-linecap=&quot;round&quot; stroke-linejoin=&quot;round&quot; d=&quot;M8.25 4.5l7.5 7.5-7.5 7.5&quot; /&gt;\n                    &lt;/svg&gt;\n                &lt;/td&gt;\n                &lt;td class=&quot;p-3&quot;&gt;\n                    &lt;code class=&quot;mono text-blue-300&quot;&gt;\n                    `text_length(message)` &amp;lt; 26.5 &amp;lt;br&amp;gt; `text_length(message)` &amp;gt;= 7.5\n                &lt;/code&gt;\n                &lt;/td&gt;\n                &lt;td class=&quot;p-3&quot;&gt;\n                    F1 Score\n                &lt;/td&gt;\n                &lt;td class=&quot;p-3&quot;&gt;\n                    &lt;span class=&quot;text-red-400&quot;&gt;\n                        -100.00% than global\n                    &lt;/span&gt;\n                &lt;/td&gt;\n                &lt;td class=&quot;p-3&quot;&gt;\n                    &lt;span class=&quot;text-gray-400&quot;&gt;\n                        455 samples (32.66%)\n                    &lt;/span&gt;\n                &lt;/td&gt;\n                &lt;td class=&quot;p-3 text-xs text-right space-x-1&quot;&gt;\n                    &lt;a href=&quot;&quot;\n                        class=&quot;gsk-debug inline-block border border-emerald-100/50 text-emerald-100/90 hover:bg-emerald-500 hover:border-emerald-500 hover:text-white px-2 py-0.5 rounded-sm&quot;&gt;Debug&lt;/a&gt;\n                &lt;/td&gt;\n            &lt;/tr&gt;\n            &lt;tr class=&quot;gsk-issue-detail text-left collapse peer-[.open]:visible border-b border-zinc-400 bg-zinc-700&quot;&gt;\n                &lt;td colspan=&quot;6&quot; class=&quot;p-3&quot;&gt;\n                    &lt;h4 class=&quot;uppercase&quot;&gt;Examples&lt;/h4&gt;\n                    &lt;div class=&quot;text-white max-w-xl text-sm overflow-scroll&quot; style=&quot;max-width: 920px&quot;&gt;\n                        &lt;table border=&quot;1&quot; class=&quot;dataframe&quot;&gt;\n  &lt;thead&gt;\n    &lt;tr style=&quot;text-align: right;&quot;&gt;\n      &lt;th&gt;&lt;/th&gt;\n      &lt;th&gt;message&lt;/th&gt;\n      &lt;th&gt;label&lt;/th&gt;\n      &lt;th&gt;predicted_label&lt;/th&gt;\n    &lt;/tr&gt;\n  &lt;/thead&gt;\n  &lt;tbody&gt;\n  &lt;/tbody&gt;\n&lt;/table&gt;\n                    &lt;/div&gt;\n                &lt;/td&gt;\n            &lt;/tr&gt;\n        &lt;/tbody&gt;\n        \n        &lt;tbody class=&quot;first:border-t border-b border-zinc-400&quot;&gt;\n            &lt;tr class=&quot;gsk-issue text-sm group peer text-left cursor-pointer hover:bg-zinc-700&quot;&gt;\n                &lt;td class=&quot;p-3&quot;&gt;\n                    &lt;svg xmlns=&quot;http://www.w3.org/2000/svg&quot; fill=&quot;none&quot; viewBox=&quot;0 0 24 24&quot; stroke-width=&quot;1.5&quot;\n                        stroke=&quot;currentColor&quot; class=&quot;w-4 h-4 group-[.open]:rotate-90&quot;&gt;\n                        &lt;path stroke-linecap=&quot;round&quot; stroke-linejoin=&quot;round&quot; d=&quot;M8.25 4.5l7.5 7.5-7.5 7.5&quot; /&gt;\n                    &lt;/svg&gt;\n                &lt;/td&gt;\n                &lt;td class=&quot;p-3&quot;&gt;\n                    &lt;code class=&quot;mono text-blue-300&quot;&gt;\n                    message contains &amp;#39;ill&amp;#39;\n                &lt;/code&gt;\n                &lt;/td&gt;\n                &lt;td class=&quot;p-3&quot;&gt;\n                    F1 Score\n                &lt;/td&gt;\n                &lt;td class=&quot;p-3&quot;&gt;\n                    &lt;span class=&quot;text-red-400&quot;&gt;\n                        -100.00% than global\n                    &lt;/span&gt;\n                &lt;/td&gt;\n                &lt;td class=&quot;p-3&quot;&gt;\n                    &lt;span class=&quot;text-gray-400&quot;&gt;\n                        118 samples (8.47%)\n                    &lt;/span&gt;\n                &lt;/td&gt;\n                &lt;td class=&quot;p-3 text-xs text-right space-x-1&quot;&gt;\n                    &lt;a href=&quot;&quot;\n                        class=&quot;gsk-debug inline-block border border-emerald-100/50 text-emerald-100/90 hover:bg-emerald-500 hover:border-emerald-500 hover:text-white px-2 py-0.5 rounded-sm&quot;&gt;Debug&lt;/a&gt;\n                &lt;/td&gt;\n            &lt;/tr&gt;\n            &lt;tr class=&quot;gsk-issue-detail text-left collapse peer-[.open]:visible border-b border-zinc-400 bg-zinc-700&quot;&gt;\n                &lt;td colspan=&quot;6&quot; class=&quot;p-3&quot;&gt;\n                    &lt;h4 class=&quot;uppercase&quot;&gt;Examples&lt;/h4&gt;\n                    &lt;div class=&quot;text-white max-w-xl text-sm overflow-scroll&quot; style=&quot;max-width: 920px&quot;&gt;\n                        &lt;table border=&quot;1&quot; class=&quot;dataframe&quot;&gt;\n  &lt;thead&gt;\n    &lt;tr style=&quot;text-align: right;&quot;&gt;\n      &lt;th&gt;&lt;/th&gt;\n      &lt;th&gt;message&lt;/th&gt;\n      &lt;th&gt;label&lt;/th&gt;\n      &lt;th&gt;predicted_label&lt;/th&gt;\n    &lt;/tr&gt;\n  &lt;/thead&gt;\n  &lt;tbody&gt;\n    &lt;tr&gt;\n      &lt;th&gt;3528&lt;/th&gt;\n      &lt;td&gt;Xmas New Years Eve tickets sale club day 10am till 8pm Thurs Fri Sat night week Theyre selling fast&lt;/td&gt;\n      &lt;td&gt;1&lt;/td&gt;\n      &lt;td&gt;0&lt;/td&gt;\n    &lt;/tr&gt;\n    &lt;tr&gt;\n      &lt;th&gt;1499&lt;/th&gt;\n      &lt;td&gt;SMS ac JSco Energy high may know 2channel 2day leadership skills r strong Psychic Reply ANS wquestion End Reply END JSCO&lt;/td&gt;\n      &lt;td&gt;1&lt;/td&gt;\n      &lt;td&gt;0&lt;/td&gt;\n    &lt;/tr&gt;\n    &lt;tr&gt;\n      &lt;th&gt;3383&lt;/th&gt;\n      &lt;td&gt;FREE MSGWe billed mobile number mistake shortcode 83332Please call 08081263000 charges refundedThis call free BT landline&lt;/td&gt;\n      &lt;td&gt;1&lt;/td&gt;\n      &lt;td&gt;0&lt;/td&gt;\n    &lt;/tr&gt;\n  &lt;/tbody&gt;\n&lt;/table&gt;\n                    &lt;/div&gt;\n                &lt;/td&gt;\n            &lt;/tr&gt;\n        &lt;/tbody&gt;\n        \n        &lt;tbody class=&quot;first:border-t border-b border-zinc-400&quot;&gt;\n            &lt;tr class=&quot;gsk-issue text-sm group peer text-left cursor-pointer hover:bg-zinc-700&quot;&gt;\n                &lt;td class=&quot;p-3&quot;&gt;\n                    &lt;svg xmlns=&quot;http://www.w3.org/2000/svg&quot; fill=&quot;none&quot; viewBox=&quot;0 0 24 24&quot; stroke-width=&quot;1.5&quot;\n                        stroke=&quot;currentColor&quot; class=&quot;w-4 h-4 group-[.open]:rotate-90&quot;&gt;\n                        &lt;path stroke-linecap=&quot;round&quot; stroke-linejoin=&quot;round&quot; d=&quot;M8.25 4.5l7.5 7.5-7.5 7.5&quot; /&gt;\n                    &lt;/svg&gt;\n                &lt;/td&gt;\n                &lt;td class=&quot;p-3&quot;&gt;\n                    &lt;code class=&quot;mono text-blue-300&quot;&gt;\n                    message contains &amp;#39;got&amp;#39;\n                &lt;/code&gt;\n                &lt;/td&gt;\n                &lt;td class=&quot;p-3&quot;&gt;\n                    F1 Score\n                &lt;/td&gt;\n                &lt;td class=&quot;p-3&quot;&gt;\n                    &lt;span class=&quot;text-red-400&quot;&gt;\n                        -100.00% than global\n                    &lt;/span&gt;\n                &lt;/td&gt;\n                &lt;td class=&quot;p-3&quot;&gt;\n                    &lt;span class=&quot;text-gray-400&quot;&gt;\n                        72 samples (5.17%)\n                    &lt;/span&gt;\n                &lt;/td&gt;\n                &lt;td class=&quot;p-3 text-xs text-right space-x-1&quot;&gt;\n                    &lt;a href=&quot;&quot;\n                        class=&quot;gsk-debug inline-block border border-emerald-100/50 text-emerald-100/90 hover:bg-emerald-500 hover:border-emerald-500 hover:text-white px-2 py-0.5 rounded-sm&quot;&gt;Debug&lt;/a&gt;\n                &lt;/td&gt;\n            &lt;/tr&gt;\n            &lt;tr class=&quot;gsk-issue-detail text-left collapse peer-[.open]:visible border-b border-zinc-400 bg-zinc-700&quot;&gt;\n                &lt;td colspan=&quot;6&quot; class=&quot;p-3&quot;&gt;\n                    &lt;h4 class=&quot;uppercase&quot;&gt;Examples&lt;/h4&gt;\n                    &lt;div class=&quot;text-white max-w-xl text-sm overflow-scroll&quot; style=&quot;max-width: 920px&quot;&gt;\n                        &lt;table border=&quot;1&quot; class=&quot;dataframe&quot;&gt;\n  &lt;thead&gt;\n    &lt;tr style=&quot;text-align: right;&quot;&gt;\n      &lt;th&gt;&lt;/th&gt;\n      &lt;th&gt;message&lt;/th&gt;\n      &lt;th&gt;label&lt;/th&gt;\n      &lt;th&gt;predicted_label&lt;/th&gt;\n    &lt;/tr&gt;\n  &lt;/thead&gt;\n  &lt;tbody&gt;\n    &lt;tr&gt;\n      &lt;th&gt;3057&lt;/th&gt;\n      &lt;td&gt;unsubscribed services Get tons sexy babes hunks straight phone go httpgotbabescouk subscriptions&lt;/td&gt;\n      &lt;td&gt;1&lt;/td&gt;\n      &lt;td&gt;0&lt;/td&gt;\n    &lt;/tr&gt;\n  &lt;/tbody&gt;\n&lt;/table&gt;\n                    &lt;/div&gt;\n                &lt;/td&gt;\n            &lt;/tr&gt;\n        &lt;/tbody&gt;\n        \n        &lt;tbody class=&quot;first:border-t border-b border-zinc-400&quot;&gt;\n            &lt;tr class=&quot;gsk-issue text-sm group peer text-left cursor-pointer hover:bg-zinc-700&quot;&gt;\n                &lt;td class=&quot;p-3&quot;&gt;\n                    &lt;svg xmlns=&quot;http://www.w3.org/2000/svg&quot; fill=&quot;none&quot; viewBox=&quot;0 0 24 24&quot; stroke-width=&quot;1.5&quot;\n                        stroke=&quot;currentColor&quot; class=&quot;w-4 h-4 group-[.open]:rotate-90&quot;&gt;\n                        &lt;path stroke-linecap=&quot;round&quot; stroke-linejoin=&quot;round&quot; d=&quot;M8.25 4.5l7.5 7.5-7.5 7.5&quot; /&gt;\n                    &lt;/svg&gt;\n                &lt;/td&gt;\n                &lt;td class=&quot;p-3&quot;&gt;\n                    &lt;code class=&quot;mono text-blue-300&quot;&gt;\n                    message contains &amp;#39;come&amp;#39;\n                &lt;/code&gt;\n                &lt;/td&gt;\n                &lt;td class=&quot;p-3&quot;&gt;\n                    Recall\n                &lt;/td&gt;\n                &lt;td class=&quot;p-3&quot;&gt;\n                    &lt;span class=&quot;text-red-400&quot;&gt;\n                        -66.42% than global\n                    &lt;/span&gt;\n                &lt;/td&gt;\n                &lt;td class=&quot;p-3&quot;&gt;\n                    &lt;span class=&quot;text-gray-400&quot;&gt;\n                        74 samples (5.31%)\n                    &lt;/span&gt;\n                &lt;/td&gt;\n                &lt;td class=&quot;p-3 text-xs text-right space-x-1&quot;&gt;\n                    &lt;a href=&quot;&quot;\n                        class=&quot;gsk-debug inline-block border border-emerald-100/50 text-emerald-100/90 hover:bg-emerald-500 hover:border-emerald-500 hover:text-white px-2 py-0.5 rounded-sm&quot;&gt;Debug&lt;/a&gt;\n                &lt;/td&gt;\n            &lt;/tr&gt;\n            &lt;tr class=&quot;gsk-issue-detail text-left collapse peer-[.open]:visible border-b border-zinc-400 bg-zinc-700&quot;&gt;\n                &lt;td colspan=&quot;6&quot; class=&quot;p-3&quot;&gt;\n                    &lt;h4 class=&quot;uppercase&quot;&gt;Examples&lt;/h4&gt;\n                    &lt;div class=&quot;text-white max-w-xl text-sm overflow-scroll&quot; style=&quot;max-width: 920px&quot;&gt;\n                        &lt;table border=&quot;1&quot; class=&quot;dataframe&quot;&gt;\n  &lt;thead&gt;\n    &lt;tr style=&quot;text-align: right;&quot;&gt;\n      &lt;th&gt;&lt;/th&gt;\n      &lt;th&gt;message&lt;/th&gt;\n      &lt;th&gt;label&lt;/th&gt;\n      &lt;th&gt;predicted_label&lt;/th&gt;\n    &lt;/tr&gt;\n  &lt;/thead&gt;\n  &lt;tbody&gt;\n    &lt;tr&gt;\n      &lt;th&gt;2773&lt;/th&gt;\n      &lt;td&gt;come takes little time child afraid dark become teenager wants stay night&lt;/td&gt;\n      &lt;td&gt;1&lt;/td&gt;\n      &lt;td&gt;0&lt;/td&gt;\n    &lt;/tr&gt;\n    &lt;tr&gt;\n      &lt;th&gt;4963&lt;/th&gt;\n      &lt;td&gt;Dear Voucher holder next meal us Use following link pc enjoy 1 dining experiencehttpwwwvouch4mecometlpdiningasp&lt;/td&gt;\n      &lt;td&gt;1&lt;/td&gt;\n      &lt;td&gt;0&lt;/td&gt;\n    &lt;/tr&gt;\n    &lt;tr&gt;\n      &lt;th&gt;4071&lt;/th&gt;\n      &lt;td&gt;Loans purpose even Bad Credit Tenants Welcome Call NoWorriesLoanscom 08717111821&lt;/td&gt;\n      &lt;td&gt;1&lt;/td&gt;\n      &lt;td&gt;0&lt;/td&gt;\n    &lt;/tr&gt;\n  &lt;/tbody&gt;\n&lt;/table&gt;\n                    &lt;/div&gt;\n                &lt;/td&gt;\n            &lt;/tr&gt;\n        &lt;/tbody&gt;\n        \n        &lt;tbody class=&quot;first:border-t border-b border-zinc-400&quot;&gt;\n            &lt;tr class=&quot;gsk-issue text-sm group peer text-left cursor-pointer hover:bg-zinc-700&quot;&gt;\n                &lt;td class=&quot;p-3&quot;&gt;\n                    &lt;svg xmlns=&quot;http://www.w3.org/2000/svg&quot; fill=&quot;none&quot; viewBox=&quot;0 0 24 24&quot; stroke-width=&quot;1.5&quot;\n                        stroke=&quot;currentColor&quot; class=&quot;w-4 h-4 group-[.open]:rotate-90&quot;&gt;\n                        &lt;path stroke-linecap=&quot;round&quot; stroke-linejoin=&quot;round&quot; d=&quot;M8.25 4.5l7.5 7.5-7.5 7.5&quot; /&gt;\n                    &lt;/svg&gt;\n                &lt;/td&gt;\n                &lt;td class=&quot;p-3&quot;&gt;\n                    &lt;code class=&quot;mono text-blue-300&quot;&gt;\n                    `avg_word_length(message)` &amp;lt; 3.7434210777282715\n                &lt;/code&gt;\n                &lt;/td&gt;\n                &lt;td class=&quot;p-3&quot;&gt;\n                    Recall\n                &lt;/td&gt;\n                &lt;td class=&quot;p-3&quot;&gt;\n                    &lt;span class=&quot;text-red-400&quot;&gt;\n                        -55.22% than global\n                    &lt;/span&gt;\n                &lt;/td&gt;\n                &lt;td class=&quot;p-3&quot;&gt;\n                    &lt;span class=&quot;text-gray-400&quot;&gt;\n                        172 samples (12.35%)\n                    &lt;/span&gt;\n                &lt;/td&gt;\n                &lt;td class=&quot;p-3 text-xs text-right space-x-1&quot;&gt;\n                    &lt;a href=&quot;&quot;\n                        class=&quot;gsk-debug inline-block border border-emerald-100/50 text-emerald-100/90 hover:bg-emerald-500 hover:border-emerald-500 hover:text-white px-2 py-0.5 rounded-sm&quot;&gt;Debug&lt;/a&gt;\n                &lt;/td&gt;\n            &lt;/tr&gt;\n            &lt;tr class=&quot;gsk-issue-detail text-left collapse peer-[.open]:visible border-b border-zinc-400 bg-zinc-700&quot;&gt;\n                &lt;td colspan=&quot;6&quot; class=&quot;p-3&quot;&gt;\n                    &lt;h4 class=&quot;uppercase&quot;&gt;Examples&lt;/h4&gt;\n                    &lt;div class=&quot;text-white max-w-xl text-sm overflow-scroll&quot; style=&quot;max-width: 920px&quot;&gt;\n                        &lt;table border=&quot;1&quot; class=&quot;dataframe&quot;&gt;\n  &lt;thead&gt;\n    &lt;tr style=&quot;text-align: right;&quot;&gt;\n      &lt;th&gt;&lt;/th&gt;\n      &lt;th&gt;message&lt;/th&gt;\n      &lt;th&gt;label&lt;/th&gt;\n      &lt;th&gt;predicted_label&lt;/th&gt;\n    &lt;/tr&gt;\n  &lt;/thead&gt;\n  &lt;tbody&gt;\n    &lt;tr&gt;\n      &lt;th&gt;2582&lt;/th&gt;\n      &lt;td&gt;3 FREE TAROT TEXTS Find love life TRY 3 FREE Text CHANCE 85555 16 3 Free Msgs å£150&lt;/td&gt;\n      &lt;td&gt;1&lt;/td&gt;\n      &lt;td&gt;0&lt;/td&gt;\n    &lt;/tr&gt;\n    &lt;tr&gt;\n      &lt;th&gt;5&lt;/th&gt;\n      &lt;td&gt;FreeMsg Hey darling 3 weeks word back Id like fun still Tb ok XxX std chgs send å£150 rcv&lt;/td&gt;\n      &lt;td&gt;1&lt;/td&gt;\n      &lt;td&gt;0&lt;/td&gt;\n    &lt;/tr&gt;\n  &lt;/tbody&gt;\n&lt;/table&gt;\n                    &lt;/div&gt;\n                &lt;/td&gt;\n            &lt;/tr&gt;\n        &lt;/tbody&gt;\n        \n        &lt;tbody class=&quot;first:border-t border-b border-zinc-400&quot;&gt;\n            &lt;tr class=&quot;gsk-issue text-sm group peer text-left cursor-pointer hover:bg-zinc-700&quot;&gt;\n                &lt;td class=&quot;p-3&quot;&gt;\n                    &lt;svg xmlns=&quot;http://www.w3.org/2000/svg&quot; fill=&quot;none&quot; viewBox=&quot;0 0 24 24&quot; stroke-width=&quot;1.5&quot;\n                        stroke=&quot;currentColor&quot; class=&quot;w-4 h-4 group-[.open]:rotate-90&quot;&gt;\n                        &lt;path stroke-linecap=&quot;round&quot; stroke-linejoin=&quot;round&quot; d=&quot;M8.25 4.5l7.5 7.5-7.5 7.5&quot; /&gt;\n                    &lt;/svg&gt;\n                &lt;/td&gt;\n                &lt;td class=&quot;p-3&quot;&gt;\n                    &lt;code class=&quot;mono text-blue-300&quot;&gt;\n                    `avg_word_length(message)` &amp;lt; 4.869318246841431 &amp;lt;br&amp;gt; `avg_word_length(message)` &amp;gt;= 4.762308359146118\n                &lt;/code&gt;\n                &lt;/td&gt;\n                &lt;td class=&quot;p-3&quot;&gt;\n                    Recall\n                &lt;/td&gt;\n                &lt;td class=&quot;p-3&quot;&gt;\n                    &lt;span class=&quot;text-amber-200&quot;&gt;\n                        -10.45% than global\n                    &lt;/span&gt;\n                &lt;/td&gt;\n                &lt;td class=&quot;p-3&quot;&gt;\n                    &lt;span class=&quot;text-gray-400&quot;&gt;\n                        72 samples (5.17%)\n                    &lt;/span&gt;\n                &lt;/td&gt;\n                &lt;td class=&quot;p-3 text-xs text-right space-x-1&quot;&gt;\n                    &lt;a href=&quot;&quot;\n                        class=&quot;gsk-debug inline-block border border-emerald-100/50 text-emerald-100/90 hover:bg-emerald-500 hover:border-emerald-500 hover:text-white px-2 py-0.5 rounded-sm&quot;&gt;Debug&lt;/a&gt;\n                &lt;/td&gt;\n            &lt;/tr&gt;\n            &lt;tr class=&quot;gsk-issue-detail text-left collapse peer-[.open]:visible border-b border-zinc-400 bg-zinc-700&quot;&gt;\n                &lt;td colspan=&quot;6&quot; class=&quot;p-3&quot;&gt;\n                    &lt;h4 class=&quot;uppercase&quot;&gt;Examples&lt;/h4&gt;\n                    &lt;div class=&quot;text-white max-w-xl text-sm overflow-scroll&quot; style=&quot;max-width: 920px&quot;&gt;\n                        &lt;table border=&quot;1&quot; class=&quot;dataframe&quot;&gt;\n  &lt;thead&gt;\n    &lt;tr style=&quot;text-align: right;&quot;&gt;\n      &lt;th&gt;&lt;/th&gt;\n      &lt;th&gt;message&lt;/th&gt;\n      &lt;th&gt;label&lt;/th&gt;\n      &lt;th&gt;predicted_label&lt;/th&gt;\n    &lt;/tr&gt;\n  &lt;/thead&gt;\n  &lt;tbody&gt;\n    &lt;tr&gt;\n      &lt;th&gt;4750&lt;/th&gt;\n      &lt;td&gt;weekly CoolMob tones ready download weeks new Tones include 1 Crazy FrogAXEL F AkonLonely 3 Black EyedDont P info n&lt;/td&gt;\n      &lt;td&gt;1&lt;/td&gt;\n      &lt;td&gt;0&lt;/td&gt;\n    &lt;/tr&gt;\n  &lt;/tbody&gt;\n&lt;/table&gt;\n                    &lt;/div&gt;\n                &lt;/td&gt;\n            &lt;/tr&gt;\n        &lt;/tbody&gt;\n        \n    &lt;/table&gt;\n&lt;/div&gt;\n&lt;!-- ISSUES TABLE END --&gt;\n\n        &lt;h2 class=&quot;uppercase mb-2 mt-8 mr-2 font-mediums flex&quot;&gt;\n            &lt;svg xmlns=&quot;http://www.w3.org/2000/svg&quot; fill=&quot;none&quot; viewBox=&quot;0 0 24 24&quot; stroke-width=&quot;1.5&quot; stroke=&quot;currentColor&quot;\n                class=&quot;w-5 h-5 mr-1&quot;&gt;\n                &lt;path stroke-linecap=&quot;round&quot; stroke-linejoin=&quot;round&quot;\n                    d=&quot;M9.879 7.519c1.171-1.025 3.071-1.025 4.242 0 1.172 1.025 1.172 2.687 0 3.712-.203.179-.43.326-.67.442-.745.361-1.45.999-1.45 1.827v.75M21 12a9 9 0 11-18 0 9 9 0 0118 0zm-9 5.25h.008v.008H12v-.008z&quot; /&gt;\n            &lt;/svg&gt;\n            Why does this happen?\n        &lt;/h2&gt;\n        &lt;p class=&quot;my-1&quot;&gt;\n            Performance bias can happen for a different reasons:\n        &lt;/p&gt;\n        &lt;ul class=&quot;list-disc ml-6&quot;&gt;\n            &lt;li&gt;Not enough training samples in the low-performing data slices&lt;/li&gt;\n            &lt;li&gt;Wrong labels in the training set in the low-performing data slices&lt;/li&gt;\n            &lt;li&gt;Drift between your training set and the test set&lt;/li&gt;\n        &lt;/ul&gt;\n\n        &lt;h2 class=&quot;uppercase mb-2 mt-8 mr-2 font-mediums flex&quot;&gt;\n            &lt;svg xmlns=&quot;http://www.w3.org/2000/svg&quot; fill=&quot;none&quot; viewBox=&quot;0 0 24 24&quot; stroke-width=&quot;1.5&quot; stroke=&quot;currentColor&quot;\n                class=&quot;w-5 h-5 mr-1&quot;&gt;\n                &lt;path stroke-linecap=&quot;round&quot; stroke-linejoin=&quot;round&quot;\n                    d=&quot;M11.42 15.17L17.25 21A2.652 2.652 0 0021 17.25l-5.877-5.877M11.42 15.17l2.496-3.03c.317-.384.74-.626 1.208-.766M11.42 15.17l-4.655 5.653a2.548 2.548 0 11-3.586-3.586l6.837-5.63m5.108-.233c.55-.164 1.163-.188 1.743-.14a4.5 4.5 0 004.486-6.336l-3.276 3.277a3.004 3.004 0 01-2.25-2.25l3.276-3.276a4.5 4.5 0 00-6.336 4.486c.091 1.076-.071 2.264-.904 2.95l-.102.085m-1.745 1.437L5.909 7.5H4.5L2.25 3.75l1.5-1.5L7.5 4.5v1.409l4.26 4.26m-1.745 1.437l1.745-1.437m6.615 8.206L15.75 15.75M4.867 19.125h.008v.008h-.008v-.008z&quot; /&gt;\n            &lt;/svg&gt;\n            How to correct this?\n        &lt;/h2&gt;\n        &lt;p class=&quot;my-1 max-w-xl&quot;&gt;\n            We strongly recommend that you inspect the incorrect samples in the detected low-performing data\n            slices. This will allow you to find the right feature engineering or data augmentation strategies to\n            avoid such biases.\n        &lt;/p&gt;\n\n        &lt;div class=&quot;my-5 space-x-2&quot;&gt;\n            &lt;a href=&quot;#&quot; class=&quot;bg-orange-700 hover:bg-orange-600 inline-block py-2 px-3 rounded-sm&quot;&gt;Customize\n                Test\n                Suite&lt;/a&gt;\n            &lt;a href=&quot;#&quot; class=&quot;bg-zinc-500 hover:bg-emerald-500 inline-block py-2 px-3 rounded-sm&quot;&gt;Debug Test\n                Suite&lt;/a&gt;\n        &lt;/div&gt;\n        \n    &lt;/div&gt;\n\n    &lt;/div&gt;\n&lt;/div&gt;\n&lt;script type=&quot;text/javascript&quot;&gt;\n        (function () {\n            console.log(&quot;Loading Giskard Scan&quot;);\n            let rows = document.querySelectorAll(&quot;#gsk-scan .gsk-issue&quot;)\n            rows.forEach(rowEl =&gt; {\n                {\n                    rowEl.addEventListener(&quot;click&quot;, (event) =&gt; {\n                        {\n                            event.preventDefault()\n                            if (event.target.classList.contains(&quot;gsk-debug&quot;)) {\n                                {\n                                    alert(&quot;Not implemented yet&quot;)\n                                    return;\n                                }\n                            }\n\n                            rowEl.classList.toggle(&quot;open&quot;)\n                            rowEl.classList.toggle(&quot;bg-zinc-700&quot;)\n                        }\n                    })\n                }\n            });\n\n            const tabs = document.querySelectorAll(&quot;#gsk-scan [role=&#x27;tabpanel&#x27;]&quot;)\n            const tabHeaders = document.querySelectorAll(&quot;#gsk-scan [data-tab-target]&quot;)\n            tabHeaders.forEach(tabHeader =&gt; {\n                tabHeader.addEventListener(&quot;click&quot;, (event) =&gt; {\n                    event.preventDefault()\n                    const tabId = tabHeader.getAttribute(&quot;data-tab-target&quot;)\n\n                    tabs.forEach(tab =&gt; {\n                        tab.classList.add(&quot;hidden&quot;)\n                    })\n                    tabHeaders.forEach(tabh =&gt; {\n                        tabh.classList.remove(&quot;active&quot;)\n                    })\n\n                    tabHeader.classList.add(&quot;active&quot;)\n                    console.log(tabId)\n                    document.getElementById(tabId).classList.remove(&quot;hidden&quot;)\n\n                })\n            })\n\n        })()\n&lt;/script&gt;\n\" style=\"width: 100%; border: none;\" class=\"gsk-scan\"></iframe>\n<script>\n(function() {\n    // @TODO: fix this\n    let elements = document.querySelectorAll(\".gsk-scan\");\n    elements.forEach(el => {\n        el.style.height = el.contentWindow.document.body.scrollHeight + \"px\";\n        setTimeout(() => {\n            el.style.height = el.contentWindow.document.body.scrollHeight + \"px\";\n        }, 1000)\n\n    })\n})()\n</script>\n"
     },
     "metadata": {},
     "output_type": "display_data"
    }
   ],
   "source": [
    "display(naive_bayes_scan)"
   ],
   "metadata": {
    "collapsed": false,
    "ExecuteTime": {
     "end_time": "2023-05-10T16:01:52.567155Z",
     "start_time": "2023-05-10T16:01:52.406266Z"
    }
   }
  },
  {
   "cell_type": "code",
   "execution_count": 19,
   "outputs": [
    {
     "name": "stdout",
     "output_type": "stream",
     "text": [
      "Hint: \"Your target variable values are numeric. It is recommended to have Human readable string as your target values to make results more understandable in Giskard.\"\n",
      "Your model is successfully validated.\n"
     ]
    }
   ],
   "source": [
    "# Scan Logistic regression model.\n",
    "logistic_regression_scan = giskard.scan(wrapped_model_logistic_regression, wrapped_dataset)"
   ],
   "metadata": {
    "collapsed": false,
    "ExecuteTime": {
     "end_time": "2023-05-10T16:01:59.108287Z",
     "start_time": "2023-05-10T16:01:52.565763Z"
    }
   }
  },
  {
   "cell_type": "code",
   "execution_count": 20,
   "outputs": [
    {
     "data": {
      "text/html": "<iframe srcdoc=\"\n&lt;script src=&quot;https://cdn.tailwindcss.com&quot;&gt;&lt;/script&gt;\n&lt;script&gt;\n    tailwind.config = {\n        darkMode: &#x27;class&#x27;\n    }\n&lt;/script&gt;\n&lt;style&gt;\n    table.dataframe {\n        width: 100%;\n        max-width: 100%;\n        overflow: auto;\n    }\n\n    .dataframe tr {\n        border-bottom: 1px solid #555;\n    }\n\n    .dataframe td,\n    .dataframe th {\n        padding: 0.5rem;\n    }\n&lt;/style&gt;\n\n\n\n&lt;div class=&quot;dark&quot;&gt;\n    &lt;div id=&quot;gsk-scan&quot; class=&quot;dark:text-white dark:bg-zinc-900&quot;&gt;\n        &lt;!-- TAB HEADER --&gt;\n&lt;div class=&quot;flex items-center items-stretch h-11&quot;&gt;\n    &lt;div class=&quot;flex items-center px-4 dark:fill-white border-b border-gray-500 h-11&quot;&gt;\n        &lt;svg xmlns=&quot;http://www.w3.org/2000/svg&quot; xml:space=&quot;preserve&quot; viewBox=&quot;0 0 410 213&quot; height=&quot;15&quot;&gt;\n            &lt;path\n                d=&quot;M318.78 21.94a59.439 59.439 0 0 1 36.45-12.56v.03c7.09-.1 14.13 1.2 20.71 3.84 6.58 2.64 12.57 6.56 17.62 11.54s9.06 10.91 11.8 17.45a53.44 53.44 0 0 1 0 41.3 53.588 53.588 0 0 1-11.8 17.45c-5.05 4.98-11.04 8.9-17.62 11.54s-13.62 3.95-20.71 3.84l-67.92.16-35.87 49.11-135.24 46.84 40.81-47.24a139.229 139.229 0 0 1-66.06-23.8H45.11L0 101.46h55.73C60.38 44.84 115.97 0 183.59 0c31.71 0 63.58 9.86 87.47 27.04a105.149 105.149 0 0 1 26.65 27.18 59.4 59.4 0 0 1 21.07-32.28zM99.85 46.03l55.4 55.45h21.31l-64.81-64.87c-4.18 2.86-8.15 6.01-11.9 9.42zm57.78-28.45 83.9 83.9h21.29l-86.21-86.22c-6.37.32-12.71 1.1-18.98 2.32zm-92.84 98.94H39.72l11.1 9.82h22.44c-3-3.12-5.83-6.4-8.47-9.82zm134.27 0H84.8l-.03.01c20.8 20.91 51.79 33.67 84.66 34.3l29.63-34.31zm-34.81 63.35 77.79-26.94 26.6-36.39h-49.68l-54.71 63.33zm146.77-78.65h46.2l.05.01c9.98-.55 19.36-4.97 26.14-12.32a38.409 38.409 0 0 0 10.16-27.05 38.44 38.44 0 0 0-11.56-26.48 38.405 38.405 0 0 0-26.74-10.94A44.287 44.287 0 0 0 324 37.41a44.268 44.268 0 0 0-12.97 31.28v32.53zm51.82-52.83c5.27.52 9.12 5.22 8.6 10.49-.52 5.27-5.22 9.12-10.49 8.6s-9.12-5.22-8.6-10.49c.53-5.27 5.22-9.12 10.49-8.6z&quot;\n                style=&quot;fill-rule:evenodd;clip-rule:evenodd&quot; /&gt;\n        &lt;/svg&gt;\n        &lt;div class=&quot;ml-4 py-2&quot;&gt;\n            &lt;span class=&quot;uppercase text-sm&quot;&gt;8 issues detected&lt;/span&gt;\n        &lt;/div&gt;\n    &lt;/div&gt;\n\n    \n    &lt;div data-tab-target=&quot;Model_bias&quot; class=&quot;h-12 group active&quot;&gt;\n        &lt;div\n            class=&quot;group-[.active]:bg-zinc-800 group-[.active]:border-b-zinc-800 group-[.active]:border-gray-500 border-l px-3 py-2 border-r border-t border-b border-gray-600 border-b-gray-500 h-11&quot;&gt;\n            Model bias\n            \n            \n            &lt;span class=&quot;ml-1 rounded-full text-xs min-w-4 min-h-4 px-1 py-0.5 inline-block text-center bg-red-400&quot;&gt;\n                \n                    8\n                &lt;/span&gt;\n                \n        &lt;/div&gt;\n    &lt;/div&gt;\n    \n\n    &lt;div class=&quot;flex-grow border-b border-gray-500 h-11&quot;&gt;&lt;/div&gt;\n&lt;/div&gt;\n&lt;!-- TAB HEADER END --&gt;\n        \n    &lt;div id=&quot;Model_bias&quot; role=&quot;tabpanel&quot; class=&quot;dark:text-white dark:bg-zinc-800 p-4 pt-4 mb-4&quot;&gt;\n        \n        &lt;div class=&quot;p-3 mt-2 bg-amber-100/40 rounded-sm w-full flex align-middle&quot;&gt;\n            &lt;div class=&quot;text-amber-100&quot;&gt;\n                &lt;svg xmlns=&quot;http://www.w3.org/2000/svg&quot; fill=&quot;none&quot; viewBox=&quot;0 0 24 24&quot; stroke-width=&quot;1.5&quot;\n                    stroke=&quot;currentColor&quot; class=&quot;mt-0.5 w-6 h-6&quot;&gt;\n                    &lt;path stroke-linecap=&quot;round&quot; stroke-linejoin=&quot;round&quot;\n                        d=&quot;M12 9v3.75m-9.303 3.376c-.866 1.5.217 3.374 1.948 3.374h14.71c1.73 0 2.813-1.874 1.948-3.374L13.949 3.378c-.866-1.5-3.032-1.5-3.898 0L2.697 16.126zM12 15.75h.007v.008H12v-.008z&quot; /&gt;\n                &lt;/svg&gt;\n            &lt;/div&gt;\n            &lt;p class=&quot;ml-2 my-1 text-amber-100 text-sm&quot;&gt;\n                We detected some spots in your data where the model has a tendency to make incorrect\n                predictions.\n            &lt;/p&gt;\n        &lt;/div&gt;\n        \n\n        \n        &lt;div class=&quot;flex items-center space-x-1&quot;&gt;\n            &lt;h2 class=&quot;uppercase my-4 mr-2 font-medium&quot;&gt;Issues&lt;/h2&gt;\n            \n            &lt;span class=&quot;text-xs border rounded px-1 uppercase text-red-400 border-red-400&quot;&gt;8 major&lt;/span&gt;\n            \n            \n        &lt;/div&gt;\n\n        &lt;!-- ISSUES TABLE --&gt;\n&lt;div class=&quot;mb-4&quot;&gt;\n    &lt;table class=&quot;table-auto w-full text-white&quot;&gt;\n        \n        &lt;tbody class=&quot;first:border-t border-b border-zinc-400&quot;&gt;\n            &lt;tr class=&quot;gsk-issue text-sm group peer text-left cursor-pointer hover:bg-zinc-700&quot;&gt;\n                &lt;td class=&quot;p-3&quot;&gt;\n                    &lt;svg xmlns=&quot;http://www.w3.org/2000/svg&quot; fill=&quot;none&quot; viewBox=&quot;0 0 24 24&quot; stroke-width=&quot;1.5&quot;\n                        stroke=&quot;currentColor&quot; class=&quot;w-4 h-4 group-[.open]:rotate-90&quot;&gt;\n                        &lt;path stroke-linecap=&quot;round&quot; stroke-linejoin=&quot;round&quot; d=&quot;M8.25 4.5l7.5 7.5-7.5 7.5&quot; /&gt;\n                    &lt;/svg&gt;\n                &lt;/td&gt;\n                &lt;td class=&quot;p-3&quot;&gt;\n                    &lt;code class=&quot;mono text-blue-300&quot;&gt;\n                    `text_length(message)` &amp;lt; 66.5 &amp;lt;br&amp;gt; `text_length(message)` &amp;gt;= 54.5\n                &lt;/code&gt;\n                &lt;/td&gt;\n                &lt;td class=&quot;p-3&quot;&gt;\n                    F1 Score\n                &lt;/td&gt;\n                &lt;td class=&quot;p-3&quot;&gt;\n                    &lt;span class=&quot;text-red-400&quot;&gt;\n                        -100.00% than global\n                    &lt;/span&gt;\n                &lt;/td&gt;\n                &lt;td class=&quot;p-3&quot;&gt;\n                    &lt;span class=&quot;text-gray-400&quot;&gt;\n                        95 samples (6.82%)\n                    &lt;/span&gt;\n                &lt;/td&gt;\n                &lt;td class=&quot;p-3 text-xs text-right space-x-1&quot;&gt;\n                    &lt;a href=&quot;&quot;\n                        class=&quot;gsk-debug inline-block border border-emerald-100/50 text-emerald-100/90 hover:bg-emerald-500 hover:border-emerald-500 hover:text-white px-2 py-0.5 rounded-sm&quot;&gt;Debug&lt;/a&gt;\n                &lt;/td&gt;\n            &lt;/tr&gt;\n            &lt;tr class=&quot;gsk-issue-detail text-left collapse peer-[.open]:visible border-b border-zinc-400 bg-zinc-700&quot;&gt;\n                &lt;td colspan=&quot;6&quot; class=&quot;p-3&quot;&gt;\n                    &lt;h4 class=&quot;uppercase&quot;&gt;Examples&lt;/h4&gt;\n                    &lt;div class=&quot;text-white max-w-xl text-sm overflow-scroll&quot; style=&quot;max-width: 920px&quot;&gt;\n                        &lt;table border=&quot;1&quot; class=&quot;dataframe&quot;&gt;\n  &lt;thead&gt;\n    &lt;tr style=&quot;text-align: right;&quot;&gt;\n      &lt;th&gt;&lt;/th&gt;\n      &lt;th&gt;message&lt;/th&gt;\n      &lt;th&gt;label&lt;/th&gt;\n      &lt;th&gt;predicted_label&lt;/th&gt;\n    &lt;/tr&gt;\n  &lt;/thead&gt;\n  &lt;tbody&gt;\n  &lt;/tbody&gt;\n&lt;/table&gt;\n                    &lt;/div&gt;\n                &lt;/td&gt;\n            &lt;/tr&gt;\n        &lt;/tbody&gt;\n        \n        &lt;tbody class=&quot;first:border-t border-b border-zinc-400&quot;&gt;\n            &lt;tr class=&quot;gsk-issue text-sm group peer text-left cursor-pointer hover:bg-zinc-700&quot;&gt;\n                &lt;td class=&quot;p-3&quot;&gt;\n                    &lt;svg xmlns=&quot;http://www.w3.org/2000/svg&quot; fill=&quot;none&quot; viewBox=&quot;0 0 24 24&quot; stroke-width=&quot;1.5&quot;\n                        stroke=&quot;currentColor&quot; class=&quot;w-4 h-4 group-[.open]:rotate-90&quot;&gt;\n                        &lt;path stroke-linecap=&quot;round&quot; stroke-linejoin=&quot;round&quot; d=&quot;M8.25 4.5l7.5 7.5-7.5 7.5&quot; /&gt;\n                    &lt;/svg&gt;\n                &lt;/td&gt;\n                &lt;td class=&quot;p-3&quot;&gt;\n                    &lt;code class=&quot;mono text-blue-300&quot;&gt;\n                    `text_length(message)` &amp;lt; 14.5 &amp;lt;br&amp;gt; `text_length(message)` &amp;gt;= 10.5\n                &lt;/code&gt;\n                &lt;/td&gt;\n                &lt;td class=&quot;p-3&quot;&gt;\n                    F1 Score\n                &lt;/td&gt;\n                &lt;td class=&quot;p-3&quot;&gt;\n                    &lt;span class=&quot;text-red-400&quot;&gt;\n                        -100.00% than global\n                    &lt;/span&gt;\n                &lt;/td&gt;\n                &lt;td class=&quot;p-3&quot;&gt;\n                    &lt;span class=&quot;text-gray-400&quot;&gt;\n                        74 samples (5.31%)\n                    &lt;/span&gt;\n                &lt;/td&gt;\n                &lt;td class=&quot;p-3 text-xs text-right space-x-1&quot;&gt;\n                    &lt;a href=&quot;&quot;\n                        class=&quot;gsk-debug inline-block border border-emerald-100/50 text-emerald-100/90 hover:bg-emerald-500 hover:border-emerald-500 hover:text-white px-2 py-0.5 rounded-sm&quot;&gt;Debug&lt;/a&gt;\n                &lt;/td&gt;\n            &lt;/tr&gt;\n            &lt;tr class=&quot;gsk-issue-detail text-left collapse peer-[.open]:visible border-b border-zinc-400 bg-zinc-700&quot;&gt;\n                &lt;td colspan=&quot;6&quot; class=&quot;p-3&quot;&gt;\n                    &lt;h4 class=&quot;uppercase&quot;&gt;Examples&lt;/h4&gt;\n                    &lt;div class=&quot;text-white max-w-xl text-sm overflow-scroll&quot; style=&quot;max-width: 920px&quot;&gt;\n                        &lt;table border=&quot;1&quot; class=&quot;dataframe&quot;&gt;\n  &lt;thead&gt;\n    &lt;tr style=&quot;text-align: right;&quot;&gt;\n      &lt;th&gt;&lt;/th&gt;\n      &lt;th&gt;message&lt;/th&gt;\n      &lt;th&gt;label&lt;/th&gt;\n      &lt;th&gt;predicted_label&lt;/th&gt;\n    &lt;/tr&gt;\n  &lt;/thead&gt;\n  &lt;tbody&gt;\n    &lt;tr&gt;\n      &lt;th&gt;2950&lt;/th&gt;\n      &lt;td&gt;Hey free call&lt;/td&gt;\n      &lt;td&gt;0&lt;/td&gt;\n      &lt;td&gt;1&lt;/td&gt;\n    &lt;/tr&gt;\n    &lt;tr&gt;\n      &lt;th&gt;3116&lt;/th&gt;\n      &lt;td&gt;free call pa&lt;/td&gt;\n      &lt;td&gt;0&lt;/td&gt;\n      &lt;td&gt;1&lt;/td&gt;\n    &lt;/tr&gt;\n  &lt;/tbody&gt;\n&lt;/table&gt;\n                    &lt;/div&gt;\n                &lt;/td&gt;\n            &lt;/tr&gt;\n        &lt;/tbody&gt;\n        \n        &lt;tbody class=&quot;first:border-t border-b border-zinc-400&quot;&gt;\n            &lt;tr class=&quot;gsk-issue text-sm group peer text-left cursor-pointer hover:bg-zinc-700&quot;&gt;\n                &lt;td class=&quot;p-3&quot;&gt;\n                    &lt;svg xmlns=&quot;http://www.w3.org/2000/svg&quot; fill=&quot;none&quot; viewBox=&quot;0 0 24 24&quot; stroke-width=&quot;1.5&quot;\n                        stroke=&quot;currentColor&quot; class=&quot;w-4 h-4 group-[.open]:rotate-90&quot;&gt;\n                        &lt;path stroke-linecap=&quot;round&quot; stroke-linejoin=&quot;round&quot; d=&quot;M8.25 4.5l7.5 7.5-7.5 7.5&quot; /&gt;\n                    &lt;/svg&gt;\n                &lt;/td&gt;\n                &lt;td class=&quot;p-3&quot;&gt;\n                    &lt;code class=&quot;mono text-blue-300&quot;&gt;\n                    `text_length(message)` &amp;lt; 27.5 &amp;lt;br&amp;gt; `text_length(message)` &amp;gt;= 16.5\n                &lt;/code&gt;\n                &lt;/td&gt;\n                &lt;td class=&quot;p-3&quot;&gt;\n                    F1 Score\n                &lt;/td&gt;\n                &lt;td class=&quot;p-3&quot;&gt;\n                    &lt;span class=&quot;text-red-400&quot;&gt;\n                        -100.00% than global\n                    &lt;/span&gt;\n                &lt;/td&gt;\n                &lt;td class=&quot;p-3&quot;&gt;\n                    &lt;span class=&quot;text-gray-400&quot;&gt;\n                        299 samples (21.46%)\n                    &lt;/span&gt;\n                &lt;/td&gt;\n                &lt;td class=&quot;p-3 text-xs text-right space-x-1&quot;&gt;\n                    &lt;a href=&quot;&quot;\n                        class=&quot;gsk-debug inline-block border border-emerald-100/50 text-emerald-100/90 hover:bg-emerald-500 hover:border-emerald-500 hover:text-white px-2 py-0.5 rounded-sm&quot;&gt;Debug&lt;/a&gt;\n                &lt;/td&gt;\n            &lt;/tr&gt;\n            &lt;tr class=&quot;gsk-issue-detail text-left collapse peer-[.open]:visible border-b border-zinc-400 bg-zinc-700&quot;&gt;\n                &lt;td colspan=&quot;6&quot; class=&quot;p-3&quot;&gt;\n                    &lt;h4 class=&quot;uppercase&quot;&gt;Examples&lt;/h4&gt;\n                    &lt;div class=&quot;text-white max-w-xl text-sm overflow-scroll&quot; style=&quot;max-width: 920px&quot;&gt;\n                        &lt;table border=&quot;1&quot; class=&quot;dataframe&quot;&gt;\n  &lt;thead&gt;\n    &lt;tr style=&quot;text-align: right;&quot;&gt;\n      &lt;th&gt;&lt;/th&gt;\n      &lt;th&gt;message&lt;/th&gt;\n      &lt;th&gt;label&lt;/th&gt;\n      &lt;th&gt;predicted_label&lt;/th&gt;\n    &lt;/tr&gt;\n  &lt;/thead&gt;\n  &lt;tbody&gt;\n  &lt;/tbody&gt;\n&lt;/table&gt;\n                    &lt;/div&gt;\n                &lt;/td&gt;\n            &lt;/tr&gt;\n        &lt;/tbody&gt;\n        \n        &lt;tbody class=&quot;first:border-t border-b border-zinc-400&quot;&gt;\n            &lt;tr class=&quot;gsk-issue text-sm group peer text-left cursor-pointer hover:bg-zinc-700&quot;&gt;\n                &lt;td class=&quot;p-3&quot;&gt;\n                    &lt;svg xmlns=&quot;http://www.w3.org/2000/svg&quot; fill=&quot;none&quot; viewBox=&quot;0 0 24 24&quot; stroke-width=&quot;1.5&quot;\n                        stroke=&quot;currentColor&quot; class=&quot;w-4 h-4 group-[.open]:rotate-90&quot;&gt;\n                        &lt;path stroke-linecap=&quot;round&quot; stroke-linejoin=&quot;round&quot; d=&quot;M8.25 4.5l7.5 7.5-7.5 7.5&quot; /&gt;\n                    &lt;/svg&gt;\n                &lt;/td&gt;\n                &lt;td class=&quot;p-3&quot;&gt;\n                    &lt;code class=&quot;mono text-blue-300&quot;&gt;\n                    `avg_word_length(message)` &amp;lt; 3.612499952316284 &amp;lt;br&amp;gt; `avg_word_length(message)` &amp;gt;= 3.2792208194732666\n                &lt;/code&gt;\n                &lt;/td&gt;\n                &lt;td class=&quot;p-3&quot;&gt;\n                    F1 Score\n                &lt;/td&gt;\n                &lt;td class=&quot;p-3&quot;&gt;\n                    &lt;span class=&quot;text-red-400&quot;&gt;\n                        -100.00% than global\n                    &lt;/span&gt;\n                &lt;/td&gt;\n                &lt;td class=&quot;p-3&quot;&gt;\n                    &lt;span class=&quot;text-gray-400&quot;&gt;\n                        73 samples (5.24%)\n                    &lt;/span&gt;\n                &lt;/td&gt;\n                &lt;td class=&quot;p-3 text-xs text-right space-x-1&quot;&gt;\n                    &lt;a href=&quot;&quot;\n                        class=&quot;gsk-debug inline-block border border-emerald-100/50 text-emerald-100/90 hover:bg-emerald-500 hover:border-emerald-500 hover:text-white px-2 py-0.5 rounded-sm&quot;&gt;Debug&lt;/a&gt;\n                &lt;/td&gt;\n            &lt;/tr&gt;\n            &lt;tr class=&quot;gsk-issue-detail text-left collapse peer-[.open]:visible border-b border-zinc-400 bg-zinc-700&quot;&gt;\n                &lt;td colspan=&quot;6&quot; class=&quot;p-3&quot;&gt;\n                    &lt;h4 class=&quot;uppercase&quot;&gt;Examples&lt;/h4&gt;\n                    &lt;div class=&quot;text-white max-w-xl text-sm overflow-scroll&quot; style=&quot;max-width: 920px&quot;&gt;\n                        &lt;table border=&quot;1&quot; class=&quot;dataframe&quot;&gt;\n  &lt;thead&gt;\n    &lt;tr style=&quot;text-align: right;&quot;&gt;\n      &lt;th&gt;&lt;/th&gt;\n      &lt;th&gt;message&lt;/th&gt;\n      &lt;th&gt;label&lt;/th&gt;\n      &lt;th&gt;predicted_label&lt;/th&gt;\n    &lt;/tr&gt;\n  &lt;/thead&gt;\n  &lt;tbody&gt;\n    &lt;tr&gt;\n      &lt;th&gt;3116&lt;/th&gt;\n      &lt;td&gt;free call pa&lt;/td&gt;\n      &lt;td&gt;0&lt;/td&gt;\n      &lt;td&gt;1&lt;/td&gt;\n    &lt;/tr&gt;\n  &lt;/tbody&gt;\n&lt;/table&gt;\n                    &lt;/div&gt;\n                &lt;/td&gt;\n            &lt;/tr&gt;\n        &lt;/tbody&gt;\n        \n        &lt;tbody class=&quot;first:border-t border-b border-zinc-400&quot;&gt;\n            &lt;tr class=&quot;gsk-issue text-sm group peer text-left cursor-pointer hover:bg-zinc-700&quot;&gt;\n                &lt;td class=&quot;p-3&quot;&gt;\n                    &lt;svg xmlns=&quot;http://www.w3.org/2000/svg&quot; fill=&quot;none&quot; viewBox=&quot;0 0 24 24&quot; stroke-width=&quot;1.5&quot;\n                        stroke=&quot;currentColor&quot; class=&quot;w-4 h-4 group-[.open]:rotate-90&quot;&gt;\n                        &lt;path stroke-linecap=&quot;round&quot; stroke-linejoin=&quot;round&quot; d=&quot;M8.25 4.5l7.5 7.5-7.5 7.5&quot; /&gt;\n                    &lt;/svg&gt;\n                &lt;/td&gt;\n                &lt;td class=&quot;p-3&quot;&gt;\n                    &lt;code class=&quot;mono text-blue-300&quot;&gt;\n                    message contains &amp;#39;got&amp;#39;\n                &lt;/code&gt;\n                &lt;/td&gt;\n                &lt;td class=&quot;p-3&quot;&gt;\n                    F1 Score\n                &lt;/td&gt;\n                &lt;td class=&quot;p-3&quot;&gt;\n                    &lt;span class=&quot;text-red-400&quot;&gt;\n                        -100.00% than global\n                    &lt;/span&gt;\n                &lt;/td&gt;\n                &lt;td class=&quot;p-3&quot;&gt;\n                    &lt;span class=&quot;text-gray-400&quot;&gt;\n                        72 samples (5.17%)\n                    &lt;/span&gt;\n                &lt;/td&gt;\n                &lt;td class=&quot;p-3 text-xs text-right space-x-1&quot;&gt;\n                    &lt;a href=&quot;&quot;\n                        class=&quot;gsk-debug inline-block border border-emerald-100/50 text-emerald-100/90 hover:bg-emerald-500 hover:border-emerald-500 hover:text-white px-2 py-0.5 rounded-sm&quot;&gt;Debug&lt;/a&gt;\n                &lt;/td&gt;\n            &lt;/tr&gt;\n            &lt;tr class=&quot;gsk-issue-detail text-left collapse peer-[.open]:visible border-b border-zinc-400 bg-zinc-700&quot;&gt;\n                &lt;td colspan=&quot;6&quot; class=&quot;p-3&quot;&gt;\n                    &lt;h4 class=&quot;uppercase&quot;&gt;Examples&lt;/h4&gt;\n                    &lt;div class=&quot;text-white max-w-xl text-sm overflow-scroll&quot; style=&quot;max-width: 920px&quot;&gt;\n                        &lt;table border=&quot;1&quot; class=&quot;dataframe&quot;&gt;\n  &lt;thead&gt;\n    &lt;tr style=&quot;text-align: right;&quot;&gt;\n      &lt;th&gt;&lt;/th&gt;\n      &lt;th&gt;message&lt;/th&gt;\n      &lt;th&gt;label&lt;/th&gt;\n      &lt;th&gt;predicted_label&lt;/th&gt;\n    &lt;/tr&gt;\n  &lt;/thead&gt;\n  &lt;tbody&gt;\n    &lt;tr&gt;\n      &lt;th&gt;3057&lt;/th&gt;\n      &lt;td&gt;unsubscribed services Get tons sexy babes hunks straight phone go httpgotbabescouk subscriptions&lt;/td&gt;\n      &lt;td&gt;1&lt;/td&gt;\n      &lt;td&gt;0&lt;/td&gt;\n    &lt;/tr&gt;\n  &lt;/tbody&gt;\n&lt;/table&gt;\n                    &lt;/div&gt;\n                &lt;/td&gt;\n            &lt;/tr&gt;\n        &lt;/tbody&gt;\n        \n        &lt;tbody class=&quot;first:border-t border-b border-zinc-400&quot;&gt;\n            &lt;tr class=&quot;gsk-issue text-sm group peer text-left cursor-pointer hover:bg-zinc-700&quot;&gt;\n                &lt;td class=&quot;p-3&quot;&gt;\n                    &lt;svg xmlns=&quot;http://www.w3.org/2000/svg&quot; fill=&quot;none&quot; viewBox=&quot;0 0 24 24&quot; stroke-width=&quot;1.5&quot;\n                        stroke=&quot;currentColor&quot; class=&quot;w-4 h-4 group-[.open]:rotate-90&quot;&gt;\n                        &lt;path stroke-linecap=&quot;round&quot; stroke-linejoin=&quot;round&quot; d=&quot;M8.25 4.5l7.5 7.5-7.5 7.5&quot; /&gt;\n                    &lt;/svg&gt;\n                &lt;/td&gt;\n                &lt;td class=&quot;p-3&quot;&gt;\n                    &lt;code class=&quot;mono text-blue-300&quot;&gt;\n                    message contains &amp;#39;come&amp;#39;\n                &lt;/code&gt;\n                &lt;/td&gt;\n                &lt;td class=&quot;p-3&quot;&gt;\n                    Recall\n                &lt;/td&gt;\n                &lt;td class=&quot;p-3&quot;&gt;\n                    &lt;span class=&quot;text-red-400&quot;&gt;\n                        -66.17% than global\n                    &lt;/span&gt;\n                &lt;/td&gt;\n                &lt;td class=&quot;p-3&quot;&gt;\n                    &lt;span class=&quot;text-gray-400&quot;&gt;\n                        74 samples (5.31%)\n                    &lt;/span&gt;\n                &lt;/td&gt;\n                &lt;td class=&quot;p-3 text-xs text-right space-x-1&quot;&gt;\n                    &lt;a href=&quot;&quot;\n                        class=&quot;gsk-debug inline-block border border-emerald-100/50 text-emerald-100/90 hover:bg-emerald-500 hover:border-emerald-500 hover:text-white px-2 py-0.5 rounded-sm&quot;&gt;Debug&lt;/a&gt;\n                &lt;/td&gt;\n            &lt;/tr&gt;\n            &lt;tr class=&quot;gsk-issue-detail text-left collapse peer-[.open]:visible border-b border-zinc-400 bg-zinc-700&quot;&gt;\n                &lt;td colspan=&quot;6&quot; class=&quot;p-3&quot;&gt;\n                    &lt;h4 class=&quot;uppercase&quot;&gt;Examples&lt;/h4&gt;\n                    &lt;div class=&quot;text-white max-w-xl text-sm overflow-scroll&quot; style=&quot;max-width: 920px&quot;&gt;\n                        &lt;table border=&quot;1&quot; class=&quot;dataframe&quot;&gt;\n  &lt;thead&gt;\n    &lt;tr style=&quot;text-align: right;&quot;&gt;\n      &lt;th&gt;&lt;/th&gt;\n      &lt;th&gt;message&lt;/th&gt;\n      &lt;th&gt;label&lt;/th&gt;\n      &lt;th&gt;predicted_label&lt;/th&gt;\n    &lt;/tr&gt;\n  &lt;/thead&gt;\n  &lt;tbody&gt;\n    &lt;tr&gt;\n      &lt;th&gt;2773&lt;/th&gt;\n      &lt;td&gt;come takes little time child afraid dark become teenager wants stay night&lt;/td&gt;\n      &lt;td&gt;1&lt;/td&gt;\n      &lt;td&gt;0&lt;/td&gt;\n    &lt;/tr&gt;\n    &lt;tr&gt;\n      &lt;th&gt;4963&lt;/th&gt;\n      &lt;td&gt;Dear Voucher holder next meal us Use following link pc enjoy 1 dining experiencehttpwwwvouch4mecometlpdiningasp&lt;/td&gt;\n      &lt;td&gt;1&lt;/td&gt;\n      &lt;td&gt;0&lt;/td&gt;\n    &lt;/tr&gt;\n    &lt;tr&gt;\n      &lt;th&gt;4071&lt;/th&gt;\n      &lt;td&gt;Loans purpose even Bad Credit Tenants Welcome Call NoWorriesLoanscom 08717111821&lt;/td&gt;\n      &lt;td&gt;1&lt;/td&gt;\n      &lt;td&gt;0&lt;/td&gt;\n    &lt;/tr&gt;\n  &lt;/tbody&gt;\n&lt;/table&gt;\n                    &lt;/div&gt;\n                &lt;/td&gt;\n            &lt;/tr&gt;\n        &lt;/tbody&gt;\n        \n        &lt;tbody class=&quot;first:border-t border-b border-zinc-400&quot;&gt;\n            &lt;tr class=&quot;gsk-issue text-sm group peer text-left cursor-pointer hover:bg-zinc-700&quot;&gt;\n                &lt;td class=&quot;p-3&quot;&gt;\n                    &lt;svg xmlns=&quot;http://www.w3.org/2000/svg&quot; fill=&quot;none&quot; viewBox=&quot;0 0 24 24&quot; stroke-width=&quot;1.5&quot;\n                        stroke=&quot;currentColor&quot; class=&quot;w-4 h-4 group-[.open]:rotate-90&quot;&gt;\n                        &lt;path stroke-linecap=&quot;round&quot; stroke-linejoin=&quot;round&quot; d=&quot;M8.25 4.5l7.5 7.5-7.5 7.5&quot; /&gt;\n                    &lt;/svg&gt;\n                &lt;/td&gt;\n                &lt;td class=&quot;p-3&quot;&gt;\n                    &lt;code class=&quot;mono text-blue-300&quot;&gt;\n                    message contains &amp;#39;ill&amp;#39;\n                &lt;/code&gt;\n                &lt;/td&gt;\n                &lt;td class=&quot;p-3&quot;&gt;\n                    Recall\n                &lt;/td&gt;\n                &lt;td class=&quot;p-3&quot;&gt;\n                    &lt;span class=&quot;text-red-400&quot;&gt;\n                        -45.86% than global\n                    &lt;/span&gt;\n                &lt;/td&gt;\n                &lt;td class=&quot;p-3&quot;&gt;\n                    &lt;span class=&quot;text-gray-400&quot;&gt;\n                        118 samples (8.47%)\n                    &lt;/span&gt;\n                &lt;/td&gt;\n                &lt;td class=&quot;p-3 text-xs text-right space-x-1&quot;&gt;\n                    &lt;a href=&quot;&quot;\n                        class=&quot;gsk-debug inline-block border border-emerald-100/50 text-emerald-100/90 hover:bg-emerald-500 hover:border-emerald-500 hover:text-white px-2 py-0.5 rounded-sm&quot;&gt;Debug&lt;/a&gt;\n                &lt;/td&gt;\n            &lt;/tr&gt;\n            &lt;tr class=&quot;gsk-issue-detail text-left collapse peer-[.open]:visible border-b border-zinc-400 bg-zinc-700&quot;&gt;\n                &lt;td colspan=&quot;6&quot; class=&quot;p-3&quot;&gt;\n                    &lt;h4 class=&quot;uppercase&quot;&gt;Examples&lt;/h4&gt;\n                    &lt;div class=&quot;text-white max-w-xl text-sm overflow-scroll&quot; style=&quot;max-width: 920px&quot;&gt;\n                        &lt;table border=&quot;1&quot; class=&quot;dataframe&quot;&gt;\n  &lt;thead&gt;\n    &lt;tr style=&quot;text-align: right;&quot;&gt;\n      &lt;th&gt;&lt;/th&gt;\n      &lt;th&gt;message&lt;/th&gt;\n      &lt;th&gt;label&lt;/th&gt;\n      &lt;th&gt;predicted_label&lt;/th&gt;\n    &lt;/tr&gt;\n  &lt;/thead&gt;\n  &lt;tbody&gt;\n    &lt;tr&gt;\n      &lt;th&gt;3528&lt;/th&gt;\n      &lt;td&gt;Xmas New Years Eve tickets sale club day 10am till 8pm Thurs Fri Sat night week Theyre selling fast&lt;/td&gt;\n      &lt;td&gt;1&lt;/td&gt;\n      &lt;td&gt;0&lt;/td&gt;\n    &lt;/tr&gt;\n    &lt;tr&gt;\n      &lt;th&gt;5&lt;/th&gt;\n      &lt;td&gt;FreeMsg Hey darling 3 weeks word back Id like fun still Tb ok XxX std chgs send å£150 rcv&lt;/td&gt;\n      &lt;td&gt;1&lt;/td&gt;\n      &lt;td&gt;0&lt;/td&gt;\n    &lt;/tr&gt;\n    &lt;tr&gt;\n      &lt;th&gt;1499&lt;/th&gt;\n      &lt;td&gt;SMS ac JSco Energy high may know 2channel 2day leadership skills r strong Psychic Reply ANS wquestion End Reply END JSCO&lt;/td&gt;\n      &lt;td&gt;1&lt;/td&gt;\n      &lt;td&gt;0&lt;/td&gt;\n    &lt;/tr&gt;\n  &lt;/tbody&gt;\n&lt;/table&gt;\n                    &lt;/div&gt;\n                &lt;/td&gt;\n            &lt;/tr&gt;\n        &lt;/tbody&gt;\n        \n        &lt;tbody class=&quot;first:border-t border-b border-zinc-400&quot;&gt;\n            &lt;tr class=&quot;gsk-issue text-sm group peer text-left cursor-pointer hover:bg-zinc-700&quot;&gt;\n                &lt;td class=&quot;p-3&quot;&gt;\n                    &lt;svg xmlns=&quot;http://www.w3.org/2000/svg&quot; fill=&quot;none&quot; viewBox=&quot;0 0 24 24&quot; stroke-width=&quot;1.5&quot;\n                        stroke=&quot;currentColor&quot; class=&quot;w-4 h-4 group-[.open]:rotate-90&quot;&gt;\n                        &lt;path stroke-linecap=&quot;round&quot; stroke-linejoin=&quot;round&quot; d=&quot;M8.25 4.5l7.5 7.5-7.5 7.5&quot; /&gt;\n                    &lt;/svg&gt;\n                &lt;/td&gt;\n                &lt;td class=&quot;p-3&quot;&gt;\n                    &lt;code class=&quot;mono text-blue-300&quot;&gt;\n                    `text_length(message)` &amp;lt; 43.5 &amp;lt;br&amp;gt; `text_length(message)` &amp;gt;= 27.5\n                &lt;/code&gt;\n                &lt;/td&gt;\n                &lt;td class=&quot;p-3&quot;&gt;\n                    Recall\n                &lt;/td&gt;\n                &lt;td class=&quot;p-3&quot;&gt;\n                    &lt;span class=&quot;text-red-400&quot;&gt;\n                        -32.33% than global\n                    &lt;/span&gt;\n                &lt;/td&gt;\n                &lt;td class=&quot;p-3&quot;&gt;\n                    &lt;span class=&quot;text-gray-400&quot;&gt;\n                        269 samples (19.31%)\n                    &lt;/span&gt;\n                &lt;/td&gt;\n                &lt;td class=&quot;p-3 text-xs text-right space-x-1&quot;&gt;\n                    &lt;a href=&quot;&quot;\n                        class=&quot;gsk-debug inline-block border border-emerald-100/50 text-emerald-100/90 hover:bg-emerald-500 hover:border-emerald-500 hover:text-white px-2 py-0.5 rounded-sm&quot;&gt;Debug&lt;/a&gt;\n                &lt;/td&gt;\n            &lt;/tr&gt;\n            &lt;tr class=&quot;gsk-issue-detail text-left collapse peer-[.open]:visible border-b border-zinc-400 bg-zinc-700&quot;&gt;\n                &lt;td colspan=&quot;6&quot; class=&quot;p-3&quot;&gt;\n                    &lt;h4 class=&quot;uppercase&quot;&gt;Examples&lt;/h4&gt;\n                    &lt;div class=&quot;text-white max-w-xl text-sm overflow-scroll&quot; style=&quot;max-width: 920px&quot;&gt;\n                        &lt;table border=&quot;1&quot; class=&quot;dataframe&quot;&gt;\n  &lt;thead&gt;\n    &lt;tr style=&quot;text-align: right;&quot;&gt;\n      &lt;th&gt;&lt;/th&gt;\n      &lt;th&gt;message&lt;/th&gt;\n      &lt;th&gt;label&lt;/th&gt;\n      &lt;th&gt;predicted_label&lt;/th&gt;\n    &lt;/tr&gt;\n  &lt;/thead&gt;\n  &lt;tbody&gt;\n    &lt;tr&gt;\n      &lt;th&gt;2078&lt;/th&gt;\n      &lt;td&gt;85233 FREERingtoneReply REAL&lt;/td&gt;\n      &lt;td&gt;1&lt;/td&gt;\n      &lt;td&gt;0&lt;/td&gt;\n    &lt;/tr&gt;\n    &lt;tr&gt;\n      &lt;th&gt;1216&lt;/th&gt;\n      &lt;td&gt;1 new voicemail Please call 08719181513&lt;/td&gt;\n      &lt;td&gt;1&lt;/td&gt;\n      &lt;td&gt;0&lt;/td&gt;\n    &lt;/tr&gt;\n  &lt;/tbody&gt;\n&lt;/table&gt;\n                    &lt;/div&gt;\n                &lt;/td&gt;\n            &lt;/tr&gt;\n        &lt;/tbody&gt;\n        \n    &lt;/table&gt;\n&lt;/div&gt;\n&lt;!-- ISSUES TABLE END --&gt;\n\n        &lt;h2 class=&quot;uppercase mb-2 mt-8 mr-2 font-mediums flex&quot;&gt;\n            &lt;svg xmlns=&quot;http://www.w3.org/2000/svg&quot; fill=&quot;none&quot; viewBox=&quot;0 0 24 24&quot; stroke-width=&quot;1.5&quot; stroke=&quot;currentColor&quot;\n                class=&quot;w-5 h-5 mr-1&quot;&gt;\n                &lt;path stroke-linecap=&quot;round&quot; stroke-linejoin=&quot;round&quot;\n                    d=&quot;M9.879 7.519c1.171-1.025 3.071-1.025 4.242 0 1.172 1.025 1.172 2.687 0 3.712-.203.179-.43.326-.67.442-.745.361-1.45.999-1.45 1.827v.75M21 12a9 9 0 11-18 0 9 9 0 0118 0zm-9 5.25h.008v.008H12v-.008z&quot; /&gt;\n            &lt;/svg&gt;\n            Why does this happen?\n        &lt;/h2&gt;\n        &lt;p class=&quot;my-1&quot;&gt;\n            Performance bias can happen for a different reasons:\n        &lt;/p&gt;\n        &lt;ul class=&quot;list-disc ml-6&quot;&gt;\n            &lt;li&gt;Not enough training samples in the low-performing data slices&lt;/li&gt;\n            &lt;li&gt;Wrong labels in the training set in the low-performing data slices&lt;/li&gt;\n            &lt;li&gt;Drift between your training set and the test set&lt;/li&gt;\n        &lt;/ul&gt;\n\n        &lt;h2 class=&quot;uppercase mb-2 mt-8 mr-2 font-mediums flex&quot;&gt;\n            &lt;svg xmlns=&quot;http://www.w3.org/2000/svg&quot; fill=&quot;none&quot; viewBox=&quot;0 0 24 24&quot; stroke-width=&quot;1.5&quot; stroke=&quot;currentColor&quot;\n                class=&quot;w-5 h-5 mr-1&quot;&gt;\n                &lt;path stroke-linecap=&quot;round&quot; stroke-linejoin=&quot;round&quot;\n                    d=&quot;M11.42 15.17L17.25 21A2.652 2.652 0 0021 17.25l-5.877-5.877M11.42 15.17l2.496-3.03c.317-.384.74-.626 1.208-.766M11.42 15.17l-4.655 5.653a2.548 2.548 0 11-3.586-3.586l6.837-5.63m5.108-.233c.55-.164 1.163-.188 1.743-.14a4.5 4.5 0 004.486-6.336l-3.276 3.277a3.004 3.004 0 01-2.25-2.25l3.276-3.276a4.5 4.5 0 00-6.336 4.486c.091 1.076-.071 2.264-.904 2.95l-.102.085m-1.745 1.437L5.909 7.5H4.5L2.25 3.75l1.5-1.5L7.5 4.5v1.409l4.26 4.26m-1.745 1.437l1.745-1.437m6.615 8.206L15.75 15.75M4.867 19.125h.008v.008h-.008v-.008z&quot; /&gt;\n            &lt;/svg&gt;\n            How to correct this?\n        &lt;/h2&gt;\n        &lt;p class=&quot;my-1 max-w-xl&quot;&gt;\n            We strongly recommend that you inspect the incorrect samples in the detected low-performing data\n            slices. This will allow you to find the right feature engineering or data augmentation strategies to\n            avoid such biases.\n        &lt;/p&gt;\n\n        &lt;div class=&quot;my-5 space-x-2&quot;&gt;\n            &lt;a href=&quot;#&quot; class=&quot;bg-orange-700 hover:bg-orange-600 inline-block py-2 px-3 rounded-sm&quot;&gt;Customize\n                Test\n                Suite&lt;/a&gt;\n            &lt;a href=&quot;#&quot; class=&quot;bg-zinc-500 hover:bg-emerald-500 inline-block py-2 px-3 rounded-sm&quot;&gt;Debug Test\n                Suite&lt;/a&gt;\n        &lt;/div&gt;\n        \n    &lt;/div&gt;\n\n    &lt;/div&gt;\n&lt;/div&gt;\n&lt;script type=&quot;text/javascript&quot;&gt;\n        (function () {\n            console.log(&quot;Loading Giskard Scan&quot;);\n            let rows = document.querySelectorAll(&quot;#gsk-scan .gsk-issue&quot;)\n            rows.forEach(rowEl =&gt; {\n                {\n                    rowEl.addEventListener(&quot;click&quot;, (event) =&gt; {\n                        {\n                            event.preventDefault()\n                            if (event.target.classList.contains(&quot;gsk-debug&quot;)) {\n                                {\n                                    alert(&quot;Not implemented yet&quot;)\n                                    return;\n                                }\n                            }\n\n                            rowEl.classList.toggle(&quot;open&quot;)\n                            rowEl.classList.toggle(&quot;bg-zinc-700&quot;)\n                        }\n                    })\n                }\n            });\n\n            const tabs = document.querySelectorAll(&quot;#gsk-scan [role=&#x27;tabpanel&#x27;]&quot;)\n            const tabHeaders = document.querySelectorAll(&quot;#gsk-scan [data-tab-target]&quot;)\n            tabHeaders.forEach(tabHeader =&gt; {\n                tabHeader.addEventListener(&quot;click&quot;, (event) =&gt; {\n                    event.preventDefault()\n                    const tabId = tabHeader.getAttribute(&quot;data-tab-target&quot;)\n\n                    tabs.forEach(tab =&gt; {\n                        tab.classList.add(&quot;hidden&quot;)\n                    })\n                    tabHeaders.forEach(tabh =&gt; {\n                        tabh.classList.remove(&quot;active&quot;)\n                    })\n\n                    tabHeader.classList.add(&quot;active&quot;)\n                    console.log(tabId)\n                    document.getElementById(tabId).classList.remove(&quot;hidden&quot;)\n\n                })\n            })\n\n        })()\n&lt;/script&gt;\n\" style=\"width: 100%; border: none;\" class=\"gsk-scan\"></iframe>\n<script>\n(function() {\n    // @TODO: fix this\n    let elements = document.querySelectorAll(\".gsk-scan\");\n    elements.forEach(el => {\n        el.style.height = el.contentWindow.document.body.scrollHeight + \"px\";\n        setTimeout(() => {\n            el.style.height = el.contentWindow.document.body.scrollHeight + \"px\";\n        }, 1000)\n\n    })\n})()\n</script>\n"
     },
     "metadata": {},
     "output_type": "display_data"
    }
   ],
   "source": [
    "display(logistic_regression_scan)"
   ],
   "metadata": {
    "collapsed": false,
    "ExecuteTime": {
     "end_time": "2023-05-10T16:01:59.194795Z",
     "start_time": "2023-05-10T16:01:59.110555Z"
    }
   }
  }
 ],
 "metadata": {
  "kernelspec": {
   "display_name": "Python 3",
   "language": "python",
   "name": "python3"
  },
  "language_info": {
   "codemirror_mode": {
    "name": "ipython",
    "version": 3
   },
   "file_extension": ".py",
   "mimetype": "text/x-python",
   "name": "python",
   "nbconvert_exporter": "python",
   "pygments_lexer": "ipython3",
   "version": "3.7.12"
  },
  "papermill": {
   "default_parameters": {},
   "duration": 18.393171,
   "end_time": "2023-02-16T22:13:02.202180",
   "environment_variables": {},
   "exception": null,
   "input_path": "__notebook__.ipynb",
   "output_path": "__notebook__.ipynb",
   "parameters": {},
   "start_time": "2023-02-16T22:12:43.809009",
   "version": "2.3.4"
  }
 },
 "nbformat": 4,
 "nbformat_minor": 5
}
