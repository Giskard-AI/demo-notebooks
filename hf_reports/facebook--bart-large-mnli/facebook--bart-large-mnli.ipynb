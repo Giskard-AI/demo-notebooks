{
 "cells": [
  {
   "cell_type": "code",
   "execution_count": 1,
   "metadata": {},
   "outputs": [],
   "source": [
    "import numpy as np\n",
    "\n",
    "from datasets import load_dataset\n",
    "from transformers import AutoModelForSequenceClassification, AutoTokenizer\n",
    "\n",
    "from giskard import scan\n",
    "from giskard import Dataset, Model\n",
    "import tqdm"
   ]
  },
  {
   "cell_type": "code",
   "execution_count": 2,
   "metadata": {
    "collapsed": false,
    "jupyter": {
     "outputs_hidden": false
    }
   },
   "outputs": [
    {
     "data": {
      "text/plain": "6692"
     },
     "execution_count": 2,
     "metadata": {},
     "output_type": "execute_result"
    }
   ],
   "source": [
    "dataset = load_dataset(\"multi_nli\", \"validation_matched\")\n",
    "df = dataset[\"validation_matched\"].to_pandas()\n",
    "\n",
    "# we throw away \"neutral\" (dim 1) and take the probability of\n",
    "# \"entailment\" (2) as the probability of the label being true\n",
    "mapping = {0:\"False\", 2: \"True\"}\n",
    "df = df.replace({\"label\": mapping})\n",
    "df = df[df.label != 1]\n",
    "len(df)"
   ]
  },
  {
   "cell_type": "markdown",
   "metadata": {
    "collapsed": false,
    "jupyter": {
     "outputs_hidden": false
    }
   },
   "source": [
    "## Wrapping the dataset"
   ]
  },
  {
   "cell_type": "code",
   "execution_count": 3,
   "metadata": {
    "collapsed": false,
    "jupyter": {
     "outputs_hidden": false
    }
   },
   "outputs": [],
   "source": [
    "gsk_dataset = Dataset(df, target=\"label\")"
   ]
  },
  {
   "cell_type": "code",
   "execution_count": 4,
   "metadata": {
    "collapsed": false,
    "jupyter": {
     "outputs_hidden": false
    }
   },
   "outputs": [],
   "source": [
    "nli_model = AutoModelForSequenceClassification.from_pretrained('facebook/bart-large-mnli')\n",
    "tokenizer = AutoTokenizer.from_pretrained('facebook/bart-large-mnli')\n",
    "device = \"cpu\" # running on mac"
   ]
  },
  {
   "cell_type": "markdown",
   "metadata": {
    "collapsed": false,
    "jupyter": {
     "outputs_hidden": false
    }
   },
   "source": [
    "## Wrapping the model"
   ]
  },
  {
   "cell_type": "code",
   "execution_count": 5,
   "metadata": {
    "collapsed": false,
    "jupyter": {
     "outputs_hidden": false
    }
   },
   "outputs": [
    {
     "name": "stderr",
     "output_type": "stream",
     "text": [
      "5it [00:01,  4.28it/s]\n",
      "5it [00:01,  4.32it/s]\n"
     ]
    }
   ],
   "source": [
    "def prediction_function(df):\n",
    "    predictions = []\n",
    "    for index, row in tqdm.tqdm(df.iterrows()):\n",
    "        premise = row.premise\n",
    "        hypothesis = row.hypothesis\n",
    "\n",
    "        # run through model pre-trained on MNLI\n",
    "        x = tokenizer.encode(premise, hypothesis, return_tensors='pt')\n",
    "        logits = nli_model(x.to(device))[0]\n",
    "\n",
    "        # we throw away \"neutral\" (dim 1) and take the probability of\n",
    "        # \"entailment\" (2) as the probability of the label being true\n",
    "        entail_contradiction_logits = logits[:,[0,2]]\n",
    "        probs = entail_contradiction_logits.softmax(dim=1)\n",
    "        #prob_label_is_true = probs[:,1]\n",
    "        predictions.append(probs.cpu().detach().numpy()[0])\n",
    "    return np.array(predictions)\n",
    "\n",
    "model_args = {\"model\": prediction_function,\n",
    "              \"model_type\": \"classification\",\n",
    "              \"feature_names\": [\"premise\", \"hypothesis\"],\n",
    "              \"classification_labels\": [\"True\", \"False\"]}\n",
    "gsk_hf_model = Model(**model_args)\n",
    "assert (gsk_hf_model.model_predict(df[[\"premise\", \"hypothesis\"]].head()) == prediction_function(df[[\"premise\", \"hypothesis\"]].head())).all()"
   ]
  },
  {
   "cell_type": "markdown",
   "metadata": {
    "collapsed": false,
    "jupyter": {
     "outputs_hidden": false
    }
   },
   "source": [
    "# Default Scan Results"
   ]
  },
  {
   "cell_type": "code",
   "execution_count": 6,
   "metadata": {
    "collapsed": false,
    "jupyter": {
     "outputs_hidden": false
    }
   },
   "outputs": [
    {
     "name": "stderr",
     "output_type": "stream",
     "text": [
      "10it [00:02,  4.26it/s]\n",
      "1it [00:00,  5.53it/s]\n",
      "6681it [48:46,  2.28it/s]\n"
     ]
    },
    {
     "name": "stdout",
     "output_type": "stream",
     "text": [
      "Your model is successfully validated.\n",
      "🔎 Running scan…\n",
      "2023-09-19 19:23:20,016 pid:38636 MainThread giskard.scanner.logger INFO     Running detectors: ['PerformanceBiasDetector', 'TextPerturbationDetector', 'EthicalBiasDetector', 'DataLeakageDetector', 'StochasticityDetector', 'OverconfidenceDetector', 'UnderconfidenceDetector', 'SpuriousCorrelationDetector']\n",
      "Running detector PerformanceBiasDetector…2023-09-19 19:23:20,018 pid:38636 MainThread giskard.scanner.logger INFO     PerformanceBiasDetector: Running\n",
      "2023-09-19 19:23:20,019 pid:38636 MainThread giskard.scanner.logger INFO     PerformanceBiasDetector: Calculating loss\n",
      "2023-09-19 19:23:29,223 pid:38636 MainThread giskard.scanner.logger INFO     PerformanceBiasDetector: Loss calculated (took 0:00:09.202001)\n",
      "2023-09-19 19:23:29,224 pid:38636 MainThread giskard.scanner.logger INFO     PerformanceBiasDetector: Finding data slices\n",
      "2023-09-19 19:29:10,531 pid:38636 MainThread giskard.scanner.logger INFO     PerformanceBiasDetector: 3 slices found (took 0:05:41.295632)\n",
      "2023-09-19 19:29:10,533 pid:38636 MainThread giskard.scanner.logger INFO     PerformanceBiasDetector: Analyzing issues\n",
      "2023-09-19 19:29:10,593 pid:38636 MainThread giskard.scanner.logger INFO     PerformanceBiasDetector: Testing 3 slices for performance issues.\n",
      "2023-09-19 19:29:10,722 pid:38636 MainThread giskard.scanner.logger INFO     PerformanceBiasDetector: Testing slice `premise` contains \"know\"\tPrecision = 0.976 (global 0.975) Δm = 0.001\tis_issue = False\n",
      "2023-09-19 19:29:10,778 pid:38636 MainThread giskard.scanner.logger INFO     PerformanceBiasDetector: Testing slice `premise` contains \"uh\"\tPrecision = 0.968 (global 0.975) Δm = -0.007\tis_issue = False\n",
      "2023-09-19 19:29:50,543 pid:38636 MainThread giskard.scanner.logger INFO     PerformanceBiasDetector: Testing slice `charset(hypothesis)` == \"ascii\"\tPrecision = 0.975 (global 0.975) Δm = -0.000\tis_issue = False\n",
      "2023-09-19 19:29:50,664 pid:38636 MainThread giskard.scanner.logger INFO     PerformanceBiasDetector: Testing slice `premise` contains \"know\"\tRecall = 0.990 (global 0.978) Δm = 0.012\tis_issue = False\n",
      "2023-09-19 19:29:50,716 pid:38636 MainThread giskard.scanner.logger INFO     PerformanceBiasDetector: Testing slice `premise` contains \"uh\"\tRecall = 0.986 (global 0.978) Δm = 0.008\tis_issue = False\n",
      "2023-09-19 19:30:32,666 pid:38636 MainThread giskard.scanner.logger INFO     PerformanceBiasDetector: Testing slice `charset(hypothesis)` == \"ascii\"\tRecall = 0.978 (global 0.978) Δm = -0.000\tis_issue = False\n",
      "2023-09-19 19:30:32,757 pid:38636 MainThread giskard.scanner.logger INFO     PerformanceBiasDetector: Testing slice `premise` contains \"know\"\tAccuracy = 0.982 (global 0.976) Δm = 0.006\tis_issue = False\n",
      "2023-09-19 19:30:32,817 pid:38636 MainThread giskard.scanner.logger INFO     PerformanceBiasDetector: Testing slice `premise` contains \"uh\"\tAccuracy = 0.976 (global 0.976) Δm = 0.001\tis_issue = False\n",
      "2023-09-19 19:31:13,119 pid:38636 MainThread giskard.scanner.logger INFO     PerformanceBiasDetector: Testing slice `charset(hypothesis)` == \"ascii\"\tAccuracy = 0.976 (global 0.976) Δm = -0.000\tis_issue = False\n",
      "2023-09-19 19:31:13,122 pid:38636 MainThread giskard.scanner.logger INFO     PerformanceBiasDetector: 0 issues found (took 0:02:02.584345)\n",
      " 0 issues detected. (Took 0:07:53.091433)\n",
      "Running detector TextPerturbationDetector…2023-09-19 19:31:13,125 pid:38636 MainThread giskard.scanner.logger INFO     TextPerturbationDetector: Running with transformations=['Transform to uppercase', 'Transform to lowercase', 'Transform to title case', 'Add typos', 'Punctuation Removal'] threshold=None output_sensitivity=None num_samples=None\n"
     ]
    },
    {
     "name": "stderr",
     "output_type": "stream",
     "text": [
      "1000it [08:26,  1.97it/s]"
     ]
    },
    {
     "name": "stdout",
     "output_type": "stream",
     "text": [
      "2023-09-19 19:39:39,739 pid:38636 MainThread giskard.scanner.logger INFO     TextPerturbationDetector: Testing `premise` for perturbation `Transform to uppercase`\tFail rate: 0.020\n"
     ]
    },
    {
     "name": "stderr",
     "output_type": "stream",
     "text": [
      "\n",
      "1000it [05:52,  2.83it/s]"
     ]
    },
    {
     "name": "stdout",
     "output_type": "stream",
     "text": [
      "2023-09-19 19:45:32,891 pid:38636 MainThread giskard.scanner.logger INFO     TextPerturbationDetector: Testing `hypothesis` for perturbation `Transform to uppercase`\tFail rate: 0.027\n"
     ]
    },
    {
     "name": "stderr",
     "output_type": "stream",
     "text": [
      "\n",
      "1000it [05:29,  3.03it/s]"
     ]
    },
    {
     "name": "stdout",
     "output_type": "stream",
     "text": [
      "2023-09-19 19:51:02,944 pid:38636 MainThread giskard.scanner.logger INFO     TextPerturbationDetector: Testing `premise` for perturbation `Transform to lowercase`\tFail rate: 0.013\n"
     ]
    },
    {
     "name": "stderr",
     "output_type": "stream",
     "text": [
      "\n",
      "1000it [03:28,  4.80it/s]"
     ]
    },
    {
     "name": "stdout",
     "output_type": "stream",
     "text": [
      "2023-09-19 19:54:31,519 pid:38636 MainThread giskard.scanner.logger INFO     TextPerturbationDetector: Testing `hypothesis` for perturbation `Transform to lowercase`\tFail rate: 0.005\n"
     ]
    },
    {
     "name": "stderr",
     "output_type": "stream",
     "text": [
      "\n",
      "1000it [03:56,  4.23it/s]"
     ]
    },
    {
     "name": "stdout",
     "output_type": "stream",
     "text": [
      "2023-09-19 19:58:27,959 pid:38636 MainThread giskard.scanner.logger INFO     TextPerturbationDetector: Testing `premise` for perturbation `Transform to title case`\tFail rate: 0.010\n"
     ]
    },
    {
     "name": "stderr",
     "output_type": "stream",
     "text": [
      "\n",
      "1000it [03:54,  4.27it/s]"
     ]
    },
    {
     "name": "stdout",
     "output_type": "stream",
     "text": [
      "2023-09-19 20:02:22,234 pid:38636 MainThread giskard.scanner.logger INFO     TextPerturbationDetector: Testing `hypothesis` for perturbation `Transform to title case`\tFail rate: 0.015\n"
     ]
    },
    {
     "name": "stderr",
     "output_type": "stream",
     "text": [
      "\n",
      "1000it [04:51,  3.43it/s]"
     ]
    },
    {
     "name": "stdout",
     "output_type": "stream",
     "text": [
      "2023-09-19 20:07:15,588 pid:38636 MainThread giskard.scanner.logger INFO     TextPerturbationDetector: Testing `premise` for perturbation `Add typos`\tFail rate: 0.045\n"
     ]
    },
    {
     "name": "stderr",
     "output_type": "stream",
     "text": [
      "\n",
      "1000it [04:36,  3.62it/s]"
     ]
    },
    {
     "name": "stdout",
     "output_type": "stream",
     "text": [
      "2023-09-19 20:11:53,363 pid:38636 MainThread giskard.scanner.logger INFO     TextPerturbationDetector: Testing `hypothesis` for perturbation `Add typos`\tFail rate: 0.068\n"
     ]
    },
    {
     "name": "stderr",
     "output_type": "stream",
     "text": [
      "\n",
      "1000it [04:24,  3.78it/s]"
     ]
    },
    {
     "name": "stdout",
     "output_type": "stream",
     "text": [
      "2023-09-19 20:16:18,283 pid:38636 MainThread giskard.scanner.logger INFO     TextPerturbationDetector: Testing `premise` for perturbation `Punctuation Removal`\tFail rate: 0.004\n"
     ]
    },
    {
     "name": "stderr",
     "output_type": "stream",
     "text": [
      "\n",
      "1000it [04:11,  3.98it/s]"
     ]
    },
    {
     "name": "stdout",
     "output_type": "stream",
     "text": [
      "2023-09-19 20:20:30,165 pid:38636 MainThread giskard.scanner.logger INFO     TextPerturbationDetector: Testing `hypothesis` for perturbation `Punctuation Removal`\tFail rate: 0.006\n",
      " 1 issues detected. (Took 0:49:16.954040)\n",
      "Running detector EthicalBiasDetector…2023-09-19 20:20:30,168 pid:38636 MainThread giskard.scanner.logger INFO     EthicalBiasDetector: Running with transformations=['Switch Gender', 'Switch Religion', 'Switch countries from high- to low-income and vice versa'] threshold=None output_sensitivity=None num_samples=None\n"
     ]
    },
    {
     "name": "stderr",
     "output_type": "stream",
     "text": [
      "\n",
      "1000it [05:21,  3.11it/s]"
     ]
    },
    {
     "name": "stdout",
     "output_type": "stream",
     "text": [
      "2023-09-19 20:26:16,734 pid:38636 MainThread giskard.scanner.logger INFO     EthicalBiasDetector: Testing `premise` for perturbation `Switch Gender`\tFail rate: 0.209\n"
     ]
    },
    {
     "name": "stderr",
     "output_type": "stream",
     "text": [
      "\n",
      "787it [05:30,  2.38it/s]"
     ]
    },
    {
     "name": "stdout",
     "output_type": "stream",
     "text": [
      "2023-09-19 20:32:25,899 pid:38636 MainThread giskard.scanner.logger INFO     EthicalBiasDetector: Testing `hypothesis` for perturbation `Switch Gender`\tFail rate: 0.327\n"
     ]
    },
    {
     "name": "stderr",
     "output_type": "stream",
     "text": [
      "\n",
      "151it [01:19,  1.89it/s]"
     ]
    },
    {
     "name": "stdout",
     "output_type": "stream",
     "text": [
      "2023-09-19 20:34:31,029 pid:38636 MainThread giskard.scanner.logger INFO     EthicalBiasDetector: Testing `premise` for perturbation `Switch Religion`\tFail rate: 0.139\n"
     ]
    },
    {
     "name": "stderr",
     "output_type": "stream",
     "text": [
      "\n",
      "87it [00:33,  2.62it/s]"
     ]
    },
    {
     "name": "stdout",
     "output_type": "stream",
     "text": [
      "2023-09-19 20:35:49,304 pid:38636 MainThread giskard.scanner.logger INFO     EthicalBiasDetector: Testing `hypothesis` for perturbation `Switch Religion`\tFail rate: 0.333\n"
     ]
    },
    {
     "name": "stderr",
     "output_type": "stream",
     "text": [
      "\n",
      "413it [02:31,  2.73it/s]"
     ]
    },
    {
     "name": "stdout",
     "output_type": "stream",
     "text": [
      "2023-09-19 20:39:37,280 pid:38636 MainThread giskard.scanner.logger INFO     EthicalBiasDetector: Testing `premise` for perturbation `Switch countries from high- to low-income and vice versa`\tFail rate: 0.288\n"
     ]
    },
    {
     "name": "stderr",
     "output_type": "stream",
     "text": [
      "\n",
      "226it [01:23,  2.72it/s]"
     ]
    },
    {
     "name": "stdout",
     "output_type": "stream",
     "text": [
      "2023-09-19 20:41:45,452 pid:38636 MainThread giskard.scanner.logger INFO     EthicalBiasDetector: Testing `hypothesis` for perturbation `Switch countries from high- to low-income and vice versa`\tFail rate: 0.500\n",
      " 6 issues detected. (Took 0:21:15.252321)\n",
      "Running detector DataLeakageDetector…2023-09-19 20:41:45,459 pid:38636 MainThread giskard.scanner.logger INFO     DataLeakageDetector: Running\n"
     ]
    },
    {
     "name": "stderr",
     "output_type": "stream",
     "text": [
      "\n",
      "1it [00:00,  3.26it/s]\n",
      "1it [00:00,  4.48it/s]\n",
      "1it [00:00,  3.68it/s]\n",
      "1it [00:00,  3.62it/s]\n",
      "1it [00:00,  5.44it/s]\n",
      "1it [00:00,  3.88it/s]\n",
      "1it [00:00,  4.01it/s]\n",
      "1it [00:00,  4.37it/s]\n",
      "1it [00:00,  3.44it/s]\n",
      "1it [00:00,  2.91it/s]\n",
      "1it [00:00,  5.05it/s]\n",
      "1it [00:00,  3.66it/s]\n",
      "1it [00:00,  3.65it/s]\n",
      "1it [00:00,  2.57it/s]\n",
      "1it [00:00,  3.73it/s]\n",
      "1it [00:00,  4.54it/s]\n",
      "1it [00:00,  4.78it/s]\n",
      "1it [00:00,  2.62it/s]\n",
      "1it [00:00,  4.05it/s]\n",
      "1it [00:00,  5.80it/s]\n",
      "1it [00:00,  5.34it/s]\n",
      "1it [00:00,  2.33it/s]\n",
      "1it [00:00,  5.63it/s]\n",
      "1it [00:00,  3.39it/s]\n",
      "1it [00:00,  3.97it/s]\n",
      "1it [00:00,  3.68it/s]\n",
      "1it [00:00,  3.89it/s]\n",
      "1it [00:00,  4.37it/s]\n",
      "1it [00:00,  4.36it/s]\n",
      "1it [00:00,  5.97it/s]\n",
      "1it [00:00,  3.94it/s]\n",
      "1it [00:00,  4.36it/s]\n",
      "1it [00:00,  4.74it/s]\n",
      "1it [00:00,  3.21it/s]\n",
      "1it [00:00,  4.14it/s]\n",
      "1it [00:00,  2.87it/s]\n",
      "1it [00:00,  2.80it/s]\n",
      "1it [00:00,  4.35it/s]\n",
      "1it [00:00,  4.63it/s]\n",
      "1it [00:00,  3.02it/s]\n",
      "1it [00:00,  5.52it/s]\n",
      "1it [00:00,  5.71it/s]\n",
      "1it [00:00,  3.82it/s]\n",
      "1it [00:00,  4.91it/s]\n",
      "1it [00:00,  4.10it/s]\n",
      "1it [00:00,  3.02it/s]\n",
      "1it [00:00,  4.46it/s]\n",
      "1it [00:00,  4.09it/s]\n",
      "1it [00:00,  3.26it/s]\n",
      "1it [00:00,  3.11it/s]\n",
      "1it [00:00,  3.22it/s]\n",
      "1it [00:00,  4.62it/s]\n",
      "1it [00:00,  5.70it/s]\n",
      "1it [00:00,  3.27it/s]\n",
      "1it [00:00,  3.05it/s]\n",
      "1it [00:00,  4.80it/s]\n",
      "1it [00:00,  5.84it/s]\n",
      "1it [00:00,  4.37it/s]\n",
      "1it [00:00,  4.43it/s]\n",
      "1it [00:00,  4.80it/s]\n",
      "1it [00:00,  5.26it/s]\n",
      "1it [00:00,  5.25it/s]\n",
      "1it [00:00,  2.06it/s]\n",
      "1it [00:00,  3.94it/s]\n",
      "1it [00:00,  4.35it/s]\n",
      "1it [00:00,  6.09it/s]\n",
      "1it [00:00,  5.38it/s]\n",
      "1it [00:00,  4.92it/s]\n",
      "1it [00:00,  4.81it/s]\n",
      "1it [00:00,  2.65it/s]\n",
      "1it [00:00,  5.42it/s]\n",
      "1it [00:00,  5.94it/s]\n",
      "1it [00:00,  3.11it/s]\n",
      "1it [00:00,  3.60it/s]\n",
      "1it [00:00,  2.92it/s]\n",
      "1it [00:00,  4.94it/s]\n",
      "1it [00:00,  5.27it/s]\n",
      "1it [00:00,  5.87it/s]\n",
      "1it [00:00,  5.44it/s]\n",
      "1it [00:00,  6.62it/s]\n",
      "1it [00:00,  3.71it/s]\n",
      "1it [00:00,  6.75it/s]\n",
      "1it [00:00,  6.32it/s]\n",
      "1it [00:00,  5.36it/s]\n",
      "1it [00:00,  3.07it/s]\n",
      "1it [00:00,  4.33it/s]\n",
      "1it [00:00,  4.56it/s]\n",
      "1it [00:00,  3.30it/s]\n",
      "1it [00:00,  3.26it/s]\n",
      "1it [00:00,  7.00it/s]\n",
      "1it [00:00,  5.83it/s]\n",
      "1it [00:00,  4.37it/s]\n",
      "1it [00:00,  3.52it/s]\n",
      "1it [00:00,  5.53it/s]\n",
      "1it [00:00,  5.39it/s]\n",
      "1it [00:00,  4.07it/s]\n",
      "1it [00:00,  4.76it/s]\n",
      "1it [00:00,  4.18it/s]\n",
      "1it [00:00,  6.25it/s]\n",
      "1it [00:00,  5.11it/s]\n"
     ]
    },
    {
     "name": "stdout",
     "output_type": "stream",
     "text": [
      " 0 issues detected. (Took 0:00:28.476499)\n",
      "Running detector StochasticityDetector…2023-09-19 20:42:13,937 pid:38636 MainThread giskard.scanner.logger INFO     StochasticityDetector: Running\n"
     ]
    },
    {
     "name": "stderr",
     "output_type": "stream",
     "text": [
      "100it [00:24,  4.05it/s]\n",
      "100it [00:27,  3.60it/s]"
     ]
    },
    {
     "name": "stdout",
     "output_type": "stream",
     "text": [
      " 0 issues detected. (Took 0:00:52.515258)\n",
      "Running detector OverconfidenceDetector…2023-09-19 20:43:06,455 pid:38636 MainThread giskard.scanner.logger INFO     OverconfidenceDetector: Running\n",
      "2023-09-19 20:43:06,456 pid:38636 MainThread giskard.scanner.logger INFO     OverconfidenceDetector: Calculating loss\n",
      "2023-09-19 20:43:06,518 pid:38636 MainThread giskard.scanner.logger INFO     OverconfidenceDetector: Loss calculated (took 0:00:00.059140)\n",
      "2023-09-19 20:43:06,519 pid:38636 MainThread giskard.scanner.logger INFO     OverconfidenceDetector: Finding data slices\n"
     ]
    },
    {
     "name": "stderr",
     "output_type": "stream",
     "text": [
      "\n"
     ]
    },
    {
     "name": "stdout",
     "output_type": "stream",
     "text": [
      "2023-09-19 20:43:22,818 pid:38636 MainThread giskard.scanner.logger INFO     OverconfidenceDetector: 0 slices found (took 0:00:16.297994)\n",
      "2023-09-19 20:43:22,819 pid:38636 MainThread giskard.scanner.logger INFO     OverconfidenceDetector: Analyzing issues\n",
      "2023-09-19 20:43:22,868 pid:38636 MainThread giskard.scanner.logger INFO     OverconfidenceDetector: Using overconfidence threshold = 0.5\n",
      "2023-09-19 20:43:22,870 pid:38636 MainThread giskard.scanner.logger INFO     OverconfidenceDetector: 0 issues found (took 0:00:00.050156)\n",
      " 0 issues detected. (Took 0:00:16.414924)\n",
      "Running detector UnderconfidenceDetector…2023-09-19 20:43:22,871 pid:38636 MainThread giskard.scanner.logger INFO     UnderconfidenceDetector: Running\n",
      "2023-09-19 20:43:22,872 pid:38636 MainThread giskard.scanner.logger INFO     UnderconfidenceDetector: Calculating loss\n",
      "2023-09-19 20:43:22,909 pid:38636 MainThread giskard.scanner.logger INFO     UnderconfidenceDetector: Loss calculated (took 0:00:00.035175)\n",
      "2023-09-19 20:43:22,910 pid:38636 MainThread giskard.scanner.logger INFO     UnderconfidenceDetector: Finding data slices\n",
      "2023-09-19 20:46:41,013 pid:38636 MainThread giskard.scanner.logger INFO     UnderconfidenceDetector: 32 slices found (took 0:03:18.096471)\n",
      "2023-09-19 20:46:41,014 pid:38636 MainThread giskard.scanner.logger INFO     UnderconfidenceDetector: Analyzing issues\n",
      "2023-09-19 20:58:16,968 pid:38636 MainThread giskard.scanner.logger INFO     UnderconfidenceDetector: 0 issues found (took 0:11:36.176508)\n",
      " 0 issues detected. (Took 0:14:54.314935)\n",
      "Running detector SpuriousCorrelationDetector…2023-09-19 20:58:16,970 pid:38636 MainThread giskard.scanner.logger INFO     SpuriousCorrelationDetector: Running\n",
      "2023-09-19 20:59:16,750 pid:38636 MainThread giskard.scanner.logger INFO     SpuriousCorrelationDetector: `premise` contains \"know\"\tAssociation = 0.000\n",
      "2023-09-19 20:59:18,813 pid:38636 MainThread giskard.scanner.logger INFO     SpuriousCorrelationDetector: `premise` contains \"uh\"\tAssociation = 0.000\n",
      "2023-09-19 20:59:45,920 pid:38636 MainThread giskard.scanner.logger INFO     SpuriousCorrelationDetector: `charset(hypothesis)` == \"ascii\"\tAssociation = 0.000\n",
      " 0 issues detected. (Took 0:01:52.710579)\n",
      "Scan completed: 7 issues found. (Took 1:36:49.737970)\n"
     ]
    }
   ],
   "source": [
    "results = scan(gsk_hf_model, gsk_dataset)"
   ]
  },
  {
   "cell_type": "code",
   "execution_count": 7,
   "outputs": [],
   "source": [
    "results.to_html(\"facebook--bart-large-mnli.html\")"
   ],
   "metadata": {
    "collapsed": false
   }
  }
 ],
 "metadata": {
  "kernelspec": {
   "display_name": "Python 3 (ipykernel)",
   "language": "python",
   "name": "python3"
  },
  "language_info": {
   "codemirror_mode": {
    "name": "ipython",
    "version": 3
   },
   "file_extension": ".py",
   "mimetype": "text/x-python",
   "name": "python",
   "nbconvert_exporter": "python",
   "pygments_lexer": "ipython3",
   "version": "3.10.9"
  }
 },
 "nbformat": 4,
 "nbformat_minor": 4
}
