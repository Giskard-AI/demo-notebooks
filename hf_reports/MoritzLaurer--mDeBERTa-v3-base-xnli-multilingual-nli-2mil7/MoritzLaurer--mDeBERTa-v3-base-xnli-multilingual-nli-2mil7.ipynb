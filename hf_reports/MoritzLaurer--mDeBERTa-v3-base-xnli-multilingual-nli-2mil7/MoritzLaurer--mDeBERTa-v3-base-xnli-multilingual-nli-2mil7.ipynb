{
 "cells": [
  {
   "cell_type": "code",
   "execution_count": 1,
   "metadata": {
    "ExecuteTime": {
     "end_time": "2023-09-21T13:10:57.682631Z",
     "start_time": "2023-09-21T13:10:51.649348Z"
    }
   },
   "outputs": [],
   "source": [
    "import numpy as np\n",
    "\n",
    "from datasets import load_dataset\n",
    "from transformers import AutoModelForSequenceClassification, AutoTokenizer\n",
    "\n",
    "from giskard import scan\n",
    "from giskard import Dataset, Model\n",
    "import tqdm"
   ]
  },
  {
   "cell_type": "code",
   "execution_count": 2,
   "metadata": {
    "collapsed": false,
    "ExecuteTime": {
     "end_time": "2023-09-21T13:11:53.320630Z",
     "start_time": "2023-09-21T13:11:03.717873Z"
    }
   },
   "outputs": [
    {
     "data": {
      "text/plain": "Generating train split: 0 examples [00:00, ? examples/s]",
      "application/vnd.jupyter.widget-view+json": {
       "version_major": 2,
       "version_minor": 0,
       "model_id": "f7fe0c6c3bb54c3a8a08ef1dec5b4ec8"
      }
     },
     "metadata": {},
     "output_type": "display_data"
    },
    {
     "data": {
      "text/plain": "Generating validation_matched split: 0 examples [00:00, ? examples/s]",
      "application/vnd.jupyter.widget-view+json": {
       "version_major": 2,
       "version_minor": 0,
       "model_id": "83401af6c4e847b3b578222d1567493b"
      }
     },
     "metadata": {},
     "output_type": "display_data"
    },
    {
     "data": {
      "text/plain": "Generating validation_mismatched split: 0 examples [00:00, ? examples/s]",
      "application/vnd.jupyter.widget-view+json": {
       "version_major": 2,
       "version_minor": 0,
       "model_id": "4b5ee5ade96845b1bfd7b9ebc9e5e4b0"
      }
     },
     "metadata": {},
     "output_type": "display_data"
    },
    {
     "data": {
      "text/plain": "6692"
     },
     "execution_count": 2,
     "metadata": {},
     "output_type": "execute_result"
    }
   ],
   "source": [
    "dataset = load_dataset(\"multi_nli\", \"validation_matched\")\n",
    "df = dataset[\"validation_matched\"].to_pandas()\n",
    "\n",
    "# we throw away \"neutral\" (dim 1) and take the probability of\n",
    "# \"entailment\" (2) as the probability of the label being true\n",
    "mapping = {0:\"False\", 2: \"True\"}\n",
    "df = df.replace({\"label\": mapping})\n",
    "df = df[df.label != 1]\n",
    "len(df)"
   ]
  },
  {
   "cell_type": "markdown",
   "metadata": {
    "collapsed": false
   },
   "source": [
    "## Wrapping the dataset"
   ]
  },
  {
   "cell_type": "code",
   "execution_count": 3,
   "metadata": {
    "collapsed": false,
    "ExecuteTime": {
     "end_time": "2023-09-21T13:12:00.173378Z",
     "start_time": "2023-09-21T13:12:00.105768Z"
    }
   },
   "outputs": [],
   "source": [
    "gsk_dataset = Dataset(df, target=\"label\")"
   ]
  },
  {
   "cell_type": "code",
   "execution_count": 4,
   "metadata": {
    "collapsed": false,
    "ExecuteTime": {
     "end_time": "2023-09-21T13:12:12.552710Z",
     "start_time": "2023-09-21T13:12:00.731736Z"
    }
   },
   "outputs": [],
   "source": [
    "nli_model = AutoModelForSequenceClassification.from_pretrained('MoritzLaurer/mDeBERTa-v3-base-xnli-multilingual-nli-2mil7')\n",
    "tokenizer = AutoTokenizer.from_pretrained('MoritzLaurer/mDeBERTa-v3-base-xnli-multilingual-nli-2mil7')\n",
    "device = \"cpu\" # running on mac"
   ]
  },
  {
   "cell_type": "markdown",
   "metadata": {
    "collapsed": false
   },
   "source": [
    "## Wrapping the model"
   ]
  },
  {
   "cell_type": "code",
   "execution_count": 5,
   "metadata": {
    "collapsed": false,
    "ExecuteTime": {
     "end_time": "2023-09-21T13:12:19.455251Z",
     "start_time": "2023-09-21T13:12:15.013827Z"
    }
   },
   "outputs": [
    {
     "name": "stderr",
     "output_type": "stream",
     "text": [
      "5it [00:02,  2.25it/s]\n",
      "5it [00:02,  2.33it/s]\n"
     ]
    }
   ],
   "source": [
    "def prediction_function(df):\n",
    "    predictions = []\n",
    "    for index, row in tqdm.tqdm(df.iterrows()):\n",
    "        premise = row.premise\n",
    "        hypothesis = row.hypothesis\n",
    "\n",
    "        # run through model pre-trained on MNLI\n",
    "        x = tokenizer.encode(premise, hypothesis, return_tensors='pt')\n",
    "        logits = nli_model(x.to(device))[0]\n",
    "\n",
    "        # we throw away \"neutral\" (dim 1) and take the probability of\n",
    "        # \"entailment\" (2) as the probability of the label being true\n",
    "        entail_contradiction_logits = logits[:,[0,2]]\n",
    "        probs = entail_contradiction_logits.softmax(dim=1)\n",
    "        #prob_label_is_true = probs[:,1]\n",
    "        predictions.append(probs.cpu().detach().numpy()[0])\n",
    "    return np.array(predictions)\n",
    "\n",
    "model_args = {\"model\": prediction_function,\n",
    "              \"model_type\": \"classification\",\n",
    "              \"feature_names\": [\"premise\", \"hypothesis\"],\n",
    "              \"classification_labels\": [\"True\", \"False\"]}\n",
    "gsk_hf_model = Model(**model_args)\n",
    "assert (gsk_hf_model.model_predict(df[[\"premise\", \"hypothesis\"]].head()) == prediction_function(df[[\"premise\", \"hypothesis\"]].head())).all()"
   ]
  },
  {
   "cell_type": "markdown",
   "metadata": {
    "collapsed": false
   },
   "source": [
    "# Default Scan Results"
   ]
  },
  {
   "cell_type": "code",
   "execution_count": 6,
   "metadata": {
    "collapsed": false,
    "ExecuteTime": {
     "end_time": "2023-09-21T15:31:18.813947Z",
     "start_time": "2023-09-21T13:12:44.901951Z"
    }
   },
   "outputs": [
    {
     "name": "stderr",
     "output_type": "stream",
     "text": [
      "10it [00:03,  3.10it/s]\n",
      "1it [00:00,  3.57it/s]\n",
      "6681it [31:52,  3.49it/s]\n"
     ]
    },
    {
     "name": "stdout",
     "output_type": "stream",
     "text": [
      "Your model is successfully validated.\n",
      "🔎 Running scan…\n",
      "2023-09-21 15:44:41,849 pid:3782 MainThread giskard.scanner.logger INFO     Running detectors: ['PerformanceBiasDetector', 'TextPerturbationDetector', 'EthicalBiasDetector', 'DataLeakageDetector', 'StochasticityDetector', 'OverconfidenceDetector', 'UnderconfidenceDetector', 'SpuriousCorrelationDetector']\n",
      "Running detector PerformanceBiasDetector…2023-09-21 15:44:41,853 pid:3782 MainThread giskard.scanner.logger INFO     PerformanceBiasDetector: Running\n",
      "2023-09-21 15:44:41,853 pid:3782 MainThread giskard.scanner.logger INFO     PerformanceBiasDetector: Calculating loss\n"
     ]
    },
    {
     "name": "stderr",
     "output_type": "stream",
     "text": [
      "/Users/mykytaalekseiev/Work/GiskardPipVersion/venv/lib/python3.10/site-packages/giskard/core/model_validation.py:296: UserWarning: The balanced accuracy of your model is very low (0.04). Make sure you have not inverted the order of the 'classification_labels' when you created the Giskard Model.\n",
      "  warning(\n"
     ]
    },
    {
     "name": "stdout",
     "output_type": "stream",
     "text": [
      "2023-09-21 15:44:47,481 pid:3782 MainThread giskard.scanner.logger INFO     PerformanceBiasDetector: Loss calculated (took 0:00:05.626354)\n",
      "2023-09-21 15:44:47,482 pid:3782 MainThread giskard.scanner.logger INFO     PerformanceBiasDetector: Finding data slices\n",
      "2023-09-21 15:50:18,811 pid:3782 MainThread giskard.scanner.logger INFO     PerformanceBiasDetector: 34 slices found (took 0:05:31.317688)\n",
      "2023-09-21 15:50:18,816 pid:3782 MainThread giskard.scanner.logger INFO     PerformanceBiasDetector: Analyzing issues\n",
      "2023-09-21 15:50:18,926 pid:3782 MainThread giskard.scanner.logger INFO     PerformanceBiasDetector: Testing 34 slices for performance issues.\n",
      "2023-09-21 15:50:51,385 pid:3782 MainThread giskard.scanner.logger INFO     PerformanceBiasDetector: Testing slice `avg_whitespace(premise)` >= 0.178 AND `avg_whitespace(premise)` < 0.184\tPrecision = 0.032 (global 0.041) Δm = -0.206\tis_issue = True\n",
      "2023-09-21 15:51:53,907 pid:3782 MainThread giskard.scanner.logger INFO     PerformanceBiasDetector: Testing slice `avg_whitespace(premise)` < 0.174 AND `avg_whitespace(premise)` >= 0.156\tPrecision = 0.027 (global 0.041) Δm = -0.336\tis_issue = True\n",
      "2023-09-21 15:51:54,007 pid:3782 MainThread giskard.scanner.logger INFO     PerformanceBiasDetector: Testing slice `avg_whitespace(premise)` < 0.156 AND `avg_whitespace(premise)` >= 0.146\tPrecision = 0.064 (global 0.041) Δm = 0.560\tis_issue = False\n",
      "2023-09-21 15:51:54,070 pid:3782 MainThread giskard.scanner.logger INFO     PerformanceBiasDetector: Testing slice `avg_whitespace(premise)` < 0.132\tPrecision = 0.029 (global 0.041) Δm = -0.293\tis_issue = True\n",
      "2023-09-21 15:51:54,144 pid:3782 MainThread giskard.scanner.logger INFO     PerformanceBiasDetector: Testing slice `avg_whitespace(premise)` >= 0.196 AND `avg_whitespace(premise)` < 0.207\tPrecision = 0.056 (global 0.041) Δm = 0.375\tis_issue = False\n",
      "2023-09-21 15:51:54,159 pid:3782 MainThread giskard.scanner.logger INFO     PerformanceBiasDetector: Testing slice `avg_whitespace(premise)` >= 0.207 AND `avg_whitespace(premise)` < 0.230\tPrecision = 0.043 (global 0.041) Δm = 0.065\tis_issue = False\n",
      "2023-09-21 15:51:54,222 pid:3782 MainThread giskard.scanner.logger INFO     PerformanceBiasDetector: Testing slice `avg_digits(premise)` < 0.005\tPrecision = 0.039 (global 0.041) Δm = -0.048\tis_issue = False\n",
      "2023-09-21 15:51:54,245 pid:3782 MainThread giskard.scanner.logger INFO     PerformanceBiasDetector: Testing slice `avg_word_length(premise)` < 6.675 AND `avg_word_length(premise)` >= 5.717\tPrecision = 0.027 (global 0.041) Δm = -0.330\tis_issue = True\n",
      "2023-09-21 15:51:54,296 pid:3782 MainThread giskard.scanner.logger INFO     PerformanceBiasDetector: Testing slice `avg_word_length(premise)` < 5.594 AND `avg_word_length(premise)` >= 5.205\tPrecision = 0.053 (global 0.041) Δm = 0.305\tis_issue = False\n",
      "2023-09-21 15:51:54,320 pid:3782 MainThread giskard.scanner.logger INFO     PerformanceBiasDetector: Testing slice `avg_word_length(premise)` < 5.205 AND `avg_word_length(premise)` >= 4.819\tPrecision = 0.032 (global 0.041) Δm = -0.208\tis_issue = True\n",
      "2023-09-21 15:51:54,380 pid:3782 MainThread giskard.scanner.logger INFO     PerformanceBiasDetector: Testing slice `avg_word_length(premise)` < 3.716 AND `avg_word_length(premise)` >= 3.360\tPrecision = 0.024 (global 0.041) Δm = -0.419\tis_issue = True\n",
      "2023-09-21 15:51:54,431 pid:3782 MainThread giskard.scanner.logger INFO     PerformanceBiasDetector: Testing slice `avg_word_length(premise)` < 4.770 AND `avg_word_length(premise)` >= 4.261\tPrecision = 0.034 (global 0.041) Δm = -0.175\tis_issue = True\n",
      "2023-09-21 15:51:54,490 pid:3782 MainThread giskard.scanner.logger INFO     PerformanceBiasDetector: Testing slice `text_length(premise)` >= 105.500 AND `text_length(premise)` < 139.500\tPrecision = 0.042 (global 0.041) Δm = 0.023\tis_issue = False\n",
      "2023-09-21 15:51:54,503 pid:3782 MainThread giskard.scanner.logger INFO     PerformanceBiasDetector: Testing slice `text_length(premise)` < 29.500 AND `text_length(premise)` >= 19.500\tPrecision = 0.051 (global 0.041) Δm = 0.250\tis_issue = False\n",
      "2023-09-21 15:51:54,539 pid:3782 MainThread giskard.scanner.logger INFO     PerformanceBiasDetector: Testing slice `text_length(premise)` < 97.500 AND `text_length(premise)` >= 29.500\tPrecision = 0.026 (global 0.041) Δm = -0.357\tis_issue = True\n",
      "2023-09-21 15:51:54,638 pid:3782 MainThread giskard.scanner.logger INFO     PerformanceBiasDetector: Testing slice `premise` contains \"uh\"\tPrecision = 0.048 (global 0.041) Δm = 0.184\tis_issue = False\n",
      "2023-09-21 15:51:54,685 pid:3782 MainThread giskard.scanner.logger INFO     PerformanceBiasDetector: Testing slice `premise` contains \"know\"\tPrecision = 0.038 (global 0.041) Δm = -0.078\tis_issue = True\n",
      "2023-09-21 15:52:30,275 pid:3782 MainThread giskard.scanner.logger INFO     PerformanceBiasDetector: Testing slice `avg_whitespace(hypothesis)` >= 0.165 AND `avg_whitespace(hypothesis)` < 0.169\tPrecision = 0.056 (global 0.041) Δm = 0.368\tis_issue = False\n",
      "2023-09-21 15:52:59,536 pid:3782 MainThread giskard.scanner.logger INFO     PerformanceBiasDetector: Testing slice `avg_whitespace(hypothesis)` >= 0.176\tPrecision = 0.038 (global 0.041) Δm = -0.078\tis_issue = True\n",
      "2023-09-21 15:54:05,969 pid:3782 MainThread giskard.scanner.logger INFO     PerformanceBiasDetector: Testing slice `avg_whitespace(hypothesis)` < 0.127 AND `avg_whitespace(hypothesis)` >= 0.113\tPrecision = 0.017 (global 0.041) Δm = -0.589\tis_issue = True\n",
      "2023-09-21 15:54:05,998 pid:3782 MainThread giskard.scanner.logger INFO     PerformanceBiasDetector: Testing slice `avg_whitespace(hypothesis)` < 0.137 AND `avg_whitespace(hypothesis)` >= 0.131\tPrecision = 0.056 (global 0.041) Δm = 0.378\tis_issue = False\n",
      "2023-09-21 15:54:06,015 pid:3782 MainThread giskard.scanner.logger INFO     PerformanceBiasDetector: Testing slice `avg_whitespace(hypothesis)` < 0.145 AND `avg_whitespace(hypothesis)` >= 0.139\tPrecision = 0.050 (global 0.041) Δm = 0.214\tis_issue = False\n",
      "2023-09-21 15:54:06,034 pid:3782 MainThread giskard.scanner.logger INFO     PerformanceBiasDetector: Testing slice `avg_whitespace(hypothesis)` < 0.157 AND `avg_whitespace(hypothesis)` >= 0.145\tPrecision = 0.040 (global 0.041) Δm = -0.022\tis_issue = False\n",
      "2023-09-21 15:54:06,105 pid:3782 MainThread giskard.scanner.logger INFO     PerformanceBiasDetector: Testing slice `avg_digits(hypothesis)` < 0.020\tPrecision = 0.039 (global 0.041) Δm = -0.040\tis_issue = False\n",
      "2023-09-21 15:54:06,130 pid:3782 MainThread giskard.scanner.logger INFO     PerformanceBiasDetector: Testing slice `avg_word_length(hypothesis)` < 5.061 AND `avg_word_length(hypothesis)` >= 4.581\tPrecision = 0.043 (global 0.041) Δm = 0.065\tis_issue = False\n",
      "2023-09-21 15:54:06,155 pid:3782 MainThread giskard.scanner.logger INFO     PerformanceBiasDetector: Testing slice `avg_word_length(hypothesis)` < 6.191 AND `avg_word_length(hypothesis)` >= 5.061\tPrecision = 0.042 (global 0.041) Δm = 0.033\tis_issue = False\n",
      "2023-09-21 15:54:06,175 pid:3782 MainThread giskard.scanner.logger INFO     PerformanceBiasDetector: Testing slice `avg_word_length(hypothesis)` < 4.536 AND `avg_word_length(hypothesis)` >= 4.191\tPrecision = 0.038 (global 0.041) Δm = -0.076\tis_issue = True\n",
      "2023-09-21 15:54:06,217 pid:3782 MainThread giskard.scanner.logger INFO     PerformanceBiasDetector: Testing slice `avg_word_length(hypothesis)` < 4.080 AND `avg_word_length(hypothesis)` >= 3.926\tPrecision = 0.019 (global 0.041) Δm = -0.535\tis_issue = True\n",
      "2023-09-21 15:54:06,273 pid:3782 MainThread giskard.scanner.logger INFO     PerformanceBiasDetector: Testing slice `text_length(hypothesis)` < 26.500 AND `text_length(hypothesis)` >= 18.500\tPrecision = 0.023 (global 0.041) Δm = -0.443\tis_issue = True\n",
      "2023-09-21 15:54:06,320 pid:3782 MainThread giskard.scanner.logger INFO     PerformanceBiasDetector: Testing slice `text_length(hypothesis)` < 80.500 AND `text_length(hypothesis)` >= 66.500\tPrecision = 0.044 (global 0.041) Δm = 0.071\tis_issue = False\n",
      "2023-09-21 15:54:06,341 pid:3782 MainThread giskard.scanner.logger INFO     PerformanceBiasDetector: Testing slice `text_length(hypothesis)` < 41.500 AND `text_length(hypothesis)` >= 26.500\tPrecision = 0.030 (global 0.041) Δm = -0.260\tis_issue = True\n",
      "2023-09-21 15:54:06,419 pid:3782 MainThread giskard.scanner.logger INFO     PerformanceBiasDetector: Testing slice `text_length(hypothesis)` < 49.500 AND `text_length(hypothesis)` >= 43.500\tPrecision = 0.025 (global 0.041) Δm = -0.384\tis_issue = True\n",
      "2023-09-21 15:54:06,463 pid:3782 MainThread giskard.scanner.logger INFO     PerformanceBiasDetector: Testing slice `text_length(hypothesis)` < 58.500 AND `text_length(hypothesis)` >= 51.500\tPrecision = 0.036 (global 0.041) Δm = -0.127\tis_issue = True\n",
      "2023-09-21 15:54:06,544 pid:3782 MainThread giskard.scanner.logger INFO     PerformanceBiasDetector: Testing slice `charset(hypothesis)` == \"ascii\"\tPrecision = 0.041 (global 0.041) Δm = 0.000\tis_issue = False\n",
      "2023-09-21 15:54:06,599 pid:3782 MainThread giskard.scanner.logger INFO     PerformanceBiasDetector: Testing slice `avg_whitespace(premise)` >= 0.178 AND `avg_whitespace(premise)` < 0.184\tRecall = 0.030 (global 0.037) Δm = -0.203\tis_issue = True\n",
      "2023-09-21 15:54:06,641 pid:3782 MainThread giskard.scanner.logger INFO     PerformanceBiasDetector: Testing slice `avg_whitespace(premise)` < 0.174 AND `avg_whitespace(premise)` >= 0.156\tRecall = 0.025 (global 0.037) Δm = -0.335\tis_issue = True\n",
      "2023-09-21 15:54:06,699 pid:3782 MainThread giskard.scanner.logger INFO     PerformanceBiasDetector: Testing slice `avg_whitespace(premise)` < 0.156 AND `avg_whitespace(premise)` >= 0.146\tRecall = 0.059 (global 0.037) Δm = 0.571\tis_issue = False\n",
      "2023-09-21 15:54:06,716 pid:3782 MainThread giskard.scanner.logger INFO     PerformanceBiasDetector: Testing slice `avg_whitespace(premise)` < 0.132\tRecall = 0.026 (global 0.037) Δm = -0.296\tis_issue = True\n",
      "2023-09-21 15:54:06,758 pid:3782 MainThread giskard.scanner.logger INFO     PerformanceBiasDetector: Testing slice `avg_whitespace(premise)` >= 0.196 AND `avg_whitespace(premise)` < 0.207\tRecall = 0.052 (global 0.037) Δm = 0.402\tis_issue = False\n",
      "2023-09-21 15:54:06,771 pid:3782 MainThread giskard.scanner.logger INFO     PerformanceBiasDetector: Testing slice `avg_whitespace(premise)` >= 0.207 AND `avg_whitespace(premise)` < 0.230\tRecall = 0.038 (global 0.037) Δm = 0.019\tis_issue = False\n",
      "2023-09-21 15:54:06,822 pid:3782 MainThread giskard.scanner.logger INFO     PerformanceBiasDetector: Testing slice `avg_digits(premise)` < 0.005\tRecall = 0.036 (global 0.037) Δm = -0.048\tis_issue = False\n",
      "2023-09-21 15:54:06,840 pid:3782 MainThread giskard.scanner.logger INFO     PerformanceBiasDetector: Testing slice `avg_word_length(premise)` < 6.675 AND `avg_word_length(premise)` >= 5.717\tRecall = 0.024 (global 0.037) Δm = -0.367\tis_issue = True\n",
      "2023-09-21 15:54:06,880 pid:3782 MainThread giskard.scanner.logger INFO     PerformanceBiasDetector: Testing slice `avg_word_length(premise)` < 5.594 AND `avg_word_length(premise)` >= 5.205\tRecall = 0.049 (global 0.037) Δm = 0.323\tis_issue = False\n",
      "2023-09-21 15:54:06,898 pid:3782 MainThread giskard.scanner.logger INFO     PerformanceBiasDetector: Testing slice `avg_word_length(premise)` < 5.205 AND `avg_word_length(premise)` >= 4.819\tRecall = 0.029 (global 0.037) Δm = -0.211\tis_issue = True\n",
      "2023-09-21 15:54:06,940 pid:3782 MainThread giskard.scanner.logger INFO     PerformanceBiasDetector: Testing slice `avg_word_length(premise)` < 3.716 AND `avg_word_length(premise)` >= 3.360\tRecall = 0.021 (global 0.037) Δm = -0.442\tis_issue = True\n",
      "2023-09-21 15:54:06,979 pid:3782 MainThread giskard.scanner.logger INFO     PerformanceBiasDetector: Testing slice `avg_word_length(premise)` < 4.770 AND `avg_word_length(premise)` >= 4.261\tRecall = 0.031 (global 0.037) Δm = -0.158\tis_issue = True\n",
      "2023-09-21 15:54:07,031 pid:3782 MainThread giskard.scanner.logger INFO     PerformanceBiasDetector: Testing slice `text_length(premise)` >= 105.500 AND `text_length(premise)` < 139.500\tRecall = 0.039 (global 0.037) Δm = 0.031\tis_issue = False\n",
      "2023-09-21 15:54:07,045 pid:3782 MainThread giskard.scanner.logger INFO     PerformanceBiasDetector: Testing slice `text_length(premise)` < 29.500 AND `text_length(premise)` >= 19.500\tRecall = 0.049 (global 0.037) Δm = 0.312\tis_issue = False\n",
      "2023-09-21 15:54:07,073 pid:3782 MainThread giskard.scanner.logger INFO     PerformanceBiasDetector: Testing slice `text_length(premise)` < 97.500 AND `text_length(premise)` >= 29.500\tRecall = 0.024 (global 0.037) Δm = -0.367\tis_issue = True\n",
      "2023-09-21 15:54:07,161 pid:3782 MainThread giskard.scanner.logger INFO     PerformanceBiasDetector: Testing slice `premise` contains \"uh\"\tRecall = 0.046 (global 0.037) Δm = 0.228\tis_issue = False\n",
      "2023-09-21 15:54:07,199 pid:3782 MainThread giskard.scanner.logger INFO     PerformanceBiasDetector: Testing slice `premise` contains \"know\"\tRecall = 0.034 (global 0.037) Δm = -0.077\tis_issue = True\n",
      "2023-09-21 15:54:07,262 pid:3782 MainThread giskard.scanner.logger INFO     PerformanceBiasDetector: Testing slice `avg_whitespace(hypothesis)` >= 0.165 AND `avg_whitespace(hypothesis)` < 0.169\tRecall = 0.052 (global 0.037) Δm = 0.395\tis_issue = False\n",
      "2023-09-21 15:54:07,287 pid:3782 MainThread giskard.scanner.logger INFO     PerformanceBiasDetector: Testing slice `avg_whitespace(hypothesis)` >= 0.176\tRecall = 0.035 (global 0.037) Δm = -0.076\tis_issue = True\n",
      "2023-09-21 15:54:07,338 pid:3782 MainThread giskard.scanner.logger INFO     PerformanceBiasDetector: Testing slice `avg_whitespace(hypothesis)` < 0.127 AND `avg_whitespace(hypothesis)` >= 0.113\tRecall = 0.013 (global 0.037) Δm = -0.645\tis_issue = True\n",
      "2023-09-21 15:54:07,372 pid:3782 MainThread giskard.scanner.logger INFO     PerformanceBiasDetector: Testing slice `avg_whitespace(hypothesis)` < 0.137 AND `avg_whitespace(hypothesis)` >= 0.131\tRecall = 0.045 (global 0.037) Δm = 0.192\tis_issue = False\n",
      "2023-09-21 15:54:07,384 pid:3782 MainThread giskard.scanner.logger INFO     PerformanceBiasDetector: Testing slice `avg_whitespace(hypothesis)` < 0.145 AND `avg_whitespace(hypothesis)` >= 0.139\tRecall = 0.045 (global 0.037) Δm = 0.197\tis_issue = False\n",
      "2023-09-21 15:54:07,402 pid:3782 MainThread giskard.scanner.logger INFO     PerformanceBiasDetector: Testing slice `avg_whitespace(hypothesis)` < 0.157 AND `avg_whitespace(hypothesis)` >= 0.145\tRecall = 0.040 (global 0.037) Δm = 0.073\tis_issue = False\n",
      "2023-09-21 15:54:07,461 pid:3782 MainThread giskard.scanner.logger INFO     PerformanceBiasDetector: Testing slice `avg_digits(hypothesis)` < 0.020\tRecall = 0.036 (global 0.037) Δm = -0.034\tis_issue = False\n",
      "2023-09-21 15:54:07,478 pid:3782 MainThread giskard.scanner.logger INFO     PerformanceBiasDetector: Testing slice `avg_word_length(hypothesis)` < 5.061 AND `avg_word_length(hypothesis)` >= 4.581\tRecall = 0.046 (global 0.037) Δm = 0.218\tis_issue = False\n",
      "2023-09-21 15:54:07,504 pid:3782 MainThread giskard.scanner.logger INFO     PerformanceBiasDetector: Testing slice `avg_word_length(hypothesis)` < 6.191 AND `avg_word_length(hypothesis)` >= 5.061\tRecall = 0.035 (global 0.037) Δm = -0.055\tis_issue = True\n",
      "2023-09-21 15:54:07,556 pid:3782 MainThread giskard.scanner.logger INFO     PerformanceBiasDetector: Testing slice `avg_word_length(hypothesis)` < 4.536 AND `avg_word_length(hypothesis)` >= 4.191\tRecall = 0.034 (global 0.037) Δm = -0.098\tis_issue = True\n",
      "2023-09-21 15:54:07,593 pid:3782 MainThread giskard.scanner.logger INFO     PerformanceBiasDetector: Testing slice `avg_word_length(hypothesis)` < 4.080 AND `avg_word_length(hypothesis)` >= 3.926\tRecall = 0.016 (global 0.037) Δm = -0.561\tis_issue = True\n",
      "2023-09-21 15:54:07,626 pid:3782 MainThread giskard.scanner.logger INFO     PerformanceBiasDetector: Testing slice `text_length(hypothesis)` < 26.500 AND `text_length(hypothesis)` >= 18.500\tRecall = 0.022 (global 0.037) Δm = -0.423\tis_issue = True\n",
      "2023-09-21 15:54:07,671 pid:3782 MainThread giskard.scanner.logger INFO     PerformanceBiasDetector: Testing slice `text_length(hypothesis)` < 80.500 AND `text_length(hypothesis)` >= 66.500\tRecall = 0.035 (global 0.037) Δm = -0.062\tis_issue = True\n",
      "2023-09-21 15:54:07,726 pid:3782 MainThread giskard.scanner.logger INFO     PerformanceBiasDetector: Testing slice `text_length(hypothesis)` < 41.500 AND `text_length(hypothesis)` >= 26.500\tRecall = 0.034 (global 0.037) Δm = -0.103\tis_issue = True\n",
      "2023-09-21 15:54:07,768 pid:3782 MainThread giskard.scanner.logger INFO     PerformanceBiasDetector: Testing slice `text_length(hypothesis)` < 49.500 AND `text_length(hypothesis)` >= 43.500\tRecall = 0.024 (global 0.037) Δm = -0.359\tis_issue = True\n",
      "2023-09-21 15:54:07,814 pid:3782 MainThread giskard.scanner.logger INFO     PerformanceBiasDetector: Testing slice `text_length(hypothesis)` < 58.500 AND `text_length(hypothesis)` >= 51.500\tRecall = 0.034 (global 0.037) Δm = -0.099\tis_issue = True\n",
      "2023-09-21 15:54:07,895 pid:3782 MainThread giskard.scanner.logger INFO     PerformanceBiasDetector: Testing slice `charset(hypothesis)` == \"ascii\"\tRecall = 0.037 (global 0.037) Δm = 0.000\tis_issue = False\n",
      "2023-09-21 15:54:07,922 pid:3782 MainThread giskard.scanner.logger INFO     PerformanceBiasDetector: Testing slice `avg_whitespace(premise)` >= 0.178 AND `avg_whitespace(premise)` < 0.184\tAccuracy = 0.033 (global 0.043) Δm = -0.229\tis_issue = True\n",
      "2023-09-21 15:54:07,959 pid:3782 MainThread giskard.scanner.logger INFO     PerformanceBiasDetector: Testing slice `avg_whitespace(premise)` < 0.174 AND `avg_whitespace(premise)` >= 0.156\tAccuracy = 0.032 (global 0.043) Δm = -0.245\tis_issue = True\n",
      "2023-09-21 15:54:08,008 pid:3782 MainThread giskard.scanner.logger INFO     PerformanceBiasDetector: Testing slice `avg_whitespace(premise)` < 0.156 AND `avg_whitespace(premise)` >= 0.146\tAccuracy = 0.052 (global 0.043) Δm = 0.202\tis_issue = False\n",
      "2023-09-21 15:54:08,022 pid:3782 MainThread giskard.scanner.logger INFO     PerformanceBiasDetector: Testing slice `avg_whitespace(premise)` < 0.132\tAccuracy = 0.036 (global 0.043) Δm = -0.164\tis_issue = True\n",
      "2023-09-21 15:54:08,058 pid:3782 MainThread giskard.scanner.logger INFO     PerformanceBiasDetector: Testing slice `avg_whitespace(premise)` >= 0.196 AND `avg_whitespace(premise)` < 0.207\tAccuracy = 0.063 (global 0.043) Δm = 0.474\tis_issue = False\n",
      "2023-09-21 15:54:08,068 pid:3782 MainThread giskard.scanner.logger INFO     PerformanceBiasDetector: Testing slice `avg_whitespace(premise)` >= 0.207 AND `avg_whitespace(premise)` < 0.230\tAccuracy = 0.041 (global 0.043) Δm = -0.056\tis_issue = True\n",
      "2023-09-21 15:54:08,111 pid:3782 MainThread giskard.scanner.logger INFO     PerformanceBiasDetector: Testing slice `avg_digits(premise)` < 0.005\tAccuracy = 0.043 (global 0.043) Δm = -0.006\tis_issue = False\n",
      "2023-09-21 15:54:08,125 pid:3782 MainThread giskard.scanner.logger INFO     PerformanceBiasDetector: Testing slice `avg_word_length(premise)` < 6.675 AND `avg_word_length(premise)` >= 5.717\tAccuracy = 0.028 (global 0.043) Δm = -0.358\tis_issue = True\n",
      "2023-09-21 15:54:08,162 pid:3782 MainThread giskard.scanner.logger INFO     PerformanceBiasDetector: Testing slice `avg_word_length(premise)` < 5.594 AND `avg_word_length(premise)` >= 5.205\tAccuracy = 0.047 (global 0.043) Δm = 0.088\tis_issue = False\n",
      "2023-09-21 15:54:08,177 pid:3782 MainThread giskard.scanner.logger INFO     PerformanceBiasDetector: Testing slice `avg_word_length(premise)` < 5.205 AND `avg_word_length(premise)` >= 4.819\tAccuracy = 0.035 (global 0.043) Δm = -0.197\tis_issue = True\n",
      "2023-09-21 15:54:08,215 pid:3782 MainThread giskard.scanner.logger INFO     PerformanceBiasDetector: Testing slice `avg_word_length(premise)` < 3.716 AND `avg_word_length(premise)` >= 3.360\tAccuracy = 0.029 (global 0.043) Δm = -0.335\tis_issue = True\n",
      "2023-09-21 15:54:08,249 pid:3782 MainThread giskard.scanner.logger INFO     PerformanceBiasDetector: Testing slice `avg_word_length(premise)` < 4.770 AND `avg_word_length(premise)` >= 4.261\tAccuracy = 0.042 (global 0.043) Δm = -0.030\tis_issue = False\n",
      "2023-09-21 15:54:08,261 pid:3782 MainThread giskard.scanner.logger INFO     PerformanceBiasDetector: Testing slice `text_length(premise)` >= 105.500 AND `text_length(premise)` < 139.500\tAccuracy = 0.044 (global 0.043) Δm = 0.020\tis_issue = False\n",
      "2023-09-21 15:54:08,274 pid:3782 MainThread giskard.scanner.logger INFO     PerformanceBiasDetector: Testing slice `text_length(premise)` < 29.500 AND `text_length(premise)` >= 19.500\tAccuracy = 0.064 (global 0.043) Δm = 0.488\tis_issue = False\n",
      "2023-09-21 15:54:08,292 pid:3782 MainThread giskard.scanner.logger INFO     PerformanceBiasDetector: Testing slice `text_length(premise)` < 97.500 AND `text_length(premise)` >= 29.500\tAccuracy = 0.032 (global 0.043) Δm = -0.258\tis_issue = True\n",
      "2023-09-21 15:54:08,380 pid:3782 MainThread giskard.scanner.logger INFO     PerformanceBiasDetector: Testing slice `premise` contains \"uh\"\tAccuracy = 0.043 (global 0.043) Δm = -0.011\tis_issue = False\n",
      "2023-09-21 15:54:08,421 pid:3782 MainThread giskard.scanner.logger INFO     PerformanceBiasDetector: Testing slice `premise` contains \"know\"\tAccuracy = 0.041 (global 0.043) Δm = -0.049\tis_issue = False\n",
      "2023-09-21 15:54:08,435 pid:3782 MainThread giskard.scanner.logger INFO     PerformanceBiasDetector: Testing slice `avg_whitespace(hypothesis)` >= 0.165 AND `avg_whitespace(hypothesis)` < 0.169\tAccuracy = 0.052 (global 0.043) Δm = 0.199\tis_issue = False\n",
      "2023-09-21 15:54:08,461 pid:3782 MainThread giskard.scanner.logger INFO     PerformanceBiasDetector: Testing slice `avg_whitespace(hypothesis)` >= 0.176\tAccuracy = 0.049 (global 0.043) Δm = 0.144\tis_issue = False\n",
      "2023-09-21 15:54:08,471 pid:3782 MainThread giskard.scanner.logger INFO     PerformanceBiasDetector: Testing slice `avg_whitespace(hypothesis)` < 0.127 AND `avg_whitespace(hypothesis)` >= 0.113\tAccuracy = 0.029 (global 0.043) Δm = -0.322\tis_issue = True\n",
      "2023-09-21 15:54:08,504 pid:3782 MainThread giskard.scanner.logger INFO     PerformanceBiasDetector: Testing slice `avg_whitespace(hypothesis)` < 0.137 AND `avg_whitespace(hypothesis)` >= 0.131\tAccuracy = 0.050 (global 0.043) Δm = 0.155\tis_issue = False\n",
      "2023-09-21 15:54:08,515 pid:3782 MainThread giskard.scanner.logger INFO     PerformanceBiasDetector: Testing slice `avg_whitespace(hypothesis)` < 0.145 AND `avg_whitespace(hypothesis)` >= 0.139\tAccuracy = 0.045 (global 0.043) Δm = 0.045\tis_issue = False\n",
      "2023-09-21 15:54:08,532 pid:3782 MainThread giskard.scanner.logger INFO     PerformanceBiasDetector: Testing slice `avg_whitespace(hypothesis)` < 0.157 AND `avg_whitespace(hypothesis)` >= 0.145\tAccuracy = 0.033 (global 0.043) Δm = -0.242\tis_issue = True\n",
      "2023-09-21 15:54:08,601 pid:3782 MainThread giskard.scanner.logger INFO     PerformanceBiasDetector: Testing slice `avg_digits(hypothesis)` < 0.020\tAccuracy = 0.042 (global 0.043) Δm = -0.013\tis_issue = False\n",
      "2023-09-21 15:54:08,618 pid:3782 MainThread giskard.scanner.logger INFO     PerformanceBiasDetector: Testing slice `avg_word_length(hypothesis)` < 5.061 AND `avg_word_length(hypothesis)` >= 4.581\tAccuracy = 0.042 (global 0.043) Δm = -0.033\tis_issue = False\n",
      "2023-09-21 15:54:08,640 pid:3782 MainThread giskard.scanner.logger INFO     PerformanceBiasDetector: Testing slice `avg_word_length(hypothesis)` < 6.191 AND `avg_word_length(hypothesis)` >= 5.061\tAccuracy = 0.035 (global 0.043) Δm = -0.193\tis_issue = True\n",
      "2023-09-21 15:54:08,697 pid:3782 MainThread giskard.scanner.logger INFO     PerformanceBiasDetector: Testing slice `avg_word_length(hypothesis)` < 4.536 AND `avg_word_length(hypothesis)` >= 4.191\tAccuracy = 0.037 (global 0.043) Δm = -0.131\tis_issue = True\n",
      "2023-09-21 15:54:08,736 pid:3782 MainThread giskard.scanner.logger INFO     PerformanceBiasDetector: Testing slice `avg_word_length(hypothesis)` < 4.080 AND `avg_word_length(hypothesis)` >= 3.926\tAccuracy = 0.018 (global 0.043) Δm = -0.591\tis_issue = True\n",
      "2023-09-21 15:54:08,767 pid:3782 MainThread giskard.scanner.logger INFO     PerformanceBiasDetector: Testing slice `text_length(hypothesis)` < 26.500 AND `text_length(hypothesis)` >= 18.500\tAccuracy = 0.029 (global 0.043) Δm = -0.336\tis_issue = True\n",
      "2023-09-21 15:54:08,800 pid:3782 MainThread giskard.scanner.logger INFO     PerformanceBiasDetector: Testing slice `text_length(hypothesis)` < 80.500 AND `text_length(hypothesis)` >= 66.500\tAccuracy = 0.034 (global 0.043) Δm = -0.199\tis_issue = True\n",
      "2023-09-21 15:54:08,843 pid:3782 MainThread giskard.scanner.logger INFO     PerformanceBiasDetector: Testing slice `text_length(hypothesis)` < 41.500 AND `text_length(hypothesis)` >= 26.500\tAccuracy = 0.043 (global 0.043) Δm = -0.000\tis_issue = False\n",
      "2023-09-21 15:54:08,858 pid:3782 MainThread giskard.scanner.logger INFO     PerformanceBiasDetector: Testing slice `text_length(hypothesis)` < 49.500 AND `text_length(hypothesis)` >= 43.500\tAccuracy = 0.028 (global 0.043) Δm = -0.338\tis_issue = True\n",
      "2023-09-21 15:54:08,891 pid:3782 MainThread giskard.scanner.logger INFO     PerformanceBiasDetector: Testing slice `text_length(hypothesis)` < 58.500 AND `text_length(hypothesis)` >= 51.500\tAccuracy = 0.048 (global 0.043) Δm = 0.105\tis_issue = False\n",
      "2023-09-21 15:54:08,922 pid:3782 MainThread giskard.scanner.logger INFO     PerformanceBiasDetector: Testing slice `charset(hypothesis)` == \"ascii\"\tAccuracy = 0.043 (global 0.043) Δm = 0.000\tis_issue = False\n",
      "2023-09-21 15:54:08,924 pid:3782 MainThread giskard.scanner.logger INFO     PerformanceBiasDetector: 21 issues found (took 0:03:50.102779)\n",
      " 15 issues detected. (Took 0:09:27.058159)\n",
      "Running detector TextPerturbationDetector…2023-09-21 15:54:08,937 pid:3782 MainThread giskard.scanner.logger INFO     TextPerturbationDetector: Running with transformations=['Transform to uppercase', 'Transform to lowercase', 'Transform to title case', 'Add typos', 'Punctuation Removal'] threshold=None output_sensitivity=None num_samples=None\n"
     ]
    },
    {
     "name": "stderr",
     "output_type": "stream",
     "text": [
      "1000it [06:12,  2.68it/s]"
     ]
    },
    {
     "name": "stdout",
     "output_type": "stream",
     "text": [
      "2023-09-21 16:00:21,804 pid:3782 MainThread giskard.scanner.logger INFO     TextPerturbationDetector: Testing `premise` for perturbation `Transform to uppercase`\tFail rate: 0.037\n"
     ]
    },
    {
     "name": "stderr",
     "output_type": "stream",
     "text": [
      "\n",
      "1000it [05:50,  2.85it/s]"
     ]
    },
    {
     "name": "stdout",
     "output_type": "stream",
     "text": [
      "2023-09-21 16:06:12,574 pid:3782 MainThread giskard.scanner.logger INFO     TextPerturbationDetector: Testing `hypothesis` for perturbation `Transform to uppercase`\tFail rate: 0.032\n"
     ]
    },
    {
     "name": "stderr",
     "output_type": "stream",
     "text": [
      "\n",
      "1000it [04:28,  3.73it/s]"
     ]
    },
    {
     "name": "stdout",
     "output_type": "stream",
     "text": [
      "2023-09-21 16:10:40,852 pid:3782 MainThread giskard.scanner.logger INFO     TextPerturbationDetector: Testing `premise` for perturbation `Transform to lowercase`\tFail rate: 0.008\n"
     ]
    },
    {
     "name": "stderr",
     "output_type": "stream",
     "text": [
      "\n",
      "1000it [04:54,  3.39it/s]"
     ]
    },
    {
     "name": "stdout",
     "output_type": "stream",
     "text": [
      "2023-09-21 16:15:35,652 pid:3782 MainThread giskard.scanner.logger INFO     TextPerturbationDetector: Testing `hypothesis` for perturbation `Transform to lowercase`\tFail rate: 0.005\n"
     ]
    },
    {
     "name": "stderr",
     "output_type": "stream",
     "text": [
      "\n",
      "1000it [06:10,  2.70it/s]"
     ]
    },
    {
     "name": "stdout",
     "output_type": "stream",
     "text": [
      "2023-09-21 16:21:45,816 pid:3782 MainThread giskard.scanner.logger INFO     TextPerturbationDetector: Testing `premise` for perturbation `Transform to title case`\tFail rate: 0.012\n"
     ]
    },
    {
     "name": "stderr",
     "output_type": "stream",
     "text": [
      "\n",
      "1000it [05:02,  3.31it/s]"
     ]
    },
    {
     "name": "stdout",
     "output_type": "stream",
     "text": [
      "2023-09-21 16:26:48,161 pid:3782 MainThread giskard.scanner.logger INFO     TextPerturbationDetector: Testing `hypothesis` for perturbation `Transform to title case`\tFail rate: 0.015\n"
     ]
    },
    {
     "name": "stderr",
     "output_type": "stream",
     "text": [
      "\n",
      "1000it [04:44,  3.51it/s]"
     ]
    },
    {
     "name": "stdout",
     "output_type": "stream",
     "text": [
      "2023-09-21 16:31:34,380 pid:3782 MainThread giskard.scanner.logger INFO     TextPerturbationDetector: Testing `premise` for perturbation `Add typos`\tFail rate: 0.045\n"
     ]
    },
    {
     "name": "stderr",
     "output_type": "stream",
     "text": [
      "\n",
      "1000it [04:23,  3.80it/s]\n"
     ]
    },
    {
     "name": "stdout",
     "output_type": "stream",
     "text": [
      "2023-09-21 16:35:58,301 pid:3782 MainThread giskard.scanner.logger INFO     TextPerturbationDetector: Testing `hypothesis` for perturbation `Add typos`\tFail rate: 0.078\n"
     ]
    },
    {
     "name": "stderr",
     "output_type": "stream",
     "text": [
      "1000it [05:28,  3.04it/s]"
     ]
    },
    {
     "name": "stdout",
     "output_type": "stream",
     "text": [
      "2023-09-21 16:41:27,306 pid:3782 MainThread giskard.scanner.logger INFO     TextPerturbationDetector: Testing `premise` for perturbation `Punctuation Removal`\tFail rate: 0.014\n"
     ]
    },
    {
     "name": "stderr",
     "output_type": "stream",
     "text": [
      "\n",
      "1000it [09:29,  1.76it/s]"
     ]
    },
    {
     "name": "stdout",
     "output_type": "stream",
     "text": [
      "2023-09-21 16:50:56,877 pid:3782 MainThread giskard.scanner.logger INFO     TextPerturbationDetector: Testing `hypothesis` for perturbation `Punctuation Removal`\tFail rate: 0.007\n"
     ]
    },
    {
     "name": "stderr",
     "output_type": "stream",
     "text": [
      "\n"
     ]
    },
    {
     "name": "stdout",
     "output_type": "stream",
     "text": [
      " 1 issues detected. (Took 0:56:47.999879)\n",
      "Running detector EthicalBiasDetector…2023-09-21 16:50:56,949 pid:3782 MainThread giskard.scanner.logger INFO     EthicalBiasDetector: Running with transformations=['Switch Gender', 'Switch Religion', 'Switch countries from high- to low-income and vice versa'] threshold=None output_sensitivity=None num_samples=None\n"
     ]
    },
    {
     "name": "stderr",
     "output_type": "stream",
     "text": [
      "1000it [10:36,  1.57it/s]"
     ]
    },
    {
     "name": "stdout",
     "output_type": "stream",
     "text": [
      "2023-09-21 17:01:35,263 pid:3782 MainThread giskard.scanner.logger INFO     EthicalBiasDetector: Testing `premise` for perturbation `Switch Gender`\tFail rate: 0.133\n"
     ]
    },
    {
     "name": "stderr",
     "output_type": "stream",
     "text": [
      "\n",
      "787it [09:08,  1.43it/s]"
     ]
    },
    {
     "name": "stdout",
     "output_type": "stream",
     "text": [
      "2023-09-21 17:10:44,401 pid:3782 MainThread giskard.scanner.logger INFO     EthicalBiasDetector: Testing `hypothesis` for perturbation `Switch Gender`\tFail rate: 0.274\n"
     ]
    },
    {
     "name": "stderr",
     "output_type": "stream",
     "text": [
      "\n",
      "149it [01:05,  2.29it/s]"
     ]
    },
    {
     "name": "stdout",
     "output_type": "stream",
     "text": [
      "2023-09-21 17:11:51,176 pid:3782 MainThread giskard.scanner.logger INFO     EthicalBiasDetector: Testing `premise` for perturbation `Switch Religion`\tFail rate: 0.128\n"
     ]
    },
    {
     "name": "stderr",
     "output_type": "stream",
     "text": [
      "\n",
      "86it [00:43,  1.96it/s]"
     ]
    },
    {
     "name": "stdout",
     "output_type": "stream",
     "text": [
      "2023-09-21 17:12:36,400 pid:3782 MainThread giskard.scanner.logger INFO     EthicalBiasDetector: Testing `hypothesis` for perturbation `Switch Religion`\tFail rate: 0.360\n"
     ]
    },
    {
     "name": "stderr",
     "output_type": "stream",
     "text": [
      "\n",
      "413it [04:35,  1.50it/s]"
     ]
    },
    {
     "name": "stdout",
     "output_type": "stream",
     "text": [
      "2023-09-21 17:18:42,650 pid:3782 MainThread giskard.scanner.logger INFO     EthicalBiasDetector: Testing `premise` for perturbation `Switch countries from high- to low-income and vice versa`\tFail rate: 0.278\n"
     ]
    },
    {
     "name": "stderr",
     "output_type": "stream",
     "text": [
      "\n",
      "226it [04:04,  1.08s/it]"
     ]
    },
    {
     "name": "stdout",
     "output_type": "stream",
     "text": [
      "2023-09-21 17:23:27,304 pid:3782 MainThread giskard.scanner.logger INFO     EthicalBiasDetector: Testing `hypothesis` for perturbation `Switch countries from high- to low-income and vice versa`\tFail rate: 0.469\n",
      " 6 issues detected. (Took 0:32:30.402893)\n",
      "Running detector DataLeakageDetector…2023-09-21 17:23:27,346 pid:3782 MainThread giskard.scanner.logger INFO     DataLeakageDetector: Running\n"
     ]
    },
    {
     "name": "stderr",
     "output_type": "stream",
     "text": [
      "\n",
      "1it [00:00,  2.61it/s]\n",
      "1it [00:00,  3.21it/s]\n",
      "1it [00:00,  2.79it/s]\n",
      "1it [00:00,  2.08it/s]\n",
      "1it [00:00,  2.63it/s]\n",
      "1it [00:00,  2.41it/s]\n",
      "1it [00:00,  2.94it/s]\n",
      "1it [00:00,  3.32it/s]\n",
      "1it [00:00,  2.07it/s]\n",
      "1it [00:00,  2.59it/s]\n",
      "1it [00:00,  3.25it/s]\n",
      "1it [00:00,  1.94it/s]\n",
      "1it [00:00,  2.08it/s]\n",
      "1it [00:00,  2.13it/s]\n",
      "1it [00:00,  2.64it/s]\n",
      "1it [00:00,  3.08it/s]\n",
      "1it [00:00,  2.35it/s]\n",
      "1it [00:00,  1.93it/s]\n",
      "1it [00:00,  1.84it/s]\n",
      "1it [00:00,  3.33it/s]\n",
      "1it [00:00,  3.92it/s]\n",
      "1it [00:00,  1.24it/s]\n",
      "1it [00:00,  2.54it/s]\n",
      "1it [00:00,  2.78it/s]\n",
      "1it [00:00,  3.01it/s]\n",
      "1it [00:00,  3.07it/s]\n",
      "1it [00:00,  2.87it/s]\n",
      "1it [00:00,  3.26it/s]\n",
      "1it [00:00,  3.50it/s]\n",
      "1it [00:00,  3.83it/s]\n",
      "1it [00:00,  3.24it/s]\n",
      "1it [00:00,  3.09it/s]\n",
      "1it [00:00,  3.22it/s]\n",
      "1it [00:00,  2.62it/s]\n",
      "1it [00:00,  3.09it/s]\n",
      "1it [00:00,  2.46it/s]\n",
      "1it [00:00,  2.48it/s]\n",
      "1it [00:00,  2.82it/s]\n",
      "1it [00:00,  2.73it/s]\n",
      "1it [00:00,  2.62it/s]\n",
      "1it [00:00,  3.48it/s]\n",
      "1it [00:00,  3.66it/s]\n",
      "1it [00:00,  2.83it/s]\n",
      "1it [00:00,  3.27it/s]\n",
      "1it [00:00,  2.72it/s]\n",
      "1it [00:00,  2.64it/s]\n",
      "1it [00:00,  2.93it/s]\n",
      "1it [00:00,  3.00it/s]\n",
      "1it [00:00,  2.78it/s]\n",
      "1it [00:00,  2.51it/s]\n",
      "1it [00:00,  2.41it/s]\n",
      "1it [00:00,  3.09it/s]\n",
      "1it [00:00,  3.75it/s]\n",
      "1it [00:00,  2.45it/s]\n",
      "1it [00:00,  1.99it/s]\n",
      "1it [00:00,  2.92it/s]\n",
      "1it [00:00,  3.42it/s]\n",
      "1it [00:00,  2.96it/s]\n",
      "1it [00:00,  3.61it/s]\n",
      "1it [00:00,  3.37it/s]\n",
      "1it [00:00,  3.31it/s]\n",
      "1it [00:00,  3.62it/s]\n",
      "1it [00:00,  2.20it/s]\n",
      "1it [00:00,  2.86it/s]\n",
      "1it [00:00,  3.08it/s]\n",
      "1it [00:00,  3.86it/s]\n",
      "1it [00:00,  3.39it/s]\n",
      "1it [00:00,  3.24it/s]\n",
      "1it [00:00,  2.95it/s]\n",
      "1it [00:00,  1.94it/s]\n",
      "1it [00:00,  3.32it/s]\n",
      "1it [00:00,  2.96it/s]\n",
      "1it [00:00,  2.62it/s]\n",
      "1it [00:00,  2.50it/s]\n",
      "1it [00:00,  2.10it/s]\n",
      "1it [00:00,  3.00it/s]\n",
      "1it [00:00,  3.04it/s]\n",
      "1it [00:00,  3.45it/s]\n",
      "1it [00:00,  3.04it/s]\n",
      "1it [00:00,  3.94it/s]\n",
      "1it [00:00,  2.38it/s]\n",
      "1it [00:00,  4.09it/s]\n",
      "1it [00:00,  3.95it/s]\n",
      "1it [00:00,  3.34it/s]\n",
      "1it [00:00,  2.17it/s]\n",
      "1it [00:00,  1.74it/s]\n",
      "1it [00:00,  2.64it/s]\n",
      "1it [00:00,  2.46it/s]\n",
      "1it [00:00,  2.56it/s]\n",
      "1it [00:00,  3.87it/s]\n",
      "1it [00:00,  3.36it/s]\n",
      "1it [00:00,  3.09it/s]\n",
      "1it [00:00,  2.35it/s]\n",
      "1it [00:00,  3.24it/s]\n",
      "1it [00:00,  3.61it/s]\n",
      "1it [00:00,  2.79it/s]\n",
      "1it [00:00,  2.95it/s]\n",
      "1it [00:00,  3.08it/s]\n",
      "1it [00:00,  3.55it/s]\n",
      "1it [00:00,  3.03it/s]"
     ]
    },
    {
     "name": "stdout",
     "output_type": "stream",
     "text": [
      " 0 issues detected. (Took 0:00:38.753444)\n",
      "Running detector StochasticityDetector…2023-09-21 17:24:06,103 pid:3782 MainThread giskard.scanner.logger INFO     StochasticityDetector: Running\n"
     ]
    },
    {
     "name": "stderr",
     "output_type": "stream",
     "text": [
      "\n",
      "100it [00:32,  3.10it/s]\n",
      "100it [00:41,  2.43it/s]"
     ]
    },
    {
     "name": "stdout",
     "output_type": "stream",
     "text": [
      " 0 issues detected. (Took 0:01:13.458618)\n",
      "Running detector OverconfidenceDetector…2023-09-21 17:25:19,561 pid:3782 MainThread giskard.scanner.logger INFO     OverconfidenceDetector: Running\n",
      "2023-09-21 17:25:19,562 pid:3782 MainThread giskard.scanner.logger INFO     OverconfidenceDetector: Calculating loss\n",
      "2023-09-21 17:25:19,637 pid:3782 MainThread giskard.scanner.logger INFO     OverconfidenceDetector: Loss calculated (took 0:00:00.073837)\n",
      "2023-09-21 17:25:19,638 pid:3782 MainThread giskard.scanner.logger INFO     OverconfidenceDetector: Finding data slices\n"
     ]
    },
    {
     "name": "stderr",
     "output_type": "stream",
     "text": [
      "\n"
     ]
    },
    {
     "name": "stdout",
     "output_type": "stream",
     "text": [
      "2023-09-21 17:27:46,830 pid:3782 MainThread giskard.scanner.logger INFO     OverconfidenceDetector: 3 slices found (took 0:02:27.191048)\n",
      "2023-09-21 17:27:46,832 pid:3782 MainThread giskard.scanner.logger INFO     OverconfidenceDetector: Analyzing issues\n",
      "2023-09-21 17:27:46,909 pid:3782 MainThread giskard.scanner.logger INFO     OverconfidenceDetector: Using overconfidence threshold = 0.5\n",
      "2023-09-21 17:27:47,035 pid:3782 MainThread giskard.scanner.logger INFO     OverconfidenceDetector: 0 issues found (took 0:00:00.202777)\n",
      " 0 issues detected. (Took 0:02:27.475981)\n",
      "Running detector UnderconfidenceDetector…2023-09-21 17:27:47,037 pid:3782 MainThread giskard.scanner.logger INFO     UnderconfidenceDetector: Running\n",
      "2023-09-21 17:27:47,038 pid:3782 MainThread giskard.scanner.logger INFO     UnderconfidenceDetector: Calculating loss\n",
      "2023-09-21 17:27:47,123 pid:3782 MainThread giskard.scanner.logger INFO     UnderconfidenceDetector: Loss calculated (took 0:00:00.082467)\n",
      "2023-09-21 17:27:47,125 pid:3782 MainThread giskard.scanner.logger INFO     UnderconfidenceDetector: Finding data slices\n",
      "2023-09-21 17:30:24,574 pid:3782 MainThread giskard.scanner.logger INFO     UnderconfidenceDetector: 39 slices found (took 0:02:37.444785)\n",
      "2023-09-21 17:30:24,578 pid:3782 MainThread giskard.scanner.logger INFO     UnderconfidenceDetector: Analyzing issues\n",
      "2023-09-21 17:30:24,947 pid:3782 MainThread giskard.scanner.logger INFO     UnderconfidenceDetector: 0 issues found (took 0:00:00.368194)\n",
      " 0 issues detected. (Took 0:02:37.910664)\n",
      "Running detector SpuriousCorrelationDetector…2023-09-21 17:30:24,949 pid:3782 MainThread giskard.scanner.logger INFO     SpuriousCorrelationDetector: Running\n",
      "2023-09-21 17:30:29,861 pid:3782 MainThread giskard.scanner.logger INFO     SpuriousCorrelationDetector: `premise` contains \"know\"\tAssociation = 0.000\n",
      "2023-09-21 17:30:52,955 pid:3782 MainThread giskard.scanner.logger INFO     SpuriousCorrelationDetector: `premise` contains \"uh\"\tAssociation = 0.000\n",
      "2023-09-21 17:30:57,688 pid:3782 MainThread giskard.scanner.logger INFO     SpuriousCorrelationDetector: `text_length(hypothesis)` < 114.500\tAssociation = 0.003\n",
      "2023-09-21 17:30:57,731 pid:3782 MainThread giskard.scanner.logger INFO     SpuriousCorrelationDetector: `charset(hypothesis)` == \"ascii\"\tAssociation = 0.000\n",
      " 0 issues detected. (Took 0:00:53.777200)\n",
      "Scan completed: 22 issues found. (Took 1:46:36.887253)\n"
     ]
    }
   ],
   "source": [
    "results = scan(gsk_hf_model, gsk_dataset)"
   ]
  },
  {
   "cell_type": "code",
   "execution_count": 7,
   "outputs": [],
   "source": [
    "results.to_html(\"MoritzLaurer--mDeBERTa-v3-base-xnli-multilingual-nli-2mil7.html\")"
   ],
   "metadata": {
    "collapsed": false,
    "ExecuteTime": {
     "end_time": "2023-09-21T15:31:19.576817Z",
     "start_time": "2023-09-21T15:31:18.812499Z"
    }
   }
  },
  {
   "cell_type": "code",
   "execution_count": null,
   "outputs": [],
   "source": [],
   "metadata": {
    "collapsed": false
   }
  }
 ],
 "metadata": {
  "kernelspec": {
   "display_name": "Python 3 (ipykernel)",
   "language": "python",
   "name": "python3"
  },
  "language_info": {
   "codemirror_mode": {
    "name": "ipython",
    "version": 3
   },
   "file_extension": ".py",
   "mimetype": "text/x-python",
   "name": "python",
   "nbconvert_exporter": "python",
   "pygments_lexer": "ipython3",
   "version": "3.10.9"
  }
 },
 "nbformat": 4,
 "nbformat_minor": 4
}
