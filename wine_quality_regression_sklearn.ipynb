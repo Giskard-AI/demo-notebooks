{
 "cells": [
  {
   "cell_type": "markdown",
   "source": [
    "# Wine quality regression [sklearn]\n",
    "* Regression task to predict wine's density.\n",
    "* Reference notebook: <https://www.kaggle.com/code/nkitgupta/feature-engineering-and-feature-selection>\n",
    "* Dataset: <https://www.kaggle.com/code/nkitgupta/feature-engineering-and-feature-selection/input>"
   ],
   "metadata": {
    "collapsed": false
   }
  },
  {
   "cell_type": "markdown",
   "source": [
    "## Import libraries"
   ],
   "metadata": {
    "collapsed": false
   }
  },
  {
   "cell_type": "code",
   "execution_count": 55,
   "id": "7d7d76f0",
   "metadata": {
    "execution": {
     "iopub.execute_input": "2022-04-28T13:34:50.704556Z",
     "iopub.status.busy": "2022-04-28T13:34:50.703961Z",
     "iopub.status.idle": "2022-04-28T13:34:51.917091Z",
     "shell.execute_reply": "2022-04-28T13:34:51.916108Z"
    },
    "papermill": {
     "duration": 1.262912,
     "end_time": "2022-04-28T13:34:51.919751",
     "exception": false,
     "start_time": "2022-04-28T13:34:50.656839",
     "status": "completed"
    },
    "tags": [],
    "ExecuteTime": {
     "end_time": "2023-05-24T14:49:30.144422Z",
     "start_time": "2023-05-24T14:49:30.124483Z"
    }
   },
   "outputs": [],
   "source": [
    "import os\n",
    "\n",
    "import pandas as pd\n",
    "from sklearn.metrics import r2_score\n",
    "from sklearn.pipeline import Pipeline\n",
    "from sklearn.decomposition import PCA\n",
    "from sklearn.linear_model import LinearRegression\n",
    "from sklearn.model_selection import train_test_split\n",
    "\n",
    "from giskard import scan\n",
    "from giskard import Dataset, Model, GiskardClient\n",
    "from giskard.client.giskard_client import GiskardError"
   ]
  },
  {
   "cell_type": "markdown",
   "source": [
    "## Define constants"
   ],
   "metadata": {
    "collapsed": false
   }
  },
  {
   "cell_type": "code",
   "execution_count": null,
   "outputs": [],
   "source": [
    "# Constants.\n",
    "TARGET_COLUMN_NAME = \"density\"\n",
    "\n",
    "# Giskard creds.\n",
    "GISKARD_URL = \"http://localhost:9000\"\n",
    "GISKARD_TOKEN = \"\"\n",
    "GISKARD_PROJECT_KEY = \"wine_quality_regression\"\n",
    "\n",
    "# Paths.\n",
    "PATH_DATA = os.path.join(\".\", \"datasets\", \"wine_quality_dataset\", \"winequality-red.csv\")"
   ],
   "metadata": {
    "collapsed": false
   }
  },
  {
   "cell_type": "markdown",
   "source": [
    "## Load data"
   ],
   "metadata": {
    "collapsed": false
   }
  },
  {
   "cell_type": "code",
   "execution_count": null,
   "id": "3b8fdf9c",
   "metadata": {
    "execution": {
     "iopub.execute_input": "2022-04-28T13:34:52.012394Z",
     "iopub.status.busy": "2022-04-28T13:34:52.012121Z",
     "iopub.status.idle": "2022-04-28T13:34:52.058748Z",
     "shell.execute_reply": "2022-04-28T13:34:52.057754Z"
    },
    "papermill": {
     "duration": 0.095667,
     "end_time": "2022-04-28T13:34:52.061606",
     "exception": false,
     "start_time": "2022-04-28T13:34:51.965939",
     "status": "completed"
    },
    "tags": []
   },
   "outputs": [],
   "source": [
    "def load_data(**kwargs) -> pd.DataFrame:\n",
    "    \"\"\"Load data.\"\"\"\n",
    "    df = pd.read_csv(PATH_DATA, **kwargs)\n",
    "    return df\n",
    "\n",
    "wine_df = load_data()"
   ]
  },
  {
   "cell_type": "markdown",
   "source": [
    "## Train-test split"
   ],
   "metadata": {
    "collapsed": false
   }
  },
  {
   "cell_type": "code",
   "execution_count": null,
   "outputs": [],
   "source": [
    "X_train, X_test, Y_train, Y_test = train_test_split(wine_df.drop(TARGET_COLUMN_NAME, axis=1),\n",
    "                                                    wine_df[TARGET_COLUMN_NAME],\n",
    "                                                    test_size=0.2, random_state=11)"
   ],
   "metadata": {
    "collapsed": false
   }
  },
  {
   "cell_type": "markdown",
   "source": [
    "## Wrap dataset with giskard"
   ],
   "metadata": {
    "collapsed": false
   }
  },
  {
   "cell_type": "code",
   "execution_count": null,
   "outputs": [],
   "source": [
    "raw_dataset = pd.concat([X_test, Y_test], axis=1)\n",
    "column_types = {column: \"numeric\" for column in X_test.columns}\n",
    "\n",
    "wrapped_dataset = Dataset(raw_dataset,\n",
    "                          name=\"wine_quality_dataset\",\n",
    "                          target=TARGET_COLUMN_NAME,\n",
    "                          column_types=column_types)"
   ],
   "metadata": {
    "collapsed": false
   }
  },
  {
   "cell_type": "markdown",
   "source": [
    "## Train and test estimator"
   ],
   "metadata": {
    "collapsed": false
   }
  },
  {
   "cell_type": "code",
   "execution_count": null,
   "id": "a1a88aed",
   "metadata": {
    "execution": {
     "iopub.execute_input": "2022-04-28T13:34:58.949099Z",
     "iopub.status.busy": "2022-04-28T13:34:58.948822Z",
     "iopub.status.idle": "2022-04-28T13:34:58.954892Z",
     "shell.execute_reply": "2022-04-28T13:34:58.953938Z"
    },
    "papermill": {
     "duration": 0.068248,
     "end_time": "2022-04-28T13:34:58.956833",
     "exception": false,
     "start_time": "2022-04-28T13:34:58.888585",
     "status": "completed"
    },
    "tags": []
   },
   "outputs": [],
   "source": [
    "# Define and fit pipeline.\n",
    "pipeline = Pipeline(steps=[\n",
    "    (\"pca\", PCA(n_components=8)),\n",
    "    (\"regressor\", LinearRegression())\n",
    "])\n",
    "\n",
    "pipeline.fit(X_train, Y_train)\n",
    "\n",
    "# Calculate train and test metrics.\n",
    "Y_pred_train = pipeline.predict(X_train)\n",
    "Y_pred_test = pipeline.predict(X_test)\n",
    "\n",
    "train_metric = r2_score(Y_train, Y_pred_train)\n",
    "test_metric = r2_score(Y_test, Y_pred_test)\n",
    "\n",
    "print(f\"Train R2-Score: {train_metric}\")\n",
    "print(f\"Test R2-Score: {test_metric}\")"
   ]
  },
  {
   "cell_type": "markdown",
   "source": [
    "## Wrap model with Giskard"
   ],
   "metadata": {
    "collapsed": false
   }
  },
  {
   "cell_type": "code",
   "execution_count": null,
   "outputs": [],
   "source": [
    "wrapped_model = Model(pipeline,\n",
    "                      model_type=\"regression\",\n",
    "                      name=\"wine_quality_regressor\",\n",
    "                      feature_names=X_test.columns)\n",
    "\n",
    "# Validate model.\n",
    "wrapped_test_metric = r2_score(Y_test, wrapped_model.predict(wrapped_dataset).prediction)\n",
    "print(f\"Wrapped Test R2-Score: {wrapped_test_metric}\")"
   ],
   "metadata": {
    "collapsed": false
   }
  },
  {
   "cell_type": "markdown",
   "source": [
    "## Scan model with Giskard"
   ],
   "metadata": {
    "collapsed": false
   }
  },
  {
   "cell_type": "code",
   "execution_count": null,
   "outputs": [],
   "source": [
    "scan_results = scan(wrapped_model, wrapped_dataset)"
   ],
   "metadata": {
    "collapsed": false
   }
  },
  {
   "cell_type": "markdown",
   "source": [
    "## Upload model and dataset to the giskard UI platform"
   ],
   "metadata": {
    "collapsed": false
   }
  },
  {
   "cell_type": "code",
   "execution_count": null,
   "outputs": [],
   "source": [
    "# Init giskard client.\n",
    "client = GiskardClient(GISKARD_URL, GISKARD_TOKEN)\n",
    "\n",
    "# Create or fetch a project by its key.\n",
    "try:\n",
    "    project = client.create_project(GISKARD_PROJECT_KEY,\n",
    "                                    name=\"WINE_QUALITY_REGRESSION\",\n",
    "                                    description=\"Regression task of estimating wine's density.\")\n",
    "except GiskardError as e:\n",
    "    print(f\"Project with key {GISKARD_PROJECT_KEY} already exists. Trying to get it.\")\n",
    "    project = client.get_project(GISKARD_PROJECT_KEY)\n",
    "\n",
    "# Upload model and dataset.\n",
    "model_id = wrapped_model.upload(client, GISKARD_PROJECT_KEY)\n",
    "dataset_id = wrapped_dataset.upload(client, GISKARD_PROJECT_KEY)"
   ],
   "metadata": {
    "collapsed": false
   }
  }
 ],
 "metadata": {
  "kernelspec": {
   "display_name": "Python 3",
   "language": "python",
   "name": "python3"
  },
  "language_info": {
   "codemirror_mode": {
    "name": "ipython",
    "version": 3
   },
   "file_extension": ".py",
   "mimetype": "text/x-python",
   "name": "python",
   "nbconvert_exporter": "python",
   "pygments_lexer": "ipython3",
   "version": "3.7.12"
  },
  "papermill": {
   "default_parameters": {},
   "duration": 26.3589,
   "end_time": "2022-04-28T13:35:05.931301",
   "environment_variables": {},
   "exception": null,
   "input_path": "__notebook__.ipynb",
   "output_path": "__notebook__.ipynb",
   "parameters": {},
   "start_time": "2022-04-28T13:34:39.572401",
   "version": "2.3.4"
  }
 },
 "nbformat": 4,
 "nbformat_minor": 5
}
