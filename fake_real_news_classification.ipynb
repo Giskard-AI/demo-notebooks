{
 "cells": [
  {
   "metadata": {},
   "cell_type": "markdown",
   "source": [
    "# Fake/real news classification [tensorflow (keras)]\n",
    "* Binary classification of news being fake or real, based on their text.\n",
    "* Reference notebook: <https://www.kaggle.com/code/madz2000/nlp-using-glove-embeddings-99-87-accuracy/notebook>\n",
    "* Dataset: <https://www.kaggle.com/code/madz2000/nlp-using-glove-embeddings-99-87-accuracy/input>"
   ]
  },
  {
   "metadata": {},
   "cell_type": "markdown",
   "source": [
    "## Import libraries"
   ]
  },
  {
   "metadata": {
    "_uuid": "d629ff2d2480ee46fbb7e2d37f6b5fab8052498a",
    "_cell_guid": "79c7e3d0-c299-4dcb-8224-4455121ee9b0",
    "trusted": true,
    "ExecuteTime": {
     "end_time": "2023-05-16T11:27:36.970285Z",
     "start_time": "2023-05-16T11:27:19.516461Z"
    }
   },
   "cell_type": "code",
   "source": [
    "import os\n",
    "import string\n",
    "from typing import Tuple\n",
    "\n",
    "import numpy as np\n",
    "import pandas as pd\n",
    "from nltk.corpus import stopwords\n",
    "from keras.optimizers import Adam\n",
    "from keras.models import Sequential\n",
    "from keras.utils import pad_sequences\n",
    "from keras.preprocessing.text import Tokenizer\n",
    "from keras.layers import Dense, Embedding, LSTM\n",
    "from sklearn.model_selection import train_test_split\n",
    "\n",
    "import giskard\n",
    "from giskard import Dataset, Model"
   ],
   "execution_count": 1,
   "outputs": [
    {
     "name": "stderr",
     "output_type": "stream",
     "text": [
      "2023-05-16 13:27:26.671092: I tensorflow/core/platform/cpu_feature_guard.cc:182] This TensorFlow binary is optimized to use available CPU instructions in performance-critical operations.\n",
      "To enable the following instructions: AVX2 FMA, in other operations, rebuild TensorFlow with the appropriate compiler flags.\n"
     ]
    }
   ]
  },
  {
   "cell_type": "markdown",
   "source": [
    "## Define constants"
   ],
   "metadata": {
    "collapsed": false
   }
  },
  {
   "cell_type": "code",
   "execution_count": 2,
   "outputs": [],
   "source": [
    "# Constants.\n",
    "MAX_TOKENS = 10000\n",
    "MAX_SEQUENCE_LENGTH = 300\n",
    "\n",
    "STOPWORDS = stopwords.words('english')\n",
    "\n",
    "TEXT_COLUMN_NAME = \"text\"\n",
    "TARGET_COLUMN_NAME = \"category\"\n",
    "\n",
    "# Paths.\n",
    "DATA_DIRECTORY = os.path.join(\".\", \"datasets\", \"fake_real_news_dataset\")\n",
    "EMBEDDING_FILE = os.path.join(DATA_DIRECTORY, \"glove_100d.txt\")"
   ],
   "metadata": {
    "collapsed": false,
    "ExecuteTime": {
     "end_time": "2023-05-16T11:27:37.012899Z",
     "start_time": "2023-05-16T11:27:36.979106Z"
    }
   }
  },
  {
   "metadata": {},
   "cell_type": "markdown",
   "source": [
    "## Load data"
   ]
  },
  {
   "metadata": {
    "trusted": true,
    "ExecuteTime": {
     "end_time": "2023-05-16T11:27:37.023859Z",
     "start_time": "2023-05-16T11:27:37.006673Z"
    }
   },
   "cell_type": "code",
   "source": [
    "def load_data(**kwargs) -> pd.DataFrame:\n",
    "    \"\"\"Load data.\"\"\"\n",
    "    print(f\"Loading data...\")\n",
    "\n",
    "    # Load and label real news data.\n",
    "    real_df = pd.read_csv(os.path.join(DATA_DIRECTORY, \"True.csv\"), **kwargs)\n",
    "    real_df[TARGET_COLUMN_NAME] = 1\n",
    "\n",
    "    # Load and label fake news data.\n",
    "    fake_df = pd.read_csv(os.path.join(DATA_DIRECTORY, \"Fake.csv\"), **kwargs)\n",
    "    fake_df[TARGET_COLUMN_NAME] = 0\n",
    "\n",
    "    # Create common df.\n",
    "    full_df = pd.concat([real_df, fake_df])\n",
    "\n",
    "    # Drop useless columns.\n",
    "    full_df.drop(columns=[\"subject\", \"date\"], inplace=True)\n",
    "\n",
    "    print(f\"Finished loading data!\")\n",
    "\n",
    "    return full_df"
   ],
   "execution_count": 3,
   "outputs": []
  },
  {
   "metadata": {
    "trusted": true,
    "ExecuteTime": {
     "end_time": "2023-05-16T11:27:37.300954Z",
     "start_time": "2023-05-16T11:27:37.013652Z"
    }
   },
   "cell_type": "code",
   "source": [
    "news_df = load_data(nrows=2000)\n",
    "news_df.head()"
   ],
   "execution_count": 4,
   "outputs": [
    {
     "name": "stdout",
     "output_type": "stream",
     "text": [
      "Loading data...\n",
      "Finished loading data!\n"
     ]
    },
    {
     "data": {
      "text/plain": "                                               title  \\\n0  As U.S. budget fight looms, Republicans flip t...   \n1  U.S. military to accept transgender recruits o...   \n2  Senior U.S. Republican senator: 'Let Mr. Muell...   \n3  FBI Russia probe helped by Australian diplomat...   \n4  Trump wants Postal Service to charge 'much mor...   \n\n                                                text  category  \n0  WASHINGTON (Reuters) - The head of a conservat...         1  \n1  WASHINGTON (Reuters) - Transgender people will...         1  \n2  WASHINGTON (Reuters) - The special counsel inv...         1  \n3  WASHINGTON (Reuters) - Trump campaign adviser ...         1  \n4  SEATTLE/WASHINGTON (Reuters) - President Donal...         1  ",
      "text/html": "<div>\n<style scoped>\n    .dataframe tbody tr th:only-of-type {\n        vertical-align: middle;\n    }\n\n    .dataframe tbody tr th {\n        vertical-align: top;\n    }\n\n    .dataframe thead th {\n        text-align: right;\n    }\n</style>\n<table border=\"1\" class=\"dataframe\">\n  <thead>\n    <tr style=\"text-align: right;\">\n      <th></th>\n      <th>title</th>\n      <th>text</th>\n      <th>category</th>\n    </tr>\n  </thead>\n  <tbody>\n    <tr>\n      <th>0</th>\n      <td>As U.S. budget fight looms, Republicans flip t...</td>\n      <td>WASHINGTON (Reuters) - The head of a conservat...</td>\n      <td>1</td>\n    </tr>\n    <tr>\n      <th>1</th>\n      <td>U.S. military to accept transgender recruits o...</td>\n      <td>WASHINGTON (Reuters) - Transgender people will...</td>\n      <td>1</td>\n    </tr>\n    <tr>\n      <th>2</th>\n      <td>Senior U.S. Republican senator: 'Let Mr. Muell...</td>\n      <td>WASHINGTON (Reuters) - The special counsel inv...</td>\n      <td>1</td>\n    </tr>\n    <tr>\n      <th>3</th>\n      <td>FBI Russia probe helped by Australian diplomat...</td>\n      <td>WASHINGTON (Reuters) - Trump campaign adviser ...</td>\n      <td>1</td>\n    </tr>\n    <tr>\n      <th>4</th>\n      <td>Trump wants Postal Service to charge 'much mor...</td>\n      <td>SEATTLE/WASHINGTON (Reuters) - President Donal...</td>\n      <td>1</td>\n    </tr>\n  </tbody>\n</table>\n</div>"
     },
     "execution_count": 4,
     "metadata": {},
     "output_type": "execute_result"
    }
   ]
  },
  {
   "cell_type": "markdown",
   "source": [
    "## Train-test split"
   ],
   "metadata": {
    "collapsed": false
   }
  },
  {
   "cell_type": "code",
   "execution_count": 5,
   "outputs": [],
   "source": [
    "X_train, X_test, Y_train, Y_test = train_test_split(news_df[[\"title\", TEXT_COLUMN_NAME]], news_df[TARGET_COLUMN_NAME], random_state=0)"
   ],
   "metadata": {
    "collapsed": false,
    "ExecuteTime": {
     "end_time": "2023-05-16T11:27:37.301101Z",
     "start_time": "2023-05-16T11:27:37.279164Z"
    }
   }
  },
  {
   "cell_type": "markdown",
   "source": [
    "## Define text preprocessing logic"
   ],
   "metadata": {
    "collapsed": false
   }
  },
  {
   "cell_type": "code",
   "execution_count": 6,
   "outputs": [],
   "source": [
    "def clean_text(df: pd.DataFrame) -> np.ndarray:\n",
    "    \"\"\"Perform text-data cleaning: punctuation and stop words removal.\"\"\"\n",
    "    # Merge text data into single column.\n",
    "    df[TEXT_COLUMN_NAME] = df[TEXT_COLUMN_NAME] + \" \" + df.title\n",
    "    df.drop(columns=[\"title\"], inplace=True)\n",
    "\n",
    "    # Remove punctuation.\n",
    "    df[TEXT_COLUMN_NAME] = df[TEXT_COLUMN_NAME].apply(\n",
    "        lambda text: text.translate(str.maketrans('', '', string.punctuation)))\n",
    "\n",
    "    # Remove stop words.\n",
    "    df[TEXT_COLUMN_NAME] = df[TEXT_COLUMN_NAME].apply(\n",
    "        lambda sentence: ' '.join([_word for _word in sentence.split() if _word.lower() not in STOPWORDS]))\n",
    "\n",
    "    return df[TEXT_COLUMN_NAME]"
   ],
   "metadata": {
    "collapsed": false,
    "ExecuteTime": {
     "end_time": "2023-05-16T11:27:37.301172Z",
     "start_time": "2023-05-16T11:27:37.292281Z"
    }
   }
  },
  {
   "cell_type": "markdown",
   "source": [
    "## Wrap data with giskard"
   ],
   "metadata": {
    "collapsed": false
   }
  },
  {
   "cell_type": "code",
   "execution_count": 7,
   "outputs": [
    {
     "name": "stdout",
     "output_type": "stream",
     "text": [
      "Hint: \"Your target variable values are numeric. It is recommended to have Human readable string as your target values to make results more understandable in Giskard.\"\n"
     ]
    }
   ],
   "source": [
    "raw_data = pd.concat([X_test.copy(), Y_test.copy()], axis=1)\n",
    "wrapped_data = Dataset(raw_data, name=\"fake_and_real_news\", target=TARGET_COLUMN_NAME, column_types={\"title\": \"text\", TEXT_COLUMN_NAME: \"text\"})"
   ],
   "metadata": {
    "collapsed": false,
    "ExecuteTime": {
     "end_time": "2023-05-16T11:27:37.364810Z",
     "start_time": "2023-05-16T11:27:37.297305Z"
    }
   }
  },
  {
   "cell_type": "code",
   "execution_count": 8,
   "outputs": [
    {
     "name": "stdout",
     "output_type": "stream",
     "text": [
      "Cleaning train data...\n",
      "Cleaning test data...\n",
      "Finished cleaning!\n"
     ]
    }
   ],
   "source": [
    "print(f\"Cleaning train data...\")\n",
    "X_train = clean_text(X_train)\n",
    "\n",
    "print(f\"Cleaning test data...\")\n",
    "X_test = clean_text(X_test)\n",
    "\n",
    "print(f\"Finished cleaning!\")"
   ],
   "metadata": {
    "collapsed": false,
    "ExecuteTime": {
     "end_time": "2023-05-16T11:27:41.728450Z",
     "start_time": "2023-05-16T11:27:37.330247Z"
    }
   }
  },
  {
   "metadata": {
    "trusted": true,
    "ExecuteTime": {
     "end_time": "2023-05-16T11:27:43.734051Z",
     "start_time": "2023-05-16T11:27:41.767786Z"
    }
   },
   "cell_type": "code",
   "source": [
    "# Fit tokenizer.\n",
    "tokenizer = Tokenizer(num_words=MAX_TOKENS)\n",
    "tokenizer.fit_on_texts(X_train)\n",
    "\n",
    "# Tokenize train text.\n",
    "tokenized_train = tokenizer.texts_to_sequences(X_train)\n",
    "X_train = pad_sequences(tokenized_train, maxlen=MAX_SEQUENCE_LENGTH)\n",
    "\n",
    "# Tokenize test text.\n",
    "tokenized_test = tokenizer.texts_to_sequences(X_test)\n",
    "X_test = pad_sequences(tokenized_test, maxlen=MAX_SEQUENCE_LENGTH)"
   ],
   "execution_count": 9,
   "outputs": []
  },
  {
   "cell_type": "markdown",
   "source": [
    "## Define preprocessing function"
   ],
   "metadata": {
    "collapsed": false
   }
  },
  {
   "cell_type": "code",
   "execution_count": 10,
   "outputs": [],
   "source": [
    "def preprocessing_function(df: pd.DataFrame) -> np.ndarray:\n",
    "    \"\"\"Preprocessing function used by giskard.\"\"\"\n",
    "    # Clean text.\n",
    "    cleaned_text = clean_text(df)\n",
    "\n",
    "    # Tokenize text.\n",
    "    tokens = tokenizer.texts_to_sequences(cleaned_text)\n",
    "    tokens_with_padding = pad_sequences(tokens, maxlen=MAX_SEQUENCE_LENGTH)\n",
    "\n",
    "    return tokens_with_padding"
   ],
   "metadata": {
    "collapsed": false,
    "ExecuteTime": {
     "end_time": "2023-05-16T11:27:43.734371Z",
     "start_time": "2023-05-16T11:27:43.709320Z"
    }
   }
  },
  {
   "cell_type": "markdown",
   "source": [
    "## Create embeddings matrix"
   ],
   "metadata": {
    "collapsed": false
   }
  },
  {
   "metadata": {
    "_kg_hide-output": true,
    "trusted": true,
    "ExecuteTime": {
     "end_time": "2023-05-16T11:28:16.700703Z",
     "start_time": "2023-05-16T11:27:43.719874Z"
    }
   },
   "cell_type": "code",
   "source": [
    "def parse_line(word: str, *arr: list) -> Tuple[str, np.ndarray]:\n",
    "    \"\"\"Parse line from the file with embeddings.\n",
    "    The first value of the line is the word and the rest values are related glove embedding: (<word>, 0.66, 0.23, ...).\"\"\"\n",
    "    return word, np.asarray(arr, dtype='float32')\n",
    "\n",
    "def init_embeddings_matrix(embeddings_dict: dict) -> np.ndarray:\n",
    "    \"\"\"Initialization of the matrix, where each row is a specific embedding vector.\"\"\"\n",
    "    num_embeddings = min(MAX_TOKENS, len(tokenizer.word_index))\n",
    "    stacked_embeddings = np.stack(list(embeddings_dict.values()))\n",
    "    embeddings_mean, embeddings_std, embeddings_dimension = stacked_embeddings.mean(), stacked_embeddings.std(), stacked_embeddings.shape[1]\n",
    "\n",
    "    embeddings_matrix = np.random.normal(embeddings_mean, embeddings_std, (num_embeddings, embeddings_dimension))\n",
    "\n",
    "    return embeddings_matrix\n",
    "\n",
    "def get_embeddings_matrix() -> np.ndarray:\n",
    "    \"\"\"Create matrix, where each row is an embedding of a specific word.\"\"\"\n",
    "    print(f\"Building embeddings matrix...\")\n",
    "\n",
    "    # Load glove embeddings.\n",
    "    embeddings_dict = dict(parse_line(*line.rstrip().rsplit(' ')) for line in open(EMBEDDING_FILE))\n",
    "\n",
    "    # Initialization of embeddings matrix.\n",
    "    embeddings_matrix = init_embeddings_matrix(embeddings_dict)\n",
    "\n",
    "    # Fill-in embeddings matrix with glove word vectors.\n",
    "    for word, idx in tokenizer.word_index.items():\n",
    "        if idx >= MAX_TOKENS:\n",
    "            continue\n",
    "\n",
    "        embedding_vector = embeddings_dict.get(word, None)\n",
    "\n",
    "        if embedding_vector is not None:\n",
    "            embeddings_matrix[idx] = embedding_vector\n",
    "\n",
    "    print(f\"Finished building embedding matrix!\")\n",
    "\n",
    "    return embeddings_matrix\n",
    "\n",
    "embed_matrix = get_embeddings_matrix()"
   ],
   "execution_count": 11,
   "outputs": [
    {
     "name": "stdout",
     "output_type": "stream",
     "text": [
      "Building embeddings matrix...\n",
      "Finished building embedding matrix!\n"
     ]
    }
   ]
  },
  {
   "cell_type": "markdown",
   "source": [
    "## Train model"
   ],
   "metadata": {
    "collapsed": false
   }
  },
  {
   "metadata": {
    "trusted": true,
    "ExecuteTime": {
     "end_time": "2023-05-16T11:28:17.323918Z",
     "start_time": "2023-05-16T11:28:16.710968Z"
    }
   },
   "cell_type": "code",
   "source": [
    "def init_model() -> Sequential:\n",
    "    \"\"\"Initialize new TF model.\"\"\"\n",
    "    # Define model container.\n",
    "    _model = Sequential()\n",
    "\n",
    "    # Non-trainable embedding layer.\n",
    "    _model.add(Embedding(MAX_TOKENS, output_dim=100, weights=[embed_matrix], input_length=MAX_SEQUENCE_LENGTH, trainable=False))\n",
    "\n",
    "    # LSTM stage.\n",
    "    _model.add(LSTM(units=32 , return_sequences=True , recurrent_dropout=0.25, dropout=0.25))\n",
    "    _model.add(LSTM(units=16 , recurrent_dropout=0.1 , dropout=0.1))\n",
    "\n",
    "    # Dense stage.\n",
    "    _model.add(Dense(units=16 , activation='relu'))\n",
    "    _model.add(Dense(units=1, activation='sigmoid'))\n",
    "\n",
    "    # Build model.\n",
    "    _model.compile(optimizer=Adam(learning_rate=0.01), loss='binary_crossentropy', metrics=['accuracy'])\n",
    "    return _model\n",
    "\n",
    "model = init_model()\n",
    "model.summary()"
   ],
   "execution_count": 12,
   "outputs": [
    {
     "name": "stdout",
     "output_type": "stream",
     "text": [
      "Model: \"sequential\"\n",
      "_________________________________________________________________\n",
      " Layer (type)                Output Shape              Param #   \n",
      "=================================================================\n",
      " embedding (Embedding)       (None, 300, 100)          1000000   \n",
      "                                                                 \n",
      " lstm (LSTM)                 (None, 300, 32)           17024     \n",
      "                                                                 \n",
      " lstm_1 (LSTM)               (None, 16)                3136      \n",
      "                                                                 \n",
      " dense (Dense)               (None, 16)                272       \n",
      "                                                                 \n",
      " dense_1 (Dense)             (None, 1)                 17        \n",
      "                                                                 \n",
      "=================================================================\n",
      "Total params: 1,020,449\n",
      "Trainable params: 20,449\n",
      "Non-trainable params: 1,000,000\n",
      "_________________________________________________________________\n"
     ]
    }
   ]
  },
  {
   "metadata": {
    "trusted": true,
    "ExecuteTime": {
     "end_time": "2023-05-16T11:28:34.246339Z",
     "start_time": "2023-05-16T11:28:17.265986Z"
    }
   },
   "cell_type": "code",
   "source": [
    "# Define hyperparameters.\n",
    "n_epochs = 1\n",
    "batch_size = 256\n",
    "\n",
    "# Fit model.\n",
    "_ = model.fit(X_train, Y_train, batch_size=batch_size, validation_data=(X_test, Y_test), epochs=n_epochs)"
   ],
   "execution_count": 13,
   "outputs": [
    {
     "name": "stdout",
     "output_type": "stream",
     "text": [
      "12/12 [==============================] - 17s 868ms/step - loss: 0.3612 - accuracy: 0.8597 - val_loss: 0.1027 - val_accuracy: 0.9750\n"
     ]
    }
   ]
  },
  {
   "metadata": {},
   "cell_type": "markdown",
   "source": [
    "## Calculate train and test accuracy"
   ]
  },
  {
   "metadata": {
    "trusted": true,
    "ExecuteTime": {
     "end_time": "2023-05-16T11:28:40.617963Z",
     "start_time": "2023-05-16T11:28:34.295751Z"
    }
   },
   "cell_type": "code",
   "source": [
    "train_metric = model.evaluate(X_train, Y_train)[1]\n",
    "test_metric = model.evaluate(X_test, Y_test)[1]"
   ],
   "execution_count": 14,
   "outputs": [
    {
     "name": "stdout",
     "output_type": "stream",
     "text": [
      "94/94 [==============================] - 4s 47ms/step - loss: 0.1032 - accuracy: 0.9730\n",
      "32/32 [==============================] - 2s 54ms/step - loss: 0.1027 - accuracy: 0.9750\n"
     ]
    }
   ]
  },
  {
   "cell_type": "code",
   "execution_count": 15,
   "outputs": [
    {
     "name": "stdout",
     "output_type": "stream",
     "text": [
      "Train accuracy:  0.97\n",
      "Test accuracy:  0.98\n"
     ]
    }
   ],
   "source": [
    "print(f\"Train accuracy: {train_metric: .2f}\")\n",
    "print(f\"Test accuracy: {test_metric: .2f}\")"
   ],
   "metadata": {
    "collapsed": false,
    "ExecuteTime": {
     "end_time": "2023-05-16T11:28:40.627289Z",
     "start_time": "2023-05-16T11:28:40.621280Z"
    }
   }
  },
  {
   "cell_type": "markdown",
   "source": [
    "## Wrap data and model"
   ],
   "metadata": {
    "collapsed": false
   }
  },
  {
   "cell_type": "code",
   "execution_count": 16,
   "outputs": [],
   "source": [
    "wrapped_model = Model(model,\n",
    "                      model_type=\"classification\",\n",
    "                      data_preprocessing_function=preprocessing_function,\n",
    "                      name=\"fake_real_news_classification\",\n",
    "                      feature_names=[\"title\", \"text\"],\n",
    "                      classification_threshold=0.5,\n",
    "                      classification_labels=[1, 0])"
   ],
   "metadata": {
    "collapsed": false,
    "ExecuteTime": {
     "end_time": "2023-05-16T11:28:40.680254Z",
     "start_time": "2023-05-16T11:28:40.629876Z"
    }
   }
  },
  {
   "cell_type": "code",
   "execution_count": 17,
   "outputs": [
    {
     "name": "stdout",
     "output_type": "stream",
     "text": [
      "32/32 [==============================] - 2s 41ms/step\n",
      "2023-05-16 13:28:43,892 pid:9251 MainThread giskard.models.base WARNING  \n",
      "Your binary classification model prediction is of the shape (1000, 1). \n",
      "In Giskard we expect the shape (1000, 2) for binary classification models. \n",
      "We automatically inferred the second class prediction but please make sure that \n",
      "the probability output of your model corresponds to the first label of the \n",
      "classification_labels ([1, 0]) you provided us with.\n",
      "NoneType: None\n"
     ]
    },
    {
     "data": {
      "text/plain": "ModelPredictionResults(raw=array([[0.0838308 , 0.9161692 ],\n       [0.98467845, 0.01532155],\n       [0.03202904, 0.96797097],\n       ...,\n       [0.04147451, 0.9585255 ],\n       [0.9852804 , 0.01471961],\n       [0.9855013 , 0.01449871]], dtype=float32), prediction=array([0, 1, 0, 0, 1, 1, 1, 1, 1, 1, 0, 1, 1, 0, 0, 1, 0, 1, 0, 0, 0, 1,\n       1, 1, 1, 1, 1, 0, 0, 0, 1, 1, 1, 0, 1, 1, 1, 0, 1, 0, 0, 1, 0, 0,\n       0, 0, 0, 1, 0, 1, 1, 1, 1, 1, 1, 1, 1, 0, 0, 0, 1, 0, 1, 0, 1, 0,\n       1, 1, 1, 1, 0, 1, 1, 0, 1, 0, 0, 0, 1, 0, 1, 1, 0, 0, 0, 1, 1, 1,\n       1, 1, 0, 0, 0, 0, 1, 1, 0, 1, 0, 1, 0, 0, 0, 0, 0, 1, 1, 1, 1, 1,\n       1, 1, 1, 0, 0, 1, 1, 1, 0, 1, 0, 0, 0, 1, 0, 1, 0, 0, 1, 0, 1, 0,\n       0, 1, 1, 0, 1, 1, 0, 1, 0, 0, 1, 1, 1, 0, 1, 0, 0, 0, 1, 1, 1, 1,\n       1, 1, 0, 1, 1, 1, 1, 1, 0, 1, 0, 0, 1, 0, 1, 0, 0, 1, 1, 0, 1, 1,\n       1, 0, 1, 1, 1, 0, 0, 0, 1, 0, 0, 1, 0, 1, 1, 1, 0, 0, 1, 0, 0, 1,\n       0, 1, 0, 0, 1, 1, 0, 0, 1, 0, 1, 0, 1, 1, 0, 1, 1, 1, 0, 1, 1, 1,\n       0, 1, 0, 0, 0, 1, 1, 1, 1, 0, 0, 0, 1, 1, 1, 1, 0, 1, 1, 0, 0, 1,\n       1, 1, 0, 0, 1, 0, 1, 0, 0, 0, 0, 0, 1, 1, 0, 1, 0, 1, 0, 0, 1, 0,\n       1, 0, 0, 1, 0, 1, 0, 0, 0, 1, 0, 1, 1, 1, 1, 0, 1, 0, 0, 1, 1, 1,\n       1, 0, 0, 1, 1, 1, 1, 1, 1, 0, 1, 1, 0, 0, 1, 0, 1, 1, 1, 0, 1, 1,\n       0, 0, 1, 1, 1, 1, 0, 0, 1, 0, 1, 0, 0, 1, 1, 1, 1, 0, 1, 1, 1, 0,\n       0, 1, 0, 0, 1, 1, 1, 0, 1, 0, 1, 0, 0, 0, 0, 1, 0, 0, 0, 1, 1, 0,\n       0, 1, 1, 0, 1, 1, 0, 1, 0, 1, 0, 0, 1, 0, 0, 0, 1, 0, 0, 0, 0, 0,\n       1, 0, 0, 1, 1, 1, 1, 1, 0, 1, 1, 0, 1, 1, 0, 1, 1, 1, 1, 1, 0, 0,\n       0, 0, 0, 0, 1, 0, 1, 1, 1, 0, 0, 1, 1, 0, 0, 0, 1, 1, 1, 0, 0, 1,\n       1, 1, 1, 0, 1, 1, 1, 0, 1, 0, 1, 1, 1, 1, 0, 1, 0, 0, 1, 1, 0, 1,\n       0, 1, 0, 1, 1, 1, 1, 0, 0, 0, 1, 0, 1, 0, 0, 1, 1, 0, 0, 1, 1, 0,\n       0, 1, 1, 0, 1, 1, 1, 1, 0, 1, 0, 1, 1, 0, 1, 1, 0, 0, 1, 1, 0, 1,\n       1, 0, 1, 1, 1, 0, 1, 1, 0, 1, 0, 0, 1, 0, 1, 1, 0, 1, 1, 1, 0, 1,\n       1, 1, 1, 1, 0, 0, 0, 0, 0, 1, 1, 0, 1, 0, 0, 1, 0, 1, 1, 0, 1, 0,\n       1, 1, 0, 0, 1, 0, 0, 0, 0, 0, 1, 1, 1, 0, 0, 1, 0, 0, 1, 1, 0, 1,\n       0, 0, 0, 1, 1, 0, 0, 1, 1, 1, 1, 1, 1, 1, 0, 0, 1, 1, 0, 0, 1, 0,\n       0, 1, 0, 0, 0, 0, 1, 1, 1, 1, 0, 0, 1, 0, 1, 1, 0, 0, 0, 0, 1, 0,\n       1, 0, 1, 1, 1, 1, 0, 1, 0, 0, 1, 1, 1, 0, 0, 0, 0, 1, 1, 1, 1, 1,\n       0, 1, 0, 0, 0, 1, 1, 1, 0, 0, 1, 1, 1, 1, 1, 1, 1, 0, 1, 1, 1, 1,\n       0, 0, 0, 1, 0, 0, 0, 1, 1, 1, 1, 1, 1, 0, 1, 0, 1, 1, 1, 0, 0, 1,\n       0, 0, 0, 0, 0, 0, 1, 1, 1, 1, 1, 0, 1, 1, 0, 0, 1, 0, 1, 1, 1, 1,\n       0, 0, 1, 1, 0, 1, 1, 1, 0, 1, 0, 0, 0, 0, 1, 1, 1, 1, 1, 1, 1, 0,\n       0, 0, 1, 0, 1, 0, 0, 1, 0, 0, 0, 1, 0, 0, 0, 0, 0, 0, 1, 0, 1, 1,\n       1, 0, 1, 0, 1, 0, 0, 0, 0, 1, 1, 0, 0, 0, 1, 0, 0, 1, 1, 1, 1, 0,\n       0, 1, 0, 0, 1, 1, 0, 0, 0, 1, 1, 0, 0, 1, 0, 0, 0, 1, 1, 1, 0, 0,\n       1, 0, 1, 0, 1, 0, 1, 0, 1, 1, 0, 0, 1, 0, 0, 1, 0, 1, 1, 1, 0, 1,\n       0, 0, 0, 1, 0, 0, 1, 1, 1, 0, 1, 1, 1, 1, 1, 0, 0, 1, 1, 0, 0, 0,\n       0, 0, 0, 1, 1, 1, 1, 1, 1, 1, 1, 1, 0, 1, 0, 0, 0, 1, 1, 0, 0, 0,\n       0, 1, 1, 0, 1, 0, 1, 1, 1, 1, 0, 1, 1, 0, 1, 1, 0, 0, 1, 0, 1, 1,\n       0, 0, 1, 0, 0, 0, 0, 1, 0, 0, 0, 1, 1, 1, 0, 1, 1, 1, 0, 1, 0, 0,\n       1, 0, 0, 0, 0, 1, 0, 0, 0, 1, 1, 1, 1, 1, 0, 1, 0, 0, 0, 1, 0, 0,\n       1, 0, 0, 1, 1, 1, 0, 0, 1, 0, 1, 1, 1, 0, 1, 1, 1, 0, 0, 1, 0, 0,\n       0, 1, 1, 1, 0, 1, 1, 0, 1, 0, 1, 1, 1, 1, 0, 1, 1, 1, 1, 1, 1, 0,\n       1, 1, 1, 1, 0, 1, 0, 0, 0, 0, 1, 1, 0, 0, 0, 1, 0, 1, 0, 0, 1, 0,\n       0, 0, 0, 0, 1, 1, 0, 0, 1, 0, 1, 1, 1, 0, 1, 1, 1, 1, 0, 0, 1, 0,\n       0, 0, 1, 0, 0, 0, 0, 0, 1, 1]), raw_prediction=array([1, 0, 1, 1, 0, 0, 0, 0, 0, 0, 1, 0, 0, 1, 1, 0, 1, 0, 1, 1, 1, 0,\n       0, 0, 0, 0, 0, 1, 1, 1, 0, 0, 0, 1, 0, 0, 0, 1, 0, 1, 1, 0, 1, 1,\n       1, 1, 1, 0, 1, 0, 0, 0, 0, 0, 0, 0, 0, 1, 1, 1, 0, 1, 0, 1, 0, 1,\n       0, 0, 0, 0, 1, 0, 0, 1, 0, 1, 1, 1, 0, 1, 0, 0, 1, 1, 1, 0, 0, 0,\n       0, 0, 1, 1, 1, 1, 0, 0, 1, 0, 1, 0, 1, 1, 1, 1, 1, 0, 0, 0, 0, 0,\n       0, 0, 0, 1, 1, 0, 0, 0, 1, 0, 1, 1, 1, 0, 1, 0, 1, 1, 0, 1, 0, 1,\n       1, 0, 0, 1, 0, 0, 1, 0, 1, 1, 0, 0, 0, 1, 0, 1, 1, 1, 0, 0, 0, 0,\n       0, 0, 1, 0, 0, 0, 0, 0, 1, 0, 1, 1, 0, 1, 0, 1, 1, 0, 0, 1, 0, 0,\n       0, 1, 0, 0, 0, 1, 1, 1, 0, 1, 1, 0, 1, 0, 0, 0, 1, 1, 0, 1, 1, 0,\n       1, 0, 1, 1, 0, 0, 1, 1, 0, 1, 0, 1, 0, 0, 1, 0, 0, 0, 1, 0, 0, 0,\n       1, 0, 1, 1, 1, 0, 0, 0, 0, 1, 1, 1, 0, 0, 0, 0, 1, 0, 0, 1, 1, 0,\n       0, 0, 1, 1, 0, 1, 0, 1, 1, 1, 1, 1, 0, 0, 1, 0, 1, 0, 1, 1, 0, 1,\n       0, 1, 1, 0, 1, 0, 1, 1, 1, 0, 1, 0, 0, 0, 0, 1, 0, 1, 1, 0, 0, 0,\n       0, 1, 1, 0, 0, 0, 0, 0, 0, 1, 0, 0, 1, 1, 0, 1, 0, 0, 0, 1, 0, 0,\n       1, 1, 0, 0, 0, 0, 1, 1, 0, 1, 0, 1, 1, 0, 0, 0, 0, 1, 0, 0, 0, 1,\n       1, 0, 1, 1, 0, 0, 0, 1, 0, 1, 0, 1, 1, 1, 1, 0, 1, 1, 1, 0, 0, 1,\n       1, 0, 0, 1, 0, 0, 1, 0, 1, 0, 1, 1, 0, 1, 1, 1, 0, 1, 1, 1, 1, 1,\n       0, 1, 1, 0, 0, 0, 0, 0, 1, 0, 0, 1, 0, 0, 1, 0, 0, 0, 0, 0, 1, 1,\n       1, 1, 1, 1, 0, 1, 0, 0, 0, 1, 1, 0, 0, 1, 1, 1, 0, 0, 0, 1, 1, 0,\n       0, 0, 0, 1, 0, 0, 0, 1, 0, 1, 0, 0, 0, 0, 1, 0, 1, 1, 0, 0, 1, 0,\n       1, 0, 1, 0, 0, 0, 0, 1, 1, 1, 0, 1, 0, 1, 1, 0, 0, 1, 1, 0, 0, 1,\n       1, 0, 0, 1, 0, 0, 0, 0, 1, 0, 1, 0, 0, 1, 0, 0, 1, 1, 0, 0, 1, 0,\n       0, 1, 0, 0, 0, 1, 0, 0, 1, 0, 1, 1, 0, 1, 0, 0, 1, 0, 0, 0, 1, 0,\n       0, 0, 0, 0, 1, 1, 1, 1, 1, 0, 0, 1, 0, 1, 1, 0, 1, 0, 0, 1, 0, 1,\n       0, 0, 1, 1, 0, 1, 1, 1, 1, 1, 0, 0, 0, 1, 1, 0, 1, 1, 0, 0, 1, 0,\n       1, 1, 1, 0, 0, 1, 1, 0, 0, 0, 0, 0, 0, 0, 1, 1, 0, 0, 1, 1, 0, 1,\n       1, 0, 1, 1, 1, 1, 0, 0, 0, 0, 1, 1, 0, 1, 0, 0, 1, 1, 1, 1, 0, 1,\n       0, 1, 0, 0, 0, 0, 1, 0, 1, 1, 0, 0, 0, 1, 1, 1, 1, 0, 0, 0, 0, 0,\n       1, 0, 1, 1, 1, 0, 0, 0, 1, 1, 0, 0, 0, 0, 0, 0, 0, 1, 0, 0, 0, 0,\n       1, 1, 1, 0, 1, 1, 1, 0, 0, 0, 0, 0, 0, 1, 0, 1, 0, 0, 0, 1, 1, 0,\n       1, 1, 1, 1, 1, 1, 0, 0, 0, 0, 0, 1, 0, 0, 1, 1, 0, 1, 0, 0, 0, 0,\n       1, 1, 0, 0, 1, 0, 0, 0, 1, 0, 1, 1, 1, 1, 0, 0, 0, 0, 0, 0, 0, 1,\n       1, 1, 0, 1, 0, 1, 1, 0, 1, 1, 1, 0, 1, 1, 1, 1, 1, 1, 0, 1, 0, 0,\n       0, 1, 0, 1, 0, 1, 1, 1, 1, 0, 0, 1, 1, 1, 0, 1, 1, 0, 0, 0, 0, 1,\n       1, 0, 1, 1, 0, 0, 1, 1, 1, 0, 0, 1, 1, 0, 1, 1, 1, 0, 0, 0, 1, 1,\n       0, 1, 0, 1, 0, 1, 0, 1, 0, 0, 1, 1, 0, 1, 1, 0, 1, 0, 0, 0, 1, 0,\n       1, 1, 1, 0, 1, 1, 0, 0, 0, 1, 0, 0, 0, 0, 0, 1, 1, 0, 0, 1, 1, 1,\n       1, 1, 1, 0, 0, 0, 0, 0, 0, 0, 0, 0, 1, 0, 1, 1, 1, 0, 0, 1, 1, 1,\n       1, 0, 0, 1, 0, 1, 0, 0, 0, 0, 1, 0, 0, 1, 0, 0, 1, 1, 0, 1, 0, 0,\n       1, 1, 0, 1, 1, 1, 1, 0, 1, 1, 1, 0, 0, 0, 1, 0, 0, 0, 1, 0, 1, 1,\n       0, 1, 1, 1, 1, 0, 1, 1, 1, 0, 0, 0, 0, 0, 1, 0, 1, 1, 1, 0, 1, 1,\n       0, 1, 1, 0, 0, 0, 1, 1, 0, 1, 0, 0, 0, 1, 0, 0, 0, 1, 1, 0, 1, 1,\n       1, 0, 0, 0, 1, 0, 0, 1, 0, 1, 0, 0, 0, 0, 1, 0, 0, 0, 0, 0, 0, 1,\n       0, 0, 0, 0, 1, 0, 1, 1, 1, 1, 0, 0, 1, 1, 1, 0, 1, 0, 1, 1, 0, 1,\n       1, 1, 1, 1, 0, 0, 1, 1, 0, 1, 0, 0, 0, 1, 0, 0, 0, 0, 1, 1, 0, 1,\n       1, 1, 0, 1, 1, 1, 1, 1, 0, 0]), probabilities=array([0.9161692 , 0.98467845, 0.96797097, 0.95007735, 0.985249  ,\n       0.98658574, 0.9850664 , 0.98493105, 0.9746805 , 0.9845177 ,\n       0.9261555 , 0.9878377 , 0.9820379 , 0.9645343 , 0.95242316,\n       0.98746705, 0.9665965 , 0.950822  , 0.9550947 , 0.9647323 ,\n       0.9645507 , 0.98464876, 0.9862803 , 0.98790956, 0.98697   ,\n       0.98665106, 0.9297479 , 0.9667875 , 0.9446449 , 0.94527006,\n       0.98497593, 0.97675306, 0.9855163 , 0.9604225 , 0.98229367,\n       0.98457664, 0.9850784 , 0.75123006, 0.98234355, 0.8542597 ,\n       0.96468645, 0.9866724 , 0.9623971 , 0.9631938 , 0.9587137 ,\n       0.96790993, 0.9642411 , 0.98277557, 0.9674221 , 0.98472893,\n       0.97809815, 0.9771202 , 0.9846871 , 0.98537207, 0.9858975 ,\n       0.986655  , 0.98566806, 0.969237  , 0.96456087, 0.97150207,\n       0.98415846, 0.9648022 , 0.9854776 , 0.9623016 , 0.98551637,\n       0.95953315, 0.9820131 , 0.9852454 , 0.98523456, 0.980933  ,\n       0.9641471 , 0.9851677 , 0.98563796, 0.9410697 , 0.98735   ,\n       0.9704482 , 0.96791667, 0.97007555, 0.984585  , 0.9706562 ,\n       0.98519635, 0.9849961 , 0.9715537 , 0.9696929 , 0.9706615 ,\n       0.9863911 , 0.9863115 , 0.9821218 , 0.9844075 , 0.98284334,\n       0.964463  , 0.9482114 , 0.95643395, 0.96828604, 0.983315  ,\n       0.9655115 , 0.97173446, 0.98740625, 0.9646463 , 0.9821845 ,\n       0.96419364, 0.9650495 , 0.9679165 , 0.96847725, 0.96366554,\n       0.98406315, 0.98447746, 0.98406017, 0.9856956 , 0.9867438 ,\n       0.9855902 , 0.9870141 , 0.9860458 , 0.9316553 , 0.9653997 ,\n       0.9836302 , 0.9861098 , 0.9845725 , 0.9723418 , 0.98544735,\n       0.9623138 , 0.96513724, 0.9011436 , 0.97100586, 0.96648985,\n       0.97622937, 0.9700632 , 0.9639795 , 0.98615015, 0.96896774,\n       0.9856369 , 0.9353963 , 0.9670951 , 0.98651403, 0.985439  ,\n       0.7718202 , 0.98668116, 0.9860674 , 0.9218455 , 0.97784024,\n       0.9661079 , 0.96516603, 0.9868504 , 0.98628896, 0.98492086,\n       0.7067349 , 0.9860178 , 0.93497634, 0.9684558 , 0.967526  ,\n       0.98461145, 0.9772066 , 0.9839861 , 0.98536795, 0.985435  ,\n       0.98568356, 0.9074242 , 0.98589194, 0.9811332 , 0.97864217,\n       0.9700167 , 0.86122817, 0.963675  , 0.98387706, 0.973003  ,\n       0.9496966 , 0.9874099 , 0.96801394, 0.9857126 , 0.9734548 ,\n       0.97162604, 0.79635787, 0.9862992 , 0.9737882 , 0.9839528 ,\n       0.98600316, 0.9803209 , 0.9672591 , 0.9862099 , 0.985795  ,\n       0.985207  , 0.96819603, 0.9635328 , 0.9653748 , 0.9870276 ,\n       0.96539736, 0.96884245, 0.98477525, 0.96924055, 0.98611486,\n       0.98380244, 0.98004276, 0.9535729 , 0.9613281 , 0.984465  ,\n       0.9706595 , 0.9643767 , 0.98420227, 0.96233624, 0.9853356 ,\n       0.9725437 , 0.96330786, 0.9862773 , 0.9854471 , 0.96700054,\n       0.97006947, 0.9818757 , 0.9728781 , 0.94383717, 0.960997  ,\n       0.9868793 , 0.98640716, 0.97216785, 0.9867866 , 0.985551  ,\n       0.986369  , 0.96103805, 0.97305816, 0.9850587 , 0.9850113 ,\n       0.9633212 , 0.9862508 , 0.96610796, 0.9640526 , 0.9681462 ,\n       0.97907615, 0.98701733, 0.9832763 , 0.98591125, 0.9656355 ,\n       0.9725281 , 0.9723544 , 0.98434985, 0.9820039 , 0.9869888 ,\n       0.98503304, 0.9675268 , 0.9851281 , 0.98564094, 0.9736541 ,\n       0.963755  , 0.9845189 , 0.98194075, 0.98527896, 0.9628344 ,\n       0.9663421 , 0.9872155 , 0.8434357 , 0.9812072 , 0.96806973,\n       0.97224253, 0.9680318 , 0.9724108 , 0.9641184 , 0.9835822 ,\n       0.984819  , 0.9633076 , 0.9847674 , 0.97221965, 0.98377514,\n       0.968315  , 0.96499795, 0.97915477, 0.9139898 , 0.9852457 ,\n       0.96973825, 0.9742447 , 0.98625296, 0.9682229 , 0.98736185,\n       0.96346456, 0.9643417 , 0.9629607 , 0.9854018 , 0.97012836,\n       0.9854088 , 0.98350805, 0.98279345, 0.98449606, 0.97254103,\n       0.98388827, 0.97244954, 0.9698038 , 0.9850168 , 0.9857923 ,\n       0.9847608 , 0.98588026, 0.96424776, 0.9706069 , 0.98099935,\n       0.9860488 , 0.9861816 , 0.9818888 , 0.9856937 , 0.9867971 ,\n       0.9656716 , 0.9812343 , 0.922747  , 0.9677208 , 0.96511126,\n       0.9818507 , 0.9736108 , 0.98750573, 0.98612624, 0.9868822 ,\n       0.8295989 , 0.98635745, 0.9861078 , 0.9686115 , 0.88237154,\n       0.8946131 , 0.9860206 , 0.98370916, 0.9878548 , 0.9672899 ,\n       0.9452273 , 0.9865744 , 0.96637565, 0.98509765, 0.9244169 ,\n       0.86158603, 0.74633914, 0.98601156, 0.9848826 , 0.9846549 ,\n       0.96698904, 0.98619705, 0.9837739 , 0.98573655, 0.9674075 ,\n       0.7594484 , 0.98436713, 0.85242665, 0.9692028 , 0.98759794,\n       0.98455507, 0.9791378 , 0.95293   , 0.98398894, 0.94613904,\n       0.9494741 , 0.9701794 , 0.97139055, 0.9674593 , 0.9720178 ,\n       0.985909  , 0.9669066 , 0.96712697, 0.54050493, 0.98577833,\n       0.98445666, 0.9655075 , 0.96875674, 0.9843457 , 0.98287475,\n       0.6870802 , 0.9849897 , 0.98509663, 0.9723189 , 0.9814522 ,\n       0.9518941 , 0.98639196, 0.96114105, 0.9688807 , 0.9844737 ,\n       0.9719158 , 0.9666063 , 0.9643097 , 0.9874069 , 0.9649132 ,\n       0.968989  , 0.9689465 , 0.9665777 , 0.9640751 , 0.9857436 ,\n       0.96652925, 0.9407896 , 0.9791273 , 0.9838007 , 0.9865575 ,\n       0.98422885, 0.98575485, 0.97014296, 0.9876602 , 0.98476315,\n       0.90931803, 0.9844522 , 0.9838919 , 0.96557176, 0.9864127 ,\n       0.9807939 , 0.9850435 , 0.9848259 , 0.98514867, 0.9579214 ,\n       0.96602094, 0.7140471 , 0.9697947 , 0.97369355, 0.9706157 ,\n       0.98645425, 0.969566  , 0.98481697, 0.9871936 , 0.9799781 ,\n       0.9483521 , 0.960001  , 0.98446804, 0.9852724 , 0.96989864,\n       0.96183765, 0.9718288 , 0.9717348 , 0.98620445, 0.98338354,\n       0.9514569 , 0.93788075, 0.98755974, 0.9854298 , 0.9871494 ,\n       0.98529834, 0.96731186, 0.98568237, 0.98434716, 0.98580873,\n       0.8423239 , 0.98541015, 0.8133817 , 0.9850297 , 0.98240477,\n       0.98020256, 0.9835    , 0.9700837 , 0.9428312 , 0.9727325 ,\n       0.9074203 , 0.9839146 , 0.98064435, 0.9665808 , 0.98588806,\n       0.9655496 , 0.98353773, 0.9641898 , 0.9841274 , 0.9863881 ,\n       0.98479503, 0.9866943 , 0.9726324 , 0.9603615 , 0.9593814 ,\n       0.9833047 , 0.97237384, 0.98670346, 0.9644742 , 0.965885  ,\n       0.9738383 , 0.9864476 , 0.96378994, 0.9634641 , 0.9869546 ,\n       0.9870534 , 0.97109973, 0.97294974, 0.98746747, 0.98133343,\n       0.96209824, 0.9862245 , 0.98772526, 0.9837821 , 0.978647  ,\n       0.96543723, 0.98690367, 0.9654517 , 0.9850578 , 0.9856225 ,\n       0.8112975 , 0.9848725 , 0.9853372 , 0.9575752 , 0.9686611 ,\n       0.9787968 , 0.98473096, 0.9623443 , 0.98527676, 0.98501134,\n       0.9547042 , 0.9818921 , 0.9817409 , 0.98451495, 0.9650198 ,\n       0.98377943, 0.98533595, 0.96548784, 0.98240083, 0.9638628 ,\n       0.8505719 , 0.97113776, 0.9573188 , 0.9852149 , 0.9861493 ,\n       0.96916914, 0.98720294, 0.9829081 , 0.98561   , 0.9634318 ,\n       0.86821705, 0.98335624, 0.87290955, 0.97254163, 0.98240477,\n       0.97241557, 0.9653778 , 0.9720979 , 0.95968133, 0.9670606 ,\n       0.9854219 , 0.9853371 , 0.9716885 , 0.97974116, 0.973035  ,\n       0.9670369 , 0.98554516, 0.96942794, 0.98663694, 0.9830657 ,\n       0.96730983, 0.9860347 , 0.9409143 , 0.98448855, 0.98428315,\n       0.96976525, 0.9670861 , 0.98374754, 0.9680945 , 0.9612737 ,\n       0.9683012 , 0.9578834 , 0.9532536 , 0.9845708 , 0.98496175,\n       0.9841696 , 0.9344781 , 0.53088856, 0.98709804, 0.96447664,\n       0.95943296, 0.98497415, 0.98514926, 0.96779925, 0.9828222 ,\n       0.9680767 , 0.96407455, 0.9708557 , 0.9838742 , 0.9874536 ,\n       0.96596134, 0.9738003 , 0.98344046, 0.9832458 , 0.9876802 ,\n       0.98461634, 0.98531115, 0.98706496, 0.968879  , 0.9632431 ,\n       0.97018015, 0.9841295 , 0.9877001 , 0.964972  , 0.95947164,\n       0.9856405 , 0.9242969 , 0.9651809 , 0.9861498 , 0.9545849 ,\n       0.8350007 , 0.9693184 , 0.966449  , 0.9865707 , 0.98496467,\n       0.98602724, 0.9840043 , 0.9628153 , 0.9676366 , 0.9850024 ,\n       0.96558475, 0.9841333 , 0.98336184, 0.9702896 , 0.96557045,\n       0.9415809 , 0.9661614 , 0.9866162 , 0.97019976, 0.9859006 ,\n       0.96734375, 0.98544717, 0.983419  , 0.985319  , 0.9871605 ,\n       0.97155684, 0.9858654 , 0.96293235, 0.9609258 , 0.9866355 ,\n       0.9864986 , 0.98569167, 0.96182823, 0.9745371 , 0.9559944 ,\n       0.97272956, 0.9861284 , 0.9828203 , 0.98352987, 0.9871576 ,\n       0.9845813 , 0.9728535 , 0.9846298 , 0.9601009 , 0.9750997 ,\n       0.96246046, 0.98686486, 0.9848759 , 0.9866882 , 0.56990457,\n       0.9667552 , 0.981042  , 0.9858002 , 0.9864561 , 0.9866716 ,\n       0.9861155 , 0.98496324, 0.98405945, 0.9722378 , 0.9850945 ,\n       0.9824645 , 0.9869575 , 0.985443  , 0.96539104, 0.959113  ,\n       0.9661242 , 0.98521537, 0.96749306, 0.96662456, 0.96946335,\n       0.9823519 , 0.9851388 , 0.9843957 , 0.98501253, 0.9856807 ,\n       0.97915   , 0.9735388 , 0.9834429 , 0.964894  , 0.9836403 ,\n       0.9861666 , 0.98445183, 0.96441936, 0.96870154, 0.98525804,\n       0.96742177, 0.6896236 , 0.9695875 , 0.9514232 , 0.96292806,\n       0.9719403 , 0.9842624 , 0.97724295, 0.98744994, 0.9870641 ,\n       0.96322316, 0.9681849 , 0.9849189 , 0.98380893, 0.9730818 ,\n       0.9600344 , 0.9851376 , 0.9675258 , 0.98362356, 0.9875915 ,\n       0.98528755, 0.98625076, 0.9659689 , 0.9372368 , 0.98674446,\n       0.98499286, 0.97282344, 0.9826482 , 0.9849086 , 0.98159105,\n       0.9638145 , 0.9873603 , 0.96561193, 0.96753246, 0.96014917,\n       0.9612984 , 0.9815015 , 0.98149836, 0.9866051 , 0.98546284,\n       0.9859625 , 0.98499304, 0.7114926 , 0.9693313 , 0.96368253,\n       0.96996516, 0.98645973, 0.9681511 , 0.9843356 , 0.97283643,\n       0.96632725, 0.9848713 , 0.9173295 , 0.95924866, 0.96908534,\n       0.98447156, 0.9578468 , 0.96815217, 0.95189226, 0.96344936,\n       0.97043824, 0.96945393, 0.9848274 , 0.9686792 , 0.9868813 ,\n       0.98093504, 0.98699486, 0.9701747 , 0.98171043, 0.9666635 ,\n       0.9841989 , 0.97067016, 0.96945894, 0.9695133 , 0.5736461 ,\n       0.98625594, 0.9851875 , 0.9669843 , 0.9256019 , 0.9687637 ,\n       0.98631775, 0.9727422 , 0.9630591 , 0.98439336, 0.5728257 ,\n       0.98266166, 0.9852501 , 0.9575274 , 0.9668963 , 0.9735627 ,\n       0.97167057, 0.92174375, 0.98470706, 0.98572814, 0.9564216 ,\n       0.9715355 , 0.96910334, 0.98456264, 0.9665004 , 0.97096676,\n       0.9709234 , 0.9866639 , 0.965419  , 0.96967405, 0.9716805 ,\n       0.98494744, 0.98622155, 0.9871319 , 0.9553075 , 0.964527  ,\n       0.9851243 , 0.9709511 , 0.9859541 , 0.9668037 , 0.98548836,\n       0.9731749 , 0.9864006 , 0.94858617, 0.97238946, 0.98358107,\n       0.9687595 , 0.97072756, 0.9839148 , 0.9705208 , 0.9718938 ,\n       0.9540022 , 0.9650868 , 0.984113  , 0.98594445, 0.9850878 ,\n       0.9642641 , 0.98464864, 0.83184254, 0.9670026 , 0.94901973,\n       0.98129195, 0.972785  , 0.96973675, 0.9851694 , 0.98357   ,\n       0.98656946, 0.66803086, 0.9853154 , 0.9851311 , 0.98412883,\n       0.98574233, 0.6936473 , 0.96095943, 0.9657028 , 0.98699296,\n       0.98432463, 0.96804285, 0.9672188 , 0.9525568 , 0.9680499 ,\n       0.9645054 , 0.9366663 , 0.9838897 , 0.98199254, 0.9552944 ,\n       0.9870479 , 0.9865336 , 0.98209435, 0.9834258 , 0.9819919 ,\n       0.98585206, 0.91534805, 0.98637944, 0.96741176, 0.96571225,\n       0.9699007 , 0.98429555, 0.9863748 , 0.9652704 , 0.9678277 ,\n       0.9649022 , 0.9632615 , 0.9828437 , 0.9842506 , 0.9691974 ,\n       0.98680466, 0.97302645, 0.9863508 , 0.98715615, 0.98590636,\n       0.983816  , 0.96275806, 0.98489714, 0.9827378 , 0.96875006,\n       0.9833899 , 0.98499185, 0.94732136, 0.9417577 , 0.97424066,\n       0.9670599 , 0.9833861 , 0.9847381 , 0.9684048 , 0.9552156 ,\n       0.98657405, 0.8827721 , 0.96361583, 0.97239614, 0.96731955,\n       0.9849091 , 0.9647355 , 0.9635552 , 0.9636302 , 0.98738664,\n       0.98748106, 0.9769446 , 0.96906096, 0.9857067 , 0.98338944,\n       0.98249024, 0.97289705, 0.985693  , 0.95183694, 0.9349582 ,\n       0.9847744 , 0.9735607 , 0.9726953 , 0.9702212 , 0.9698036 ,\n       0.98660004, 0.9601167 , 0.9665677 , 0.96005416, 0.9850524 ,\n       0.9872043 , 0.9851619 , 0.9842199 , 0.98514587, 0.9737965 ,\n       0.9857896 , 0.9667783 , 0.97058296, 0.97014004, 0.98694634,\n       0.9503586 , 0.97350657, 0.9849913 , 0.96611726, 0.965317  ,\n       0.9852661 , 0.98021287, 0.985268  , 0.9712012 , 0.9677026 ,\n       0.9848156 , 0.9704604 , 0.98583066, 0.9865424 , 0.9868728 ,\n       0.96965265, 0.9849054 , 0.9862425 , 0.9861513 , 0.9669094 ,\n       0.96771914, 0.9870582 , 0.9620639 , 0.9715393 , 0.9642341 ,\n       0.9870828 , 0.98548454, 0.97594345, 0.9682644 , 0.9853391 ,\n       0.98523355, 0.96676725, 0.9863822 , 0.9714296 , 0.98313844,\n       0.9821068 , 0.9853623 , 0.98395747, 0.96724194, 0.6047209 ,\n       0.9871318 , 0.9840317 , 0.9852505 , 0.9852877 , 0.98760456,\n       0.9700543 , 0.9840479 , 0.9865572 , 0.9848377 , 0.98553765,\n       0.9656509 , 0.98642635, 0.97002834, 0.9713387 , 0.97095686,\n       0.9654389 , 0.98673713, 0.98730403, 0.97224116, 0.9720729 ,\n       0.9647719 , 0.98677766, 0.9677744 , 0.98579097, 0.9737366 ,\n       0.86479586, 0.98637986, 0.95930594, 0.96845305, 0.96870655,\n       0.96687734, 0.96671855, 0.9844259 , 0.98493034, 0.88422537,\n       0.9699374 , 0.9836054 , 0.9660314 , 0.98461634, 0.9832988 ,\n       0.98448694, 0.96638244, 0.98285013, 0.9837848 , 0.9860914 ,\n       0.9835284 , 0.9716609 , 0.9656211 , 0.97454655, 0.9682787 ,\n       0.96632785, 0.9724915 , 0.9835586 , 0.84029984, 0.9708716 ,\n       0.9734595 , 0.9704453 , 0.9585255 , 0.9852804 , 0.9855013 ],\n      dtype=float32), all_predictions=            1         0\n0    0.083831  0.916169\n1    0.984678  0.015322\n2    0.032029  0.967971\n3    0.049923  0.950077\n4    0.985249  0.014751\n..        ...       ...\n995  0.026541  0.973459\n996  0.029555  0.970445\n997  0.041475  0.958525\n998  0.985280  0.014720\n999  0.985501  0.014499\n\n[1000 rows x 2 columns])"
     },
     "execution_count": 17,
     "metadata": {},
     "output_type": "execute_result"
    }
   ],
   "source": [
    "wrapped_model.predict(wrapped_data)"
   ],
   "metadata": {
    "collapsed": false,
    "ExecuteTime": {
     "end_time": "2023-05-16T11:28:43.921758Z",
     "start_time": "2023-05-16T11:28:40.683959Z"
    }
   }
  },
  {
   "cell_type": "markdown",
   "source": [
    "## Scan model"
   ],
   "metadata": {
    "collapsed": false
   }
  },
  {
   "cell_type": "code",
   "execution_count": 18,
   "outputs": [
    {
     "name": "stderr",
     "output_type": "stream",
     "text": [
      "2023/05/16 13:28:44 WARNING mlflow.tensorflow: You are saving a TensorFlow Core model or Keras model without a signature. Inference with mlflow.pyfunc.spark_udf() will not work unless the model's pyfunc representation accepts pandas DataFrames as inference inputs.\n",
      "2023-05-16 13:28:45.379745: I tensorflow/core/common_runtime/executor.cc:1197] [/device:CPU:0] (DEBUG INFO) Executor start aborting (this does not indicate an error and you can ignore this message): INVALID_ARGUMENT: You must feed a value for placeholder tensor 'while/Placeholder_2' with dtype float and shape [?,32]\n",
      "\t [[{{node while/Placeholder_2}}]]\n",
      "2023-05-16 13:28:45.539928: I tensorflow/core/common_runtime/executor.cc:1197] [/device:CPU:0] (DEBUG INFO) Executor start aborting (this does not indicate an error and you can ignore this message): INVALID_ARGUMENT: You must feed a value for placeholder tensor 'while/Placeholder_2' with dtype float and shape [?,32]\n",
      "\t [[{{node while/Placeholder_2}}]]\n",
      "2023-05-16 13:28:45.584897: I tensorflow/core/common_runtime/executor.cc:1197] [/device:CPU:0] (DEBUG INFO) Executor start aborting (this does not indicate an error and you can ignore this message): INVALID_ARGUMENT: You must feed a value for placeholder tensor 'inputs' with dtype float and shape [?,?,100]\n",
      "\t [[{{node inputs}}]]\n",
      "2023-05-16 13:28:45.601268: I tensorflow/core/common_runtime/executor.cc:1197] [/device:CPU:0] (DEBUG INFO) Executor start aborting (this does not indicate an error and you can ignore this message): INVALID_ARGUMENT: You must feed a value for placeholder tensor 'inputs' with dtype float and shape [?,?,100]\n",
      "\t [[{{node inputs}}]]\n",
      "2023-05-16 13:28:45.616190: I tensorflow/core/common_runtime/executor.cc:1197] [/device:CPU:0] (DEBUG INFO) Executor start aborting (this does not indicate an error and you can ignore this message): INVALID_ARGUMENT: You must feed a value for placeholder tensor 'inputs' with dtype float and shape [?,100]\n",
      "\t [[{{node inputs}}]]\n",
      "2023-05-16 13:28:45.616292: I tensorflow/core/common_runtime/executor.cc:1197] [/device:CPU:0] (DEBUG INFO) Executor start aborting (this does not indicate an error and you can ignore this message): INVALID_ARGUMENT: You must feed a value for placeholder tensor 'states' with dtype float and shape [?,32]\n",
      "\t [[{{node states}}]]\n",
      "2023-05-16 13:28:45.634413: I tensorflow/core/common_runtime/executor.cc:1197] [/device:CPU:0] (DEBUG INFO) Executor start aborting (this does not indicate an error and you can ignore this message): INVALID_ARGUMENT: You must feed a value for placeholder tensor 'inputs' with dtype float and shape [?,100]\n",
      "\t [[{{node inputs}}]]\n",
      "2023-05-16 13:28:45.634493: I tensorflow/core/common_runtime/executor.cc:1197] [/device:CPU:0] (DEBUG INFO) Executor start aborting (this does not indicate an error and you can ignore this message): INVALID_ARGUMENT: You must feed a value for placeholder tensor 'states' with dtype float and shape [?,32]\n",
      "\t [[{{node states}}]]\n",
      "2023-05-16 13:28:45.829420: I tensorflow/core/common_runtime/executor.cc:1197] [/device:CPU:0] (DEBUG INFO) Executor start aborting (this does not indicate an error and you can ignore this message): INVALID_ARGUMENT: You must feed a value for placeholder tensor 'while/Placeholder_2' with dtype float and shape [?,16]\n",
      "\t [[{{node while/Placeholder_2}}]]\n",
      "2023-05-16 13:28:46.015889: I tensorflow/core/common_runtime/executor.cc:1197] [/device:CPU:0] (DEBUG INFO) Executor start aborting (this does not indicate an error and you can ignore this message): INVALID_ARGUMENT: You must feed a value for placeholder tensor 'while/Placeholder_2' with dtype float and shape [?,16]\n",
      "\t [[{{node while/Placeholder_2}}]]\n",
      "2023-05-16 13:28:46.075256: I tensorflow/core/common_runtime/executor.cc:1197] [/device:CPU:0] (DEBUG INFO) Executor start aborting (this does not indicate an error and you can ignore this message): INVALID_ARGUMENT: You must feed a value for placeholder tensor 'inputs' with dtype float and shape [?,?,32]\n",
      "\t [[{{node inputs}}]]\n",
      "2023-05-16 13:28:46.103487: I tensorflow/core/common_runtime/executor.cc:1197] [/device:CPU:0] (DEBUG INFO) Executor start aborting (this does not indicate an error and you can ignore this message): INVALID_ARGUMENT: You must feed a value for placeholder tensor 'inputs' with dtype float and shape [?,?,32]\n",
      "\t [[{{node inputs}}]]\n",
      "2023-05-16 13:28:46.118927: I tensorflow/core/common_runtime/executor.cc:1197] [/device:CPU:0] (DEBUG INFO) Executor start aborting (this does not indicate an error and you can ignore this message): INVALID_ARGUMENT: You must feed a value for placeholder tensor 'inputs' with dtype float and shape [?,32]\n",
      "\t [[{{node inputs}}]]\n",
      "2023-05-16 13:28:46.119082: I tensorflow/core/common_runtime/executor.cc:1197] [/device:CPU:0] (DEBUG INFO) Executor start aborting (this does not indicate an error and you can ignore this message): INVALID_ARGUMENT: You must feed a value for placeholder tensor 'states' with dtype float and shape [?,16]\n",
      "\t [[{{node states}}]]\n",
      "2023-05-16 13:28:46.143347: I tensorflow/core/common_runtime/executor.cc:1197] [/device:CPU:0] (DEBUG INFO) Executor start aborting (this does not indicate an error and you can ignore this message): INVALID_ARGUMENT: You must feed a value for placeholder tensor 'inputs' with dtype float and shape [?,32]\n",
      "\t [[{{node inputs}}]]\n",
      "2023-05-16 13:28:46.143434: I tensorflow/core/common_runtime/executor.cc:1197] [/device:CPU:0] (DEBUG INFO) Executor start aborting (this does not indicate an error and you can ignore this message): INVALID_ARGUMENT: You must feed a value for placeholder tensor 'states' with dtype float and shape [?,16]\n",
      "\t [[{{node states}}]]\n",
      "2023-05-16 13:28:47.370865: I tensorflow/core/common_runtime/executor.cc:1197] [/device:CPU:0] (DEBUG INFO) Executor start aborting (this does not indicate an error and you can ignore this message): INVALID_ARGUMENT: You must feed a value for placeholder tensor 'inputs' with dtype float and shape [?,300,100]\n",
      "\t [[{{node inputs}}]]\n",
      "2023-05-16 13:28:47.387076: I tensorflow/core/common_runtime/executor.cc:1197] [/device:CPU:0] (DEBUG INFO) Executor start aborting (this does not indicate an error and you can ignore this message): INVALID_ARGUMENT: You must feed a value for placeholder tensor 'inputs' with dtype float and shape [?,300,100]\n",
      "\t [[{{node inputs}}]]\n",
      "2023-05-16 13:28:47.404250: I tensorflow/core/common_runtime/executor.cc:1197] [/device:CPU:0] (DEBUG INFO) Executor start aborting (this does not indicate an error and you can ignore this message): INVALID_ARGUMENT: You must feed a value for placeholder tensor 'inputs' with dtype float and shape [?,300,32]\n",
      "\t [[{{node inputs}}]]\n",
      "2023-05-16 13:28:47.420241: I tensorflow/core/common_runtime/executor.cc:1197] [/device:CPU:0] (DEBUG INFO) Executor start aborting (this does not indicate an error and you can ignore this message): INVALID_ARGUMENT: You must feed a value for placeholder tensor 'inputs' with dtype float and shape [?,300,32]\n",
      "\t [[{{node inputs}}]]\n",
      "2023-05-16 13:28:48.863642: I tensorflow/core/common_runtime/executor.cc:1197] [/device:CPU:0] (DEBUG INFO) Executor start aborting (this does not indicate an error and you can ignore this message): INVALID_ARGUMENT: You must feed a value for placeholder tensor 'inputs_0' with dtype float and shape [?,?,100]\n",
      "\t [[{{node inputs_0}}]]\n",
      "2023-05-16 13:28:48.875754: I tensorflow/core/common_runtime/executor.cc:1197] [/device:CPU:0] (DEBUG INFO) Executor start aborting (this does not indicate an error and you can ignore this message): INVALID_ARGUMENT: You must feed a value for placeholder tensor 'inputs_0' with dtype float and shape [?,?,100]\n",
      "\t [[{{node inputs_0}}]]\n",
      "2023-05-16 13:28:48.888409: I tensorflow/core/common_runtime/executor.cc:1197] [/device:CPU:0] (DEBUG INFO) Executor start aborting (this does not indicate an error and you can ignore this message): INVALID_ARGUMENT: You must feed a value for placeholder tensor 'inputs' with dtype float and shape [?,300,100]\n",
      "\t [[{{node inputs}}]]\n",
      "2023-05-16 13:28:48.900254: I tensorflow/core/common_runtime/executor.cc:1197] [/device:CPU:0] (DEBUG INFO) Executor start aborting (this does not indicate an error and you can ignore this message): INVALID_ARGUMENT: You must feed a value for placeholder tensor 'inputs' with dtype float and shape [?,300,100]\n",
      "\t [[{{node inputs}}]]\n",
      "2023-05-16 13:28:49.753631: I tensorflow/core/common_runtime/executor.cc:1197] [/device:CPU:0] (DEBUG INFO) Executor start aborting (this does not indicate an error and you can ignore this message): INVALID_ARGUMENT: You must feed a value for placeholder tensor 'inputs_0' with dtype float and shape [?,?,32]\n",
      "\t [[{{node inputs_0}}]]\n",
      "2023-05-16 13:28:49.764546: I tensorflow/core/common_runtime/executor.cc:1197] [/device:CPU:0] (DEBUG INFO) Executor start aborting (this does not indicate an error and you can ignore this message): INVALID_ARGUMENT: You must feed a value for placeholder tensor 'inputs_0' with dtype float and shape [?,?,32]\n",
      "\t [[{{node inputs_0}}]]\n",
      "2023-05-16 13:28:49.777524: I tensorflow/core/common_runtime/executor.cc:1197] [/device:CPU:0] (DEBUG INFO) Executor start aborting (this does not indicate an error and you can ignore this message): INVALID_ARGUMENT: You must feed a value for placeholder tensor 'inputs' with dtype float and shape [?,300,32]\n",
      "\t [[{{node inputs}}]]\n",
      "2023-05-16 13:28:49.788153: I tensorflow/core/common_runtime/executor.cc:1197] [/device:CPU:0] (DEBUG INFO) Executor start aborting (this does not indicate an error and you can ignore this message): INVALID_ARGUMENT: You must feed a value for placeholder tensor 'inputs' with dtype float and shape [?,300,32]\n",
      "\t [[{{node inputs}}]]\n",
      "2023-05-16 13:28:50.728952: I tensorflow/core/common_runtime/executor.cc:1197] [/device:CPU:0] (DEBUG INFO) Executor start aborting (this does not indicate an error and you can ignore this message): INVALID_ARGUMENT: You must feed a value for placeholder tensor 'inputs' with dtype float and shape [?,100]\n",
      "\t [[{{node inputs}}]]\n",
      "2023-05-16 13:28:50.729026: I tensorflow/core/common_runtime/executor.cc:1197] [/device:CPU:0] (DEBUG INFO) Executor start aborting (this does not indicate an error and you can ignore this message): INVALID_ARGUMENT: You must feed a value for placeholder tensor 'states_0' with dtype float and shape [?,32]\n",
      "\t [[{{node states_0}}]]\n",
      "2023-05-16 13:28:50.742375: I tensorflow/core/common_runtime/executor.cc:1197] [/device:CPU:0] (DEBUG INFO) Executor start aborting (this does not indicate an error and you can ignore this message): INVALID_ARGUMENT: You must feed a value for placeholder tensor 'inputs' with dtype float and shape [?,100]\n",
      "\t [[{{node inputs}}]]\n",
      "2023-05-16 13:28:50.742448: I tensorflow/core/common_runtime/executor.cc:1197] [/device:CPU:0] (DEBUG INFO) Executor start aborting (this does not indicate an error and you can ignore this message): INVALID_ARGUMENT: You must feed a value for placeholder tensor 'states_0' with dtype float and shape [?,32]\n",
      "\t [[{{node states_0}}]]\n",
      "2023-05-16 13:28:50.933124: I tensorflow/core/common_runtime/executor.cc:1197] [/device:CPU:0] (DEBUG INFO) Executor start aborting (this does not indicate an error and you can ignore this message): INVALID_ARGUMENT: You must feed a value for placeholder tensor 'inputs' with dtype float and shape [?,32]\n",
      "\t [[{{node inputs}}]]\n",
      "2023-05-16 13:28:50.933217: I tensorflow/core/common_runtime/executor.cc:1197] [/device:CPU:0] (DEBUG INFO) Executor start aborting (this does not indicate an error and you can ignore this message): INVALID_ARGUMENT: You must feed a value for placeholder tensor 'states_0' with dtype float and shape [?,16]\n",
      "\t [[{{node states_0}}]]\n",
      "2023-05-16 13:28:50.946748: I tensorflow/core/common_runtime/executor.cc:1197] [/device:CPU:0] (DEBUG INFO) Executor start aborting (this does not indicate an error and you can ignore this message): INVALID_ARGUMENT: You must feed a value for placeholder tensor 'inputs' with dtype float and shape [?,32]\n",
      "\t [[{{node inputs}}]]\n",
      "2023-05-16 13:28:50.946830: I tensorflow/core/common_runtime/executor.cc:1197] [/device:CPU:0] (DEBUG INFO) Executor start aborting (this does not indicate an error and you can ignore this message): INVALID_ARGUMENT: You must feed a value for placeholder tensor 'states_0' with dtype float and shape [?,16]\n",
      "\t [[{{node states_0}}]]\n"
     ]
    },
    {
     "name": "stdout",
     "output_type": "stream",
     "text": [
      "INFO:tensorflow:Assets written to: /var/folders/4q/3_bfyqnn7yv5jcjq98x2jf680000gn/T/giskard-model-z4hl_f8u/data/model/assets\n",
      "2023-05-16 13:28:55,450 pid:9251 MainThread tensorflow   INFO     Assets written to: /var/folders/4q/3_bfyqnn7yv5jcjq98x2jf680000gn/T/giskard-model-z4hl_f8u/data/model/assets\n"
     ]
    },
    {
     "name": "stderr",
     "output_type": "stream",
     "text": [
      "/Users/mykytaalekseiev/IdeaProjects/GiskardExamples/venv/lib/python3.10/site-packages/_distutils_hack/__init__.py:33: UserWarning: Setuptools is replacing distutils.\n",
      "  warnings.warn(\"Setuptools is replacing distutils.\")\n"
     ]
    },
    {
     "name": "stdout",
     "output_type": "stream",
     "text": [
      "1/1 [==============================] - 1s 734ms/step\n",
      "2023-05-16 13:29:34,366 pid:9251 MainThread giskard.models.base WARNING  \n",
      "Your binary classification model prediction is of the shape (10, 1). \n",
      "In Giskard we expect the shape (10, 2) for binary classification models. \n",
      "We automatically inferred the second class prediction but please make sure that \n",
      "the probability output of your model corresponds to the first label of the \n",
      "classification_labels ([1, 0]) you provided us with.\n",
      "NoneType: None\n",
      "1/1 [==============================] - 0s 57ms/step\n",
      "2023-05-16 13:29:34,494 pid:9251 MainThread giskard.models.base WARNING  \n",
      "Your binary classification model prediction is of the shape (10, 1). \n",
      "In Giskard we expect the shape (10, 2) for binary classification models. \n",
      "We automatically inferred the second class prediction but please make sure that \n",
      "the probability output of your model corresponds to the first label of the \n",
      "classification_labels ([1, 0]) you provided us with.\n",
      "NoneType: None\n",
      "Your model is successfully validated.\n",
      "Running scan…\n",
      "32/32 [==============================] - 2s 52ms/step\n",
      "2023-05-16 13:29:38,922 pid:9251 MainThread giskard.models.base WARNING  \n",
      "Your binary classification model prediction is of the shape (1000, 1). \n",
      "In Giskard we expect the shape (1000, 2) for binary classification models. \n",
      "We automatically inferred the second class prediction but please make sure that \n",
      "the probability output of your model corresponds to the first label of the \n",
      "classification_labels ([1, 0]) you provided us with.\n",
      "NoneType: None\n",
      "32/32 [==============================] - 1s 45ms/step\n",
      "2023-05-16 13:30:47,646 pid:9251 MainThread giskard.models.base WARNING  \n",
      "Your binary classification model prediction is of the shape (1000, 1). \n",
      "In Giskard we expect the shape (1000, 2) for binary classification models. \n",
      "We automatically inferred the second class prediction but please make sure that \n",
      "the probability output of your model corresponds to the first label of the \n",
      "classification_labels ([1, 0]) you provided us with.\n",
      "NoneType: None\n"
     ]
    },
    {
     "ename": "ValueError",
     "evalue": "Found input variables with inconsistent numbers of samples: [1000, 1278]",
     "output_type": "error",
     "traceback": [
      "\u001B[0;31m---------------------------------------------------------------------------\u001B[0m",
      "\u001B[0;31mValueError\u001B[0m                                Traceback (most recent call last)",
      "Cell \u001B[0;32mIn[18], line 1\u001B[0m\n\u001B[0;32m----> 1\u001B[0m scanning_results \u001B[38;5;241m=\u001B[39m \u001B[43mgiskard\u001B[49m\u001B[38;5;241;43m.\u001B[39;49m\u001B[43mscan\u001B[49m\u001B[43m(\u001B[49m\u001B[43mwrapped_model\u001B[49m\u001B[43m,\u001B[49m\u001B[43m \u001B[49m\u001B[43mwrapped_data\u001B[49m\u001B[43m)\u001B[49m\n",
      "File \u001B[0;32m~/IdeaProjects/GiskardExamples/venv/lib/python3.10/site-packages/giskard/scanner/__init__.py:35\u001B[0m, in \u001B[0;36mscan\u001B[0;34m(model, dataset, params, only, verbose)\u001B[0m\n\u001B[1;32m     23\u001B[0m \u001B[38;5;250m\u001B[39m\u001B[38;5;124;03m\"\"\"\u001B[39;00m\n\u001B[1;32m     24\u001B[0m \u001B[38;5;124;03mScan a model with a dataset.\u001B[39;00m\n\u001B[1;32m     25\u001B[0m \n\u001B[0;32m   (...)\u001B[0m\n\u001B[1;32m     32\u001B[0m \u001B[38;5;124;03m        Scanner configuration.\u001B[39;00m\n\u001B[1;32m     33\u001B[0m \u001B[38;5;124;03m\"\"\"\u001B[39;00m\n\u001B[1;32m     34\u001B[0m scanner \u001B[38;5;241m=\u001B[39m Scanner(params, only\u001B[38;5;241m=\u001B[39monly)\n\u001B[0;32m---> 35\u001B[0m \u001B[38;5;28;01mreturn\u001B[39;00m \u001B[43mscanner\u001B[49m\u001B[38;5;241;43m.\u001B[39;49m\u001B[43manalyze\u001B[49m\u001B[43m(\u001B[49m\u001B[43mmodel\u001B[49m\u001B[43m,\u001B[49m\u001B[43m \u001B[49m\u001B[43mdataset\u001B[49m\u001B[43m,\u001B[49m\u001B[43m \u001B[49m\u001B[43mverbose\u001B[49m\u001B[38;5;241;43m=\u001B[39;49m\u001B[43mverbose\u001B[49m\u001B[43m)\u001B[49m\n",
      "File \u001B[0;32m~/IdeaProjects/GiskardExamples/venv/lib/python3.10/site-packages/giskard/scanner/scanner.py:44\u001B[0m, in \u001B[0;36mScanner.analyze\u001B[0;34m(self, model, dataset, verbose)\u001B[0m\n\u001B[1;32m     42\u001B[0m \u001B[38;5;28;01mfor\u001B[39;00m detector \u001B[38;5;129;01min\u001B[39;00m detectors:\n\u001B[1;32m     43\u001B[0m     maybe_print(\u001B[38;5;124mf\u001B[39m\u001B[38;5;124m\"\u001B[39m\u001B[38;5;124mRunning detector \u001B[39m\u001B[38;5;132;01m{\u001B[39;00mdetector\u001B[38;5;241m.\u001B[39m\u001B[38;5;18m__class__\u001B[39m\u001B[38;5;241m.\u001B[39m\u001B[38;5;18m__name__\u001B[39m\u001B[38;5;132;01m}\u001B[39;00m\u001B[38;5;124m…\u001B[39m\u001B[38;5;124m\"\u001B[39m, end\u001B[38;5;241m=\u001B[39m\u001B[38;5;124m\"\u001B[39m\u001B[38;5;124m\"\u001B[39m, verbose\u001B[38;5;241m=\u001B[39mverbose)\n\u001B[0;32m---> 44\u001B[0m     detected_issues \u001B[38;5;241m=\u001B[39m \u001B[43mdetector\u001B[49m\u001B[38;5;241;43m.\u001B[39;49m\u001B[43mrun\u001B[49m\u001B[43m(\u001B[49m\u001B[43mmodel\u001B[49m\u001B[43m,\u001B[49m\u001B[43m \u001B[49m\u001B[43mdataset\u001B[49m\u001B[43m)\u001B[49m\n\u001B[1;32m     45\u001B[0m     detected_issues \u001B[38;5;241m=\u001B[39m \u001B[38;5;28msorted\u001B[39m(detected_issues, key\u001B[38;5;241m=\u001B[39m\u001B[38;5;28;01mlambda\u001B[39;00m i: \u001B[38;5;241m-\u001B[39mi\u001B[38;5;241m.\u001B[39mimportance)[:MAX_ISSUES_PER_DETECTOR]\n\u001B[1;32m     46\u001B[0m     maybe_print(\u001B[38;5;124mf\u001B[39m\u001B[38;5;124m\"\u001B[39m\u001B[38;5;124m \u001B[39m\u001B[38;5;132;01m{\u001B[39;00m\u001B[38;5;28mlen\u001B[39m(detected_issues)\u001B[38;5;132;01m}\u001B[39;00m\u001B[38;5;124m issues detected.\u001B[39m\u001B[38;5;124m\"\u001B[39m, verbose\u001B[38;5;241m=\u001B[39mverbose)\n",
      "File \u001B[0;32m~/IdeaProjects/GiskardExamples/venv/lib/python3.10/site-packages/giskard/scanner/performance/model_bias_detector.py:52\u001B[0m, in \u001B[0;36mModelBiasDetector.run\u001B[0;34m(self, model, dataset)\u001B[0m\n\u001B[1;32m     49\u001B[0m slices \u001B[38;5;241m=\u001B[39m [s \u001B[38;5;28;01mfor\u001B[39;00m s \u001B[38;5;129;01min\u001B[39;00m slices \u001B[38;5;28;01mif\u001B[39;00m \u001B[38;5;241m0.05\u001B[39m \u001B[38;5;241m*\u001B[39m \u001B[38;5;28mlen\u001B[39m(dataset) \u001B[38;5;241m<\u001B[39m\u001B[38;5;241m=\u001B[39m \u001B[38;5;28mlen\u001B[39m(dataset\u001B[38;5;241m.\u001B[39mslice(s))]\n\u001B[1;32m     51\u001B[0m \u001B[38;5;66;03m# Create issues from the slices\u001B[39;00m\n\u001B[0;32m---> 52\u001B[0m issues \u001B[38;5;241m=\u001B[39m \u001B[38;5;28;43mself\u001B[39;49m\u001B[38;5;241;43m.\u001B[39;49m\u001B[43m_find_issues\u001B[49m\u001B[43m(\u001B[49m\u001B[43mslices\u001B[49m\u001B[43m,\u001B[49m\u001B[43m \u001B[49m\u001B[43mmodel\u001B[49m\u001B[43m,\u001B[49m\u001B[43m \u001B[49m\u001B[43mdataset\u001B[49m\u001B[43m)\u001B[49m\n\u001B[1;32m     54\u001B[0m \u001B[38;5;28;01mreturn\u001B[39;00m issues\n",
      "File \u001B[0;32m~/IdeaProjects/GiskardExamples/venv/lib/python3.10/site-packages/giskard/scanner/performance/model_bias_detector.py:111\u001B[0m, in \u001B[0;36mModelBiasDetector._find_issues\u001B[0;34m(self, slices, model, dataset)\u001B[0m\n\u001B[1;32m    109\u001B[0m precooked \u001B[38;5;241m=\u001B[39m PrecookedModel\u001B[38;5;241m.\u001B[39mfrom_model(model, dataset)\n\u001B[1;32m    110\u001B[0m detector \u001B[38;5;241m=\u001B[39m IssueFinder(\u001B[38;5;28mself\u001B[39m\u001B[38;5;241m.\u001B[39mmetrics, \u001B[38;5;28mself\u001B[39m\u001B[38;5;241m.\u001B[39mthreshold)\n\u001B[0;32m--> 111\u001B[0m issues \u001B[38;5;241m=\u001B[39m \u001B[43mdetector\u001B[49m\u001B[38;5;241;43m.\u001B[39;49m\u001B[43mdetect\u001B[49m\u001B[43m(\u001B[49m\u001B[43mprecooked\u001B[49m\u001B[43m,\u001B[49m\u001B[43m \u001B[49m\u001B[43mdataset\u001B[49m\u001B[43m,\u001B[49m\u001B[43m \u001B[49m\u001B[43mslices\u001B[49m\u001B[43m)\u001B[49m\n\u001B[1;32m    113\u001B[0m \u001B[38;5;28;01mreturn\u001B[39;00m issues\n",
      "File \u001B[0;32m~/IdeaProjects/GiskardExamples/venv/lib/python3.10/site-packages/giskard/scanner/performance/model_bias_detector.py:131\u001B[0m, in \u001B[0;36mIssueFinder.detect\u001B[0;34m(self, model, dataset, slices)\u001B[0m\n\u001B[1;32m    128\u001B[0m issues \u001B[38;5;241m=\u001B[39m []\n\u001B[1;32m    130\u001B[0m \u001B[38;5;28;01mfor\u001B[39;00m metric \u001B[38;5;129;01min\u001B[39;00m metrics:\n\u001B[0;32m--> 131\u001B[0m     issues\u001B[38;5;241m.\u001B[39mextend(\u001B[38;5;28;43mself\u001B[39;49m\u001B[38;5;241;43m.\u001B[39;49m\u001B[43m_detect_for_metric\u001B[49m\u001B[43m(\u001B[49m\u001B[43mmodel\u001B[49m\u001B[43m,\u001B[49m\u001B[43m \u001B[49m\u001B[43mdataset\u001B[49m\u001B[43m,\u001B[49m\u001B[43m \u001B[49m\u001B[43mslices\u001B[49m\u001B[43m,\u001B[49m\u001B[43m \u001B[49m\u001B[43mmetric\u001B[49m\u001B[43m)\u001B[49m)\n\u001B[1;32m    133\u001B[0m \u001B[38;5;66;03m# Group issues by slice and keep only the most critical\u001B[39;00m\n\u001B[1;32m    134\u001B[0m issues_by_slice \u001B[38;5;241m=\u001B[39m defaultdict(\u001B[38;5;28mlist\u001B[39m)\n",
      "File \u001B[0;32m~/IdeaProjects/GiskardExamples/venv/lib/python3.10/site-packages/giskard/scanner/performance/model_bias_detector.py:152\u001B[0m, in \u001B[0;36mIssueFinder._detect_for_metric\u001B[0;34m(self, model, dataset, slices, metric)\u001B[0m\n\u001B[1;32m    148\u001B[0m \u001B[38;5;28;01mdef\u001B[39;00m \u001B[38;5;21m_detect_for_metric\u001B[39m(\n\u001B[1;32m    149\u001B[0m     \u001B[38;5;28mself\u001B[39m, model: BaseModel, dataset: Dataset, slices: Sequence[SlicingFunction], metric: PerformanceMetric\n\u001B[1;32m    150\u001B[0m ):\n\u001B[1;32m    151\u001B[0m     \u001B[38;5;66;03m# Calculate the metric on the reference dataset\u001B[39;00m\n\u001B[0;32m--> 152\u001B[0m     ref_metric_val \u001B[38;5;241m=\u001B[39m \u001B[43mmetric\u001B[49m\u001B[43m(\u001B[49m\u001B[43mmodel\u001B[49m\u001B[43m,\u001B[49m\u001B[43m \u001B[49m\u001B[43mdataset\u001B[49m\u001B[43m)\u001B[49m\n\u001B[1;32m    154\u001B[0m     \u001B[38;5;66;03m# Now we calculate the metric on each slice and compare it to the reference\u001B[39;00m\n\u001B[1;32m    155\u001B[0m     issues \u001B[38;5;241m=\u001B[39m []\n",
      "File \u001B[0;32m~/IdeaProjects/GiskardExamples/venv/lib/python3.10/site-packages/giskard/scanner/performance/metrics.py:25\u001B[0m, in \u001B[0;36mClassificationPerformanceMetric.__call__\u001B[0;34m(self, model, dataset)\u001B[0m\n\u001B[1;32m     22\u001B[0m y_true \u001B[38;5;241m=\u001B[39m dataset\u001B[38;5;241m.\u001B[39mdf[dataset\u001B[38;5;241m.\u001B[39mtarget]\n\u001B[1;32m     23\u001B[0m y_pred \u001B[38;5;241m=\u001B[39m model\u001B[38;5;241m.\u001B[39mpredict(dataset)\u001B[38;5;241m.\u001B[39mprediction\n\u001B[0;32m---> 25\u001B[0m \u001B[38;5;28;01mreturn\u001B[39;00m \u001B[38;5;28;43mself\u001B[39;49m\u001B[38;5;241;43m.\u001B[39;49m\u001B[43m_calculate_metric\u001B[49m\u001B[43m(\u001B[49m\u001B[43my_true\u001B[49m\u001B[43m,\u001B[49m\u001B[43m \u001B[49m\u001B[43my_pred\u001B[49m\u001B[43m,\u001B[49m\u001B[43m \u001B[49m\u001B[43mmodel\u001B[49m\u001B[43m)\u001B[49m\n",
      "File \u001B[0;32m~/IdeaProjects/GiskardExamples/venv/lib/python3.10/site-packages/giskard/scanner/performance/metrics.py:37\u001B[0m, in \u001B[0;36mAccuracy._calculate_metric\u001B[0;34m(self, y_true, y_pred, model)\u001B[0m\n\u001B[1;32m     36\u001B[0m \u001B[38;5;28;01mdef\u001B[39;00m \u001B[38;5;21m_calculate_metric\u001B[39m(\u001B[38;5;28mself\u001B[39m, y_true, y_pred, model: BaseModel):\n\u001B[0;32m---> 37\u001B[0m     \u001B[38;5;28;01mreturn\u001B[39;00m \u001B[43msklearn\u001B[49m\u001B[38;5;241;43m.\u001B[39;49m\u001B[43mmetrics\u001B[49m\u001B[38;5;241;43m.\u001B[39;49m\u001B[43maccuracy_score\u001B[49m\u001B[43m(\u001B[49m\u001B[43my_true\u001B[49m\u001B[43m,\u001B[49m\u001B[43m \u001B[49m\u001B[43my_pred\u001B[49m\u001B[43m)\u001B[49m\n",
      "File \u001B[0;32m~/IdeaProjects/GiskardExamples/venv/lib/python3.10/site-packages/sklearn/utils/_param_validation.py:192\u001B[0m, in \u001B[0;36mvalidate_params.<locals>.decorator.<locals>.wrapper\u001B[0;34m(*args, **kwargs)\u001B[0m\n\u001B[1;32m    187\u001B[0m validate_parameter_constraints(\n\u001B[1;32m    188\u001B[0m     parameter_constraints, params, caller_name\u001B[38;5;241m=\u001B[39mfunc\u001B[38;5;241m.\u001B[39m\u001B[38;5;18m__qualname__\u001B[39m\n\u001B[1;32m    189\u001B[0m )\n\u001B[1;32m    191\u001B[0m \u001B[38;5;28;01mtry\u001B[39;00m:\n\u001B[0;32m--> 192\u001B[0m     \u001B[38;5;28;01mreturn\u001B[39;00m \u001B[43mfunc\u001B[49m\u001B[43m(\u001B[49m\u001B[38;5;241;43m*\u001B[39;49m\u001B[43margs\u001B[49m\u001B[43m,\u001B[49m\u001B[43m \u001B[49m\u001B[38;5;241;43m*\u001B[39;49m\u001B[38;5;241;43m*\u001B[39;49m\u001B[43mkwargs\u001B[49m\u001B[43m)\u001B[49m\n\u001B[1;32m    193\u001B[0m \u001B[38;5;28;01mexcept\u001B[39;00m InvalidParameterError \u001B[38;5;28;01mas\u001B[39;00m e:\n\u001B[1;32m    194\u001B[0m     \u001B[38;5;66;03m# When the function is just a wrapper around an estimator, we allow\u001B[39;00m\n\u001B[1;32m    195\u001B[0m     \u001B[38;5;66;03m# the function to delegate validation to the estimator, but we replace\u001B[39;00m\n\u001B[1;32m    196\u001B[0m     \u001B[38;5;66;03m# the name of the estimator by the name of the function in the error\u001B[39;00m\n\u001B[1;32m    197\u001B[0m     \u001B[38;5;66;03m# message to avoid confusion.\u001B[39;00m\n\u001B[1;32m    198\u001B[0m     msg \u001B[38;5;241m=\u001B[39m re\u001B[38;5;241m.\u001B[39msub(\n\u001B[1;32m    199\u001B[0m         \u001B[38;5;124mr\u001B[39m\u001B[38;5;124m\"\u001B[39m\u001B[38;5;124mparameter of \u001B[39m\u001B[38;5;124m\\\u001B[39m\u001B[38;5;124mw+ must be\u001B[39m\u001B[38;5;124m\"\u001B[39m,\n\u001B[1;32m    200\u001B[0m         \u001B[38;5;124mf\u001B[39m\u001B[38;5;124m\"\u001B[39m\u001B[38;5;124mparameter of \u001B[39m\u001B[38;5;132;01m{\u001B[39;00mfunc\u001B[38;5;241m.\u001B[39m\u001B[38;5;18m__qualname__\u001B[39m\u001B[38;5;132;01m}\u001B[39;00m\u001B[38;5;124m must be\u001B[39m\u001B[38;5;124m\"\u001B[39m,\n\u001B[1;32m    201\u001B[0m         \u001B[38;5;28mstr\u001B[39m(e),\n\u001B[1;32m    202\u001B[0m     )\n",
      "File \u001B[0;32m~/IdeaProjects/GiskardExamples/venv/lib/python3.10/site-packages/sklearn/metrics/_classification.py:221\u001B[0m, in \u001B[0;36maccuracy_score\u001B[0;34m(y_true, y_pred, normalize, sample_weight)\u001B[0m\n\u001B[1;32m    155\u001B[0m \u001B[38;5;250m\u001B[39m\u001B[38;5;124;03m\"\"\"Accuracy classification score.\u001B[39;00m\n\u001B[1;32m    156\u001B[0m \n\u001B[1;32m    157\u001B[0m \u001B[38;5;124;03mIn multilabel classification, this function computes subset accuracy:\u001B[39;00m\n\u001B[0;32m   (...)\u001B[0m\n\u001B[1;32m    217\u001B[0m \u001B[38;5;124;03m0.5\u001B[39;00m\n\u001B[1;32m    218\u001B[0m \u001B[38;5;124;03m\"\"\"\u001B[39;00m\n\u001B[1;32m    220\u001B[0m \u001B[38;5;66;03m# Compute accuracy for each possible representation\u001B[39;00m\n\u001B[0;32m--> 221\u001B[0m y_type, y_true, y_pred \u001B[38;5;241m=\u001B[39m \u001B[43m_check_targets\u001B[49m\u001B[43m(\u001B[49m\u001B[43my_true\u001B[49m\u001B[43m,\u001B[49m\u001B[43m \u001B[49m\u001B[43my_pred\u001B[49m\u001B[43m)\u001B[49m\n\u001B[1;32m    222\u001B[0m check_consistent_length(y_true, y_pred, sample_weight)\n\u001B[1;32m    223\u001B[0m \u001B[38;5;28;01mif\u001B[39;00m y_type\u001B[38;5;241m.\u001B[39mstartswith(\u001B[38;5;124m\"\u001B[39m\u001B[38;5;124mmultilabel\u001B[39m\u001B[38;5;124m\"\u001B[39m):\n",
      "File \u001B[0;32m~/IdeaProjects/GiskardExamples/venv/lib/python3.10/site-packages/sklearn/metrics/_classification.py:86\u001B[0m, in \u001B[0;36m_check_targets\u001B[0;34m(y_true, y_pred)\u001B[0m\n\u001B[1;32m     59\u001B[0m \u001B[38;5;28;01mdef\u001B[39;00m \u001B[38;5;21m_check_targets\u001B[39m(y_true, y_pred):\n\u001B[1;32m     60\u001B[0m \u001B[38;5;250m    \u001B[39m\u001B[38;5;124;03m\"\"\"Check that y_true and y_pred belong to the same classification task.\u001B[39;00m\n\u001B[1;32m     61\u001B[0m \n\u001B[1;32m     62\u001B[0m \u001B[38;5;124;03m    This converts multiclass or binary types to a common shape, and raises a\u001B[39;00m\n\u001B[0;32m   (...)\u001B[0m\n\u001B[1;32m     84\u001B[0m \u001B[38;5;124;03m    y_pred : array or indicator matrix\u001B[39;00m\n\u001B[1;32m     85\u001B[0m \u001B[38;5;124;03m    \"\"\"\u001B[39;00m\n\u001B[0;32m---> 86\u001B[0m     \u001B[43mcheck_consistent_length\u001B[49m\u001B[43m(\u001B[49m\u001B[43my_true\u001B[49m\u001B[43m,\u001B[49m\u001B[43m \u001B[49m\u001B[43my_pred\u001B[49m\u001B[43m)\u001B[49m\n\u001B[1;32m     87\u001B[0m     type_true \u001B[38;5;241m=\u001B[39m type_of_target(y_true, input_name\u001B[38;5;241m=\u001B[39m\u001B[38;5;124m\"\u001B[39m\u001B[38;5;124my_true\u001B[39m\u001B[38;5;124m\"\u001B[39m)\n\u001B[1;32m     88\u001B[0m     type_pred \u001B[38;5;241m=\u001B[39m type_of_target(y_pred, input_name\u001B[38;5;241m=\u001B[39m\u001B[38;5;124m\"\u001B[39m\u001B[38;5;124my_pred\u001B[39m\u001B[38;5;124m\"\u001B[39m)\n",
      "File \u001B[0;32m~/IdeaProjects/GiskardExamples/venv/lib/python3.10/site-packages/sklearn/utils/validation.py:397\u001B[0m, in \u001B[0;36mcheck_consistent_length\u001B[0;34m(*arrays)\u001B[0m\n\u001B[1;32m    395\u001B[0m uniques \u001B[38;5;241m=\u001B[39m np\u001B[38;5;241m.\u001B[39munique(lengths)\n\u001B[1;32m    396\u001B[0m \u001B[38;5;28;01mif\u001B[39;00m \u001B[38;5;28mlen\u001B[39m(uniques) \u001B[38;5;241m>\u001B[39m \u001B[38;5;241m1\u001B[39m:\n\u001B[0;32m--> 397\u001B[0m     \u001B[38;5;28;01mraise\u001B[39;00m \u001B[38;5;167;01mValueError\u001B[39;00m(\n\u001B[1;32m    398\u001B[0m         \u001B[38;5;124m\"\u001B[39m\u001B[38;5;124mFound input variables with inconsistent numbers of samples: \u001B[39m\u001B[38;5;132;01m%r\u001B[39;00m\u001B[38;5;124m\"\u001B[39m\n\u001B[1;32m    399\u001B[0m         \u001B[38;5;241m%\u001B[39m [\u001B[38;5;28mint\u001B[39m(l) \u001B[38;5;28;01mfor\u001B[39;00m l \u001B[38;5;129;01min\u001B[39;00m lengths]\n\u001B[1;32m    400\u001B[0m     )\n",
      "\u001B[0;31mValueError\u001B[0m: Found input variables with inconsistent numbers of samples: [1000, 1278]"
     ]
    }
   ],
   "source": [
    "scanning_results = giskard.scan(wrapped_model, wrapped_data)"
   ],
   "metadata": {
    "collapsed": false,
    "ExecuteTime": {
     "end_time": "2023-05-16T11:30:49.237113Z",
     "start_time": "2023-05-16T11:28:43.919238Z"
    }
   }
  }
 ],
 "metadata": {
  "kernelspec": {
   "name": "python3",
   "display_name": "Python 3",
   "language": "python"
  },
  "language_info": {
   "name": "python",
   "version": "3.6.6",
   "mimetype": "text/x-python",
   "codemirror_mode": {
    "name": "ipython",
    "version": 3
   },
   "pygments_lexer": "ipython3",
   "nbconvert_exporter": "python",
   "file_extension": ".py"
  }
 },
 "nbformat": 4,
 "nbformat_minor": 4
}
