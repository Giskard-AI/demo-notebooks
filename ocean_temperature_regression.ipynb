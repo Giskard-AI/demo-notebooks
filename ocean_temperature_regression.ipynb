{
 "cells": [
  {
   "cell_type": "markdown",
   "source": [
    "# Ocean temperature prediction [sklearn]\n",
    "* Regression task to predict ocean temperature\n",
    "* Reference notebook: <https://www.kaggle.com/code/mathchi/1-lr-mlr-pr-dt-rf-predict-data-calcofi/notebook>\n",
    "* Dataset: <https://www.kaggle.com/code/mathchi/1-lr-mlr-pr-dt-rf-predict-data-calcofi/input>"
   ],
   "metadata": {
    "collapsed": false
   }
  },
  {
   "cell_type": "markdown",
   "source": [
    "## Import libraries"
   ],
   "metadata": {
    "collapsed": false
   }
  },
  {
   "cell_type": "code",
   "execution_count": null,
   "metadata": {
    "_cell_guid": "b1076dfc-b9ad-4769-8c92-a6c4dae69d19",
    "_uuid": "8f2839f25d086af736a60e9eeb907d3b93b6e0e5"
   },
   "outputs": [],
   "source": [
    "import os\n",
    "\n",
    "import pandas as pd\n",
    "from sklearn.metrics import r2_score\n",
    "from sklearn.pipeline import Pipeline\n",
    "from sklearn.linear_model import LinearRegression\n",
    "from sklearn.preprocessing import PolynomialFeatures\n",
    "from sklearn.model_selection import train_test_split\n",
    "\n",
    "from giskard.client.giskard_client import GiskardError\n",
    "from giskard import scan, Model, Dataset, GiskardClient"
   ]
  },
  {
   "cell_type": "markdown",
   "source": [
    "## Define constants"
   ],
   "metadata": {
    "collapsed": false
   }
  },
  {
   "cell_type": "code",
   "execution_count": null,
   "outputs": [],
   "source": [
    "# Constants.\n",
    "FEATURE_COLUMN_NAME = \"Salinity\"\n",
    "TARGET_COLUMN_NAME = \"Temperature\"\n",
    "\n",
    "# Giskard creds.\n",
    "GISKARD_URL = \"http://localhost:9000\"\n",
    "GISKARD_TOKEN = \"\"\n",
    "GISKARD_PROJECT_KEY = \"ocean_temperature_regression\"\n",
    "\n",
    "# Paths.\n",
    "PATH_DATA = os.path.join(\".\", \"datasets\", \"ocean_temperature_regression_dataset\", \"bottle.csv\")"
   ],
   "metadata": {
    "collapsed": false
   }
  },
  {
   "cell_type": "markdown",
   "source": [
    "## Load data"
   ],
   "metadata": {
    "collapsed": false
   }
  },
  {
   "cell_type": "code",
   "execution_count": null,
   "metadata": {
    "_cell_guid": "",
    "_uuid": ""
   },
   "outputs": [],
   "source": [
    "def load_data(**kwargs) -> pd.DataFrame:\n",
    "    \"\"\"Load data and perform initial preprocessing.\"\"\"\n",
    "    print(f\"Loading data...\")\n",
    "    df = pd.read_csv(PATH_DATA, usecols=['Salnty', 'T_degC'], **kwargs)\n",
    "    df.columns = [FEATURE_COLUMN_NAME, TARGET_COLUMN_NAME]\n",
    "    df = df.fillna(method='ffill')\n",
    "    print(f\"Finished loading data! Shape: {df.shape}\")\n",
    "\n",
    "    return df\n",
    "\n",
    "ocean_df = load_data()"
   ]
  },
  {
   "cell_type": "markdown",
   "source": [
    "## Train-test split"
   ],
   "metadata": {
    "collapsed": false
   }
  },
  {
   "cell_type": "code",
   "execution_count": null,
   "metadata": {},
   "outputs": [],
   "source": [
    "X_train, X_test, y_train, y_test = train_test_split(ocean_df[[FEATURE_COLUMN_NAME]], ocean_df[TARGET_COLUMN_NAME], random_state=42)"
   ]
  },
  {
   "cell_type": "markdown",
   "source": [
    "## Wrap dataset with giskard"
   ],
   "metadata": {
    "collapsed": false
   }
  },
  {
   "cell_type": "code",
   "execution_count": null,
   "outputs": [],
   "source": [
    "raw_dataset = pd.concat([X_test, y_test], axis=1)\n",
    "wrapped_dataset = Dataset(raw_dataset,\n",
    "                          name=\"ocean_temperature_regression_dataset\",\n",
    "                          target=TARGET_COLUMN_NAME,\n",
    "                          column_types={FEATURE_COLUMN_NAME: \"numeric\"})"
   ],
   "metadata": {
    "collapsed": false
   }
  },
  {
   "cell_type": "markdown",
   "metadata": {},
   "source": [
    "## Linear Regression"
   ]
  },
  {
   "cell_type": "code",
   "execution_count": null,
   "metadata": {},
   "outputs": [],
   "source": [
    "estimator = LinearRegression()\n",
    "estimator.fit(X_train, y_train)\n",
    "\n",
    "train_metric = r2_score(y_train, estimator.predict(X_train))\n",
    "test_metric = r2_score(y_test, estimator.predict(X_test))\n",
    "print(f\"Train R2-Score: {train_metric:.3f}\\nTest R2-Score: {test_metric:.3f}\")"
   ]
  },
  {
   "cell_type": "markdown",
   "source": [
    "## Wrap model with giskard"
   ],
   "metadata": {
    "collapsed": false
   }
  },
  {
   "cell_type": "code",
   "execution_count": null,
   "outputs": [],
   "source": [
    "wrapped_linear_regression = Model(estimator,\n",
    "                                  model_type=\"regression\",\n",
    "                                  name=\"ocean_temperature_regressor [linear regression]\",\n",
    "                                  feature_names=[FEATURE_COLUMN_NAME])\n",
    "\n",
    "# Validate wrapped model.\n",
    "wrapped_y_pred = wrapped_linear_regression.predict(wrapped_dataset).prediction\n",
    "wrapped_test_metric = r2_score(y_test, wrapped_y_pred)\n",
    "print(f\"Wrapped Test R2-Score: {wrapped_test_metric:.3f}\")"
   ],
   "metadata": {
    "collapsed": false
   }
  },
  {
   "cell_type": "markdown",
   "source": [
    "## Scan model"
   ],
   "metadata": {
    "collapsed": false
   }
  },
  {
   "cell_type": "code",
   "execution_count": null,
   "outputs": [],
   "source": [
    "# scanning_results = scan(wrapped_linear_regression, wrapped_dataset)"
   ],
   "metadata": {
    "collapsed": false
   }
  },
  {
   "cell_type": "markdown",
   "metadata": {},
   "source": [
    "## Polynomial Regression"
   ]
  },
  {
   "cell_type": "code",
   "execution_count": null,
   "metadata": {},
   "outputs": [],
   "source": [
    "pipeline = Pipeline(steps=[\n",
    "    (\"polynomial\", PolynomialFeatures(degree=8)),\n",
    "    (\"estimator\", LinearRegression())\n",
    "])\n",
    "pipeline.fit(X_train, y_train)\n",
    "\n",
    "train_metric = r2_score(y_train, pipeline.predict(X_train))\n",
    "test_metric = r2_score(y_test, pipeline.predict(X_test))\n",
    "print(f\"Train R2-Score: {train_metric:.3f}\\nTest R2-Score: {test_metric:.3f}\")"
   ]
  },
  {
   "cell_type": "markdown",
   "source": [
    "## Wrap model with giskard"
   ],
   "metadata": {
    "collapsed": false
   }
  },
  {
   "cell_type": "code",
   "execution_count": null,
   "outputs": [],
   "source": [
    "wrapped_polynomial_regression = Model(pipeline,\n",
    "                                      model_type=\"regression\",\n",
    "                                      name=\"ocean_temperature_regressor [polynomial regression]\",\n",
    "                                      feature_names=[FEATURE_COLUMN_NAME])"
   ],
   "metadata": {
    "collapsed": false
   }
  },
  {
   "cell_type": "code",
   "execution_count": null,
   "outputs": [],
   "source": [
    "# Validate wrapped model.\n",
    "wrapped_y_pred = wrapped_polynomial_regression.predict(wrapped_dataset).prediction\n",
    "wrapped_test_metric = r2_score(y_test, wrapped_y_pred)\n",
    "print(f\"Wrapped Test R2-Score: {wrapped_test_metric:.3f}\")"
   ],
   "metadata": {
    "collapsed": false
   }
  },
  {
   "cell_type": "markdown",
   "source": [
    "## Upload dataset and models to the giskard ui"
   ],
   "metadata": {
    "collapsed": false
   }
  },
  {
   "cell_type": "code",
   "execution_count": null,
   "outputs": [],
   "source": [
    "# Init giskard client.\n",
    "client = GiskardClient(GISKARD_URL, GISKARD_TOKEN)\n",
    "\n",
    "# Create or fetch a project by its key.\n",
    "try:\n",
    "    project = client.create_project(GISKARD_PROJECT_KEY,\n",
    "                                    name=\"OCEAN_TEMPERATURE_REGRESSION\",\n",
    "                                    description=\"Regression task of estimating ocean's saltiness level.\")\n",
    "except GiskardError as e:\n",
    "    print(f\"Project with key '{GISKARD_PROJECT_KEY}' already exists. Trying to get it.\")\n",
    "    project = client.get_project(GISKARD_PROJECT_KEY)\n",
    "\n",
    "# Upload model and dataset.\n",
    "model_linear_id = wrapped_linear_regression.upload(client, GISKARD_PROJECT_KEY)\n",
    "model_polynomial_id = wrapped_polynomial_regression.upload(client, GISKARD_PROJECT_KEY)\n",
    "dataset_id = wrapped_dataset.upload(client, GISKARD_PROJECT_KEY)"
   ],
   "metadata": {
    "collapsed": false
   }
  }
 ],
 "metadata": {
  "kernelspec": {
   "display_name": "Python 3",
   "language": "python",
   "name": "python3"
  },
  "language_info": {
   "codemirror_mode": {
    "name": "ipython",
    "version": 3
   },
   "file_extension": ".py",
   "mimetype": "text/x-python",
   "name": "python",
   "nbconvert_exporter": "python",
   "pygments_lexer": "ipython3",
   "version": "3.6.6"
  }
 },
 "nbformat": 4,
 "nbformat_minor": 1
}
