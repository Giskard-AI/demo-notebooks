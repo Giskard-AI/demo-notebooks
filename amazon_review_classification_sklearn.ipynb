{
 "cells": [
  {
   "cell_type": "markdown",
   "source": [
    "# Amazon reviews classification [sklearn]\n",
    "* Binary classification of product's review 'helpfulness' (quality).\n",
    "* Reference notebook: <https://t-lanigan.github.io/amazon-review-classifier/>\n",
    "* Dataset: <http://snap.stanford.edu/data/amazon/productGraph/categoryFiles/reviews_Apps_for_Android_5.json.gz>"
   ],
   "metadata": {
    "collapsed": false
   }
  },
  {
   "cell_type": "markdown",
   "metadata": {},
   "source": [
    "## Import libraries"
   ]
  },
  {
   "cell_type": "code",
   "execution_count": null,
   "metadata": {},
   "outputs": [],
   "source": [
    "import string\n",
    "\n",
    "import giskard\n",
    "import numpy as np\n",
    "import pandas as pd\n",
    "from giskard import GiskardClient\n",
    "from giskard import Dataset, Model\n",
    "from sklearn.pipeline import Pipeline\n",
    "from sklearn.metrics import roc_auc_score\n",
    "from sklearn.linear_model import LogisticRegression\n",
    "from sklearn.model_selection import train_test_split\n",
    "from sklearn.preprocessing import FunctionTransformer\n",
    "from giskard.client.giskard_client import GiskardError\n",
    "from sklearn.feature_extraction.text import TfidfVectorizer"
   ]
  },
  {
   "cell_type": "markdown",
   "metadata": {},
   "source": [
    "## Notebook-level settings"
   ]
  },
  {
   "cell_type": "code",
   "execution_count": null,
   "metadata": {},
   "outputs": [],
   "source": [
    "# Disable chained assignment warning.\n",
    "pd.options.mode.chained_assignment = None"
   ]
  },
  {
   "cell_type": "markdown",
   "metadata": {},
   "source": [
    "## Define constants"
   ]
  },
  {
   "cell_type": "code",
   "execution_count": null,
   "metadata": {},
   "outputs": [],
   "source": [
    "# Constants.\n",
    "RANDOM_SEED = 0\n",
    "TEST_RATIO = 0.2\n",
    "\n",
    "TARGET_THRESHOLD = 0.5\n",
    "TARGET_NAME = \"isHelpful\"\n",
    "\n",
    "# Paths.\n",
    "DATASET_URL = 'http://snap.stanford.edu/data/amazon/productGraph/categoryFiles/reviews_Apps_for_Android_5.json.gz'\n",
    "\n",
    "# Giskard platform credentials.\n",
    "GISKARD_URL = \"http://localhost:19000\"\n",
    "GISKARD_ACCESS_TOKEN = \"\"\n",
    "GISKARD_PROJECT_KEY = \"amazon_review_classification\""
   ]
  },
  {
   "cell_type": "markdown",
   "metadata": {},
   "source": [
    "## Load and preprocess Dataset"
   ]
  },
  {
   "cell_type": "code",
   "execution_count": null,
   "metadata": {},
   "outputs": [],
   "source": [
    "def download_data(**kwargs) -> pd.DataFrame:\n",
    "    \"\"\"Download the dataset using URL.\"\"\"\n",
    "    print(f\"Downloading dataset from {DATASET_URL}\")\n",
    "\n",
    "    _df = pd.read_json(DATASET_URL, compression=\"gzip\", lines=True, **kwargs)\n",
    "\n",
    "    print(f\"Dataset was loaded!\")\n",
    "\n",
    "    return _df"
   ]
  },
  {
   "cell_type": "code",
   "execution_count": null,
   "metadata": {},
   "outputs": [],
   "source": [
    "def preprocess_data(_df: pd.DataFrame) -> pd.DataFrame:\n",
    "    \"\"\"Perform data-preprocessing steps.\"\"\"\n",
    "    print(f\"Start data preprocessing...\")\n",
    "\n",
    "    # Select columns.\n",
    "    _df = _df[[\"reviewText\", \"helpful\"]]\n",
    "\n",
    "    # Remove Null-characters (x00) from the dataset.\n",
    "    _df.reviewText = _df.reviewText.apply(lambda x: x.replace(\"\\x00\", \"\"))\n",
    "\n",
    "    # Extract numbers of helpful and total votes.\n",
    "    _df['helpful_ratings'] = _df.helpful.apply(lambda x: x[0])\n",
    "    _df['total_ratings'] = _df.helpful.apply(lambda x: x[1])\n",
    "\n",
    "    # Filter unreasonable comments.\n",
    "    _df = _df[_df.total_ratings > 10]\n",
    "\n",
    "    # Create target column.\n",
    "    _df[TARGET_NAME] = np.where((_df.helpful_ratings / _df.total_ratings) > TARGET_THRESHOLD, 1, 0).astype(int)\n",
    "\n",
    "    # Delete columns we don't need anymore.\n",
    "    _df.drop(columns=[\"helpful\", 'helpful_ratings', 'total_ratings'], inplace=True)\n",
    "\n",
    "    print(\"Data preprocessing finished!\")\n",
    "\n",
    "    return _df"
   ]
  },
  {
   "cell_type": "code",
   "execution_count": null,
   "metadata": {},
   "outputs": [],
   "source": [
    "reviews_df = download_data(nrows=20000)\n",
    "reviews_df = preprocess_data(reviews_df)"
   ]
  },
  {
   "cell_type": "markdown",
   "metadata": {},
   "source": [
    "## Train-test split"
   ]
  },
  {
   "cell_type": "code",
   "execution_count": null,
   "metadata": {},
   "outputs": [],
   "source": [
    "X_train, X_test, y_train, y_test = train_test_split(reviews_df[[\"reviewText\"]], reviews_df[TARGET_NAME],\n",
    "                                                    test_size=TEST_RATIO, random_state=RANDOM_SEED)"
   ]
  },
  {
   "cell_type": "markdown",
   "metadata": {},
   "source": [
    "## Wrap dataset with giskard"
   ]
  },
  {
   "cell_type": "code",
   "execution_count": null,
   "metadata": {},
   "outputs": [],
   "source": [
    "test_dataset = pd.concat([X_test, y_test], axis=1)\n",
    "wrapped_dataset = Dataset(test_dataset,\n",
    "                          name=\"reviews\", target=TARGET_NAME, column_types={\"reviewText\": \"text\"})"
   ]
  },
  {
   "cell_type": "markdown",
   "metadata": {},
   "source": [
    "## Define preprocessing pipeline"
   ]
  },
  {
   "cell_type": "code",
   "execution_count": null,
   "metadata": {},
   "outputs": [],
   "source": [
    "def remove_punctuation(x):\n",
    "    \"\"\"Remove punctuation from input string.\"\"\"\n",
    "    x = x.reviewText.apply(lambda row: row.translate(str.maketrans('', '', string.punctuation)))\n",
    "    return x\n",
    "\n",
    "vectorizer = TfidfVectorizer(stop_words='english', min_df=0.01)"
   ]
  },
  {
   "cell_type": "code",
   "execution_count": null,
   "metadata": {},
   "outputs": [],
   "source": [
    "preprocessor = Pipeline(steps=[\n",
    "    (\"punctuation\", FunctionTransformer(remove_punctuation)),\n",
    "    (\"vectorizer\", vectorizer)\n",
    "])"
   ]
  },
  {
   "cell_type": "markdown",
   "metadata": {},
   "source": [
    "## Build estimator"
   ]
  },
  {
   "cell_type": "code",
   "execution_count": null,
   "metadata": {},
   "outputs": [],
   "source": [
    "pipeline = Pipeline(steps=[\n",
    "    (\"preprocessor\", preprocessor),\n",
    "    (\"estimator\", LogisticRegression(random_state=RANDOM_SEED))\n",
    "])"
   ]
  },
  {
   "cell_type": "code",
   "execution_count": null,
   "metadata": {},
   "outputs": [],
   "source": [
    "pipeline.fit(X_train, y_train)"
   ]
  },
  {
   "cell_type": "code",
   "execution_count": null,
   "metadata": {},
   "outputs": [],
   "source": [
    "train_metric = roc_auc_score(y_train, pipeline.predict_proba(X_train)[:, 1].T)\n",
    "test_metric = roc_auc_score(y_test, pipeline.predict_proba(X_test)[:, 1].T)\n",
    "\n",
    "print(f\"Train ROC-AUC score: {train_metric}\")\n",
    "print(f\"Test ROC-AUC score: {test_metric}\")"
   ]
  },
  {
   "cell_type": "markdown",
   "source": [
    "## Prepare prediction function"
   ],
   "metadata": {
    "collapsed": false
   }
  },
  {
   "cell_type": "code",
   "execution_count": null,
   "outputs": [],
   "source": [
    "def prediction_function(df: pd.DataFrame) -> np.ndarray:\n",
    "    return pipeline.predict_proba(df)"
   ],
   "metadata": {
    "collapsed": false
   }
  },
  {
   "cell_type": "markdown",
   "metadata": {},
   "source": [
    "## Wrap model with giskard"
   ]
  },
  {
   "cell_type": "code",
   "execution_count": null,
   "metadata": {},
   "outputs": [],
   "source": [
    "wrapped_model = Model(model=prediction_function,\n",
    "                      model_type=\"classification\",\n",
    "                      feature_names=[\"reviewText\"],\n",
    "                      name=\"review_helpfulness_predictor\",\n",
    "                      classification_threshold=0.5,\n",
    "                      classification_labels=[0, 1])"
   ]
  },
  {
   "cell_type": "code",
   "execution_count": null,
   "outputs": [],
   "source": [
    "# Validate wrapped model.\n",
    "wrapped_predict = wrapped_model.predict(wrapped_dataset).raw[:, 1].T\n",
    "wrapped_test_metric = roc_auc_score(y_test, wrapped_predict)\n",
    "print(f\"Wrapped Test ROC-AUC score: {wrapped_test_metric}\")"
   ],
   "metadata": {
    "collapsed": false
   }
  },
  {
   "cell_type": "markdown",
   "metadata": {},
   "source": [
    "## Scan model with giskard"
   ]
  },
  {
   "cell_type": "code",
   "execution_count": null,
   "metadata": {},
   "outputs": [],
   "source": [
    "results = giskard.scan(model=wrapped_model, dataset=wrapped_dataset)"
   ]
  },
  {
   "cell_type": "code",
   "execution_count": null,
   "metadata": {},
   "outputs": [],
   "source": [
    "display(results)"
   ]
  },
  {
   "cell_type": "markdown",
   "metadata": {},
   "source": [
    "## Upload model and dataset to the Giskard platform"
   ]
  },
  {
   "cell_type": "code",
   "execution_count": null,
   "metadata": {},
   "outputs": [],
   "source": [
    "# Define project key.\n",
    "project_key = \"amazon_review_classification\"\n",
    "\n",
    "# Init new giskard client.\n",
    "client = GiskardClient(GISKARD_URL, GISKARD_ACCESS_TOKEN)\n",
    "\n",
    "# Create or fetch a project by its key.\n",
    "try:\n",
    "    project = client.create_project(GISKARD_PROJECT_KEY,\n",
    "                                    name=\"AMAZON_REVIEW_CLASSIFICATION\",\n",
    "                                    description=\"Task of classifying review's helpfulness.\")\n",
    "except GiskardError as e:\n",
    "    print(f\"Project with key '{GISKARD_PROJECT_KEY}' already exists. Trying to get it.\")\n",
    "    project = client.get_project(GISKARD_PROJECT_KEY)\n",
    "\n",
    "# Upload the model and the dataset.\n",
    "model_id = wrapped_model.upload(client, project_key)\n",
    "dataset_id = wrapped_dataset.upload(client, project_key)"
   ]
  }
 ],
 "metadata": {
  "kernelspec": {
   "display_name": "Python 3 (ipykernel)",
   "language": "python",
   "name": "python3"
  },
  "language_info": {
   "codemirror_mode": {
    "name": "ipython",
    "version": 3
   },
   "file_extension": ".py",
   "mimetype": "text/x-python",
   "name": "python",
   "nbconvert_exporter": "python",
   "pygments_lexer": "ipython3",
   "version": "3.10.11"
  }
 },
 "nbformat": 4,
 "nbformat_minor": 1
}
